{
  "nbformat": 4,
  "nbformat_minor": 0,
  "metadata": {
    "colab": {
      "provenance": [],
      "collapsed_sections": [
        "2-mmWeqUfwTT",
        "GCyQmWqWf9dE",
        "6G5ChxAkWotK",
        "LneXjyfytwkd",
        "KkIlzeuotu7P",
        "PxZPLS-G2glw",
        "K4MT_Unc2nsV",
        "Z1_rj_WU2vaf",
        "SOP_APIdxwqI"
      ]
    },
    "kernelspec": {
      "name": "python3",
      "display_name": "Python 3"
    },
    "language_info": {
      "name": "python"
    }
  },
  "cells": [
    {
      "cell_type": "markdown",
      "source": [
        "# **PROJECT CONTENT**\n"
      ],
      "metadata": {
        "id": "2-mmWeqUfwTT"
      }
    },
    {
      "cell_type": "markdown",
      "source": [
        "1. display basic information\n",
        "2. null check\n",
        "3. what to do with nulls - complete or throw away\n",
        "4. checking the characteristic values\n",
        "5. data visualization\n",
        "6. boxplot\n",
        "7. for categorical variables check value\n",
        "8. onehotencoding vs labelencoding\n",
        "9. checking outliers for continuous variables\n",
        "10. standardization / normalization\n",
        "11. model\n",
        "12. pipeline\n"
      ],
      "metadata": {
        "id": "Qd9BF-3hfDC5"
      }
    },
    {
      "cell_type": "markdown",
      "source": [
        "\n",
        "#**Libraries import**"
      ],
      "metadata": {
        "id": "z4uC2kkflIL-"
      }
    },
    {
      "cell_type": "code",
      "execution_count": 3,
      "metadata": {
        "id": "632xqxD1fOnZ"
      },
      "outputs": [],
      "source": [
        "import pandas as pd\n",
        "import numpy as np\n",
        "import matplotlib.pyplot as plt\n",
        "from scipy.stats import normaltest\n",
        "from scipy.stats import shapiro\n",
        "import scipy.stats\n",
        "import seaborn as sns\n",
        "from sklearn.linear_model import LinearRegression\n",
        "from sklearn.preprocessing import OneHotEncoder, LabelEncoder\n",
        "from sklearn.model_selection import train_test_split\n",
        "from sklearn.pipeline import Pipeline\n",
        "from sklearn.impute import SimpleImputer\n",
        "from sklearn.compose import ColumnTransformer\n",
        "from sklearn.base import BaseEstimator, TransformerMixin\n",
        "from sklearn.preprocessing import StandardScaler\n",
        "from pandas.core.common import random_state\n",
        "from sklearn.metrics import r2_score\n",
        "from sklearn.dummy import DummyRegressor\n",
        "from sklearn.tree import DecisionTreeRegressor\n",
        "from sklearn.preprocessing import MinMaxScaler\n",
        "import time\n",
        "from sklearn.metrics import mean_absolute_error\n",
        "from sklearn.metrics import mean_absolute_percentage_error\n",
        "from sklearn.metrics import mean_squared_error\n",
        "from sklearn.metrics import max_error"
      ]
    },
    {
      "cell_type": "markdown",
      "source": [
        "#**Loading data**"
      ],
      "metadata": {
        "id": "A3wULuSbQJQ8"
      }
    },
    {
      "cell_type": "code",
      "source": [
        "df = pd.read_csv(\"/content/US_honey_dataset_updated.csv\", sep = ',')\n",
        "df.head(5)"
      ],
      "metadata": {
        "colab": {
          "base_uri": "https://localhost:8080/",
          "height": 206
        },
        "id": "zcoII2q6fUSl",
        "outputId": "22c16760-43e7-4ec5-d6cb-eb9cfbd9e684"
      },
      "execution_count": 4,
      "outputs": [
        {
          "output_type": "execute_result",
          "data": {
            "text/plain": [
              "   Unnamed: 0       state  colonies_number  yield_per_colony  production  \\\n",
              "0           0     Alabama            16000                58      928000   \n",
              "1           1     Arizona            52000                79     4108000   \n",
              "2           2    Arkansas            50000                60     3000000   \n",
              "3           3  California           420000                93    39060000   \n",
              "4           4    Colorado            45000                60     2700000   \n",
              "\n",
              "    stocks  average_price  value_of_production  year  \n",
              "0    28000           62.0               575000  1995  \n",
              "1   986000           68.0              2793000  1995  \n",
              "2   900000           64.0              1920000  1995  \n",
              "3  4687000           60.0             23436000  1995  \n",
              "4  1404000           68.0              1836000  1995  "
            ],
            "text/html": [
              "\n",
              "  <div id=\"df-47cffec9-2767-4de7-bbcf-bc9aeda06b45\">\n",
              "    <div class=\"colab-df-container\">\n",
              "      <div>\n",
              "<style scoped>\n",
              "    .dataframe tbody tr th:only-of-type {\n",
              "        vertical-align: middle;\n",
              "    }\n",
              "\n",
              "    .dataframe tbody tr th {\n",
              "        vertical-align: top;\n",
              "    }\n",
              "\n",
              "    .dataframe thead th {\n",
              "        text-align: right;\n",
              "    }\n",
              "</style>\n",
              "<table border=\"1\" class=\"dataframe\">\n",
              "  <thead>\n",
              "    <tr style=\"text-align: right;\">\n",
              "      <th></th>\n",
              "      <th>Unnamed: 0</th>\n",
              "      <th>state</th>\n",
              "      <th>colonies_number</th>\n",
              "      <th>yield_per_colony</th>\n",
              "      <th>production</th>\n",
              "      <th>stocks</th>\n",
              "      <th>average_price</th>\n",
              "      <th>value_of_production</th>\n",
              "      <th>year</th>\n",
              "    </tr>\n",
              "  </thead>\n",
              "  <tbody>\n",
              "    <tr>\n",
              "      <th>0</th>\n",
              "      <td>0</td>\n",
              "      <td>Alabama</td>\n",
              "      <td>16000</td>\n",
              "      <td>58</td>\n",
              "      <td>928000</td>\n",
              "      <td>28000</td>\n",
              "      <td>62.0</td>\n",
              "      <td>575000</td>\n",
              "      <td>1995</td>\n",
              "    </tr>\n",
              "    <tr>\n",
              "      <th>1</th>\n",
              "      <td>1</td>\n",
              "      <td>Arizona</td>\n",
              "      <td>52000</td>\n",
              "      <td>79</td>\n",
              "      <td>4108000</td>\n",
              "      <td>986000</td>\n",
              "      <td>68.0</td>\n",
              "      <td>2793000</td>\n",
              "      <td>1995</td>\n",
              "    </tr>\n",
              "    <tr>\n",
              "      <th>2</th>\n",
              "      <td>2</td>\n",
              "      <td>Arkansas</td>\n",
              "      <td>50000</td>\n",
              "      <td>60</td>\n",
              "      <td>3000000</td>\n",
              "      <td>900000</td>\n",
              "      <td>64.0</td>\n",
              "      <td>1920000</td>\n",
              "      <td>1995</td>\n",
              "    </tr>\n",
              "    <tr>\n",
              "      <th>3</th>\n",
              "      <td>3</td>\n",
              "      <td>California</td>\n",
              "      <td>420000</td>\n",
              "      <td>93</td>\n",
              "      <td>39060000</td>\n",
              "      <td>4687000</td>\n",
              "      <td>60.0</td>\n",
              "      <td>23436000</td>\n",
              "      <td>1995</td>\n",
              "    </tr>\n",
              "    <tr>\n",
              "      <th>4</th>\n",
              "      <td>4</td>\n",
              "      <td>Colorado</td>\n",
              "      <td>45000</td>\n",
              "      <td>60</td>\n",
              "      <td>2700000</td>\n",
              "      <td>1404000</td>\n",
              "      <td>68.0</td>\n",
              "      <td>1836000</td>\n",
              "      <td>1995</td>\n",
              "    </tr>\n",
              "  </tbody>\n",
              "</table>\n",
              "</div>\n",
              "      <button class=\"colab-df-convert\" onclick=\"convertToInteractive('df-47cffec9-2767-4de7-bbcf-bc9aeda06b45')\"\n",
              "              title=\"Convert this dataframe to an interactive table.\"\n",
              "              style=\"display:none;\">\n",
              "        \n",
              "  <svg xmlns=\"http://www.w3.org/2000/svg\" height=\"24px\"viewBox=\"0 0 24 24\"\n",
              "       width=\"24px\">\n",
              "    <path d=\"M0 0h24v24H0V0z\" fill=\"none\"/>\n",
              "    <path d=\"M18.56 5.44l.94 2.06.94-2.06 2.06-.94-2.06-.94-.94-2.06-.94 2.06-2.06.94zm-11 1L8.5 8.5l.94-2.06 2.06-.94-2.06-.94L8.5 2.5l-.94 2.06-2.06.94zm10 10l.94 2.06.94-2.06 2.06-.94-2.06-.94-.94-2.06-.94 2.06-2.06.94z\"/><path d=\"M17.41 7.96l-1.37-1.37c-.4-.4-.92-.59-1.43-.59-.52 0-1.04.2-1.43.59L10.3 9.45l-7.72 7.72c-.78.78-.78 2.05 0 2.83L4 21.41c.39.39.9.59 1.41.59.51 0 1.02-.2 1.41-.59l7.78-7.78 2.81-2.81c.8-.78.8-2.07 0-2.86zM5.41 20L4 18.59l7.72-7.72 1.47 1.35L5.41 20z\"/>\n",
              "  </svg>\n",
              "      </button>\n",
              "      \n",
              "  <style>\n",
              "    .colab-df-container {\n",
              "      display:flex;\n",
              "      flex-wrap:wrap;\n",
              "      gap: 12px;\n",
              "    }\n",
              "\n",
              "    .colab-df-convert {\n",
              "      background-color: #E8F0FE;\n",
              "      border: none;\n",
              "      border-radius: 50%;\n",
              "      cursor: pointer;\n",
              "      display: none;\n",
              "      fill: #1967D2;\n",
              "      height: 32px;\n",
              "      padding: 0 0 0 0;\n",
              "      width: 32px;\n",
              "    }\n",
              "\n",
              "    .colab-df-convert:hover {\n",
              "      background-color: #E2EBFA;\n",
              "      box-shadow: 0px 1px 2px rgba(60, 64, 67, 0.3), 0px 1px 3px 1px rgba(60, 64, 67, 0.15);\n",
              "      fill: #174EA6;\n",
              "    }\n",
              "\n",
              "    [theme=dark] .colab-df-convert {\n",
              "      background-color: #3B4455;\n",
              "      fill: #D2E3FC;\n",
              "    }\n",
              "\n",
              "    [theme=dark] .colab-df-convert:hover {\n",
              "      background-color: #434B5C;\n",
              "      box-shadow: 0px 1px 3px 1px rgba(0, 0, 0, 0.15);\n",
              "      filter: drop-shadow(0px 1px 2px rgba(0, 0, 0, 0.3));\n",
              "      fill: #FFFFFF;\n",
              "    }\n",
              "  </style>\n",
              "\n",
              "      <script>\n",
              "        const buttonEl =\n",
              "          document.querySelector('#df-47cffec9-2767-4de7-bbcf-bc9aeda06b45 button.colab-df-convert');\n",
              "        buttonEl.style.display =\n",
              "          google.colab.kernel.accessAllowed ? 'block' : 'none';\n",
              "\n",
              "        async function convertToInteractive(key) {\n",
              "          const element = document.querySelector('#df-47cffec9-2767-4de7-bbcf-bc9aeda06b45');\n",
              "          const dataTable =\n",
              "            await google.colab.kernel.invokeFunction('convertToInteractive',\n",
              "                                                     [key], {});\n",
              "          if (!dataTable) return;\n",
              "\n",
              "          const docLinkHtml = 'Like what you see? Visit the ' +\n",
              "            '<a target=\"_blank\" href=https://colab.research.google.com/notebooks/data_table.ipynb>data table notebook</a>'\n",
              "            + ' to learn more about interactive tables.';\n",
              "          element.innerHTML = '';\n",
              "          dataTable['output_type'] = 'display_data';\n",
              "          await google.colab.output.renderOutput(dataTable, element);\n",
              "          const docLink = document.createElement('div');\n",
              "          docLink.innerHTML = docLinkHtml;\n",
              "          element.appendChild(docLink);\n",
              "        }\n",
              "      </script>\n",
              "    </div>\n",
              "  </div>\n",
              "  "
            ]
          },
          "metadata": {},
          "execution_count": 4
        }
      ]
    },
    {
      "cell_type": "markdown",
      "source": [
        "delete the column Unnamed"
      ],
      "metadata": {
        "id": "rigEaq1tlSgo"
      }
    },
    {
      "cell_type": "code",
      "source": [
        "df=df.drop(df.columns[0], axis=1)"
      ],
      "metadata": {
        "id": "tDZJPjO2hb9q"
      },
      "execution_count": 5,
      "outputs": []
    },
    {
      "cell_type": "code",
      "source": [
        "df.head(5)"
      ],
      "metadata": {
        "colab": {
          "base_uri": "https://localhost:8080/",
          "height": 206
        },
        "id": "raYdLX5DhePj",
        "outputId": "c16b9a76-735c-410d-9fee-d85d70704473"
      },
      "execution_count": 6,
      "outputs": [
        {
          "output_type": "execute_result",
          "data": {
            "text/plain": [
              "        state  colonies_number  yield_per_colony  production   stocks  \\\n",
              "0     Alabama            16000                58      928000    28000   \n",
              "1     Arizona            52000                79     4108000   986000   \n",
              "2    Arkansas            50000                60     3000000   900000   \n",
              "3  California           420000                93    39060000  4687000   \n",
              "4    Colorado            45000                60     2700000  1404000   \n",
              "\n",
              "   average_price  value_of_production  year  \n",
              "0           62.0               575000  1995  \n",
              "1           68.0              2793000  1995  \n",
              "2           64.0              1920000  1995  \n",
              "3           60.0             23436000  1995  \n",
              "4           68.0              1836000  1995  "
            ],
            "text/html": [
              "\n",
              "  <div id=\"df-e35a6325-b367-46c2-8de2-9c32a492fef5\">\n",
              "    <div class=\"colab-df-container\">\n",
              "      <div>\n",
              "<style scoped>\n",
              "    .dataframe tbody tr th:only-of-type {\n",
              "        vertical-align: middle;\n",
              "    }\n",
              "\n",
              "    .dataframe tbody tr th {\n",
              "        vertical-align: top;\n",
              "    }\n",
              "\n",
              "    .dataframe thead th {\n",
              "        text-align: right;\n",
              "    }\n",
              "</style>\n",
              "<table border=\"1\" class=\"dataframe\">\n",
              "  <thead>\n",
              "    <tr style=\"text-align: right;\">\n",
              "      <th></th>\n",
              "      <th>state</th>\n",
              "      <th>colonies_number</th>\n",
              "      <th>yield_per_colony</th>\n",
              "      <th>production</th>\n",
              "      <th>stocks</th>\n",
              "      <th>average_price</th>\n",
              "      <th>value_of_production</th>\n",
              "      <th>year</th>\n",
              "    </tr>\n",
              "  </thead>\n",
              "  <tbody>\n",
              "    <tr>\n",
              "      <th>0</th>\n",
              "      <td>Alabama</td>\n",
              "      <td>16000</td>\n",
              "      <td>58</td>\n",
              "      <td>928000</td>\n",
              "      <td>28000</td>\n",
              "      <td>62.0</td>\n",
              "      <td>575000</td>\n",
              "      <td>1995</td>\n",
              "    </tr>\n",
              "    <tr>\n",
              "      <th>1</th>\n",
              "      <td>Arizona</td>\n",
              "      <td>52000</td>\n",
              "      <td>79</td>\n",
              "      <td>4108000</td>\n",
              "      <td>986000</td>\n",
              "      <td>68.0</td>\n",
              "      <td>2793000</td>\n",
              "      <td>1995</td>\n",
              "    </tr>\n",
              "    <tr>\n",
              "      <th>2</th>\n",
              "      <td>Arkansas</td>\n",
              "      <td>50000</td>\n",
              "      <td>60</td>\n",
              "      <td>3000000</td>\n",
              "      <td>900000</td>\n",
              "      <td>64.0</td>\n",
              "      <td>1920000</td>\n",
              "      <td>1995</td>\n",
              "    </tr>\n",
              "    <tr>\n",
              "      <th>3</th>\n",
              "      <td>California</td>\n",
              "      <td>420000</td>\n",
              "      <td>93</td>\n",
              "      <td>39060000</td>\n",
              "      <td>4687000</td>\n",
              "      <td>60.0</td>\n",
              "      <td>23436000</td>\n",
              "      <td>1995</td>\n",
              "    </tr>\n",
              "    <tr>\n",
              "      <th>4</th>\n",
              "      <td>Colorado</td>\n",
              "      <td>45000</td>\n",
              "      <td>60</td>\n",
              "      <td>2700000</td>\n",
              "      <td>1404000</td>\n",
              "      <td>68.0</td>\n",
              "      <td>1836000</td>\n",
              "      <td>1995</td>\n",
              "    </tr>\n",
              "  </tbody>\n",
              "</table>\n",
              "</div>\n",
              "      <button class=\"colab-df-convert\" onclick=\"convertToInteractive('df-e35a6325-b367-46c2-8de2-9c32a492fef5')\"\n",
              "              title=\"Convert this dataframe to an interactive table.\"\n",
              "              style=\"display:none;\">\n",
              "        \n",
              "  <svg xmlns=\"http://www.w3.org/2000/svg\" height=\"24px\"viewBox=\"0 0 24 24\"\n",
              "       width=\"24px\">\n",
              "    <path d=\"M0 0h24v24H0V0z\" fill=\"none\"/>\n",
              "    <path d=\"M18.56 5.44l.94 2.06.94-2.06 2.06-.94-2.06-.94-.94-2.06-.94 2.06-2.06.94zm-11 1L8.5 8.5l.94-2.06 2.06-.94-2.06-.94L8.5 2.5l-.94 2.06-2.06.94zm10 10l.94 2.06.94-2.06 2.06-.94-2.06-.94-.94-2.06-.94 2.06-2.06.94z\"/><path d=\"M17.41 7.96l-1.37-1.37c-.4-.4-.92-.59-1.43-.59-.52 0-1.04.2-1.43.59L10.3 9.45l-7.72 7.72c-.78.78-.78 2.05 0 2.83L4 21.41c.39.39.9.59 1.41.59.51 0 1.02-.2 1.41-.59l7.78-7.78 2.81-2.81c.8-.78.8-2.07 0-2.86zM5.41 20L4 18.59l7.72-7.72 1.47 1.35L5.41 20z\"/>\n",
              "  </svg>\n",
              "      </button>\n",
              "      \n",
              "  <style>\n",
              "    .colab-df-container {\n",
              "      display:flex;\n",
              "      flex-wrap:wrap;\n",
              "      gap: 12px;\n",
              "    }\n",
              "\n",
              "    .colab-df-convert {\n",
              "      background-color: #E8F0FE;\n",
              "      border: none;\n",
              "      border-radius: 50%;\n",
              "      cursor: pointer;\n",
              "      display: none;\n",
              "      fill: #1967D2;\n",
              "      height: 32px;\n",
              "      padding: 0 0 0 0;\n",
              "      width: 32px;\n",
              "    }\n",
              "\n",
              "    .colab-df-convert:hover {\n",
              "      background-color: #E2EBFA;\n",
              "      box-shadow: 0px 1px 2px rgba(60, 64, 67, 0.3), 0px 1px 3px 1px rgba(60, 64, 67, 0.15);\n",
              "      fill: #174EA6;\n",
              "    }\n",
              "\n",
              "    [theme=dark] .colab-df-convert {\n",
              "      background-color: #3B4455;\n",
              "      fill: #D2E3FC;\n",
              "    }\n",
              "\n",
              "    [theme=dark] .colab-df-convert:hover {\n",
              "      background-color: #434B5C;\n",
              "      box-shadow: 0px 1px 3px 1px rgba(0, 0, 0, 0.15);\n",
              "      filter: drop-shadow(0px 1px 2px rgba(0, 0, 0, 0.3));\n",
              "      fill: #FFFFFF;\n",
              "    }\n",
              "  </style>\n",
              "\n",
              "      <script>\n",
              "        const buttonEl =\n",
              "          document.querySelector('#df-e35a6325-b367-46c2-8de2-9c32a492fef5 button.colab-df-convert');\n",
              "        buttonEl.style.display =\n",
              "          google.colab.kernel.accessAllowed ? 'block' : 'none';\n",
              "\n",
              "        async function convertToInteractive(key) {\n",
              "          const element = document.querySelector('#df-e35a6325-b367-46c2-8de2-9c32a492fef5');\n",
              "          const dataTable =\n",
              "            await google.colab.kernel.invokeFunction('convertToInteractive',\n",
              "                                                     [key], {});\n",
              "          if (!dataTable) return;\n",
              "\n",
              "          const docLinkHtml = 'Like what you see? Visit the ' +\n",
              "            '<a target=\"_blank\" href=https://colab.research.google.com/notebooks/data_table.ipynb>data table notebook</a>'\n",
              "            + ' to learn more about interactive tables.';\n",
              "          element.innerHTML = '';\n",
              "          dataTable['output_type'] = 'display_data';\n",
              "          await google.colab.output.renderOutput(dataTable, element);\n",
              "          const docLink = document.createElement('div');\n",
              "          docLink.innerHTML = docLinkHtml;\n",
              "          element.appendChild(docLink);\n",
              "        }\n",
              "      </script>\n",
              "    </div>\n",
              "  </div>\n",
              "  "
            ]
          },
          "metadata": {},
          "execution_count": 6
        }
      ]
    },
    {
      "cell_type": "markdown",
      "source": [
        "#**1.Displaying basic information** "
      ],
      "metadata": {
        "id": "on9BEwR9fyOT"
      }
    },
    {
      "cell_type": "code",
      "source": [
        "df.info()"
      ],
      "metadata": {
        "colab": {
          "base_uri": "https://localhost:8080/"
        },
        "id": "IKASSzBBgF25",
        "outputId": "959f6cd1-3f17-43d3-f4d3-0747325838c7"
      },
      "execution_count": 7,
      "outputs": [
        {
          "output_type": "stream",
          "name": "stdout",
          "text": [
            "<class 'pandas.core.frame.DataFrame'>\n",
            "RangeIndex: 1115 entries, 0 to 1114\n",
            "Data columns (total 8 columns):\n",
            " #   Column               Non-Null Count  Dtype  \n",
            "---  ------               --------------  -----  \n",
            " 0   state                1115 non-null   object \n",
            " 1   colonies_number      1115 non-null   int64  \n",
            " 2   yield_per_colony     1115 non-null   int64  \n",
            " 3   production           1115 non-null   int64  \n",
            " 4   stocks               1115 non-null   int64  \n",
            " 5   average_price        1115 non-null   float64\n",
            " 6   value_of_production  1115 non-null   int64  \n",
            " 7   year                 1115 non-null   int64  \n",
            "dtypes: float64(1), int64(6), object(1)\n",
            "memory usage: 69.8+ KB\n"
          ]
        }
      ]
    },
    {
      "cell_type": "markdown",
      "source": [
        "\n",
        "*CONCLUSIONS:*\n",
        "Extracting information from the data shows what types of variables we are dealing with"
      ],
      "metadata": {
        "id": "nBuQ190MgYoA"
      }
    },
    {
      "cell_type": "markdown",
      "source": [
        "#**2.Null check**"
      ],
      "metadata": {
        "id": "GCyQmWqWf9dE"
      }
    },
    {
      "cell_type": "code",
      "source": [
        "df.isnull().sum()"
      ],
      "metadata": {
        "colab": {
          "base_uri": "https://localhost:8080/"
        },
        "id": "IOKxrFjLgP6f",
        "outputId": "65c0064f-33ef-4479-efb0-056d23d28842"
      },
      "execution_count": 8,
      "outputs": [
        {
          "output_type": "execute_result",
          "data": {
            "text/plain": [
              "state                  0\n",
              "colonies_number        0\n",
              "yield_per_colony       0\n",
              "production             0\n",
              "stocks                 0\n",
              "average_price          0\n",
              "value_of_production    0\n",
              "year                   0\n",
              "dtype: int64"
            ]
          },
          "metadata": {},
          "execution_count": 8
        }
      ]
    },
    {
      "cell_type": "markdown",
      "source": [
        "\n",
        "*CONCLUSIONS:* No null values, we do not take any additional action"
      ],
      "metadata": {
        "id": "GnF4-kDYgMy-"
      }
    },
    {
      "cell_type": "markdown",
      "source": [
        "# **3. Answer the question what to do with nulls - complete or throw away?**\n",
        "\n",
        "\n",
        "In the case of implemented data, we are not dealing with null values\n",
        "\n",
        "Null variables will be overwritten in the pipeline."
      ],
      "metadata": {
        "id": "vN0tvF6zh6hd"
      }
    },
    {
      "cell_type": "markdown",
      "source": [
        "#**4. Checking the characteristic values ​​**"
      ],
      "metadata": {
        "id": "DVI0Gjndh0Bw"
      }
    },
    {
      "cell_type": "code",
      "source": [
        "df.describe()"
      ],
      "metadata": {
        "colab": {
          "base_uri": "https://localhost:8080/",
          "height": 300
        },
        "id": "V_eefmcAgS3D",
        "outputId": "8e027999-15f8-4f66-c8bb-cf069894c6ad"
      },
      "execution_count": 9,
      "outputs": [
        {
          "output_type": "execute_result",
          "data": {
            "text/plain": [
              "       colonies_number  yield_per_colony    production        stocks  \\\n",
              "count      1115.000000       1115.000000  1.115000e+03  1.115000e+03   \n",
              "mean      62438.565022         59.743498  2.851268e+06  1.172625e+06   \n",
              "std       92648.175955         19.940500  5.561202e+06  2.049556e+06   \n",
              "min        2000.000000         19.000000  1.200000e+04  9.000000e+03   \n",
              "25%        9000.000000         45.000000  2.460000e+05  1.125000e+05   \n",
              "50%       26000.000000         57.000000  8.280000e+05  3.700000e+05   \n",
              "75%       69000.000000         71.000000  2.700000e+06  1.253500e+06   \n",
              "max      550000.000000        155.000000  3.906000e+07  1.354500e+07   \n",
              "\n",
              "       average_price  value_of_production         year  \n",
              "count    1115.000000         1.115000e+03  1115.000000  \n",
              "mean      140.623076         5.667412e+06  2007.740807  \n",
              "std       107.011544         9.459460e+06     7.823002  \n",
              "min         1.300000         1.060000e+05  1995.000000  \n",
              "25%        70.000000         1.008000e+06  2001.000000  \n",
              "50%       128.000000         2.281000e+06  2008.000000  \n",
              "75%       193.000000         5.704000e+06  2015.000000  \n",
              "max       874.000000         8.385900e+07  2021.000000  "
            ],
            "text/html": [
              "\n",
              "  <div id=\"df-65da9575-ed2d-4240-93b9-2d0546ad23c4\">\n",
              "    <div class=\"colab-df-container\">\n",
              "      <div>\n",
              "<style scoped>\n",
              "    .dataframe tbody tr th:only-of-type {\n",
              "        vertical-align: middle;\n",
              "    }\n",
              "\n",
              "    .dataframe tbody tr th {\n",
              "        vertical-align: top;\n",
              "    }\n",
              "\n",
              "    .dataframe thead th {\n",
              "        text-align: right;\n",
              "    }\n",
              "</style>\n",
              "<table border=\"1\" class=\"dataframe\">\n",
              "  <thead>\n",
              "    <tr style=\"text-align: right;\">\n",
              "      <th></th>\n",
              "      <th>colonies_number</th>\n",
              "      <th>yield_per_colony</th>\n",
              "      <th>production</th>\n",
              "      <th>stocks</th>\n",
              "      <th>average_price</th>\n",
              "      <th>value_of_production</th>\n",
              "      <th>year</th>\n",
              "    </tr>\n",
              "  </thead>\n",
              "  <tbody>\n",
              "    <tr>\n",
              "      <th>count</th>\n",
              "      <td>1115.000000</td>\n",
              "      <td>1115.000000</td>\n",
              "      <td>1.115000e+03</td>\n",
              "      <td>1.115000e+03</td>\n",
              "      <td>1115.000000</td>\n",
              "      <td>1.115000e+03</td>\n",
              "      <td>1115.000000</td>\n",
              "    </tr>\n",
              "    <tr>\n",
              "      <th>mean</th>\n",
              "      <td>62438.565022</td>\n",
              "      <td>59.743498</td>\n",
              "      <td>2.851268e+06</td>\n",
              "      <td>1.172625e+06</td>\n",
              "      <td>140.623076</td>\n",
              "      <td>5.667412e+06</td>\n",
              "      <td>2007.740807</td>\n",
              "    </tr>\n",
              "    <tr>\n",
              "      <th>std</th>\n",
              "      <td>92648.175955</td>\n",
              "      <td>19.940500</td>\n",
              "      <td>5.561202e+06</td>\n",
              "      <td>2.049556e+06</td>\n",
              "      <td>107.011544</td>\n",
              "      <td>9.459460e+06</td>\n",
              "      <td>7.823002</td>\n",
              "    </tr>\n",
              "    <tr>\n",
              "      <th>min</th>\n",
              "      <td>2000.000000</td>\n",
              "      <td>19.000000</td>\n",
              "      <td>1.200000e+04</td>\n",
              "      <td>9.000000e+03</td>\n",
              "      <td>1.300000</td>\n",
              "      <td>1.060000e+05</td>\n",
              "      <td>1995.000000</td>\n",
              "    </tr>\n",
              "    <tr>\n",
              "      <th>25%</th>\n",
              "      <td>9000.000000</td>\n",
              "      <td>45.000000</td>\n",
              "      <td>2.460000e+05</td>\n",
              "      <td>1.125000e+05</td>\n",
              "      <td>70.000000</td>\n",
              "      <td>1.008000e+06</td>\n",
              "      <td>2001.000000</td>\n",
              "    </tr>\n",
              "    <tr>\n",
              "      <th>50%</th>\n",
              "      <td>26000.000000</td>\n",
              "      <td>57.000000</td>\n",
              "      <td>8.280000e+05</td>\n",
              "      <td>3.700000e+05</td>\n",
              "      <td>128.000000</td>\n",
              "      <td>2.281000e+06</td>\n",
              "      <td>2008.000000</td>\n",
              "    </tr>\n",
              "    <tr>\n",
              "      <th>75%</th>\n",
              "      <td>69000.000000</td>\n",
              "      <td>71.000000</td>\n",
              "      <td>2.700000e+06</td>\n",
              "      <td>1.253500e+06</td>\n",
              "      <td>193.000000</td>\n",
              "      <td>5.704000e+06</td>\n",
              "      <td>2015.000000</td>\n",
              "    </tr>\n",
              "    <tr>\n",
              "      <th>max</th>\n",
              "      <td>550000.000000</td>\n",
              "      <td>155.000000</td>\n",
              "      <td>3.906000e+07</td>\n",
              "      <td>1.354500e+07</td>\n",
              "      <td>874.000000</td>\n",
              "      <td>8.385900e+07</td>\n",
              "      <td>2021.000000</td>\n",
              "    </tr>\n",
              "  </tbody>\n",
              "</table>\n",
              "</div>\n",
              "      <button class=\"colab-df-convert\" onclick=\"convertToInteractive('df-65da9575-ed2d-4240-93b9-2d0546ad23c4')\"\n",
              "              title=\"Convert this dataframe to an interactive table.\"\n",
              "              style=\"display:none;\">\n",
              "        \n",
              "  <svg xmlns=\"http://www.w3.org/2000/svg\" height=\"24px\"viewBox=\"0 0 24 24\"\n",
              "       width=\"24px\">\n",
              "    <path d=\"M0 0h24v24H0V0z\" fill=\"none\"/>\n",
              "    <path d=\"M18.56 5.44l.94 2.06.94-2.06 2.06-.94-2.06-.94-.94-2.06-.94 2.06-2.06.94zm-11 1L8.5 8.5l.94-2.06 2.06-.94-2.06-.94L8.5 2.5l-.94 2.06-2.06.94zm10 10l.94 2.06.94-2.06 2.06-.94-2.06-.94-.94-2.06-.94 2.06-2.06.94z\"/><path d=\"M17.41 7.96l-1.37-1.37c-.4-.4-.92-.59-1.43-.59-.52 0-1.04.2-1.43.59L10.3 9.45l-7.72 7.72c-.78.78-.78 2.05 0 2.83L4 21.41c.39.39.9.59 1.41.59.51 0 1.02-.2 1.41-.59l7.78-7.78 2.81-2.81c.8-.78.8-2.07 0-2.86zM5.41 20L4 18.59l7.72-7.72 1.47 1.35L5.41 20z\"/>\n",
              "  </svg>\n",
              "      </button>\n",
              "      \n",
              "  <style>\n",
              "    .colab-df-container {\n",
              "      display:flex;\n",
              "      flex-wrap:wrap;\n",
              "      gap: 12px;\n",
              "    }\n",
              "\n",
              "    .colab-df-convert {\n",
              "      background-color: #E8F0FE;\n",
              "      border: none;\n",
              "      border-radius: 50%;\n",
              "      cursor: pointer;\n",
              "      display: none;\n",
              "      fill: #1967D2;\n",
              "      height: 32px;\n",
              "      padding: 0 0 0 0;\n",
              "      width: 32px;\n",
              "    }\n",
              "\n",
              "    .colab-df-convert:hover {\n",
              "      background-color: #E2EBFA;\n",
              "      box-shadow: 0px 1px 2px rgba(60, 64, 67, 0.3), 0px 1px 3px 1px rgba(60, 64, 67, 0.15);\n",
              "      fill: #174EA6;\n",
              "    }\n",
              "\n",
              "    [theme=dark] .colab-df-convert {\n",
              "      background-color: #3B4455;\n",
              "      fill: #D2E3FC;\n",
              "    }\n",
              "\n",
              "    [theme=dark] .colab-df-convert:hover {\n",
              "      background-color: #434B5C;\n",
              "      box-shadow: 0px 1px 3px 1px rgba(0, 0, 0, 0.15);\n",
              "      filter: drop-shadow(0px 1px 2px rgba(0, 0, 0, 0.3));\n",
              "      fill: #FFFFFF;\n",
              "    }\n",
              "  </style>\n",
              "\n",
              "      <script>\n",
              "        const buttonEl =\n",
              "          document.querySelector('#df-65da9575-ed2d-4240-93b9-2d0546ad23c4 button.colab-df-convert');\n",
              "        buttonEl.style.display =\n",
              "          google.colab.kernel.accessAllowed ? 'block' : 'none';\n",
              "\n",
              "        async function convertToInteractive(key) {\n",
              "          const element = document.querySelector('#df-65da9575-ed2d-4240-93b9-2d0546ad23c4');\n",
              "          const dataTable =\n",
              "            await google.colab.kernel.invokeFunction('convertToInteractive',\n",
              "                                                     [key], {});\n",
              "          if (!dataTable) return;\n",
              "\n",
              "          const docLinkHtml = 'Like what you see? Visit the ' +\n",
              "            '<a target=\"_blank\" href=https://colab.research.google.com/notebooks/data_table.ipynb>data table notebook</a>'\n",
              "            + ' to learn more about interactive tables.';\n",
              "          element.innerHTML = '';\n",
              "          dataTable['output_type'] = 'display_data';\n",
              "          await google.colab.output.renderOutput(dataTable, element);\n",
              "          const docLink = document.createElement('div');\n",
              "          docLink.innerHTML = docLinkHtml;\n",
              "          element.appendChild(docLink);\n",
              "        }\n",
              "      </script>\n",
              "    </div>\n",
              "  </div>\n",
              "  "
            ]
          },
          "metadata": {},
          "execution_count": 9
        }
      ]
    },
    {
      "cell_type": "markdown",
      "source": [
        "# **5. Data visualization**"
      ],
      "metadata": {
        "id": "cmx9YSKijgty"
      }
    },
    {
      "cell_type": "code",
      "source": [
        "df1 = df.sort_values(by=['production'], ascending=False).reset_index(drop=True)"
      ],
      "metadata": {
        "id": "M5TmpXT1Bkqw"
      },
      "execution_count": 10,
      "outputs": []
    },
    {
      "cell_type": "code",
      "source": [
        "df1.head()"
      ],
      "metadata": {
        "colab": {
          "base_uri": "https://localhost:8080/",
          "height": 206
        },
        "id": "ahVzGN6ZBonz",
        "outputId": "8d5fe6ad-bc4b-47a4-a9a7-61f5150f53d4"
      },
      "execution_count": 11,
      "outputs": [
        {
          "output_type": "execute_result",
          "data": {
            "text/plain": [
              "         state  colonies_number  yield_per_colony  production    stocks  \\\n",
              "0   California           420000                93    39060000   4687000   \n",
              "1   California           450000                83    37350000  12326000   \n",
              "2  NorthDakota           390000                90    35100000   8424000   \n",
              "3  NorthDakota           450000                77    34650000   7623000   \n",
              "4  NorthDakota           370000                91    33670000   8418000   \n",
              "\n",
              "   average_price  value_of_production  year  \n",
              "0           60.0             23436000  1995  \n",
              "1           62.0             23157000  1998  \n",
              "2          135.0             47385000  2008  \n",
              "3          137.0             47471000  2009  \n",
              "4           81.0             27273000  2005  "
            ],
            "text/html": [
              "\n",
              "  <div id=\"df-348395af-1d3a-4353-9330-3c050ffd6414\">\n",
              "    <div class=\"colab-df-container\">\n",
              "      <div>\n",
              "<style scoped>\n",
              "    .dataframe tbody tr th:only-of-type {\n",
              "        vertical-align: middle;\n",
              "    }\n",
              "\n",
              "    .dataframe tbody tr th {\n",
              "        vertical-align: top;\n",
              "    }\n",
              "\n",
              "    .dataframe thead th {\n",
              "        text-align: right;\n",
              "    }\n",
              "</style>\n",
              "<table border=\"1\" class=\"dataframe\">\n",
              "  <thead>\n",
              "    <tr style=\"text-align: right;\">\n",
              "      <th></th>\n",
              "      <th>state</th>\n",
              "      <th>colonies_number</th>\n",
              "      <th>yield_per_colony</th>\n",
              "      <th>production</th>\n",
              "      <th>stocks</th>\n",
              "      <th>average_price</th>\n",
              "      <th>value_of_production</th>\n",
              "      <th>year</th>\n",
              "    </tr>\n",
              "  </thead>\n",
              "  <tbody>\n",
              "    <tr>\n",
              "      <th>0</th>\n",
              "      <td>California</td>\n",
              "      <td>420000</td>\n",
              "      <td>93</td>\n",
              "      <td>39060000</td>\n",
              "      <td>4687000</td>\n",
              "      <td>60.0</td>\n",
              "      <td>23436000</td>\n",
              "      <td>1995</td>\n",
              "    </tr>\n",
              "    <tr>\n",
              "      <th>1</th>\n",
              "      <td>California</td>\n",
              "      <td>450000</td>\n",
              "      <td>83</td>\n",
              "      <td>37350000</td>\n",
              "      <td>12326000</td>\n",
              "      <td>62.0</td>\n",
              "      <td>23157000</td>\n",
              "      <td>1998</td>\n",
              "    </tr>\n",
              "    <tr>\n",
              "      <th>2</th>\n",
              "      <td>NorthDakota</td>\n",
              "      <td>390000</td>\n",
              "      <td>90</td>\n",
              "      <td>35100000</td>\n",
              "      <td>8424000</td>\n",
              "      <td>135.0</td>\n",
              "      <td>47385000</td>\n",
              "      <td>2008</td>\n",
              "    </tr>\n",
              "    <tr>\n",
              "      <th>3</th>\n",
              "      <td>NorthDakota</td>\n",
              "      <td>450000</td>\n",
              "      <td>77</td>\n",
              "      <td>34650000</td>\n",
              "      <td>7623000</td>\n",
              "      <td>137.0</td>\n",
              "      <td>47471000</td>\n",
              "      <td>2009</td>\n",
              "    </tr>\n",
              "    <tr>\n",
              "      <th>4</th>\n",
              "      <td>NorthDakota</td>\n",
              "      <td>370000</td>\n",
              "      <td>91</td>\n",
              "      <td>33670000</td>\n",
              "      <td>8418000</td>\n",
              "      <td>81.0</td>\n",
              "      <td>27273000</td>\n",
              "      <td>2005</td>\n",
              "    </tr>\n",
              "  </tbody>\n",
              "</table>\n",
              "</div>\n",
              "      <button class=\"colab-df-convert\" onclick=\"convertToInteractive('df-348395af-1d3a-4353-9330-3c050ffd6414')\"\n",
              "              title=\"Convert this dataframe to an interactive table.\"\n",
              "              style=\"display:none;\">\n",
              "        \n",
              "  <svg xmlns=\"http://www.w3.org/2000/svg\" height=\"24px\"viewBox=\"0 0 24 24\"\n",
              "       width=\"24px\">\n",
              "    <path d=\"M0 0h24v24H0V0z\" fill=\"none\"/>\n",
              "    <path d=\"M18.56 5.44l.94 2.06.94-2.06 2.06-.94-2.06-.94-.94-2.06-.94 2.06-2.06.94zm-11 1L8.5 8.5l.94-2.06 2.06-.94-2.06-.94L8.5 2.5l-.94 2.06-2.06.94zm10 10l.94 2.06.94-2.06 2.06-.94-2.06-.94-.94-2.06-.94 2.06-2.06.94z\"/><path d=\"M17.41 7.96l-1.37-1.37c-.4-.4-.92-.59-1.43-.59-.52 0-1.04.2-1.43.59L10.3 9.45l-7.72 7.72c-.78.78-.78 2.05 0 2.83L4 21.41c.39.39.9.59 1.41.59.51 0 1.02-.2 1.41-.59l7.78-7.78 2.81-2.81c.8-.78.8-2.07 0-2.86zM5.41 20L4 18.59l7.72-7.72 1.47 1.35L5.41 20z\"/>\n",
              "  </svg>\n",
              "      </button>\n",
              "      \n",
              "  <style>\n",
              "    .colab-df-container {\n",
              "      display:flex;\n",
              "      flex-wrap:wrap;\n",
              "      gap: 12px;\n",
              "    }\n",
              "\n",
              "    .colab-df-convert {\n",
              "      background-color: #E8F0FE;\n",
              "      border: none;\n",
              "      border-radius: 50%;\n",
              "      cursor: pointer;\n",
              "      display: none;\n",
              "      fill: #1967D2;\n",
              "      height: 32px;\n",
              "      padding: 0 0 0 0;\n",
              "      width: 32px;\n",
              "    }\n",
              "\n",
              "    .colab-df-convert:hover {\n",
              "      background-color: #E2EBFA;\n",
              "      box-shadow: 0px 1px 2px rgba(60, 64, 67, 0.3), 0px 1px 3px 1px rgba(60, 64, 67, 0.15);\n",
              "      fill: #174EA6;\n",
              "    }\n",
              "\n",
              "    [theme=dark] .colab-df-convert {\n",
              "      background-color: #3B4455;\n",
              "      fill: #D2E3FC;\n",
              "    }\n",
              "\n",
              "    [theme=dark] .colab-df-convert:hover {\n",
              "      background-color: #434B5C;\n",
              "      box-shadow: 0px 1px 3px 1px rgba(0, 0, 0, 0.15);\n",
              "      filter: drop-shadow(0px 1px 2px rgba(0, 0, 0, 0.3));\n",
              "      fill: #FFFFFF;\n",
              "    }\n",
              "  </style>\n",
              "\n",
              "      <script>\n",
              "        const buttonEl =\n",
              "          document.querySelector('#df-348395af-1d3a-4353-9330-3c050ffd6414 button.colab-df-convert');\n",
              "        buttonEl.style.display =\n",
              "          google.colab.kernel.accessAllowed ? 'block' : 'none';\n",
              "\n",
              "        async function convertToInteractive(key) {\n",
              "          const element = document.querySelector('#df-348395af-1d3a-4353-9330-3c050ffd6414');\n",
              "          const dataTable =\n",
              "            await google.colab.kernel.invokeFunction('convertToInteractive',\n",
              "                                                     [key], {});\n",
              "          if (!dataTable) return;\n",
              "\n",
              "          const docLinkHtml = 'Like what you see? Visit the ' +\n",
              "            '<a target=\"_blank\" href=https://colab.research.google.com/notebooks/data_table.ipynb>data table notebook</a>'\n",
              "            + ' to learn more about interactive tables.';\n",
              "          element.innerHTML = '';\n",
              "          dataTable['output_type'] = 'display_data';\n",
              "          await google.colab.output.renderOutput(dataTable, element);\n",
              "          const docLink = document.createElement('div');\n",
              "          docLink.innerHTML = docLinkHtml;\n",
              "          element.appendChild(docLink);\n",
              "        }\n",
              "      </script>\n",
              "    </div>\n",
              "  </div>\n",
              "  "
            ]
          },
          "metadata": {},
          "execution_count": 11
        }
      ]
    },
    {
      "cell_type": "code",
      "source": [
        "fig, ax=plt.subplots(figsize=(12,10))\n",
        "ax.bar(df1['state'], df1['production'])\n",
        "ax.xaxis.set_tick_params(rotation=90)\n",
        "ax.set_ylabel('Total production [pounds]')\n",
        "\n",
        "plt.show()"
      ],
      "metadata": {
        "colab": {
          "base_uri": "https://localhost:8080/",
          "height": 663
        },
        "id": "j-HIEaify1FY",
        "outputId": "fb5cc306-eb6f-487a-ae63-e73516947d59"
      },
      "execution_count": 12,
      "outputs": [
        {
          "output_type": "display_data",
          "data": {
            "text/plain": [
              "<Figure size 864x720 with 1 Axes>"
            ],
            "image/png": "[encoded data removed]"
          },
          "metadata": {
            "needs_background": "light"
          }
        }
      ]
    },
    {
      "cell_type": "markdown",
      "source": [
        "*CONCLUSIONS:* California has the highest total honey production"
      ],
      "metadata": {
        "id": "b6lc1vzsl0Wf"
      }
    },
    {
      "cell_type": "code",
      "source": [
        "df2 = df.sort_values(by=['average_price'], ascending=False).reset_index(drop=True)"
      ],
      "metadata": {
        "id": "hJbeMzMbCfr6"
      },
      "execution_count": 13,
      "outputs": []
    },
    {
      "cell_type": "code",
      "source": [
        "df2.head()"
      ],
      "metadata": {
        "colab": {
          "base_uri": "https://localhost:8080/",
          "height": 206
        },
        "id": "MQRfyA-eClqG",
        "outputId": "51d86d46-8918-47ea-80d4-d8e627287b08"
      },
      "execution_count": 14,
      "outputs": [
        {
          "output_type": "execute_result",
          "data": {
            "text/plain": [
              "       state  colonies_number  yield_per_colony  production  stocks  \\\n",
              "0  NewJersey            13000                28      167000  167000   \n",
              "1  NewJersey            12000                27      198000  198000   \n",
              "2   Virginia             5000                38       30000   30000   \n",
              "3   Virginia             6000                35       46000   46000   \n",
              "4   Virginia             6000                38       50000   50000   \n",
              "\n",
              "   average_price  value_of_production  year  \n",
              "0          874.0              3181000  2017  \n",
              "1          709.0              2297000  2016  \n",
              "2          585.0              1112000  2016  \n",
              "3          577.0              1212000  2017  \n",
              "4          553.0              1261000  2015  "
            ],
            "text/html": [
              "\n",
              "  <div id=\"df-a3a97721-3977-4f11-a4c6-672525e45b92\">\n",
              "    <div class=\"colab-df-container\">\n",
              "      <div>\n",
              "<style scoped>\n",
              "    .dataframe tbody tr th:only-of-type {\n",
              "        vertical-align: middle;\n",
              "    }\n",
              "\n",
              "    .dataframe tbody tr th {\n",
              "        vertical-align: top;\n",
              "    }\n",
              "\n",
              "    .dataframe thead th {\n",
              "        text-align: right;\n",
              "    }\n",
              "</style>\n",
              "<table border=\"1\" class=\"dataframe\">\n",
              "  <thead>\n",
              "    <tr style=\"text-align: right;\">\n",
              "      <th></th>\n",
              "      <th>state</th>\n",
              "      <th>colonies_number</th>\n",
              "      <th>yield_per_colony</th>\n",
              "      <th>production</th>\n",
              "      <th>stocks</th>\n",
              "      <th>average_price</th>\n",
              "      <th>value_of_production</th>\n",
              "      <th>year</th>\n",
              "    </tr>\n",
              "  </thead>\n",
              "  <tbody>\n",
              "    <tr>\n",
              "      <th>0</th>\n",
              "      <td>NewJersey</td>\n",
              "      <td>13000</td>\n",
              "      <td>28</td>\n",
              "      <td>167000</td>\n",
              "      <td>167000</td>\n",
              "      <td>874.0</td>\n",
              "      <td>3181000</td>\n",
              "      <td>2017</td>\n",
              "    </tr>\n",
              "    <tr>\n",
              "      <th>1</th>\n",
              "      <td>NewJersey</td>\n",
              "      <td>12000</td>\n",
              "      <td>27</td>\n",
              "      <td>198000</td>\n",
              "      <td>198000</td>\n",
              "      <td>709.0</td>\n",
              "      <td>2297000</td>\n",
              "      <td>2016</td>\n",
              "    </tr>\n",
              "    <tr>\n",
              "      <th>2</th>\n",
              "      <td>Virginia</td>\n",
              "      <td>5000</td>\n",
              "      <td>38</td>\n",
              "      <td>30000</td>\n",
              "      <td>30000</td>\n",
              "      <td>585.0</td>\n",
              "      <td>1112000</td>\n",
              "      <td>2016</td>\n",
              "    </tr>\n",
              "    <tr>\n",
              "      <th>3</th>\n",
              "      <td>Virginia</td>\n",
              "      <td>6000</td>\n",
              "      <td>35</td>\n",
              "      <td>46000</td>\n",
              "      <td>46000</td>\n",
              "      <td>577.0</td>\n",
              "      <td>1212000</td>\n",
              "      <td>2017</td>\n",
              "    </tr>\n",
              "    <tr>\n",
              "      <th>4</th>\n",
              "      <td>Virginia</td>\n",
              "      <td>6000</td>\n",
              "      <td>38</td>\n",
              "      <td>50000</td>\n",
              "      <td>50000</td>\n",
              "      <td>553.0</td>\n",
              "      <td>1261000</td>\n",
              "      <td>2015</td>\n",
              "    </tr>\n",
              "  </tbody>\n",
              "</table>\n",
              "</div>\n",
              "      <button class=\"colab-df-convert\" onclick=\"convertToInteractive('df-a3a97721-3977-4f11-a4c6-672525e45b92')\"\n",
              "              title=\"Convert this dataframe to an interactive table.\"\n",
              "              style=\"display:none;\">\n",
              "        \n",
              "  <svg xmlns=\"http://www.w3.org/2000/svg\" height=\"24px\"viewBox=\"0 0 24 24\"\n",
              "       width=\"24px\">\n",
              "    <path d=\"M0 0h24v24H0V0z\" fill=\"none\"/>\n",
              "    <path d=\"M18.56 5.44l.94 2.06.94-2.06 2.06-.94-2.06-.94-.94-2.06-.94 2.06-2.06.94zm-11 1L8.5 8.5l.94-2.06 2.06-.94-2.06-.94L8.5 2.5l-.94 2.06-2.06.94zm10 10l.94 2.06.94-2.06 2.06-.94-2.06-.94-.94-2.06-.94 2.06-2.06.94z\"/><path d=\"M17.41 7.96l-1.37-1.37c-.4-.4-.92-.59-1.43-.59-.52 0-1.04.2-1.43.59L10.3 9.45l-7.72 7.72c-.78.78-.78 2.05 0 2.83L4 21.41c.39.39.9.59 1.41.59.51 0 1.02-.2 1.41-.59l7.78-7.78 2.81-2.81c.8-.78.8-2.07 0-2.86zM5.41 20L4 18.59l7.72-7.72 1.47 1.35L5.41 20z\"/>\n",
              "  </svg>\n",
              "      </button>\n",
              "      \n",
              "  <style>\n",
              "    .colab-df-container {\n",
              "      display:flex;\n",
              "      flex-wrap:wrap;\n",
              "      gap: 12px;\n",
              "    }\n",
              "\n",
              "    .colab-df-convert {\n",
              "      background-color: #E8F0FE;\n",
              "      border: none;\n",
              "      border-radius: 50%;\n",
              "      cursor: pointer;\n",
              "      display: none;\n",
              "      fill: #1967D2;\n",
              "      height: 32px;\n",
              "      padding: 0 0 0 0;\n",
              "      width: 32px;\n",
              "    }\n",
              "\n",
              "    .colab-df-convert:hover {\n",
              "      background-color: #E2EBFA;\n",
              "      box-shadow: 0px 1px 2px rgba(60, 64, 67, 0.3), 0px 1px 3px 1px rgba(60, 64, 67, 0.15);\n",
              "      fill: #174EA6;\n",
              "    }\n",
              "\n",
              "    [theme=dark] .colab-df-convert {\n",
              "      background-color: #3B4455;\n",
              "      fill: #D2E3FC;\n",
              "    }\n",
              "\n",
              "    [theme=dark] .colab-df-convert:hover {\n",
              "      background-color: #434B5C;\n",
              "      box-shadow: 0px 1px 3px 1px rgba(0, 0, 0, 0.15);\n",
              "      filter: drop-shadow(0px 1px 2px rgba(0, 0, 0, 0.3));\n",
              "      fill: #FFFFFF;\n",
              "    }\n",
              "  </style>\n",
              "\n",
              "      <script>\n",
              "        const buttonEl =\n",
              "          document.querySelector('#df-a3a97721-3977-4f11-a4c6-672525e45b92 button.colab-df-convert');\n",
              "        buttonEl.style.display =\n",
              "          google.colab.kernel.accessAllowed ? 'block' : 'none';\n",
              "\n",
              "        async function convertToInteractive(key) {\n",
              "          const element = document.querySelector('#df-a3a97721-3977-4f11-a4c6-672525e45b92');\n",
              "          const dataTable =\n",
              "            await google.colab.kernel.invokeFunction('convertToInteractive',\n",
              "                                                     [key], {});\n",
              "          if (!dataTable) return;\n",
              "\n",
              "          const docLinkHtml = 'Like what you see? Visit the ' +\n",
              "            '<a target=\"_blank\" href=https://colab.research.google.com/notebooks/data_table.ipynb>data table notebook</a>'\n",
              "            + ' to learn more about interactive tables.';\n",
              "          element.innerHTML = '';\n",
              "          dataTable['output_type'] = 'display_data';\n",
              "          await google.colab.output.renderOutput(dataTable, element);\n",
              "          const docLink = document.createElement('div');\n",
              "          docLink.innerHTML = docLinkHtml;\n",
              "          element.appendChild(docLink);\n",
              "        }\n",
              "      </script>\n",
              "    </div>\n",
              "  </div>\n",
              "  "
            ]
          },
          "metadata": {},
          "execution_count": 14
        }
      ]
    },
    {
      "cell_type": "code",
      "source": [
        "fig, ax=plt.subplots(figsize=(12,10))\n",
        "ax.bar(df2['state'], df2['average_price'])\n",
        "ax.xaxis.set_tick_params(rotation=90)\n",
        "ax.set_ylabel('Average price [$]')\n",
        "\n",
        "plt.show()"
      ],
      "metadata": {
        "colab": {
          "base_uri": "https://localhost:8080/",
          "height": 652
        },
        "id": "XGqWXr-w-fCk",
        "outputId": "c7287aca-f549-4b2c-c268-ba874aa3a8e4"
      },
      "execution_count": 15,
      "outputs": [
        {
          "output_type": "display_data",
          "data": {
            "text/plain": [
              "<Figure size 864x720 with 1 Axes>"
            ],
            "image/png": "[encoded data removed]"
          },
          "metadata": {
            "needs_background": "light"
          }
        }
      ]
    },
    {
      "cell_type": "markdown",
      "source": [
        "*CONCLUSIONS:* Newjersey has the highest unit selling price"
      ],
      "metadata": {
        "id": "vOzazUAmmQvQ"
      }
    },
    {
      "cell_type": "code",
      "source": [
        "fig, ax=plt.subplots()\n",
        "ax.hist(df['production'], bins='auto')\n",
        "ax.set_xlabel('Production [pounds]')\n",
        "\n",
        "plt.show()"
      ],
      "metadata": {
        "colab": {
          "base_uri": "https://localhost:8080/",
          "height": 279
        },
        "id": "PHJlABTw5CdK",
        "outputId": "16c6f71d-b9c8-4050-ea9c-81a2759f3e77"
      },
      "execution_count": 16,
      "outputs": [
        {
          "output_type": "display_data",
          "data": {
            "text/plain": [
              "<Figure size 432x288 with 1 Axes>"
            ],
            "image/png": "[encoded data removed]"
          },
          "metadata": {
            "needs_background": "light"
          }
        }
      ]
    },
    {
      "cell_type": "markdown",
      "source": [
        "*CONCLUSIONS:* visualization of data using a histogram indicates the lack of normal distribution of data"
      ],
      "metadata": {
        "id": "eYzfBdOemTlr"
      }
    },
    {
      "cell_type": "markdown",
      "source": [
        "# **6.Outlier analysis using boxplot**"
      ],
      "metadata": {
        "id": "IfjMrIWij1HE"
      }
    },
    {
      "cell_type": "code",
      "source": [
        "fig, ax=plt.subplots(figsize=(20,15))\n",
        "\n",
        "box=ax.boxplot([df['production'].dropna(),\n",
        "                df['stocks'].dropna(),\n",
        "                df['colonies_number'].dropna()],\n",
        "               patch_artist=True)\n",
        "\n",
        "ax.set_xticklabels(['production', 'stocks', 'colonies_number'])\n",
        "\n",
        "colors=['blue', 'lightgreen', 'red']\n",
        "\n",
        "for patch, color in zip(box['boxes'], colors):\n",
        "  patch.set_facecolor(color)\n",
        "\n",
        "\n",
        "plt.show()"
      ],
      "metadata": {
        "colab": {
          "base_uri": "https://localhost:8080/",
          "height": 875
        },
        "id": "T5AEpzK3XodF",
        "outputId": "b32637f8-f21a-4140-8e96-4d52ba6a93cc"
      },
      "execution_count": 17,
      "outputs": [
        {
          "output_type": "display_data",
          "data": {
            "text/plain": [
              "<Figure size 1440x1080 with 1 Axes>"
            ],
            "image/png": "[encoded data removed]"
          },
          "metadata": {
            "needs_background": "light"
          }
        }
      ]
    },
    {
      "cell_type": "markdown",
      "source": [
        "*CONCLUSIONS:* \n",
        "Thanks to the use of boxplot, you can observe the upper outliers, the upper or third quartile, the median or the second quartile and the lower or first quartile"
      ],
      "metadata": {
        "id": "or_AIHCvn2kB"
      }
    },
    {
      "cell_type": "markdown",
      "source": [
        "# **7. Checking values ​​for categorical variables**"
      ],
      "metadata": {
        "id": "aQv40Ou0mMJk"
      }
    },
    {
      "cell_type": "code",
      "source": [
        "df['colonies_number'].value_counts()"
      ],
      "metadata": {
        "colab": {
          "base_uri": "https://localhost:8080/"
        },
        "id": "TPyFr9U8mTxm",
        "outputId": "c2878785-c230-4997-f5be-a368f966fa90"
      },
      "execution_count": 18,
      "outputs": [
        {
          "output_type": "execute_result",
          "data": {
            "text/plain": [
              "7000      69\n",
              "6000      50\n",
              "8000      49\n",
              "9000      41\n",
              "5000      36\n",
              "          ..\n",
              "410000     1\n",
              "128000     1\n",
              "510000     1\n",
              "180000     1\n",
              "137000     1\n",
              "Name: colonies_number, Length: 189, dtype: int64"
            ]
          },
          "metadata": {},
          "execution_count": 18
        }
      ]
    },
    {
      "cell_type": "markdown",
      "source": [
        "#**8.What to do with categorical variables?**\n",
        "OneHotEncoder"
      ],
      "metadata": {
        "id": "pSKXNm8fxefw"
      }
    },
    {
      "cell_type": "code",
      "source": [
        "df_state = df['state'] # wybranie zmiennych kategorycznych\n",
        "df_state = pd.get_dummies(data=df_state) # stworzenie dummies\n",
        "df_state = df.join(df_state) #polaczenie oryginalnego df z dummies\n",
        "\n",
        "df_state.head()"
      ],
      "metadata": {
        "colab": {
          "base_uri": "https://localhost:8080/",
          "height": 280
        },
        "id": "kAHsXJ8kecsY",
        "outputId": "f7dbcc53-43ee-4026-8f81-7bffab988ec5"
      },
      "execution_count": 19,
      "outputs": [
        {
          "output_type": "execute_result",
          "data": {
            "text/plain": [
              "        state  colonies_number  yield_per_colony  production   stocks  \\\n",
              "0     Alabama            16000                58      928000    28000   \n",
              "1     Arizona            52000                79     4108000   986000   \n",
              "2    Arkansas            50000                60     3000000   900000   \n",
              "3  California           420000                93    39060000  4687000   \n",
              "4    Colorado            45000                60     2700000  1404000   \n",
              "\n",
              "   average_price  value_of_production  year  Alabama  Arizona  ...  \\\n",
              "0           62.0               575000  1995        1        0  ...   \n",
              "1           68.0              2793000  1995        0        1  ...   \n",
              "2           64.0              1920000  1995        0        0  ...   \n",
              "3           60.0             23436000  1995        0        0  ...   \n",
              "4           68.0              1836000  1995        0        0  ...   \n",
              "\n",
              "   SouthDakota  Tennessee  Texas  Utah  Vermont  Virginia  Washington  \\\n",
              "0            0          0      0     0        0         0           0   \n",
              "1            0          0      0     0        0         0           0   \n",
              "2            0          0      0     0        0         0           0   \n",
              "3            0          0      0     0        0         0           0   \n",
              "4            0          0      0     0        0         0           0   \n",
              "\n",
              "   WestVirginia  Wisconsin  Wyoming  \n",
              "0             0          0        0  \n",
              "1             0          0        0  \n",
              "2             0          0        0  \n",
              "3             0          0        0  \n",
              "4             0          0        0  \n",
              "\n",
              "[5 rows x 52 columns]"
            ],
            "text/html": [
              "\n",
              "  <div id=\"df-da934829-436e-4632-889c-811bc8ec66b5\">\n",
              "    <div class=\"colab-df-container\">\n",
              "      <div>\n",
              "<style scoped>\n",
              "    .dataframe tbody tr th:only-of-type {\n",
              "        vertical-align: middle;\n",
              "    }\n",
              "\n",
              "    .dataframe tbody tr th {\n",
              "        vertical-align: top;\n",
              "    }\n",
              "\n",
              "    .dataframe thead th {\n",
              "        text-align: right;\n",
              "    }\n",
              "</style>\n",
              "<table border=\"1\" class=\"dataframe\">\n",
              "  <thead>\n",
              "    <tr style=\"text-align: right;\">\n",
              "      <th></th>\n",
              "      <th>state</th>\n",
              "      <th>colonies_number</th>\n",
              "      <th>yield_per_colony</th>\n",
              "      <th>production</th>\n",
              "      <th>stocks</th>\n",
              "      <th>average_price</th>\n",
              "      <th>value_of_production</th>\n",
              "      <th>year</th>\n",
              "      <th>Alabama</th>\n",
              "      <th>Arizona</th>\n",
              "      <th>...</th>\n",
              "      <th>SouthDakota</th>\n",
              "      <th>Tennessee</th>\n",
              "      <th>Texas</th>\n",
              "      <th>Utah</th>\n",
              "      <th>Vermont</th>\n",
              "      <th>Virginia</th>\n",
              "      <th>Washington</th>\n",
              "      <th>WestVirginia</th>\n",
              "      <th>Wisconsin</th>\n",
              "      <th>Wyoming</th>\n",
              "    </tr>\n",
              "  </thead>\n",
              "  <tbody>\n",
              "    <tr>\n",
              "      <th>0</th>\n",
              "      <td>Alabama</td>\n",
              "      <td>16000</td>\n",
              "      <td>58</td>\n",
              "      <td>928000</td>\n",
              "      <td>28000</td>\n",
              "      <td>62.0</td>\n",
              "      <td>575000</td>\n",
              "      <td>1995</td>\n",
              "      <td>1</td>\n",
              "      <td>0</td>\n",
              "      <td>...</td>\n",
              "      <td>0</td>\n",
              "      <td>0</td>\n",
              "      <td>0</td>\n",
              "      <td>0</td>\n",
              "      <td>0</td>\n",
              "      <td>0</td>\n",
              "      <td>0</td>\n",
              "      <td>0</td>\n",
              "      <td>0</td>\n",
              "      <td>0</td>\n",
              "    </tr>\n",
              "    <tr>\n",
              "      <th>1</th>\n",
              "      <td>Arizona</td>\n",
              "      <td>52000</td>\n",
              "      <td>79</td>\n",
              "      <td>4108000</td>\n",
              "      <td>986000</td>\n",
              "      <td>68.0</td>\n",
              "      <td>2793000</td>\n",
              "      <td>1995</td>\n",
              "      <td>0</td>\n",
              "      <td>1</td>\n",
              "      <td>...</td>\n",
              "      <td>0</td>\n",
              "      <td>0</td>\n",
              "      <td>0</td>\n",
              "      <td>0</td>\n",
              "      <td>0</td>\n",
              "      <td>0</td>\n",
              "      <td>0</td>\n",
              "      <td>0</td>\n",
              "      <td>0</td>\n",
              "      <td>0</td>\n",
              "    </tr>\n",
              "    <tr>\n",
              "      <th>2</th>\n",
              "      <td>Arkansas</td>\n",
              "      <td>50000</td>\n",
              "      <td>60</td>\n",
              "      <td>3000000</td>\n",
              "      <td>900000</td>\n",
              "      <td>64.0</td>\n",
              "      <td>1920000</td>\n",
              "      <td>1995</td>\n",
              "      <td>0</td>\n",
              "      <td>0</td>\n",
              "      <td>...</td>\n",
              "      <td>0</td>\n",
              "      <td>0</td>\n",
              "      <td>0</td>\n",
              "      <td>0</td>\n",
              "      <td>0</td>\n",
              "      <td>0</td>\n",
              "      <td>0</td>\n",
              "      <td>0</td>\n",
              "      <td>0</td>\n",
              "      <td>0</td>\n",
              "    </tr>\n",
              "    <tr>\n",
              "      <th>3</th>\n",
              "      <td>California</td>\n",
              "      <td>420000</td>\n",
              "      <td>93</td>\n",
              "      <td>39060000</td>\n",
              "      <td>4687000</td>\n",
              "      <td>60.0</td>\n",
              "      <td>23436000</td>\n",
              "      <td>1995</td>\n",
              "      <td>0</td>\n",
              "      <td>0</td>\n",
              "      <td>...</td>\n",
              "      <td>0</td>\n",
              "      <td>0</td>\n",
              "      <td>0</td>\n",
              "      <td>0</td>\n",
              "      <td>0</td>\n",
              "      <td>0</td>\n",
              "      <td>0</td>\n",
              "      <td>0</td>\n",
              "      <td>0</td>\n",
              "      <td>0</td>\n",
              "    </tr>\n",
              "    <tr>\n",
              "      <th>4</th>\n",
              "      <td>Colorado</td>\n",
              "      <td>45000</td>\n",
              "      <td>60</td>\n",
              "      <td>2700000</td>\n",
              "      <td>1404000</td>\n",
              "      <td>68.0</td>\n",
              "      <td>1836000</td>\n",
              "      <td>1995</td>\n",
              "      <td>0</td>\n",
              "      <td>0</td>\n",
              "      <td>...</td>\n",
              "      <td>0</td>\n",
              "      <td>0</td>\n",
              "      <td>0</td>\n",
              "      <td>0</td>\n",
              "      <td>0</td>\n",
              "      <td>0</td>\n",
              "      <td>0</td>\n",
              "      <td>0</td>\n",
              "      <td>0</td>\n",
              "      <td>0</td>\n",
              "    </tr>\n",
              "  </tbody>\n",
              "</table>\n",
              "<p>5 rows × 52 columns</p>\n",
              "</div>\n",
              "      <button class=\"colab-df-convert\" onclick=\"convertToInteractive('df-da934829-436e-4632-889c-811bc8ec66b5')\"\n",
              "              title=\"Convert this dataframe to an interactive table.\"\n",
              "              style=\"display:none;\">\n",
              "        \n",
              "  <svg xmlns=\"http://www.w3.org/2000/svg\" height=\"24px\"viewBox=\"0 0 24 24\"\n",
              "       width=\"24px\">\n",
              "    <path d=\"M0 0h24v24H0V0z\" fill=\"none\"/>\n",
              "    <path d=\"M18.56 5.44l.94 2.06.94-2.06 2.06-.94-2.06-.94-.94-2.06-.94 2.06-2.06.94zm-11 1L8.5 8.5l.94-2.06 2.06-.94-2.06-.94L8.5 2.5l-.94 2.06-2.06.94zm10 10l.94 2.06.94-2.06 2.06-.94-2.06-.94-.94-2.06-.94 2.06-2.06.94z\"/><path d=\"M17.41 7.96l-1.37-1.37c-.4-.4-.92-.59-1.43-.59-.52 0-1.04.2-1.43.59L10.3 9.45l-7.72 7.72c-.78.78-.78 2.05 0 2.83L4 21.41c.39.39.9.59 1.41.59.51 0 1.02-.2 1.41-.59l7.78-7.78 2.81-2.81c.8-.78.8-2.07 0-2.86zM5.41 20L4 18.59l7.72-7.72 1.47 1.35L5.41 20z\"/>\n",
              "  </svg>\n",
              "      </button>\n",
              "      \n",
              "  <style>\n",
              "    .colab-df-container {\n",
              "      display:flex;\n",
              "      flex-wrap:wrap;\n",
              "      gap: 12px;\n",
              "    }\n",
              "\n",
              "    .colab-df-convert {\n",
              "      background-color: #E8F0FE;\n",
              "      border: none;\n",
              "      border-radius: 50%;\n",
              "      cursor: pointer;\n",
              "      display: none;\n",
              "      fill: #1967D2;\n",
              "      height: 32px;\n",
              "      padding: 0 0 0 0;\n",
              "      width: 32px;\n",
              "    }\n",
              "\n",
              "    .colab-df-convert:hover {\n",
              "      background-color: #E2EBFA;\n",
              "      box-shadow: 0px 1px 2px rgba(60, 64, 67, 0.3), 0px 1px 3px 1px rgba(60, 64, 67, 0.15);\n",
              "      fill: #174EA6;\n",
              "    }\n",
              "\n",
              "    [theme=dark] .colab-df-convert {\n",
              "      background-color: #3B4455;\n",
              "      fill: #D2E3FC;\n",
              "    }\n",
              "\n",
              "    [theme=dark] .colab-df-convert:hover {\n",
              "      background-color: #434B5C;\n",
              "      box-shadow: 0px 1px 3px 1px rgba(0, 0, 0, 0.15);\n",
              "      filter: drop-shadow(0px 1px 2px rgba(0, 0, 0, 0.3));\n",
              "      fill: #FFFFFF;\n",
              "    }\n",
              "  </style>\n",
              "\n",
              "      <script>\n",
              "        const buttonEl =\n",
              "          document.querySelector('#df-da934829-436e-4632-889c-811bc8ec66b5 button.colab-df-convert');\n",
              "        buttonEl.style.display =\n",
              "          google.colab.kernel.accessAllowed ? 'block' : 'none';\n",
              "\n",
              "        async function convertToInteractive(key) {\n",
              "          const element = document.querySelector('#df-da934829-436e-4632-889c-811bc8ec66b5');\n",
              "          const dataTable =\n",
              "            await google.colab.kernel.invokeFunction('convertToInteractive',\n",
              "                                                     [key], {});\n",
              "          if (!dataTable) return;\n",
              "\n",
              "          const docLinkHtml = 'Like what you see? Visit the ' +\n",
              "            '<a target=\"_blank\" href=https://colab.research.google.com/notebooks/data_table.ipynb>data table notebook</a>'\n",
              "            + ' to learn more about interactive tables.';\n",
              "          element.innerHTML = '';\n",
              "          dataTable['output_type'] = 'display_data';\n",
              "          await google.colab.output.renderOutput(dataTable, element);\n",
              "          const docLink = document.createElement('div');\n",
              "          docLink.innerHTML = docLinkHtml;\n",
              "          element.appendChild(docLink);\n",
              "        }\n",
              "      </script>\n",
              "    </div>\n",
              "  </div>\n",
              "  "
            ]
          },
          "metadata": {},
          "execution_count": 19
        }
      ]
    },
    {
      "cell_type": "markdown",
      "source": [
        "# **9. Checking for outliers for variables**"
      ],
      "metadata": {
        "id": "15MF0VfBxlWE"
      }
    },
    {
      "cell_type": "code",
      "source": [
        "df.quantile([0.01,0.05, 0.25, 0.5, 0.75, 0.95, 0.99])"
      ],
      "metadata": {
        "colab": {
          "base_uri": "https://localhost:8080/",
          "height": 269
        },
        "id": "t5V8paCq4lBN",
        "outputId": "3b4f75e7-7df7-4e86-8953-cb9888b0e30a"
      },
      "execution_count": 20,
      "outputs": [
        {
          "output_type": "execute_result",
          "data": {
            "text/plain": [
              "      colonies_number  yield_per_colony  production      stocks  \\\n",
              "0.01           3000.0             27.00     24140.0     18140.0   \n",
              "0.05           5000.0             33.00     52700.0     41700.0   \n",
              "0.25           9000.0             45.00    246000.0    112500.0   \n",
              "0.50          26000.0             57.00    828000.0    370000.0   \n",
              "0.75          69000.0             71.00   2700000.0   1253500.0   \n",
              "0.95         261500.0             96.30  13509000.0   5240900.0   \n",
              "0.99         477200.0            118.86  30000000.0  10859980.0   \n",
              "\n",
              "      average_price  value_of_production    year  \n",
              "0.01         1.6914             229840.0  1995.0  \n",
              "0.05         2.3200             372100.0  1996.0  \n",
              "0.25        70.0000            1008000.0  2001.0  \n",
              "0.50       128.0000            2281000.0  2008.0  \n",
              "0.75       193.0000            5704000.0  2015.0  \n",
              "0.95       360.3000           23097500.0  2020.0  \n",
              "0.99       486.6000           50342100.0  2021.0  "
            ],
            "text/html": [
              "\n",
              "  <div id=\"df-15e6e4e9-05d1-4cc1-9ec0-b911a5dcf850\">\n",
              "    <div class=\"colab-df-container\">\n",
              "      <div>\n",
              "<style scoped>\n",
              "    .dataframe tbody tr th:only-of-type {\n",
              "        vertical-align: middle;\n",
              "    }\n",
              "\n",
              "    .dataframe tbody tr th {\n",
              "        vertical-align: top;\n",
              "    }\n",
              "\n",
              "    .dataframe thead th {\n",
              "        text-align: right;\n",
              "    }\n",
              "</style>\n",
              "<table border=\"1\" class=\"dataframe\">\n",
              "  <thead>\n",
              "    <tr style=\"text-align: right;\">\n",
              "      <th></th>\n",
              "      <th>colonies_number</th>\n",
              "      <th>yield_per_colony</th>\n",
              "      <th>production</th>\n",
              "      <th>stocks</th>\n",
              "      <th>average_price</th>\n",
              "      <th>value_of_production</th>\n",
              "      <th>year</th>\n",
              "    </tr>\n",
              "  </thead>\n",
              "  <tbody>\n",
              "    <tr>\n",
              "      <th>0.01</th>\n",
              "      <td>3000.0</td>\n",
              "      <td>27.00</td>\n",
              "      <td>24140.0</td>\n",
              "      <td>18140.0</td>\n",
              "      <td>1.6914</td>\n",
              "      <td>229840.0</td>\n",
              "      <td>1995.0</td>\n",
              "    </tr>\n",
              "    <tr>\n",
              "      <th>0.05</th>\n",
              "      <td>5000.0</td>\n",
              "      <td>33.00</td>\n",
              "      <td>52700.0</td>\n",
              "      <td>41700.0</td>\n",
              "      <td>2.3200</td>\n",
              "      <td>372100.0</td>\n",
              "      <td>1996.0</td>\n",
              "    </tr>\n",
              "    <tr>\n",
              "      <th>0.25</th>\n",
              "      <td>9000.0</td>\n",
              "      <td>45.00</td>\n",
              "      <td>246000.0</td>\n",
              "      <td>112500.0</td>\n",
              "      <td>70.0000</td>\n",
              "      <td>1008000.0</td>\n",
              "      <td>2001.0</td>\n",
              "    </tr>\n",
              "    <tr>\n",
              "      <th>0.50</th>\n",
              "      <td>26000.0</td>\n",
              "      <td>57.00</td>\n",
              "      <td>828000.0</td>\n",
              "      <td>370000.0</td>\n",
              "      <td>128.0000</td>\n",
              "      <td>2281000.0</td>\n",
              "      <td>2008.0</td>\n",
              "    </tr>\n",
              "    <tr>\n",
              "      <th>0.75</th>\n",
              "      <td>69000.0</td>\n",
              "      <td>71.00</td>\n",
              "      <td>2700000.0</td>\n",
              "      <td>1253500.0</td>\n",
              "      <td>193.0000</td>\n",
              "      <td>5704000.0</td>\n",
              "      <td>2015.0</td>\n",
              "    </tr>\n",
              "    <tr>\n",
              "      <th>0.95</th>\n",
              "      <td>261500.0</td>\n",
              "      <td>96.30</td>\n",
              "      <td>13509000.0</td>\n",
              "      <td>5240900.0</td>\n",
              "      <td>360.3000</td>\n",
              "      <td>23097500.0</td>\n",
              "      <td>2020.0</td>\n",
              "    </tr>\n",
              "    <tr>\n",
              "      <th>0.99</th>\n",
              "      <td>477200.0</td>\n",
              "      <td>118.86</td>\n",
              "      <td>30000000.0</td>\n",
              "      <td>10859980.0</td>\n",
              "      <td>486.6000</td>\n",
              "      <td>50342100.0</td>\n",
              "      <td>2021.0</td>\n",
              "    </tr>\n",
              "  </tbody>\n",
              "</table>\n",
              "</div>\n",
              "      <button class=\"colab-df-convert\" onclick=\"convertToInteractive('df-15e6e4e9-05d1-4cc1-9ec0-b911a5dcf850')\"\n",
              "              title=\"Convert this dataframe to an interactive table.\"\n",
              "              style=\"display:none;\">\n",
              "        \n",
              "  <svg xmlns=\"http://www.w3.org/2000/svg\" height=\"24px\"viewBox=\"0 0 24 24\"\n",
              "       width=\"24px\">\n",
              "    <path d=\"M0 0h24v24H0V0z\" fill=\"none\"/>\n",
              "    <path d=\"M18.56 5.44l.94 2.06.94-2.06 2.06-.94-2.06-.94-.94-2.06-.94 2.06-2.06.94zm-11 1L8.5 8.5l.94-2.06 2.06-.94-2.06-.94L8.5 2.5l-.94 2.06-2.06.94zm10 10l.94 2.06.94-2.06 2.06-.94-2.06-.94-.94-2.06-.94 2.06-2.06.94z\"/><path d=\"M17.41 7.96l-1.37-1.37c-.4-.4-.92-.59-1.43-.59-.52 0-1.04.2-1.43.59L10.3 9.45l-7.72 7.72c-.78.78-.78 2.05 0 2.83L4 21.41c.39.39.9.59 1.41.59.51 0 1.02-.2 1.41-.59l7.78-7.78 2.81-2.81c.8-.78.8-2.07 0-2.86zM5.41 20L4 18.59l7.72-7.72 1.47 1.35L5.41 20z\"/>\n",
              "  </svg>\n",
              "      </button>\n",
              "      \n",
              "  <style>\n",
              "    .colab-df-container {\n",
              "      display:flex;\n",
              "      flex-wrap:wrap;\n",
              "      gap: 12px;\n",
              "    }\n",
              "\n",
              "    .colab-df-convert {\n",
              "      background-color: #E8F0FE;\n",
              "      border: none;\n",
              "      border-radius: 50%;\n",
              "      cursor: pointer;\n",
              "      display: none;\n",
              "      fill: #1967D2;\n",
              "      height: 32px;\n",
              "      padding: 0 0 0 0;\n",
              "      width: 32px;\n",
              "    }\n",
              "\n",
              "    .colab-df-convert:hover {\n",
              "      background-color: #E2EBFA;\n",
              "      box-shadow: 0px 1px 2px rgba(60, 64, 67, 0.3), 0px 1px 3px 1px rgba(60, 64, 67, 0.15);\n",
              "      fill: #174EA6;\n",
              "    }\n",
              "\n",
              "    [theme=dark] .colab-df-convert {\n",
              "      background-color: #3B4455;\n",
              "      fill: #D2E3FC;\n",
              "    }\n",
              "\n",
              "    [theme=dark] .colab-df-convert:hover {\n",
              "      background-color: #434B5C;\n",
              "      box-shadow: 0px 1px 3px 1px rgba(0, 0, 0, 0.15);\n",
              "      filter: drop-shadow(0px 1px 2px rgba(0, 0, 0, 0.3));\n",
              "      fill: #FFFFFF;\n",
              "    }\n",
              "  </style>\n",
              "\n",
              "      <script>\n",
              "        const buttonEl =\n",
              "          document.querySelector('#df-15e6e4e9-05d1-4cc1-9ec0-b911a5dcf850 button.colab-df-convert');\n",
              "        buttonEl.style.display =\n",
              "          google.colab.kernel.accessAllowed ? 'block' : 'none';\n",
              "\n",
              "        async function convertToInteractive(key) {\n",
              "          const element = document.querySelector('#df-15e6e4e9-05d1-4cc1-9ec0-b911a5dcf850');\n",
              "          const dataTable =\n",
              "            await google.colab.kernel.invokeFunction('convertToInteractive',\n",
              "                                                     [key], {});\n",
              "          if (!dataTable) return;\n",
              "\n",
              "          const docLinkHtml = 'Like what you see? Visit the ' +\n",
              "            '<a target=\"_blank\" href=https://colab.research.google.com/notebooks/data_table.ipynb>data table notebook</a>'\n",
              "            + ' to learn more about interactive tables.';\n",
              "          element.innerHTML = '';\n",
              "          dataTable['output_type'] = 'display_data';\n",
              "          await google.colab.output.renderOutput(dataTable, element);\n",
              "          const docLink = document.createElement('div');\n",
              "          docLink.innerHTML = docLinkHtml;\n",
              "          element.appendChild(docLink);\n",
              "        }\n",
              "      </script>\n",
              "    </div>\n",
              "  </div>\n",
              "  "
            ]
          },
          "metadata": {},
          "execution_count": 20
        }
      ]
    },
    {
      "cell_type": "code",
      "source": [
        "f, axes = plt.subplots(2,3, figsize=(20, 10))\n",
        "sns.distplot(df['colonies_number'], color='skyblue', ax=axes[0, 0])\n",
        "sns.distplot(df['yield_per_colony'], color='olive', ax=axes[0, 1])\n",
        "sns.distplot(df['production'], color='gold', ax=axes[1, 0])\n",
        "sns.distplot(df['stocks'], color='teal', ax=axes[1, 1])\n",
        "sns.distplot(df['average_price'], color='green', ax=axes[0, 2])\n",
        "sns.distplot(df['value_of_production'], color='red', ax=axes[1, 2])\n",
        "plt.show()"
      ],
      "metadata": {
        "colab": {
          "base_uri": "https://localhost:8080/",
          "height": 845
        },
        "id": "ReL70eLdaTS3",
        "outputId": "0005404f-b460-44e1-b6a8-e563d9f2e41e"
      },
      "execution_count": 21,
      "outputs": [
        {
          "output_type": "stream",
          "name": "stderr",
          "text": [
            "/usr/local/lib/python3.8/dist-packages/seaborn/distributions.py:2619: FutureWarning: `distplot` is a deprecated function and will be removed in a future version. Please adapt your code to use either `displot` (a figure-level function with similar flexibility) or `histplot` (an axes-level function for histograms).\n",
            "  warnings.warn(msg, FutureWarning)\n",
            "/usr/local/lib/python3.8/dist-packages/seaborn/distributions.py:2619: FutureWarning: `distplot` is a deprecated function and will be removed in a future version. Please adapt your code to use either `displot` (a figure-level function with similar flexibility) or `histplot` (an axes-level function for histograms).\n",
            "  warnings.warn(msg, FutureWarning)\n",
            "/usr/local/lib/python3.8/dist-packages/seaborn/distributions.py:2619: FutureWarning: `distplot` is a deprecated function and will be removed in a future version. Please adapt your code to use either `displot` (a figure-level function with similar flexibility) or `histplot` (an axes-level function for histograms).\n",
            "  warnings.warn(msg, FutureWarning)\n",
            "/usr/local/lib/python3.8/dist-packages/seaborn/distributions.py:2619: FutureWarning: `distplot` is a deprecated function and will be removed in a future version. Please adapt your code to use either `displot` (a figure-level function with similar flexibility) or `histplot` (an axes-level function for histograms).\n",
            "  warnings.warn(msg, FutureWarning)\n",
            "/usr/local/lib/python3.8/dist-packages/seaborn/distributions.py:2619: FutureWarning: `distplot` is a deprecated function and will be removed in a future version. Please adapt your code to use either `displot` (a figure-level function with similar flexibility) or `histplot` (an axes-level function for histograms).\n",
            "  warnings.warn(msg, FutureWarning)\n",
            "/usr/local/lib/python3.8/dist-packages/seaborn/distributions.py:2619: FutureWarning: `distplot` is a deprecated function and will be removed in a future version. Please adapt your code to use either `displot` (a figure-level function with similar flexibility) or `histplot` (an axes-level function for histograms).\n",
            "  warnings.warn(msg, FutureWarning)\n"
          ]
        },
        {
          "output_type": "display_data",
          "data": {
            "text/plain": [
              "<Figure size 1440x720 with 6 Axes>"
            ],
            "image/png": "[encoded data removed]"
          },
          "metadata": {
            "needs_background": "light"
          }
        }
      ]
    },
    {
      "cell_type": "markdown",
      "source": [
        "\n",
        "\n",
        "*   Checking whether the set has a normal distribution D'Agostino-Pearson test\n",
        "\n",
        "\n"
      ],
      "metadata": {
        "id": "-C8OXMHEyWBM"
      }
    },
    {
      "cell_type": "code",
      "source": [
        "results = []\n",
        "for feature in df.columns:\n",
        "    alpha = 0.05\n",
        "    if df[feature].dtype != 'object':\n",
        "      p_value = scipy.stats.normaltest(df[feature])\n",
        "      results.append([feature, p_value])\n",
        "      if(p_value[1] < alpha):\n",
        "          print('For a variable \\'' + feature +'\\' reject the null hypothesis. The variable is NOT normally distributed. P-value:', p_value)\n",
        "      else:\n",
        "          print('For a variable \\'' + feature +'\\' no grounds for rejecting the null hypothesis were found. The variable COMES from a normal distribution. P-value:', p_value)"
      ],
      "metadata": {
        "colab": {
          "base_uri": "https://localhost:8080/"
        },
        "id": "iWaJifDZpj_y",
        "outputId": "7d9049f8-d999-410a-d6b4-a072d6f3d05a"
      },
      "execution_count": 22,
      "outputs": [
        {
          "output_type": "stream",
          "name": "stdout",
          "text": [
            "For a variable 'colonies_number' reject the null hypothesis. The variable is NOT normally distributed. P-value: NormaltestResult(statistic=645.2031249355281, pvalue=7.869036629048983e-141)\n",
            "For a variable 'yield_per_colony' reject the null hypothesis. The variable is NOT normally distributed. P-value: NormaltestResult(statistic=140.76888496875875, pvalue=2.706605856481851e-31)\n",
            "For a variable 'production' reject the null hypothesis. The variable is NOT normally distributed. P-value: NormaltestResult(statistic=845.8075130005496, pvalue=2.16387503184106e-184)\n",
            "For a variable 'stocks' reject the null hypothesis. The variable is NOT normally distributed. P-value: NormaltestResult(statistic=796.9122152103691, pvalue=8.968321867381252e-174)\n",
            "For a variable 'average_price' reject the null hypothesis. The variable is NOT normally distributed. P-value: NormaltestResult(statistic=322.6840965797898, pvalue=8.512139428408907e-71)\n",
            "For a variable 'value_of_production' reject the null hypothesis. The variable is NOT normally distributed. P-value: NormaltestResult(statistic=937.699008169827, pvalue=2.4057335943262457e-204)\n",
            "For a variable 'year' reject the null hypothesis. The variable is NOT normally distributed. P-value: NormaltestResult(statistic=915.8097069670775, pvalue=1.362852626180846e-199)\n"
          ]
        }
      ]
    },
    {
      "cell_type": "code",
      "source": [
        "podsumowanie = pd.DataFrame(results)\n",
        "podsumowanie.columns = ['variable_name', 'P-value']\n",
        "podsumowanie.set_index('variable_name', inplace = True)\n",
        "podsumowanie.sort_values('P-value', ascending = False, inplace = True)\n",
        "podsumowanie"
      ],
      "metadata": {
        "colab": {
          "base_uri": "https://localhost:8080/",
          "height": 300
        },
        "id": "tFKlRvFgpm_5",
        "outputId": "4423e341-2a98-4bb7-ef0d-96e7bd5fd889"
      },
      "execution_count": 72,
      "outputs": [
        {
          "output_type": "execute_result",
          "data": {
            "text/plain": [
              "                                                         P-value\n",
              "variable_name                                                   \n",
              "value_of_production  (937.699008169827, 2.4057335943262457e-204)\n",
              "year                 (915.8097069670775, 1.362852626180846e-199)\n",
              "production            (845.8075130005496, 2.16387503184106e-184)\n",
              "stocks               (796.9122152103691, 8.968321867381252e-174)\n",
              "colonies_number      (645.2031249355281, 7.869036629048983e-141)\n",
              "average_price         (322.6840965797898, 8.512139428408907e-71)\n",
              "yield_per_colony     (140.76888496875875, 2.706605856481851e-31)"
            ],
            "text/html": [
              "\n",
              "  <div id=\"df-9e1a2f5d-837a-4c91-bae6-d24c4ded2ffd\">\n",
              "    <div class=\"colab-df-container\">\n",
              "      <div>\n",
              "<style scoped>\n",
              "    .dataframe tbody tr th:only-of-type {\n",
              "        vertical-align: middle;\n",
              "    }\n",
              "\n",
              "    .dataframe tbody tr th {\n",
              "        vertical-align: top;\n",
              "    }\n",
              "\n",
              "    .dataframe thead th {\n",
              "        text-align: right;\n",
              "    }\n",
              "</style>\n",
              "<table border=\"1\" class=\"dataframe\">\n",
              "  <thead>\n",
              "    <tr style=\"text-align: right;\">\n",
              "      <th></th>\n",
              "      <th>P-value</th>\n",
              "    </tr>\n",
              "    <tr>\n",
              "      <th>variable_name</th>\n",
              "      <th></th>\n",
              "    </tr>\n",
              "  </thead>\n",
              "  <tbody>\n",
              "    <tr>\n",
              "      <th>value_of_production</th>\n",
              "      <td>(937.699008169827, 2.4057335943262457e-204)</td>\n",
              "    </tr>\n",
              "    <tr>\n",
              "      <th>year</th>\n",
              "      <td>(915.8097069670775, 1.362852626180846e-199)</td>\n",
              "    </tr>\n",
              "    <tr>\n",
              "      <th>production</th>\n",
              "      <td>(845.8075130005496, 2.16387503184106e-184)</td>\n",
              "    </tr>\n",
              "    <tr>\n",
              "      <th>stocks</th>\n",
              "      <td>(796.9122152103691, 8.968321867381252e-174)</td>\n",
              "    </tr>\n",
              "    <tr>\n",
              "      <th>colonies_number</th>\n",
              "      <td>(645.2031249355281, 7.869036629048983e-141)</td>\n",
              "    </tr>\n",
              "    <tr>\n",
              "      <th>average_price</th>\n",
              "      <td>(322.6840965797898, 8.512139428408907e-71)</td>\n",
              "    </tr>\n",
              "    <tr>\n",
              "      <th>yield_per_colony</th>\n",
              "      <td>(140.76888496875875, 2.706605856481851e-31)</td>\n",
              "    </tr>\n",
              "  </tbody>\n",
              "</table>\n",
              "</div>\n",
              "      <button class=\"colab-df-convert\" onclick=\"convertToInteractive('df-9e1a2f5d-837a-4c91-bae6-d24c4ded2ffd')\"\n",
              "              title=\"Convert this dataframe to an interactive table.\"\n",
              "              style=\"display:none;\">\n",
              "        \n",
              "  <svg xmlns=\"http://www.w3.org/2000/svg\" height=\"24px\"viewBox=\"0 0 24 24\"\n",
              "       width=\"24px\">\n",
              "    <path d=\"M0 0h24v24H0V0z\" fill=\"none\"/>\n",
              "    <path d=\"M18.56 5.44l.94 2.06.94-2.06 2.06-.94-2.06-.94-.94-2.06-.94 2.06-2.06.94zm-11 1L8.5 8.5l.94-2.06 2.06-.94-2.06-.94L8.5 2.5l-.94 2.06-2.06.94zm10 10l.94 2.06.94-2.06 2.06-.94-2.06-.94-.94-2.06-.94 2.06-2.06.94z\"/><path d=\"M17.41 7.96l-1.37-1.37c-.4-.4-.92-.59-1.43-.59-.52 0-1.04.2-1.43.59L10.3 9.45l-7.72 7.72c-.78.78-.78 2.05 0 2.83L4 21.41c.39.39.9.59 1.41.59.51 0 1.02-.2 1.41-.59l7.78-7.78 2.81-2.81c.8-.78.8-2.07 0-2.86zM5.41 20L4 18.59l7.72-7.72 1.47 1.35L5.41 20z\"/>\n",
              "  </svg>\n",
              "      </button>\n",
              "      \n",
              "  <style>\n",
              "    .colab-df-container {\n",
              "      display:flex;\n",
              "      flex-wrap:wrap;\n",
              "      gap: 12px;\n",
              "    }\n",
              "\n",
              "    .colab-df-convert {\n",
              "      background-color: #E8F0FE;\n",
              "      border: none;\n",
              "      border-radius: 50%;\n",
              "      cursor: pointer;\n",
              "      display: none;\n",
              "      fill: #1967D2;\n",
              "      height: 32px;\n",
              "      padding: 0 0 0 0;\n",
              "      width: 32px;\n",
              "    }\n",
              "\n",
              "    .colab-df-convert:hover {\n",
              "      background-color: #E2EBFA;\n",
              "      box-shadow: 0px 1px 2px rgba(60, 64, 67, 0.3), 0px 1px 3px 1px rgba(60, 64, 67, 0.15);\n",
              "      fill: #174EA6;\n",
              "    }\n",
              "\n",
              "    [theme=dark] .colab-df-convert {\n",
              "      background-color: #3B4455;\n",
              "      fill: #D2E3FC;\n",
              "    }\n",
              "\n",
              "    [theme=dark] .colab-df-convert:hover {\n",
              "      background-color: #434B5C;\n",
              "      box-shadow: 0px 1px 3px 1px rgba(0, 0, 0, 0.15);\n",
              "      filter: drop-shadow(0px 1px 2px rgba(0, 0, 0, 0.3));\n",
              "      fill: #FFFFFF;\n",
              "    }\n",
              "  </style>\n",
              "\n",
              "      <script>\n",
              "        const buttonEl =\n",
              "          document.querySelector('#df-9e1a2f5d-837a-4c91-bae6-d24c4ded2ffd button.colab-df-convert');\n",
              "        buttonEl.style.display =\n",
              "          google.colab.kernel.accessAllowed ? 'block' : 'none';\n",
              "\n",
              "        async function convertToInteractive(key) {\n",
              "          const element = document.querySelector('#df-9e1a2f5d-837a-4c91-bae6-d24c4ded2ffd');\n",
              "          const dataTable =\n",
              "            await google.colab.kernel.invokeFunction('convertToInteractive',\n",
              "                                                     [key], {});\n",
              "          if (!dataTable) return;\n",
              "\n",
              "          const docLinkHtml = 'Like what you see? Visit the ' +\n",
              "            '<a target=\"_blank\" href=https://colab.research.google.com/notebooks/data_table.ipynb>data table notebook</a>'\n",
              "            + ' to learn more about interactive tables.';\n",
              "          element.innerHTML = '';\n",
              "          dataTable['output_type'] = 'display_data';\n",
              "          await google.colab.output.renderOutput(dataTable, element);\n",
              "          const docLink = document.createElement('div');\n",
              "          docLink.innerHTML = docLinkHtml;\n",
              "          element.appendChild(docLink);\n",
              "        }\n",
              "      </script>\n",
              "    </div>\n",
              "  </div>\n",
              "  "
            ]
          },
          "metadata": {},
          "execution_count": 72
        }
      ]
    },
    {
      "cell_type": "markdown",
      "source": [
        "*  Checking if the above code worked correctly on a randomly selected part of the data"
      ],
      "metadata": {
        "id": "TF-hSVI9qIZy"
      }
    },
    {
      "cell_type": "code",
      "source": [
        "stats, p = normaltest(df['production'])\n",
        "print(f'CONCLUSIONS:' f'\\n'\n",
        "      f'Characteristic value for the test: {stats}', f'\\n'\n",
        "      f'Value p: {p}')\n",
        "if p > 0.05:\n",
        "    print (\"The distribution appears to be of the normal type\")\n",
        "else:\n",
        "  print (\"The distribution does not appear to be of the normal type\")\n"
      ],
      "metadata": {
        "colab": {
          "base_uri": "https://localhost:8080/"
        },
        "id": "qprkHTNyfjfB",
        "outputId": "44add6d5-47ca-4761-b08c-9dd825dd4638"
      },
      "execution_count": 73,
      "outputs": [
        {
          "output_type": "stream",
          "name": "stdout",
          "text": [
            "CONCLUSIONS:\n",
            "Characteristic value for the test: 845.8075130005496 \n",
            "Value p: 2.16387503184106e-184\n",
            "The distribution does not appear to be of the normal type\n"
          ]
        }
      ]
    },
    {
      "cell_type": "code",
      "source": [
        "stats, p = normaltest(df['colonies_number'])\n",
        "print(f'CONCLUSIONS:' f'\\n'\n",
        "      f'Characteristic value for the test: {stats}', f'\\n'\n",
        "      f'Value p: {p}')\n",
        "if p > 0.05:\n",
        "    print (\"The distribution appears to be of the normal type\")\n",
        "else:\n",
        "  print (\"The distribution does not appear to be of the normal typ\")\n"
      ],
      "metadata": {
        "colab": {
          "base_uri": "https://localhost:8080/"
        },
        "id": "8Tw0GkCC441H",
        "outputId": "7ca50cc3-f5e0-478d-b6a9-844598a397e3"
      },
      "execution_count": 74,
      "outputs": [
        {
          "output_type": "stream",
          "name": "stdout",
          "text": [
            "CONCLUSIONS:\n",
            "Characteristic value for the test: 645.2031249355281 \n",
            "Value p: 7.869036629048983e-141\n",
            "The distribution does not appear to be of the normal typ\n"
          ]
        }
      ]
    },
    {
      "cell_type": "markdown",
      "source": [
        "\n",
        "*  Checking if the set has a normal distribution with the Shapiro-Wilk test"
      ],
      "metadata": {
        "id": "OcEYjQxWzn4o"
      }
    },
    {
      "cell_type": "code",
      "source": [
        "stats, p = shapiro(df['production'])\n",
        "print(f'CONCLUSIONS:' f'\\n'\n",
        "      f'Characteristic value for the test: {stats}', f'\\n'\n",
        "      f'Value p: {p}')\n",
        "if p > 0.05:\n",
        "    print (\"The distribution appears to be of the normal type\")\n",
        "else:\n",
        "  print (\"The distribution does not appear to be of the normal typ\")"
      ],
      "metadata": {
        "colab": {
          "base_uri": "https://localhost:8080/"
        },
        "id": "H3_mkXlOyVlf",
        "outputId": "6967aa38-1072-4c79-c2e7-82647f8b67de"
      },
      "execution_count": 75,
      "outputs": [
        {
          "output_type": "stream",
          "name": "stdout",
          "text": [
            "CONCLUSIONS:\n",
            "Characteristic value for the test: 0.5220077037811279 \n",
            "Value p: 0.0\n",
            "The distribution does not appear to be of the normal typ\n"
          ]
        }
      ]
    },
    {
      "cell_type": "markdown",
      "source": [
        "*   Determination of the skewness of the distribution\n",
        "\n",
        "\n"
      ],
      "metadata": {
        "id": "x5lFATpV0pb5"
      }
    },
    {
      "cell_type": "code",
      "source": [
        "df.agg(['mean', 'median'])"
      ],
      "metadata": {
        "colab": {
          "base_uri": "https://localhost:8080/",
          "height": 112
        },
        "id": "kFOGPY0B0wNb",
        "outputId": "00eea00a-a34d-40d8-9fd8-76e11d387943"
      },
      "execution_count": 27,
      "outputs": [
        {
          "output_type": "execute_result",
          "data": {
            "text/plain": [
              "        colonies_number  yield_per_colony    production        stocks  \\\n",
              "mean       62438.565022         59.743498  2.851268e+06  1.172625e+06   \n",
              "median     26000.000000         57.000000  8.280000e+05  3.700000e+05   \n",
              "\n",
              "        average_price  value_of_production         year  \n",
              "mean       140.623076         5.667412e+06  2007.740807  \n",
              "median     128.000000         2.281000e+06  2008.000000  "
            ],
            "text/html": [
              "\n",
              "  <div id=\"df-f2779375-3fca-4734-911d-fd2f84144142\">\n",
              "    <div class=\"colab-df-container\">\n",
              "      <div>\n",
              "<style scoped>\n",
              "    .dataframe tbody tr th:only-of-type {\n",
              "        vertical-align: middle;\n",
              "    }\n",
              "\n",
              "    .dataframe tbody tr th {\n",
              "        vertical-align: top;\n",
              "    }\n",
              "\n",
              "    .dataframe thead th {\n",
              "        text-align: right;\n",
              "    }\n",
              "</style>\n",
              "<table border=\"1\" class=\"dataframe\">\n",
              "  <thead>\n",
              "    <tr style=\"text-align: right;\">\n",
              "      <th></th>\n",
              "      <th>colonies_number</th>\n",
              "      <th>yield_per_colony</th>\n",
              "      <th>production</th>\n",
              "      <th>stocks</th>\n",
              "      <th>average_price</th>\n",
              "      <th>value_of_production</th>\n",
              "      <th>year</th>\n",
              "    </tr>\n",
              "  </thead>\n",
              "  <tbody>\n",
              "    <tr>\n",
              "      <th>mean</th>\n",
              "      <td>62438.565022</td>\n",
              "      <td>59.743498</td>\n",
              "      <td>2.851268e+06</td>\n",
              "      <td>1.172625e+06</td>\n",
              "      <td>140.623076</td>\n",
              "      <td>5.667412e+06</td>\n",
              "      <td>2007.740807</td>\n",
              "    </tr>\n",
              "    <tr>\n",
              "      <th>median</th>\n",
              "      <td>26000.000000</td>\n",
              "      <td>57.000000</td>\n",
              "      <td>8.280000e+05</td>\n",
              "      <td>3.700000e+05</td>\n",
              "      <td>128.000000</td>\n",
              "      <td>2.281000e+06</td>\n",
              "      <td>2008.000000</td>\n",
              "    </tr>\n",
              "  </tbody>\n",
              "</table>\n",
              "</div>\n",
              "      <button class=\"colab-df-convert\" onclick=\"convertToInteractive('df-f2779375-3fca-4734-911d-fd2f84144142')\"\n",
              "              title=\"Convert this dataframe to an interactive table.\"\n",
              "              style=\"display:none;\">\n",
              "        \n",
              "  <svg xmlns=\"http://www.w3.org/2000/svg\" height=\"24px\"viewBox=\"0 0 24 24\"\n",
              "       width=\"24px\">\n",
              "    <path d=\"M0 0h24v24H0V0z\" fill=\"none\"/>\n",
              "    <path d=\"M18.56 5.44l.94 2.06.94-2.06 2.06-.94-2.06-.94-.94-2.06-.94 2.06-2.06.94zm-11 1L8.5 8.5l.94-2.06 2.06-.94-2.06-.94L8.5 2.5l-.94 2.06-2.06.94zm10 10l.94 2.06.94-2.06 2.06-.94-2.06-.94-.94-2.06-.94 2.06-2.06.94z\"/><path d=\"M17.41 7.96l-1.37-1.37c-.4-.4-.92-.59-1.43-.59-.52 0-1.04.2-1.43.59L10.3 9.45l-7.72 7.72c-.78.78-.78 2.05 0 2.83L4 21.41c.39.39.9.59 1.41.59.51 0 1.02-.2 1.41-.59l7.78-7.78 2.81-2.81c.8-.78.8-2.07 0-2.86zM5.41 20L4 18.59l7.72-7.72 1.47 1.35L5.41 20z\"/>\n",
              "  </svg>\n",
              "      </button>\n",
              "      \n",
              "  <style>\n",
              "    .colab-df-container {\n",
              "      display:flex;\n",
              "      flex-wrap:wrap;\n",
              "      gap: 12px;\n",
              "    }\n",
              "\n",
              "    .colab-df-convert {\n",
              "      background-color: #E8F0FE;\n",
              "      border: none;\n",
              "      border-radius: 50%;\n",
              "      cursor: pointer;\n",
              "      display: none;\n",
              "      fill: #1967D2;\n",
              "      height: 32px;\n",
              "      padding: 0 0 0 0;\n",
              "      width: 32px;\n",
              "    }\n",
              "\n",
              "    .colab-df-convert:hover {\n",
              "      background-color: #E2EBFA;\n",
              "      box-shadow: 0px 1px 2px rgba(60, 64, 67, 0.3), 0px 1px 3px 1px rgba(60, 64, 67, 0.15);\n",
              "      fill: #174EA6;\n",
              "    }\n",
              "\n",
              "    [theme=dark] .colab-df-convert {\n",
              "      background-color: #3B4455;\n",
              "      fill: #D2E3FC;\n",
              "    }\n",
              "\n",
              "    [theme=dark] .colab-df-convert:hover {\n",
              "      background-color: #434B5C;\n",
              "      box-shadow: 0px 1px 3px 1px rgba(0, 0, 0, 0.15);\n",
              "      filter: drop-shadow(0px 1px 2px rgba(0, 0, 0, 0.3));\n",
              "      fill: #FFFFFF;\n",
              "    }\n",
              "  </style>\n",
              "\n",
              "      <script>\n",
              "        const buttonEl =\n",
              "          document.querySelector('#df-f2779375-3fca-4734-911d-fd2f84144142 button.colab-df-convert');\n",
              "        buttonEl.style.display =\n",
              "          google.colab.kernel.accessAllowed ? 'block' : 'none';\n",
              "\n",
              "        async function convertToInteractive(key) {\n",
              "          const element = document.querySelector('#df-f2779375-3fca-4734-911d-fd2f84144142');\n",
              "          const dataTable =\n",
              "            await google.colab.kernel.invokeFunction('convertToInteractive',\n",
              "                                                     [key], {});\n",
              "          if (!dataTable) return;\n",
              "\n",
              "          const docLinkHtml = 'Like what you see? Visit the ' +\n",
              "            '<a target=\"_blank\" href=https://colab.research.google.com/notebooks/data_table.ipynb>data table notebook</a>'\n",
              "            + ' to learn more about interactive tables.';\n",
              "          element.innerHTML = '';\n",
              "          dataTable['output_type'] = 'display_data';\n",
              "          await google.colab.output.renderOutput(dataTable, element);\n",
              "          const docLink = document.createElement('div');\n",
              "          docLink.innerHTML = docLinkHtml;\n",
              "          element.appendChild(docLink);\n",
              "        }\n",
              "      </script>\n",
              "    </div>\n",
              "  </div>\n",
              "  "
            ]
          },
          "metadata": {},
          "execution_count": 27
        }
      ]
    },
    {
      "cell_type": "markdown",
      "source": [
        "*CONCLUSIONS:* According to the assumptions of normal distribution, the mean value and the median should be close or equal to each other. Then we can suspect the distribution of the variable to be skewed.\n",
        "\n",
        "Differences in values ​​indicate skewness of the distribution.\n",
        "\n",
        "consecutively:\n",
        "\n",
        "> mean less than the median - left-skewed distribution (extended left arm of the distribution)\n",
        "> mean greater than the median - right-skewed distribution (extended right arm of the distribution)"
      ],
      "metadata": {
        "id": "-lVVxzOJ0w1-"
      }
    },
    {
      "cell_type": "markdown",
      "source": [
        "*   The coefficient of skewness of the distribution"
      ],
      "metadata": {
        "id": "i_q4EOkB16Dk"
      }
    },
    {
      "cell_type": "code",
      "source": [
        "df.skew()"
      ],
      "metadata": {
        "colab": {
          "base_uri": "https://localhost:8080/"
        },
        "id": "RZKv22M-1ZRg",
        "outputId": "c75731a6-14bb-4e68-c833-1446086bc640"
      },
      "execution_count": 28,
      "outputs": [
        {
          "output_type": "stream",
          "name": "stderr",
          "text": [
            "<ipython-input-28-9e0b1e29546f>:1: FutureWarning: Dropping of nuisance columns in DataFrame reductions (with 'numeric_only=None') is deprecated; in a future version this will raise TypeError.  Select only valid columns before calling the reduction.\n",
            "  df.skew()\n"
          ]
        },
        {
          "output_type": "execute_result",
          "data": {
            "text/plain": [
              "colonies_number        2.724796\n",
              "yield_per_colony       0.895759\n",
              "production             3.556899\n",
              "stocks                 3.322866\n",
              "average_price          1.411339\n",
              "value_of_production    3.894655\n",
              "year                   0.045198\n",
              "dtype: float64"
            ]
          },
          "metadata": {},
          "execution_count": 28
        }
      ]
    },
    {
      "cell_type": "markdown",
      "source": [
        "*CONCLUSIONS:*\n",
        "\n",
        "\n",
        "> A coefficient of 0 is a symmetrical distribution.\n",
        "\n",
        "> A coefficient with a positive value is a right-skewed distribution (extended right arm of the distribution; mean greater than the median)."
      ],
      "metadata": {
        "id": "AO38U00e1euy"
      }
    },
    {
      "cell_type": "markdown",
      "source": [
        "#10. Z-score Standardization\n",
        "\n",
        "---\n",
        "\n"
      ],
      "metadata": {
        "id": "QPaSrv2Yxo0S"
      }
    },
    {
      "cell_type": "code",
      "source": [
        "df['production_Zscore'] = (df['production']-df['production'].mean()) / df['production'].std()\n",
        "df['production_Zscore'].describe()"
      ],
      "metadata": {
        "id": "EFNnkaek24kT",
        "colab": {
          "base_uri": "https://localhost:8080/"
        },
        "outputId": "9b391ad9-f4e9-47a3-c14f-ebfc3756f642"
      },
      "execution_count": 29,
      "outputs": [
        {
          "output_type": "execute_result",
          "data": {
            "text/plain": [
              "count    1.115000e+03\n",
              "mean    -7.647097e-17\n",
              "std      1.000000e+00\n",
              "min     -5.105494e-01\n",
              "25%     -4.684721e-01\n",
              "50%     -3.638185e-01\n",
              "75%     -2.720062e-02\n",
              "max      6.510954e+00\n",
              "Name: production_Zscore, dtype: float64"
            ]
          },
          "metadata": {},
          "execution_count": 29
        }
      ]
    },
    {
      "cell_type": "code",
      "source": [
        "df['stocks_Zscore'] = (df['stocks']-df['stocks'].mean()) / df['stocks'].std()\n",
        "df['stocks_Zscore'].describe()"
      ],
      "metadata": {
        "colab": {
          "base_uri": "https://localhost:8080/"
        },
        "id": "KtSmaKvckoiT",
        "outputId": "24608e1a-3144-42bd-f280-f42f2185c5b3"
      },
      "execution_count": 30,
      "outputs": [
        {
          "output_type": "execute_result",
          "data": {
            "text/plain": [
              "count    1.115000e+03\n",
              "mean    -3.823548e-17\n",
              "std      1.000000e+00\n",
              "min     -5.677451e-01\n",
              "25%     -5.172463e-01\n",
              "50%     -3.916093e-01\n",
              "75%      3.945972e-02\n",
              "max      6.036613e+00\n",
              "Name: stocks_Zscore, dtype: float64"
            ]
          },
          "metadata": {},
          "execution_count": 30
        }
      ]
    },
    {
      "cell_type": "markdown",
      "source": [
        "#**11. model**"
      ],
      "metadata": {
        "id": "Iy6IlqxyxrWN"
      }
    },
    {
      "cell_type": "code",
      "source": [
        "df_state.head(5)"
      ],
      "metadata": {
        "colab": {
          "base_uri": "https://localhost:8080/",
          "height": 280
        },
        "id": "JUxpJ3y5LuyK",
        "outputId": "f2ee342d-bb4e-4d13-ca28-4a94f99c18f7"
      },
      "execution_count": 31,
      "outputs": [
        {
          "output_type": "execute_result",
          "data": {
            "text/plain": [
              "        state  colonies_number  yield_per_colony  production   stocks  \\\n",
              "0     Alabama            16000                58      928000    28000   \n",
              "1     Arizona            52000                79     4108000   986000   \n",
              "2    Arkansas            50000                60     3000000   900000   \n",
              "3  California           420000                93    39060000  4687000   \n",
              "4    Colorado            45000                60     2700000  1404000   \n",
              "\n",
              "   average_price  value_of_production  year  Alabama  Arizona  ...  \\\n",
              "0           62.0               575000  1995        1        0  ...   \n",
              "1           68.0              2793000  1995        0        1  ...   \n",
              "2           64.0              1920000  1995        0        0  ...   \n",
              "3           60.0             23436000  1995        0        0  ...   \n",
              "4           68.0              1836000  1995        0        0  ...   \n",
              "\n",
              "   SouthDakota  Tennessee  Texas  Utah  Vermont  Virginia  Washington  \\\n",
              "0            0          0      0     0        0         0           0   \n",
              "1            0          0      0     0        0         0           0   \n",
              "2            0          0      0     0        0         0           0   \n",
              "3            0          0      0     0        0         0           0   \n",
              "4            0          0      0     0        0         0           0   \n",
              "\n",
              "   WestVirginia  Wisconsin  Wyoming  \n",
              "0             0          0        0  \n",
              "1             0          0        0  \n",
              "2             0          0        0  \n",
              "3             0          0        0  \n",
              "4             0          0        0  \n",
              "\n",
              "[5 rows x 52 columns]"
            ],
            "text/html": [
              "\n",
              "  <div id=\"df-18d195ac-db01-4529-9055-a28c365af853\">\n",
              "    <div class=\"colab-df-container\">\n",
              "      <div>\n",
              "<style scoped>\n",
              "    .dataframe tbody tr th:only-of-type {\n",
              "        vertical-align: middle;\n",
              "    }\n",
              "\n",
              "    .dataframe tbody tr th {\n",
              "        vertical-align: top;\n",
              "    }\n",
              "\n",
              "    .dataframe thead th {\n",
              "        text-align: right;\n",
              "    }\n",
              "</style>\n",
              "<table border=\"1\" class=\"dataframe\">\n",
              "  <thead>\n",
              "    <tr style=\"text-align: right;\">\n",
              "      <th></th>\n",
              "      <th>state</th>\n",
              "      <th>colonies_number</th>\n",
              "      <th>yield_per_colony</th>\n",
              "      <th>production</th>\n",
              "      <th>stocks</th>\n",
              "      <th>average_price</th>\n",
              "      <th>value_of_production</th>\n",
              "      <th>year</th>\n",
              "      <th>Alabama</th>\n",
              "      <th>Arizona</th>\n",
              "      <th>...</th>\n",
              "      <th>SouthDakota</th>\n",
              "      <th>Tennessee</th>\n",
              "      <th>Texas</th>\n",
              "      <th>Utah</th>\n",
              "      <th>Vermont</th>\n",
              "      <th>Virginia</th>\n",
              "      <th>Washington</th>\n",
              "      <th>WestVirginia</th>\n",
              "      <th>Wisconsin</th>\n",
              "      <th>Wyoming</th>\n",
              "    </tr>\n",
              "  </thead>\n",
              "  <tbody>\n",
              "    <tr>\n",
              "      <th>0</th>\n",
              "      <td>Alabama</td>\n",
              "      <td>16000</td>\n",
              "      <td>58</td>\n",
              "      <td>928000</td>\n",
              "      <td>28000</td>\n",
              "      <td>62.0</td>\n",
              "      <td>575000</td>\n",
              "      <td>1995</td>\n",
              "      <td>1</td>\n",
              "      <td>0</td>\n",
              "      <td>...</td>\n",
              "      <td>0</td>\n",
              "      <td>0</td>\n",
              "      <td>0</td>\n",
              "      <td>0</td>\n",
              "      <td>0</td>\n",
              "      <td>0</td>\n",
              "      <td>0</td>\n",
              "      <td>0</td>\n",
              "      <td>0</td>\n",
              "      <td>0</td>\n",
              "    </tr>\n",
              "    <tr>\n",
              "      <th>1</th>\n",
              "      <td>Arizona</td>\n",
              "      <td>52000</td>\n",
              "      <td>79</td>\n",
              "      <td>4108000</td>\n",
              "      <td>986000</td>\n",
              "      <td>68.0</td>\n",
              "      <td>2793000</td>\n",
              "      <td>1995</td>\n",
              "      <td>0</td>\n",
              "      <td>1</td>\n",
              "      <td>...</td>\n",
              "      <td>0</td>\n",
              "      <td>0</td>\n",
              "      <td>0</td>\n",
              "      <td>0</td>\n",
              "      <td>0</td>\n",
              "      <td>0</td>\n",
              "      <td>0</td>\n",
              "      <td>0</td>\n",
              "      <td>0</td>\n",
              "      <td>0</td>\n",
              "    </tr>\n",
              "    <tr>\n",
              "      <th>2</th>\n",
              "      <td>Arkansas</td>\n",
              "      <td>50000</td>\n",
              "      <td>60</td>\n",
              "      <td>3000000</td>\n",
              "      <td>900000</td>\n",
              "      <td>64.0</td>\n",
              "      <td>1920000</td>\n",
              "      <td>1995</td>\n",
              "      <td>0</td>\n",
              "      <td>0</td>\n",
              "      <td>...</td>\n",
              "      <td>0</td>\n",
              "      <td>0</td>\n",
              "      <td>0</td>\n",
              "      <td>0</td>\n",
              "      <td>0</td>\n",
              "      <td>0</td>\n",
              "      <td>0</td>\n",
              "      <td>0</td>\n",
              "      <td>0</td>\n",
              "      <td>0</td>\n",
              "    </tr>\n",
              "    <tr>\n",
              "      <th>3</th>\n",
              "      <td>California</td>\n",
              "      <td>420000</td>\n",
              "      <td>93</td>\n",
              "      <td>39060000</td>\n",
              "      <td>4687000</td>\n",
              "      <td>60.0</td>\n",
              "      <td>23436000</td>\n",
              "      <td>1995</td>\n",
              "      <td>0</td>\n",
              "      <td>0</td>\n",
              "      <td>...</td>\n",
              "      <td>0</td>\n",
              "      <td>0</td>\n",
              "      <td>0</td>\n",
              "      <td>0</td>\n",
              "      <td>0</td>\n",
              "      <td>0</td>\n",
              "      <td>0</td>\n",
              "      <td>0</td>\n",
              "      <td>0</td>\n",
              "      <td>0</td>\n",
              "    </tr>\n",
              "    <tr>\n",
              "      <th>4</th>\n",
              "      <td>Colorado</td>\n",
              "      <td>45000</td>\n",
              "      <td>60</td>\n",
              "      <td>2700000</td>\n",
              "      <td>1404000</td>\n",
              "      <td>68.0</td>\n",
              "      <td>1836000</td>\n",
              "      <td>1995</td>\n",
              "      <td>0</td>\n",
              "      <td>0</td>\n",
              "      <td>...</td>\n",
              "      <td>0</td>\n",
              "      <td>0</td>\n",
              "      <td>0</td>\n",
              "      <td>0</td>\n",
              "      <td>0</td>\n",
              "      <td>0</td>\n",
              "      <td>0</td>\n",
              "      <td>0</td>\n",
              "      <td>0</td>\n",
              "      <td>0</td>\n",
              "    </tr>\n",
              "  </tbody>\n",
              "</table>\n",
              "<p>5 rows × 52 columns</p>\n",
              "</div>\n",
              "      <button class=\"colab-df-convert\" onclick=\"convertToInteractive('df-18d195ac-db01-4529-9055-a28c365af853')\"\n",
              "              title=\"Convert this dataframe to an interactive table.\"\n",
              "              style=\"display:none;\">\n",
              "        \n",
              "  <svg xmlns=\"http://www.w3.org/2000/svg\" height=\"24px\"viewBox=\"0 0 24 24\"\n",
              "       width=\"24px\">\n",
              "    <path d=\"M0 0h24v24H0V0z\" fill=\"none\"/>\n",
              "    <path d=\"M18.56 5.44l.94 2.06.94-2.06 2.06-.94-2.06-.94-.94-2.06-.94 2.06-2.06.94zm-11 1L8.5 8.5l.94-2.06 2.06-.94-2.06-.94L8.5 2.5l-.94 2.06-2.06.94zm10 10l.94 2.06.94-2.06 2.06-.94-2.06-.94-.94-2.06-.94 2.06-2.06.94z\"/><path d=\"M17.41 7.96l-1.37-1.37c-.4-.4-.92-.59-1.43-.59-.52 0-1.04.2-1.43.59L10.3 9.45l-7.72 7.72c-.78.78-.78 2.05 0 2.83L4 21.41c.39.39.9.59 1.41.59.51 0 1.02-.2 1.41-.59l7.78-7.78 2.81-2.81c.8-.78.8-2.07 0-2.86zM5.41 20L4 18.59l7.72-7.72 1.47 1.35L5.41 20z\"/>\n",
              "  </svg>\n",
              "      </button>\n",
              "      \n",
              "  <style>\n",
              "    .colab-df-container {\n",
              "      display:flex;\n",
              "      flex-wrap:wrap;\n",
              "      gap: 12px;\n",
              "    }\n",
              "\n",
              "    .colab-df-convert {\n",
              "      background-color: #E8F0FE;\n",
              "      border: none;\n",
              "      border-radius: 50%;\n",
              "      cursor: pointer;\n",
              "      display: none;\n",
              "      fill: #1967D2;\n",
              "      height: 32px;\n",
              "      padding: 0 0 0 0;\n",
              "      width: 32px;\n",
              "    }\n",
              "\n",
              "    .colab-df-convert:hover {\n",
              "      background-color: #E2EBFA;\n",
              "      box-shadow: 0px 1px 2px rgba(60, 64, 67, 0.3), 0px 1px 3px 1px rgba(60, 64, 67, 0.15);\n",
              "      fill: #174EA6;\n",
              "    }\n",
              "\n",
              "    [theme=dark] .colab-df-convert {\n",
              "      background-color: #3B4455;\n",
              "      fill: #D2E3FC;\n",
              "    }\n",
              "\n",
              "    [theme=dark] .colab-df-convert:hover {\n",
              "      background-color: #434B5C;\n",
              "      box-shadow: 0px 1px 3px 1px rgba(0, 0, 0, 0.15);\n",
              "      filter: drop-shadow(0px 1px 2px rgba(0, 0, 0, 0.3));\n",
              "      fill: #FFFFFF;\n",
              "    }\n",
              "  </style>\n",
              "\n",
              "      <script>\n",
              "        const buttonEl =\n",
              "          document.querySelector('#df-18d195ac-db01-4529-9055-a28c365af853 button.colab-df-convert');\n",
              "        buttonEl.style.display =\n",
              "          google.colab.kernel.accessAllowed ? 'block' : 'none';\n",
              "\n",
              "        async function convertToInteractive(key) {\n",
              "          const element = document.querySelector('#df-18d195ac-db01-4529-9055-a28c365af853');\n",
              "          const dataTable =\n",
              "            await google.colab.kernel.invokeFunction('convertToInteractive',\n",
              "                                                     [key], {});\n",
              "          if (!dataTable) return;\n",
              "\n",
              "          const docLinkHtml = 'Like what you see? Visit the ' +\n",
              "            '<a target=\"_blank\" href=https://colab.research.google.com/notebooks/data_table.ipynb>data table notebook</a>'\n",
              "            + ' to learn more about interactive tables.';\n",
              "          element.innerHTML = '';\n",
              "          dataTable['output_type'] = 'display_data';\n",
              "          await google.colab.output.renderOutput(dataTable, element);\n",
              "          const docLink = document.createElement('div');\n",
              "          docLink.innerHTML = docLinkHtml;\n",
              "          element.appendChild(docLink);\n",
              "        }\n",
              "      </script>\n",
              "    </div>\n",
              "  </div>\n",
              "  "
            ]
          },
          "metadata": {},
          "execution_count": 31
        }
      ]
    },
    {
      "cell_type": "code",
      "source": [
        "X = df[['colonies_number']]"
      ],
      "metadata": {
        "id": "15v0tVXHLpKx"
      },
      "execution_count": 32,
      "outputs": []
    },
    {
      "cell_type": "code",
      "source": [
        "y = df['production']"
      ],
      "metadata": {
        "id": "_Ej_uKJLLpi6"
      },
      "execution_count": 33,
      "outputs": []
    },
    {
      "cell_type": "markdown",
      "source": [
        "\n",
        "*Multivariate Linear Regression*"
      ],
      "metadata": {
        "id": "m9ZToSrCSKlU"
      }
    },
    {
      "cell_type": "code",
      "source": [
        "model = LinearRegression()"
      ],
      "metadata": {
        "id": "kzmI5Wvf4otw"
      },
      "execution_count": 34,
      "outputs": []
    },
    {
      "cell_type": "code",
      "source": [
        "model.fit(X,y)"
      ],
      "metadata": {
        "colab": {
          "base_uri": "https://localhost:8080/"
        },
        "id": "zrzCjhMvN7bW",
        "outputId": "34433656-fb16-4170-b686-106591c80dee"
      },
      "execution_count": 35,
      "outputs": [
        {
          "output_type": "execute_result",
          "data": {
            "text/plain": [
              "LinearRegression()"
            ]
          },
          "metadata": {},
          "execution_count": 35
        }
      ]
    },
    {
      "cell_type": "markdown",
      "source": [
        " \n",
        "free expression θ0"
      ],
      "metadata": {
        "id": "UwRZMb3bPd35"
      }
    },
    {
      "cell_type": "code",
      "source": [
        "model.intercept_"
      ],
      "metadata": {
        "colab": {
          "base_uri": "https://localhost:8080/"
        },
        "id": "ZgY4v314OEkR",
        "outputId": "6e31ac00-31f0-4f3c-e931-e0508daab53d"
      },
      "execution_count": 36,
      "outputs": [
        {
          "output_type": "execute_result",
          "data": {
            "text/plain": [
              "90424.59152508387"
            ]
          },
          "metadata": {},
          "execution_count": 36
        }
      ]
    },
    {
      "cell_type": "markdown",
      "source": [
        "factor at x"
      ],
      "metadata": {
        "id": "eta4LCJBPkkl"
      }
    },
    {
      "cell_type": "code",
      "source": [
        "model.coef_"
      ],
      "metadata": {
        "colab": {
          "base_uri": "https://localhost:8080/"
        },
        "id": "tg1XW21TOFtj",
        "outputId": "0535202b-ffe7-4934-c8cc-481cb80ba38d"
      },
      "execution_count": 37,
      "outputs": [
        {
          "output_type": "execute_result",
          "data": {
            "text/plain": [
              "array([44.21696061])"
            ]
          },
          "metadata": {},
          "execution_count": 37
        }
      ]
    },
    {
      "cell_type": "code",
      "source": [
        "model.coef_[0]"
      ],
      "metadata": {
        "colab": {
          "base_uri": "https://localhost:8080/"
        },
        "id": "zKxK8RUmOQBr",
        "outputId": "c6ff0e54-20d3-43d1-8a2e-57c37c1cb573"
      },
      "execution_count": 38,
      "outputs": [
        {
          "output_type": "execute_result",
          "data": {
            "text/plain": [
              "44.21696060629328"
            ]
          },
          "metadata": {},
          "execution_count": 38
        }
      ]
    },
    {
      "cell_type": "code",
      "source": [
        "X_temp, X_test, y_temp, y_test = train_test_split(X, y, test_size =0.2, random_state = 333)"
      ],
      "metadata": {
        "id": "SU802DU6PIRE"
      },
      "execution_count": 39,
      "outputs": []
    },
    {
      "cell_type": "code",
      "source": [
        "X_train, X_val, y_train, y_val = train_test_split(X_temp, y_temp, test_size=0.25, random_state=23)"
      ],
      "metadata": {
        "id": "ibZvPQV7PKN1"
      },
      "execution_count": 40,
      "outputs": []
    },
    {
      "cell_type": "code",
      "source": [
        "print(X_train.shape)\n",
        "print(X_test.shape)\n",
        "print(X_val.shape)"
      ],
      "metadata": {
        "colab": {
          "base_uri": "https://localhost:8080/"
        },
        "id": "TrhMJPmjPLuF",
        "outputId": "4df8b903-a3f1-4567-baf1-bea9c304bc7a"
      },
      "execution_count": 41,
      "outputs": [
        {
          "output_type": "stream",
          "name": "stdout",
          "text": [
            "(669, 1)\n",
            "(223, 1)\n",
            "(223, 1)\n"
          ]
        }
      ]
    },
    {
      "cell_type": "code",
      "source": [
        "model.fit(X_train, y_train)"
      ],
      "metadata": {
        "colab": {
          "base_uri": "https://localhost:8080/"
        },
        "id": "B9mo0TuAPQFs",
        "outputId": "e2017623-8e70-4d4a-eee8-b332783fdfb0"
      },
      "execution_count": 42,
      "outputs": [
        {
          "output_type": "execute_result",
          "data": {
            "text/plain": [
              "LinearRegression()"
            ]
          },
          "metadata": {},
          "execution_count": 42
        }
      ]
    },
    {
      "cell_type": "code",
      "source": [
        "y_pred_train = model.predict(X_train)"
      ],
      "metadata": {
        "id": "o9nfrNqgPSQ7"
      },
      "execution_count": 43,
      "outputs": []
    },
    {
      "cell_type": "markdown",
      "source": [
        "\n",
        "# **Metrics**"
      ],
      "metadata": {
        "id": "6G5ChxAkWotK"
      }
    },
    {
      "cell_type": "markdown",
      "source": [
        "## R2"
      ],
      "metadata": {
        "id": "LneXjyfytwkd"
      }
    },
    {
      "cell_type": "code",
      "source": [
        "r2_train = r2_score(y_train, y_pred_train )\n",
        "r2_train"
      ],
      "metadata": {
        "colab": {
          "base_uri": "https://localhost:8080/"
        },
        "id": "eSoUhVQKWqHz",
        "outputId": "f7d0f860-fbaf-4ccf-ba29-6c5c5893960e"
      },
      "execution_count": 44,
      "outputs": [
        {
          "output_type": "execute_result",
          "data": {
            "text/plain": [
              "0.5406786534385772"
            ]
          },
          "metadata": {},
          "execution_count": 44
        }
      ]
    },
    {
      "cell_type": "code",
      "source": [
        "y_pred_val = model.predict(X_val)\n",
        "y_pred_val"
      ],
      "metadata": {
        "colab": {
          "base_uri": "https://localhost:8080/"
        },
        "id": "fMIKsci2Wr81",
        "outputId": "40d4de2e-e719-43ca-d0fe-dcbf1d58fb87"
      },
      "execution_count": 45,
      "outputs": [
        {
          "output_type": "execute_result",
          "data": {
            "text/plain": [
              "array([ 4185885.20633773,   505947.02067491,   895587.53445097,\n",
              "        2021215.6853596 ,   592533.80151404,   376066.84941622,\n",
              "        2670616.54165304,   592533.80151404,   635827.1919336 ,\n",
              "        1415108.21948573,   549240.41109447, 11199414.45430687,\n",
              "         332773.45899666,  4488938.93927467,   376066.84941622,\n",
              "        2410856.19913566,   419360.23983579,  2324269.41829654,\n",
              "         722413.97277272,   376066.84941622,   332773.45899666,\n",
              "       21373361.20290408,  7043248.97402886,   462653.63025535,\n",
              "        5311513.35724636,  1328521.4386466 ,  9467678.83752436,\n",
              "         895587.53445097,   376066.84941622,   549240.41109447,\n",
              "         549240.41109447,   289480.0685771 ,   765707.36319229,\n",
              "        4748699.28179204,  4142591.81591817,  3276724.00752692,\n",
              "         419360.23983579,   982174.3152901 ,   549240.41109447,\n",
              "        1328521.4386466 ,  1891335.51410091,   809000.75361185,\n",
              "        4835286.06263117,   852294.14403141,   419360.23983579,\n",
              "         419360.23983579,  1415108.21948573,  5614567.0901833 ,\n",
              "       10550013.59801343,   419360.23983579,   462653.63025535,\n",
              "         376066.84941622,  3190137.22668779,   419360.23983579,\n",
              "        1848042.12368135,  1155347.87696835,  4921872.84347029,\n",
              "        3796244.69256167,   462653.63025535,  6004207.60395936,\n",
              "        1068761.09612922,   462653.63025535,   765707.36319229,\n",
              "         332773.45899666,   505947.02067491,   679120.58235316,\n",
              "        1631575.17158354,   462653.63025535,   505947.02067491,\n",
              "         549240.41109447,  2064509.07577916,   765707.36319229,\n",
              "        1848042.12368135,  6047500.99437892,   765707.36319229,\n",
              "         852294.14403141,  6437141.50815498,  2670616.54165304,\n",
              "        1848042.12368135,   505947.02067491,  1112054.48654879,\n",
              "        9467678.83752436,   332773.45899666,  2107802.46619873,\n",
              "        2843790.10333129,   549240.41109447,   895587.53445097,\n",
              "         635827.1919336 ,   592533.80151404,  3276724.00752692,\n",
              "         895587.53445097,   549240.41109447,   765707.36319229,\n",
              "         462653.63025535,  8471930.85787443,   289480.0685771 ,\n",
              "       10982947.50220905,  1848042.12368135,  7086542.36444842,\n",
              "        1415108.21948573,  5787740.65186154,  5181633.18598767,\n",
              "         679120.58235316,  1674868.5620031 ,  1631575.17158354,\n",
              "        3233430.61710735,   332773.45899666,   679120.58235316,\n",
              "        2627323.15123348,   592533.80151404,  1112054.48654879,\n",
              "         549240.41109447,  3320017.39794648,   505947.02067491,\n",
              "        1761455.34284223,  1458401.60990529,   505947.02067491,\n",
              "       19208691.68192594,   938880.92487054,  1761455.34284223,\n",
              "        1891335.51410091,  1155347.87696835,  1371814.82906616,\n",
              "        3146843.83626823,   376066.84941622,   679120.58235316,\n",
              "         376066.84941622,   592533.80151404,  3449897.56920517,\n",
              "         809000.75361185,  2410856.19913566,   765707.36319229,\n",
              "       10766480.55011124,  5874327.43270067,  1501695.00032485,\n",
              "         722413.97277272,  3493190.95962473,  1804748.73326179,\n",
              "        3882831.47340079,   505947.02067491,   549240.41109447,\n",
              "        3146843.83626823,   679120.58235316,  1155347.87696835,\n",
              "         592533.80151404,   809000.75361185,  1198641.26738791,\n",
              "        1198641.26738791,  1458401.60990529,  2151095.85661829,\n",
              "         852294.14403141,  4229178.59675729,   505947.02067491,\n",
              "         809000.75361185,  1891335.51410091,  5181633.18598767,\n",
              "         852294.14403141,   505947.02067491,  1588281.78116398,\n",
              "         419360.23983579,  1068761.09612922,  3406604.1787856 ,\n",
              "       14446418.73577406,   852294.14403141,  5527980.30934417,\n",
              "        1241934.65780747,  1458401.60990529,   722413.97277272,\n",
              "         679120.58235316,  1977922.29494004,   549240.41109447,\n",
              "        4359058.76801598,   419360.23983579,   462653.63025535,\n",
              "         722413.97277272,   549240.41109447,   809000.75361185,\n",
              "         982174.3152901 ,   592533.80151404,   332773.45899666,\n",
              "        2584029.76081391,   376066.84941622,   635827.1919336 ,\n",
              "         419360.23983579,   419360.23983579,   549240.41109447,\n",
              "        1415108.21948573,  2713909.9320726 ,   376066.84941622,\n",
              "         722413.97277272,  2757203.32249217, 19208691.68192594,\n",
              "         852294.14403141,   592533.80151404, 23970964.62807783,\n",
              "         722413.97277272,   462653.63025535,  1371814.82906616,\n",
              "        1241934.65780747,  2151095.85661829,   852294.14403141,\n",
              "       20074559.4903172 ,   505947.02067491,  1848042.12368135,\n",
              "        3406604.1787856 ,  2973670.27458998,   332773.45899666,\n",
              "         549240.41109447,   549240.41109447,   505947.02067491,\n",
              "         635827.1919336 ,   376066.84941622,  1544988.39074441,\n",
              "         982174.3152901 ,   809000.75361185,  4012711.64465948,\n",
              "        1544988.39074441, 17044022.16094782,  3579777.74046385,\n",
              "        1891335.51410091,  1848042.12368135,   419360.23983579,\n",
              "         505947.02067491])"
            ]
          },
          "metadata": {},
          "execution_count": 45
        }
      ]
    },
    {
      "cell_type": "code",
      "source": [
        "r2_val = r2_score(y_val, y_pred_val)\n",
        "r2_val"
      ],
      "metadata": {
        "colab": {
          "base_uri": "https://localhost:8080/"
        },
        "id": "_OwJzGXAWxCz",
        "outputId": "3f324800-1a9c-4711-c817-c0b4ccf43427"
      },
      "execution_count": 46,
      "outputs": [
        {
          "output_type": "execute_result",
          "data": {
            "text/plain": [
              "0.46047649318239625"
            ]
          },
          "metadata": {},
          "execution_count": 46
        }
      ]
    },
    {
      "cell_type": "markdown",
      "source": [
        "##**MAE**"
      ],
      "metadata": {
        "id": "KkIlzeuotu7P"
      }
    },
    {
      "cell_type": "code",
      "source": [
        "y_pred_train\n"
      ],
      "metadata": {
        "colab": {
          "base_uri": "https://localhost:8080/"
        },
        "id": "_f7fHQScWz_K",
        "outputId": "7266a9ee-57b2-43ac-92db-9d1ab8f14142"
      },
      "execution_count": 47,
      "outputs": [
        {
          "output_type": "execute_result",
          "data": {
            "text/plain": [
              "array([ 4532232.32969423,  1415108.21948573,   592533.80151404,\n",
              "        2670616.54165304,  4359058.76801598,   376066.84941622,\n",
              "         462653.63025535, 14662885.68787187,   809000.75361185,\n",
              "        1674868.5620031 ,   938880.92487054,  5441393.52850504,\n",
              "       13580550.92738281,  1544988.39074441,   462653.63025535,\n",
              "         982174.3152901 ,  1155347.87696835,  3320017.39794648,\n",
              "         852294.14403141,   765707.36319229,   765707.36319229,\n",
              "         505947.02067491, 14013484.83157844,   246186.67815754,\n",
              "        2540736.37039435,  9034744.93332874,   852294.14403141,\n",
              "       10550013.59801343,  1285228.04822704,   549240.41109447,\n",
              "        6956662.19318973,   938880.92487054,   895587.53445097,\n",
              "         549240.41109447,   505947.02067491,  1718161.95242266,\n",
              "        3926124.86382035,  3146843.83626823,   549240.41109447,\n",
              "         289480.0685771 , 14879352.63996969,   505947.02067491,\n",
              "         635827.1919336 ,  1198641.26738791,  1328521.4386466 ,\n",
              "        4705405.89137248,   376066.84941622,  6480434.89857455,\n",
              "        1112054.48654879,  2107802.46619873,  1112054.48654879,\n",
              "        6437141.50815498,   462653.63025535,   419360.23983579,\n",
              "         289480.0685771 ,  2540736.37039435,   419360.23983579,\n",
              "         938880.92487054,   376066.84941622,  1112054.48654879,\n",
              "        4359058.76801598,  2237682.63745741,   765707.36319229,\n",
              "        5874327.43270067,   592533.80151404,  1025467.70570966,\n",
              "        7649356.43990274,  2540736.37039435,   809000.75361185,\n",
              "        1674868.5620031 ,  1241934.65780747,   289480.0685771 ,\n",
              "        2973670.27458998,   765707.36319229,   982174.3152901 ,\n",
              "         462653.63025535,   592533.80151404,   635827.1919336 ,\n",
              "         376066.84941622,  1155347.87696835,   419360.23983579,\n",
              "         419360.23983579,  2280976.02787698, 12714683.11899156,\n",
              "        5354806.74766592,  3623071.13088342,   462653.63025535,\n",
              "         852294.14403141,  1285228.04822704,  1804748.73326179,\n",
              "       17476956.06514344,   549240.41109447,  8818277.98123093,\n",
              "        4012711.64465948,  2410856.19913566,   505947.02067491,\n",
              "         462653.63025535,   679120.58235316,  2454149.58955523,\n",
              "        1025467.70570966,  1198641.26738791,   462653.63025535,\n",
              "        4315765.37759642,  3276724.00752692,   635827.1919336 ,\n",
              "         809000.75361185,   549240.41109447,  9900612.74171999,\n",
              "         289480.0685771 ,   419360.23983579,   809000.75361185,\n",
              "       11848815.3106003 ,  1371814.82906616,   765707.36319229,\n",
              "        1198641.26738791,  1458401.60990529, 10030492.91297868,\n",
              "        4921872.84347029,   852294.14403141,   679120.58235316,\n",
              "         635827.1919336 ,  1241934.65780747,   592533.80151404,\n",
              "        2713909.9320726 ,  1934628.90452048,  1112054.48654879,\n",
              "       12281749.21479593,   635827.1919336 ,   852294.14403141,\n",
              "         592533.80151404,  3623071.13088342,   462653.63025535,\n",
              "         679120.58235316,   895587.53445097,   679120.58235316,\n",
              "        1155347.87696835,  6437141.50815498, 11415881.40640468,\n",
              "        2887083.49375085,   549240.41109447,  6653608.4602528 ,\n",
              "         809000.75361185,  2367562.8087161 , 18342823.87353469,\n",
              "        6480434.89857455, 10550013.59801343,   419360.23983579,\n",
              "         852294.14403141,   852294.14403141,   549240.41109447,\n",
              "         289480.0685771 ,  1241934.65780747,   419360.23983579,\n",
              "        1328521.4386466 ,   852294.14403141, 18559290.82563251,\n",
              "        1761455.34284223,  5354806.74766592,   419360.23983579,\n",
              "         549240.41109447,   765707.36319229,   765707.36319229,\n",
              "        1718161.95242266,   765707.36319229,   376066.84941622,\n",
              "        1848042.12368135,   938880.92487054,   419360.23983579,\n",
              "         505947.02067491,  1588281.78116398, 10333546.64591562,\n",
              "        9034744.93332874,   376066.84941622,  2324269.41829654,\n",
              "        1328521.4386466 ,  2064509.07577916,  1285228.04822704,\n",
              "        1328521.4386466 ,   635827.1919336 ,   462653.63025535,\n",
              "        1025467.70570966,  2107802.46619873,   505947.02067491,\n",
              "         462653.63025535, 14013484.83157844,   895587.53445097,\n",
              "        1804748.73326179,   635827.1919336 ,   722413.97277272,\n",
              "        6956662.19318973,   895587.53445097,  2670616.54165304,\n",
              "        5441393.52850504,  2757203.32249217,   679120.58235316,\n",
              "         635827.1919336 ,   592533.80151404,  4705405.89137248,\n",
              "        1804748.73326179,   852294.14403141,  9684145.78962218,\n",
              "        1934628.90452048,  1891335.51410091,  1804748.73326179,\n",
              "         462653.63025535,   462653.63025535,  3926124.86382035,\n",
              "       17476956.06514344,   332773.45899666,  1285228.04822704,\n",
              "        1112054.48654879,  4488938.93927467,   592533.80151404,\n",
              "         722413.97277272,   505947.02067491,  2973670.27458998,\n",
              "        5614567.0901833 , 17044022.16094782,   462653.63025535,\n",
              "         809000.75361185,   419360.23983579,   635827.1919336 ,\n",
              "         376066.84941622,   592533.80151404,  1977922.29494004,\n",
              "         462653.63025535,  2107802.46619873,  1155347.87696835,\n",
              "         419360.23983579,  1761455.34284223,  2627323.15123348,\n",
              "         592533.80151404,   549240.41109447,  2410856.19913566,\n",
              "        2280976.02787698,  4315765.37759642,  1328521.4386466 ,\n",
              "         635827.1919336 ,  1761455.34284223,   505947.02067491,\n",
              "         549240.41109447,  2237682.63745741,   809000.75361185,\n",
              "        1934628.90452048, 22455695.96339314,  1198641.26738791,\n",
              "        1241934.65780747,  2021215.6853596 ,  4229178.59675729,\n",
              "        1718161.95242266,   332773.45899666,  1588281.78116398,\n",
              "        1718161.95242266,   592533.80151404,   419360.23983579,\n",
              "         679120.58235316,   505947.02067491,   765707.36319229,\n",
              "        3060257.0554291 ,   505947.02067491,  1891335.51410091,\n",
              "         635827.1919336 ,   592533.80151404,  1804748.73326179,\n",
              "        2367562.8087161 ,   376066.84941622,  2930376.88417042,\n",
              "        4748699.28179204,  2324269.41829654,  1804748.73326179,\n",
              "         462653.63025535,  1241934.65780747,  2324269.41829654,\n",
              "        2930376.88417042,  1588281.78116398,  3233430.61710735,\n",
              "        1544988.39074441,  2757203.32249217,  2064509.07577916,\n",
              "         505947.02067491,  8818277.98123093, 10550013.59801343,\n",
              "         549240.41109447, 19641625.58612157,   505947.02067491,\n",
              "        7303009.31654624,   332773.45899666,   679120.58235316,\n",
              "        1068761.09612922,   462653.63025535,  2497442.97997479,\n",
              "        2540736.37039435,  1371814.82906616,   376066.84941622,\n",
              "        1588281.78116398,   592533.80151404, 11632348.35850249,\n",
              "        1415108.21948573,   462653.63025535,  1804748.73326179,\n",
              "         462653.63025535,  9684145.78962218,  3709657.91172254,\n",
              "        1241934.65780747,   462653.63025535,   809000.75361185,\n",
              "        3796244.69256167,   505947.02067491,  1025467.70570966,\n",
              "         462653.63025535,   722413.97277272,   289480.0685771 ,\n",
              "         332773.45899666,  1415108.21948573,  1285228.04822704,\n",
              "        1155347.87696835,  8515224.24829399,   549240.41109447,\n",
              "         635827.1919336 ,  3536484.35004429,   462653.63025535,\n",
              "         419360.23983579,  2410856.19913566,  5960914.2135398 ,\n",
              "         462653.63025535,  2800496.71291173,  2194389.24703785,\n",
              "         505947.02067491,  1891335.51410091,  4835286.06263117,\n",
              "        2064509.07577916,   419360.23983579,   419360.23983579,\n",
              "        3320017.39794648,  4272471.98717686,   462653.63025535,\n",
              "         938880.92487054,  3493190.95962473, 19858092.53821938,\n",
              "        2410856.19913566,   505947.02067491,  2410856.19913566,\n",
              "        2324269.41829654,  1674868.5620031 ,  2021215.6853596 ,\n",
              "        3536484.35004429,  2367562.8087161 ,   505947.02067491,\n",
              "        6220674.55605717,  1848042.12368135, 20940427.29870845,\n",
              "       16611088.25675219, 22672162.91549095,   462653.63025535,\n",
              "         289480.0685771 ,  5138339.79556811,   809000.75361185,\n",
              "         549240.41109447,   592533.80151404,  5224926.57640723,\n",
              "        1112054.48654879,   462653.63025535,  1891335.51410091,\n",
              "        1155347.87696835,  2930376.88417042,   505947.02067491,\n",
              "        2973670.27458998, 10766480.55011124,  1674868.5620031 ,\n",
              "         332773.45899666,   505947.02067491,  4488938.93927467,\n",
              "         462653.63025535, 16178154.35255656,  7952410.17283967,\n",
              "        1848042.12368135,  4402352.15843554,   809000.75361185,\n",
              "         765707.36319229,  2324269.41829654,   809000.75361185,\n",
              "         895587.53445097,  3146843.83626823,   462653.63025535,\n",
              "        1934628.90452048,  2670616.54165304,  2973670.27458998,\n",
              "         419360.23983579,  5960914.2135398 ,  1025467.70570966,\n",
              "        4488938.93927467,  4488938.93927467,   332773.45899666,\n",
              "         852294.14403141, 21589828.15500189,   635827.1919336 ,\n",
              "        2410856.19913566,   549240.41109447,   462653.63025535,\n",
              "        2540736.37039435,   332773.45899666,   679120.58235316,\n",
              "        3752951.3021421 ,  3233430.61710735,  2237682.63745741,\n",
              "        3060257.0554291 ,  3406604.1787856 ,  2757203.32249217,\n",
              "         376066.84941622,  3796244.69256167,   376066.84941622,\n",
              "        3190137.22668779,  6567021.67941367,  1155347.87696835,\n",
              "         592533.80151404,  1285228.04822704,   982174.3152901 ,\n",
              "         462653.63025535,   505947.02067491,   505947.02067491,\n",
              "        6653608.4602528 ,  1761455.34284223,   765707.36319229,\n",
              "        5571273.69976373,   332773.45899666, 12065282.26269812,\n",
              "         505947.02067491,  2107802.46619873,   332773.45899666,\n",
              "         419360.23983579,   549240.41109447,   462653.63025535,\n",
              "        4488938.93927467, 10550013.59801343, 17909889.96933907,\n",
              "        1241934.65780747,   765707.36319229,   332773.45899666,\n",
              "         635827.1919336 , 18342823.87353469,   549240.41109447,\n",
              "       10766480.55011124,  5571273.69976373,  7086542.36444842,\n",
              "         332773.45899666,  3363310.78836604,  4315765.37759642,\n",
              "        1544988.39074441,  2194389.24703785,  3363310.78836604,\n",
              "        3363310.78836604,  3320017.39794648,  2843790.10333129,\n",
              "         462653.63025535,  2324269.41829654,  2151095.85661829,\n",
              "        1415108.21948573,   592533.80151404,  1241934.65780747,\n",
              "        2021215.6853596 ,  2757203.32249217,  8515224.24829399,\n",
              "         462653.63025535,  1501695.00032485,  5354806.74766592,\n",
              "         376066.84941622,  1544988.39074441,   679120.58235316,\n",
              "         852294.14403141,  6437141.50815498,   592533.80151404,\n",
              "        1761455.34284223, 15528753.49626312, 20940427.29870845,\n",
              "         462653.63025535,  1501695.00032485,  2887083.49375085,\n",
              "       15312286.54416531,  2757203.32249217, 10333546.64591562,\n",
              "         419360.23983579,   549240.41109447,  9684145.78962218,\n",
              "        3363310.78836604,  3666364.52130298, 16178154.35255656,\n",
              "        4272471.98717686, 22022762.05919751,   462653.63025535,\n",
              "         376066.84941622,  1285228.04822704,   419360.23983579,\n",
              "        4142591.81591817,  9467678.83752436,  1025467.70570966,\n",
              "         419360.23983579,   505947.02067491,  1804748.73326179,\n",
              "        5354806.74766592,  4012711.64465948,  2887083.49375085,\n",
              "        1241934.65780747,  3016963.66500954,  1718161.95242266,\n",
              "        5224926.57640723,  2540736.37039435,  4272471.98717686,\n",
              "         635827.1919336 ,   549240.41109447,   592533.80151404,\n",
              "         505947.02067491,   809000.75361185,  6653608.4602528 ,\n",
              "         549240.41109447,  1458401.60990529,  1198641.26738791,\n",
              "        2930376.88417042,   895587.53445097,   462653.63025535,\n",
              "         376066.84941622,   462653.63025535,  2670616.54165304,\n",
              "         722413.97277272,   722413.97277272,  1328521.4386466 ,\n",
              "         462653.63025535,   592533.80151404,  3320017.39794648,\n",
              "        1891335.51410091,  2324269.41829654, 14879352.63996969,\n",
              "        5354806.74766592,   895587.53445097, 15745220.44836094,\n",
              "        2151095.85661829,   592533.80151404,   419360.23983579,\n",
              "        2367562.8087161 ,  1674868.5620031 ,   419360.23983579,\n",
              "        1891335.51410091,   722413.97277272,   462653.63025535,\n",
              "         679120.58235316,  4056005.03507904,   592533.80151404,\n",
              "       14662885.68787187,   635827.1919336 ,   852294.14403141,\n",
              "        2713909.9320726 ,   635827.1919336 ,  1804748.73326179,\n",
              "        4099298.4254986 ,  2324269.41829654,  2757203.32249217,\n",
              "        7086542.36444842,   592533.80151404,  1891335.51410091,\n",
              "         419360.23983579, 21373361.20290408,   895587.53445097,\n",
              "        1501695.00032485, 12281749.21479593,  3190137.22668779,\n",
              "        1241934.65780747,  5354806.74766592,   895587.53445097,\n",
              "        4142591.81591817,  2757203.32249217, 21156894.25080626,\n",
              "         549240.41109447,  1804748.73326179,  1934628.90452048,\n",
              "         462653.63025535,   376066.84941622,   852294.14403141,\n",
              "         592533.80151404,  2021215.6853596 , 10982947.50220905,\n",
              "        2757203.32249217,  2843790.10333129,   765707.36319229,\n",
              "         462653.63025535,  2194389.24703785,  2713909.9320726 ,\n",
              "         462653.63025535,  5441393.52850504,  4359058.76801598,\n",
              "        1848042.12368135,   852294.14403141,  2930376.88417042,\n",
              "       11632348.35850249,  9684145.78962218,   462653.63025535,\n",
              "        1977922.29494004,  1241934.65780747,  2497442.97997479,\n",
              "         852294.14403141,  1891335.51410091,  7043248.97402886,\n",
              "        4791992.67221161,  2930376.88417042,  1458401.60990529,\n",
              "        3233430.61710735, 11199414.45430687,   419360.23983579,\n",
              "        9900612.74171999,   679120.58235316,  3233430.61710735,\n",
              "        1848042.12368135,   938880.92487054,  7173129.14528755,\n",
              "         419360.23983579,  2627323.15123348,   462653.63025535,\n",
              "        2584029.76081391,  2627323.15123348,  2540736.37039435,\n",
              "         549240.41109447,  4056005.03507904,   809000.75361185,\n",
              "         462653.63025535,  3060257.0554291 ,   419360.23983579,\n",
              "        1155347.87696835,  6653608.4602528 , 10117079.6938178 ,\n",
              "        1328521.4386466 ,  3709657.91172254,  1458401.60990529,\n",
              "         809000.75361185,   376066.84941622,  2713909.9320726 ,\n",
              "        2757203.32249217,   376066.84941622,  3103550.44584867,\n",
              "         462653.63025535,   592533.80151404,  5787740.65186154,\n",
              "        1674868.5620031 ,  5095046.40514854,  1198641.26738791,\n",
              "         549240.41109447,   289480.0685771 ,  1544988.39074441,\n",
              "         592533.80151404,   809000.75361185,   462653.63025535,\n",
              "        3276724.00752692,   419360.23983579,   419360.23983579,\n",
              "        4488938.93927467,  2627323.15123348,  1674868.5620031 ,\n",
              "        1112054.48654879,   376066.84941622,   679120.58235316,\n",
              "        1977922.29494004,   852294.14403141,   895587.53445097,\n",
              "        5787740.65186154,  6004207.60395936,  1198641.26738791,\n",
              "        1241934.65780747,   505947.02067491,  3839538.08298123,\n",
              "        1155347.87696835,   938880.92487054, 10117079.6938178 ])"
            ]
          },
          "metadata": {},
          "execution_count": 47
        }
      ]
    },
    {
      "cell_type": "code",
      "source": [
        "mea_train = mean_absolute_error(y_train, y_pred_train)\n",
        "mea_train"
      ],
      "metadata": {
        "colab": {
          "base_uri": "https://localhost:8080/"
        },
        "id": "TPxEsXR52c5M",
        "outputId": "4ed15a86-7bdf-43fa-8460-4f815db4fe35"
      },
      "execution_count": 48,
      "outputs": [
        {
          "output_type": "execute_result",
          "data": {
            "text/plain": [
              "1917388.753526405"
            ]
          },
          "metadata": {},
          "execution_count": 48
        }
      ]
    },
    {
      "cell_type": "code",
      "source": [
        "mae_val = mean_absolute_error(y_val, y_pred_val)\n",
        "mae_val"
      ],
      "metadata": {
        "colab": {
          "base_uri": "https://localhost:8080/"
        },
        "id": "bjtt5cyZ2fSX",
        "outputId": "2ecd4cf5-0af4-4beb-85ac-1908b3d092f2"
      },
      "execution_count": 49,
      "outputs": [
        {
          "output_type": "execute_result",
          "data": {
            "text/plain": [
              "1564903.578308934"
            ]
          },
          "metadata": {},
          "execution_count": 49
        }
      ]
    },
    {
      "cell_type": "markdown",
      "source": [
        "## MAPE"
      ],
      "metadata": {
        "id": "PxZPLS-G2glw"
      }
    },
    {
      "cell_type": "code",
      "source": [
        "mse_train = mean_squared_error(y_train, y_pred_train)\n",
        "mse_train"
      ],
      "metadata": {
        "colab": {
          "base_uri": "https://localhost:8080/"
        },
        "id": "q8ZkW8qy2jPN",
        "outputId": "8f3028be-74c1-491c-9d7f-a994511748af"
      },
      "execution_count": 50,
      "outputs": [
        {
          "output_type": "execute_result",
          "data": {
            "text/plain": [
              "14232640939327.277"
            ]
          },
          "metadata": {},
          "execution_count": 50
        }
      ]
    },
    {
      "cell_type": "code",
      "source": [
        "mse_val = mean_squared_error(y_val, y_pred_val)\n",
        "mse_val"
      ],
      "metadata": {
        "colab": {
          "base_uri": "https://localhost:8080/"
        },
        "id": "xXjnDaZW2mB5",
        "outputId": "8028fc8f-933f-4b2f-8d8e-ea96ebdc080e"
      },
      "execution_count": 51,
      "outputs": [
        {
          "output_type": "execute_result",
          "data": {
            "text/plain": [
              "10869544889115.314"
            ]
          },
          "metadata": {},
          "execution_count": 51
        }
      ]
    },
    {
      "cell_type": "markdown",
      "source": [
        "##RMSE"
      ],
      "metadata": {
        "id": "K4MT_Unc2nsV"
      }
    },
    {
      "cell_type": "code",
      "source": [
        "rmse_train = mean_squared_error(y_train, y_pred_train, squared=False)\n",
        "rmse_train"
      ],
      "metadata": {
        "colab": {
          "base_uri": "https://localhost:8080/"
        },
        "id": "-aIWGPhh2pJu",
        "outputId": "144eaf38-83f0-4ff7-efa1-6aafcb6bc6c2"
      },
      "execution_count": 52,
      "outputs": [
        {
          "output_type": "execute_result",
          "data": {
            "text/plain": [
              "3772617.253224514"
            ]
          },
          "metadata": {},
          "execution_count": 52
        }
      ]
    },
    {
      "cell_type": "code",
      "source": [
        "rmse_val = mean_squared_error(y_val, y_pred_val, squared=False)\n",
        "rmse_val"
      ],
      "metadata": {
        "colab": {
          "base_uri": "https://localhost:8080/"
        },
        "id": "hXoIPEtD2qtX",
        "outputId": "34aa3267-3006-413f-81fe-cfbee283142a"
      },
      "execution_count": 53,
      "outputs": [
        {
          "output_type": "execute_result",
          "data": {
            "text/plain": [
              "3296899.2840417973"
            ]
          },
          "metadata": {},
          "execution_count": 53
        }
      ]
    },
    {
      "cell_type": "markdown",
      "source": [
        "##Max error\n"
      ],
      "metadata": {
        "id": "Z1_rj_WU2vaf"
      }
    },
    {
      "cell_type": "code",
      "source": [
        "max_err_train = max_error(y_train, y_pred_train)\n",
        "max_err_train "
      ],
      "metadata": {
        "colab": {
          "base_uri": "https://localhost:8080/"
        },
        "id": "uORsFDN92wQc",
        "outputId": "0dc2af6e-134d-4016-d495-f48c485d9d59"
      },
      "execution_count": 54,
      "outputs": [
        {
          "output_type": "execute_result",
          "data": {
            "text/plain": [
              "20717176.126465306"
            ]
          },
          "metadata": {},
          "execution_count": 54
        }
      ]
    },
    {
      "cell_type": "code",
      "source": [
        "max_err_val = max_error(y_val, y_pred_val)\n",
        "max_err_val"
      ],
      "metadata": {
        "colab": {
          "base_uri": "https://localhost:8080/"
        },
        "id": "JidNSGBx2yCO",
        "outputId": "05be24da-84e8-4151-c71a-076e9941d566"
      },
      "execution_count": 55,
      "outputs": [
        {
          "output_type": "execute_result",
          "data": {
            "text/plain": [
              "19218964.628077827"
            ]
          },
          "metadata": {},
          "execution_count": 55
        }
      ]
    },
    {
      "cell_type": "markdown",
      "source": [
        "# **12. pipeline**"
      ],
      "metadata": {
        "id": "n1Zaju85Q2Mn"
      }
    },
    {
      "cell_type": "code",
      "source": [
        "X_temp, X_test, y_temp, y_test = train_test_split(X, y, test_size =0.2, random_state = 333)"
      ],
      "metadata": {
        "id": "GIq7rMsYQ4Au"
      },
      "execution_count": 56,
      "outputs": []
    },
    {
      "cell_type": "code",
      "source": [
        "X_train, X_val, y_train, y_val = train_test_split(X_temp, y_temp, test_size=0.25, random_state=23)"
      ],
      "metadata": {
        "id": "ztorMJVnSdZ5"
      },
      "execution_count": 57,
      "outputs": []
    },
    {
      "cell_type": "code",
      "source": [
        "cols_numerical = ['colonies_number']"
      ],
      "metadata": {
        "id": "Q96IBCNCSgrr"
      },
      "execution_count": 58,
      "outputs": []
    },
    {
      "cell_type": "code",
      "source": [
        "class HoneyProductionTransformer (BaseEstimator, TransformerMixin):\n",
        "  def fit(self, X, y=None):\n",
        "\n",
        "    # self.productionp95 = X['production'].quantile(0.95)\n",
        "    # self.productionp05 = X['production'].quantile(0.05)\n",
        "    # self.productionmean = X['production'].mean()\n",
        "\n",
        "    self.colonies_numberp95 = X['colonies_number'].quantile(0.95)\n",
        "    self.colonies_numberp05 = X['colonies_number'].quantile(0.05)\n",
        "    self.colonies_numbermean = X['colonies_number'].mean()\n",
        "\n",
        "    # self.average_pricep95 = y['average_price'].quantile(0.95)\n",
        "    # self.average_pricep05 = y['average_price'].quantile(0.05)\n",
        "    # self.average_pricemean = y['average_price'].mean()\n",
        "   \n",
        "    return self\n",
        "  \n",
        "  def transform(self, X, y=None):\n",
        "    # X[(X['production'] >self.productionp95) | (X['production'] < self.productionp05)] = self.productionmean\n",
        "    X[(X['colonies_number'] >self.colonies_numberp95) | (X['colonies_number'] < self.colonies_numberp05)] = self.colonies_numbermean\n",
        "    # y[(y['average_price'] >self.average_pricep95) | (y['average_price'] < self.average_pricep05)] = self.average_pricemean\n",
        "    return X"
      ],
      "metadata": {
        "id": "ngBpYDaASuNU"
      },
      "execution_count": 59,
      "outputs": []
    },
    {
      "cell_type": "code",
      "source": [
        "transformer_numerical = Pipeline(steps = [\n",
        "    ('outlier', HoneyProductionTransformer()),\n",
        "    ('imputer', SimpleImputer(strategy = 'mean')),\n",
        "    ('scaler', StandardScaler())\n",
        "])"
      ],
      "metadata": {
        "id": "9IGj8uERTFhP"
      },
      "execution_count": 60,
      "outputs": []
    },
    {
      "cell_type": "code",
      "source": [
        "preprocessor = ColumnTransformer(transformers =[\n",
        "    ('numerical', transformer_numerical, cols_numerical),\n",
        "])\n"
      ],
      "metadata": {
        "id": "AnIGDJu4TW5K"
      },
      "execution_count": 61,
      "outputs": []
    },
    {
      "cell_type": "code",
      "source": [
        "pipe = Pipeline(steps =[\n",
        "    ('preprocessor', preprocessor),\n",
        "    ('model', LinearRegression()) \n",
        "])"
      ],
      "metadata": {
        "id": "S4dWcBWYTYwN"
      },
      "execution_count": 62,
      "outputs": []
    },
    {
      "cell_type": "code",
      "source": [
        "preprocessor"
      ],
      "metadata": {
        "colab": {
          "base_uri": "https://localhost:8080/"
        },
        "id": "fTU7qfrmTcCp",
        "outputId": "9c160059-a1f0-4611-dfa1-7a920085aa9c"
      },
      "execution_count": 63,
      "outputs": [
        {
          "output_type": "execute_result",
          "data": {
            "text/plain": [
              "ColumnTransformer(transformers=[('numerical',\n",
              "                                 Pipeline(steps=[('outlier',\n",
              "                                                  HoneyProductionTransformer()),\n",
              "                                                 ('imputer', SimpleImputer()),\n",
              "                                                 ('scaler', StandardScaler())]),\n",
              "                                 ['colonies_number'])])"
            ]
          },
          "metadata": {},
          "execution_count": 63
        }
      ]
    },
    {
      "cell_type": "code",
      "source": [
        "pipe"
      ],
      "metadata": {
        "colab": {
          "base_uri": "https://localhost:8080/"
        },
        "id": "6fz80Dp7TeN-",
        "outputId": "e1e0c9d6-0558-44b8-affa-9544b2176f10"
      },
      "execution_count": 64,
      "outputs": [
        {
          "output_type": "execute_result",
          "data": {
            "text/plain": [
              "Pipeline(steps=[('preprocessor',\n",
              "                 ColumnTransformer(transformers=[('numerical',\n",
              "                                                  Pipeline(steps=[('outlier',\n",
              "                                                                   HoneyProductionTransformer()),\n",
              "                                                                  ('imputer',\n",
              "                                                                   SimpleImputer()),\n",
              "                                                                  ('scaler',\n",
              "                                                                   StandardScaler())]),\n",
              "                                                  ['colonies_number'])])),\n",
              "                ('model', LinearRegression())])"
            ]
          },
          "metadata": {},
          "execution_count": 64
        }
      ]
    },
    {
      "cell_type": "code",
      "source": [
        "pipe.fit(X_train, y_train)"
      ],
      "metadata": {
        "colab": {
          "base_uri": "https://localhost:8080/"
        },
        "id": "gNrCY-NMTgEc",
        "outputId": "a61716aa-b14a-481f-8040-a2717a6da0df"
      },
      "execution_count": 65,
      "outputs": [
        {
          "output_type": "execute_result",
          "data": {
            "text/plain": [
              "Pipeline(steps=[('preprocessor',\n",
              "                 ColumnTransformer(transformers=[('numerical',\n",
              "                                                  Pipeline(steps=[('outlier',\n",
              "                                                                   HoneyProductionTransformer()),\n",
              "                                                                  ('imputer',\n",
              "                                                                   SimpleImputer()),\n",
              "                                                                  ('scaler',\n",
              "                                                                   StandardScaler())]),\n",
              "                                                  ['colonies_number'])])),\n",
              "                ('model', LinearRegression())])"
            ]
          },
          "metadata": {},
          "execution_count": 65
        }
      ]
    },
    {
      "cell_type": "code",
      "source": [
        "y_pred_train = pipe.predict(X_train)"
      ],
      "metadata": {
        "id": "3aRq4FkKUPDt"
      },
      "execution_count": 66,
      "outputs": []
    },
    {
      "cell_type": "code",
      "source": [
        "r2_train = r2_score(y_train, y_pred_train)\n",
        "r2_train"
      ],
      "metadata": {
        "colab": {
          "base_uri": "https://localhost:8080/"
        },
        "id": "O8RLczQcUQy4",
        "outputId": "5de50104-8f2e-4d49-903f-339d0b364cf9"
      },
      "execution_count": 67,
      "outputs": [
        {
          "output_type": "execute_result",
          "data": {
            "text/plain": [
              "0.3205283820249283"
            ]
          },
          "metadata": {},
          "execution_count": 67
        }
      ]
    },
    {
      "cell_type": "code",
      "source": [
        "y_pred_val = pipe.predict(X_val)"
      ],
      "metadata": {
        "id": "fsSPFCOwUS1p"
      },
      "execution_count": 68,
      "outputs": []
    },
    {
      "cell_type": "code",
      "source": [
        "r2_val = r2_score(y_val, y_pred_val)\n",
        "r2_val"
      ],
      "metadata": {
        "colab": {
          "base_uri": "https://localhost:8080/"
        },
        "id": "-N2hLCaXUU23",
        "outputId": "b40f1da2-6d21-4b44-bed8-eddc5508f0c1"
      },
      "execution_count": 69,
      "outputs": [
        {
          "output_type": "execute_result",
          "data": {
            "text/plain": [
              "0.18438435816078236"
            ]
          },
          "metadata": {},
          "execution_count": 69
        }
      ]
    }
  ]
}