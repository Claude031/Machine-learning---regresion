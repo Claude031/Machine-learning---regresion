{
  "nbformat": 4,
  "nbformat_minor": 0,
  "metadata": {
    "colab": {
      "provenance": [],
      "collapsed_sections": [
        "PxZPLS-G2glw",
        "K4MT_Unc2nsV",
        "Z1_rj_WU2vaf"
      ]
    },
    "kernelspec": {
      "name": "python3",
      "display_name": "Python 3"
    },
    "language_info": {
      "name": "python"
    }
  },
  "cells": [
    {
      "cell_type": "markdown",
      "source": [
        "# **PROJECT CONTENT**\n"
      ],
      "metadata": {
        "id": "2-mmWeqUfwTT"
      }
    },
    {
      "cell_type": "markdown",
      "source": [
        "1. display basic information\n",
        "2. null check\n",
        "3. what to do with nulls - complete or throw away\n",
        "4. checking the characteristic values\n",
        "5. data visualization\n",
        "6. boxplot\n",
        "7. for categorical variables check value\n",
        "8. onehotencoding vs labelencoding\n",
        "9. checking outliers for continuous variables\n",
        "10. standardization / normalization\n",
        "11. model\n",
        "12. pipeline\n"
      ],
      "metadata": {
        "id": "Qd9BF-3hfDC5"
      }
    },
    {
      "cell_type": "markdown",
      "source": [
        "#**Libraries import**"
      ],
      "metadata": {
        "id": "1plBTgUPQGSi"
      }
    },
    {
      "cell_type": "code",
      "execution_count": 1,
      "metadata": {
        "id": "632xqxD1fOnZ"
      },
      "outputs": [],
      "source": [
        "import pandas as pd\n",
        "import numpy as np\n",
        "import matplotlib.pyplot as plt\n",
        "from scipy.stats import normaltest\n",
        "from scipy.stats import shapiro\n",
        "import scipy.stats\n",
        "import seaborn as sns\n",
        "from sklearn.linear_model import LinearRegression\n",
        "from sklearn.preprocessing import OneHotEncoder, LabelEncoder\n",
        "from sklearn.model_selection import train_test_split\n",
        "from sklearn.pipeline import Pipeline\n",
        "from sklearn.impute import SimpleImputer\n",
        "from sklearn.compose import ColumnTransformer\n",
        "from sklearn.base import BaseEstimator, TransformerMixin\n",
        "from sklearn.preprocessing import StandardScaler\n",
        "from pandas.core.common import random_state\n",
        "from sklearn.metrics import r2_score\n",
        "from sklearn.dummy import DummyRegressor\n",
        "from sklearn.tree import DecisionTreeRegressor\n",
        "from sklearn.preprocessing import MinMaxScaler\n",
        "import time\n",
        "from sklearn.metrics import mean_absolute_error\n",
        "from sklearn.metrics import mean_absolute_percentage_error\n",
        "from sklearn.metrics import mean_squared_error\n",
        "from sklearn.metrics import max_error\n",
        "import plotly\n",
        "import plotly.graph_objects as go\n",
        "from plotly.offline import iplot"
      ]
    },
    {
      "cell_type": "markdown",
      "source": [
        "#**Loading data**"
      ],
      "metadata": {
        "id": "A3wULuSbQJQ8"
      }
    },
    {
      "cell_type": "code",
      "source": [
        "df = pd.read_csv(\"/content/US_honey_dataset_updated.csv\", index_col= 0, sep = ',')\n",
        "df.head(5)"
      ],
      "metadata": {
        "colab": {
          "base_uri": "https://localhost:8080/",
          "height": 206
        },
        "id": "zcoII2q6fUSl",
        "outputId": "1ae9241f-298f-4102-d79d-88e48c43bd56"
      },
      "execution_count": 4,
      "outputs": [
        {
          "output_type": "execute_result",
          "data": {
            "text/plain": [
              "        state  colonies_number  yield_per_colony  production   stocks  \\\n",
              "0     Alabama            16000                58      928000    28000   \n",
              "1     Arizona            52000                79     4108000   986000   \n",
              "2    Arkansas            50000                60     3000000   900000   \n",
              "3  California           420000                93    39060000  4687000   \n",
              "4    Colorado            45000                60     2700000  1404000   \n",
              "\n",
              "   average_price  value_of_production  year  \n",
              "0           62.0               575000  1995  \n",
              "1           68.0              2793000  1995  \n",
              "2           64.0              1920000  1995  \n",
              "3           60.0             23436000  1995  \n",
              "4           68.0              1836000  1995  "
            ],
            "text/html": [
              "\n",
              "  <div id=\"df-4bcdc780-b685-4288-85ae-886e87caebff\">\n",
              "    <div class=\"colab-df-container\">\n",
              "      <div>\n",
              "<style scoped>\n",
              "    .dataframe tbody tr th:only-of-type {\n",
              "        vertical-align: middle;\n",
              "    }\n",
              "\n",
              "    .dataframe tbody tr th {\n",
              "        vertical-align: top;\n",
              "    }\n",
              "\n",
              "    .dataframe thead th {\n",
              "        text-align: right;\n",
              "    }\n",
              "</style>\n",
              "<table border=\"1\" class=\"dataframe\">\n",
              "  <thead>\n",
              "    <tr style=\"text-align: right;\">\n",
              "      <th></th>\n",
              "      <th>state</th>\n",
              "      <th>colonies_number</th>\n",
              "      <th>yield_per_colony</th>\n",
              "      <th>production</th>\n",
              "      <th>stocks</th>\n",
              "      <th>average_price</th>\n",
              "      <th>value_of_production</th>\n",
              "      <th>year</th>\n",
              "    </tr>\n",
              "  </thead>\n",
              "  <tbody>\n",
              "    <tr>\n",
              "      <th>0</th>\n",
              "      <td>Alabama</td>\n",
              "      <td>16000</td>\n",
              "      <td>58</td>\n",
              "      <td>928000</td>\n",
              "      <td>28000</td>\n",
              "      <td>62.0</td>\n",
              "      <td>575000</td>\n",
              "      <td>1995</td>\n",
              "    </tr>\n",
              "    <tr>\n",
              "      <th>1</th>\n",
              "      <td>Arizona</td>\n",
              "      <td>52000</td>\n",
              "      <td>79</td>\n",
              "      <td>4108000</td>\n",
              "      <td>986000</td>\n",
              "      <td>68.0</td>\n",
              "      <td>2793000</td>\n",
              "      <td>1995</td>\n",
              "    </tr>\n",
              "    <tr>\n",
              "      <th>2</th>\n",
              "      <td>Arkansas</td>\n",
              "      <td>50000</td>\n",
              "      <td>60</td>\n",
              "      <td>3000000</td>\n",
              "      <td>900000</td>\n",
              "      <td>64.0</td>\n",
              "      <td>1920000</td>\n",
              "      <td>1995</td>\n",
              "    </tr>\n",
              "    <tr>\n",
              "      <th>3</th>\n",
              "      <td>California</td>\n",
              "      <td>420000</td>\n",
              "      <td>93</td>\n",
              "      <td>39060000</td>\n",
              "      <td>4687000</td>\n",
              "      <td>60.0</td>\n",
              "      <td>23436000</td>\n",
              "      <td>1995</td>\n",
              "    </tr>\n",
              "    <tr>\n",
              "      <th>4</th>\n",
              "      <td>Colorado</td>\n",
              "      <td>45000</td>\n",
              "      <td>60</td>\n",
              "      <td>2700000</td>\n",
              "      <td>1404000</td>\n",
              "      <td>68.0</td>\n",
              "      <td>1836000</td>\n",
              "      <td>1995</td>\n",
              "    </tr>\n",
              "  </tbody>\n",
              "</table>\n",
              "</div>\n",
              "      <button class=\"colab-df-convert\" onclick=\"convertToInteractive('df-4bcdc780-b685-4288-85ae-886e87caebff')\"\n",
              "              title=\"Convert this dataframe to an interactive table.\"\n",
              "              style=\"display:none;\">\n",
              "        \n",
              "  <svg xmlns=\"http://www.w3.org/2000/svg\" height=\"24px\"viewBox=\"0 0 24 24\"\n",
              "       width=\"24px\">\n",
              "    <path d=\"M0 0h24v24H0V0z\" fill=\"none\"/>\n",
              "    <path d=\"M18.56 5.44l.94 2.06.94-2.06 2.06-.94-2.06-.94-.94-2.06-.94 2.06-2.06.94zm-11 1L8.5 8.5l.94-2.06 2.06-.94-2.06-.94L8.5 2.5l-.94 2.06-2.06.94zm10 10l.94 2.06.94-2.06 2.06-.94-2.06-.94-.94-2.06-.94 2.06-2.06.94z\"/><path d=\"M17.41 7.96l-1.37-1.37c-.4-.4-.92-.59-1.43-.59-.52 0-1.04.2-1.43.59L10.3 9.45l-7.72 7.72c-.78.78-.78 2.05 0 2.83L4 21.41c.39.39.9.59 1.41.59.51 0 1.02-.2 1.41-.59l7.78-7.78 2.81-2.81c.8-.78.8-2.07 0-2.86zM5.41 20L4 18.59l7.72-7.72 1.47 1.35L5.41 20z\"/>\n",
              "  </svg>\n",
              "      </button>\n",
              "      \n",
              "  <style>\n",
              "    .colab-df-container {\n",
              "      display:flex;\n",
              "      flex-wrap:wrap;\n",
              "      gap: 12px;\n",
              "    }\n",
              "\n",
              "    .colab-df-convert {\n",
              "      background-color: #E8F0FE;\n",
              "      border: none;\n",
              "      border-radius: 50%;\n",
              "      cursor: pointer;\n",
              "      display: none;\n",
              "      fill: #1967D2;\n",
              "      height: 32px;\n",
              "      padding: 0 0 0 0;\n",
              "      width: 32px;\n",
              "    }\n",
              "\n",
              "    .colab-df-convert:hover {\n",
              "      background-color: #E2EBFA;\n",
              "      box-shadow: 0px 1px 2px rgba(60, 64, 67, 0.3), 0px 1px 3px 1px rgba(60, 64, 67, 0.15);\n",
              "      fill: #174EA6;\n",
              "    }\n",
              "\n",
              "    [theme=dark] .colab-df-convert {\n",
              "      background-color: #3B4455;\n",
              "      fill: #D2E3FC;\n",
              "    }\n",
              "\n",
              "    [theme=dark] .colab-df-convert:hover {\n",
              "      background-color: #434B5C;\n",
              "      box-shadow: 0px 1px 3px 1px rgba(0, 0, 0, 0.15);\n",
              "      filter: drop-shadow(0px 1px 2px rgba(0, 0, 0, 0.3));\n",
              "      fill: #FFFFFF;\n",
              "    }\n",
              "  </style>\n",
              "\n",
              "      <script>\n",
              "        const buttonEl =\n",
              "          document.querySelector('#df-4bcdc780-b685-4288-85ae-886e87caebff button.colab-df-convert');\n",
              "        buttonEl.style.display =\n",
              "          google.colab.kernel.accessAllowed ? 'block' : 'none';\n",
              "\n",
              "        async function convertToInteractive(key) {\n",
              "          const element = document.querySelector('#df-4bcdc780-b685-4288-85ae-886e87caebff');\n",
              "          const dataTable =\n",
              "            await google.colab.kernel.invokeFunction('convertToInteractive',\n",
              "                                                     [key], {});\n",
              "          if (!dataTable) return;\n",
              "\n",
              "          const docLinkHtml = 'Like what you see? Visit the ' +\n",
              "            '<a target=\"_blank\" href=https://colab.research.google.com/notebooks/data_table.ipynb>data table notebook</a>'\n",
              "            + ' to learn more about interactive tables.';\n",
              "          element.innerHTML = '';\n",
              "          dataTable['output_type'] = 'display_data';\n",
              "          await google.colab.output.renderOutput(dataTable, element);\n",
              "          const docLink = document.createElement('div');\n",
              "          docLink.innerHTML = docLinkHtml;\n",
              "          element.appendChild(docLink);\n",
              "        }\n",
              "      </script>\n",
              "    </div>\n",
              "  </div>\n",
              "  "
            ]
          },
          "metadata": {},
          "execution_count": 4
        }
      ]
    },
    {
      "cell_type": "markdown",
      "source": [
        "#**1.Displaying basic information** "
      ],
      "metadata": {
        "id": "on9BEwR9fyOT"
      }
    },
    {
      "cell_type": "code",
      "source": [
        "df.info()"
      ],
      "metadata": {
        "colab": {
          "base_uri": "https://localhost:8080/"
        },
        "id": "IKASSzBBgF25",
        "outputId": "7d780dc1-141d-434f-ab5e-de530644cc05"
      },
      "execution_count": 5,
      "outputs": [
        {
          "output_type": "stream",
          "name": "stdout",
          "text": [
            "<class 'pandas.core.frame.DataFrame'>\n",
            "Int64Index: 1115 entries, 0 to 1114\n",
            "Data columns (total 8 columns):\n",
            " #   Column               Non-Null Count  Dtype  \n",
            "---  ------               --------------  -----  \n",
            " 0   state                1115 non-null   object \n",
            " 1   colonies_number      1115 non-null   int64  \n",
            " 2   yield_per_colony     1115 non-null   int64  \n",
            " 3   production           1115 non-null   int64  \n",
            " 4   stocks               1115 non-null   int64  \n",
            " 5   average_price        1115 non-null   float64\n",
            " 6   value_of_production  1115 non-null   int64  \n",
            " 7   year                 1115 non-null   int64  \n",
            "dtypes: float64(1), int64(6), object(1)\n",
            "memory usage: 78.4+ KB\n"
          ]
        }
      ]
    },
    {
      "cell_type": "markdown",
      "source": [
        "*CONCLUSIONS:*\n",
        "Extracting information from the data shows what types of variables we are dealing with"
      ],
      "metadata": {
        "id": "nBuQ190MgYoA"
      }
    },
    {
      "cell_type": "markdown",
      "source": [
        "# Data processing"
      ],
      "metadata": {
        "id": "pPpE3ZDOLTQ6"
      }
    },
    {
      "cell_type": "code",
      "source": [
        "df_group = df.groupby(['state', 'year']).agg({\n",
        "    'colonies_number' : ['sum'],\n",
        "    'yield_per_colony' : ['sum'],\n",
        "    'production' : ['sum']\n",
        "    })\n",
        "df_group"
      ],
      "metadata": {
        "colab": {
          "base_uri": "https://localhost:8080/",
          "height": 486
        },
        "id": "BvBhkFt3FVfy",
        "outputId": "a0d23374-f64d-4a55-88fb-50a11b0934ce"
      },
      "execution_count": 6,
      "outputs": [
        {
          "output_type": "execute_result",
          "data": {
            "text/plain": [
              "             colonies_number yield_per_colony production\n",
              "                         sum              sum        sum\n",
              "state   year                                            \n",
              "Alabama 1995           16000               58     928000\n",
              "        1996           16000               64    1024000\n",
              "        1997           14000               66     924000\n",
              "        1998           16000               71    1136000\n",
              "        1999           17000               68    1156000\n",
              "...                      ...              ...        ...\n",
              "Wyoming 2017           39000               53     186000\n",
              "        2018           39000               56     175000\n",
              "        2019           39000               56     306000\n",
              "        2020           38000               40     608000\n",
              "        2021           38000               58     242000\n",
              "\n",
              "[1115 rows x 3 columns]"
            ],
            "text/html": [
              "\n",
              "  <div id=\"df-13f7a420-b5d8-4843-8b4e-f81e00a233cd\">\n",
              "    <div class=\"colab-df-container\">\n",
              "      <div>\n",
              "<style scoped>\n",
              "    .dataframe tbody tr th:only-of-type {\n",
              "        vertical-align: middle;\n",
              "    }\n",
              "\n",
              "    .dataframe tbody tr th {\n",
              "        vertical-align: top;\n",
              "    }\n",
              "\n",
              "    .dataframe thead tr th {\n",
              "        text-align: left;\n",
              "    }\n",
              "\n",
              "    .dataframe thead tr:last-of-type th {\n",
              "        text-align: right;\n",
              "    }\n",
              "</style>\n",
              "<table border=\"1\" class=\"dataframe\">\n",
              "  <thead>\n",
              "    <tr>\n",
              "      <th></th>\n",
              "      <th></th>\n",
              "      <th>colonies_number</th>\n",
              "      <th>yield_per_colony</th>\n",
              "      <th>production</th>\n",
              "    </tr>\n",
              "    <tr>\n",
              "      <th></th>\n",
              "      <th></th>\n",
              "      <th>sum</th>\n",
              "      <th>sum</th>\n",
              "      <th>sum</th>\n",
              "    </tr>\n",
              "    <tr>\n",
              "      <th>state</th>\n",
              "      <th>year</th>\n",
              "      <th></th>\n",
              "      <th></th>\n",
              "      <th></th>\n",
              "    </tr>\n",
              "  </thead>\n",
              "  <tbody>\n",
              "    <tr>\n",
              "      <th rowspan=\"5\" valign=\"top\">Alabama</th>\n",
              "      <th>1995</th>\n",
              "      <td>16000</td>\n",
              "      <td>58</td>\n",
              "      <td>928000</td>\n",
              "    </tr>\n",
              "    <tr>\n",
              "      <th>1996</th>\n",
              "      <td>16000</td>\n",
              "      <td>64</td>\n",
              "      <td>1024000</td>\n",
              "    </tr>\n",
              "    <tr>\n",
              "      <th>1997</th>\n",
              "      <td>14000</td>\n",
              "      <td>66</td>\n",
              "      <td>924000</td>\n",
              "    </tr>\n",
              "    <tr>\n",
              "      <th>1998</th>\n",
              "      <td>16000</td>\n",
              "      <td>71</td>\n",
              "      <td>1136000</td>\n",
              "    </tr>\n",
              "    <tr>\n",
              "      <th>1999</th>\n",
              "      <td>17000</td>\n",
              "      <td>68</td>\n",
              "      <td>1156000</td>\n",
              "    </tr>\n",
              "    <tr>\n",
              "      <th>...</th>\n",
              "      <th>...</th>\n",
              "      <td>...</td>\n",
              "      <td>...</td>\n",
              "      <td>...</td>\n",
              "    </tr>\n",
              "    <tr>\n",
              "      <th rowspan=\"5\" valign=\"top\">Wyoming</th>\n",
              "      <th>2017</th>\n",
              "      <td>39000</td>\n",
              "      <td>53</td>\n",
              "      <td>186000</td>\n",
              "    </tr>\n",
              "    <tr>\n",
              "      <th>2018</th>\n",
              "      <td>39000</td>\n",
              "      <td>56</td>\n",
              "      <td>175000</td>\n",
              "    </tr>\n",
              "    <tr>\n",
              "      <th>2019</th>\n",
              "      <td>39000</td>\n",
              "      <td>56</td>\n",
              "      <td>306000</td>\n",
              "    </tr>\n",
              "    <tr>\n",
              "      <th>2020</th>\n",
              "      <td>38000</td>\n",
              "      <td>40</td>\n",
              "      <td>608000</td>\n",
              "    </tr>\n",
              "    <tr>\n",
              "      <th>2021</th>\n",
              "      <td>38000</td>\n",
              "      <td>58</td>\n",
              "      <td>242000</td>\n",
              "    </tr>\n",
              "  </tbody>\n",
              "</table>\n",
              "<p>1115 rows × 3 columns</p>\n",
              "</div>\n",
              "      <button class=\"colab-df-convert\" onclick=\"convertToInteractive('df-13f7a420-b5d8-4843-8b4e-f81e00a233cd')\"\n",
              "              title=\"Convert this dataframe to an interactive table.\"\n",
              "              style=\"display:none;\">\n",
              "        \n",
              "  <svg xmlns=\"http://www.w3.org/2000/svg\" height=\"24px\"viewBox=\"0 0 24 24\"\n",
              "       width=\"24px\">\n",
              "    <path d=\"M0 0h24v24H0V0z\" fill=\"none\"/>\n",
              "    <path d=\"M18.56 5.44l.94 2.06.94-2.06 2.06-.94-2.06-.94-.94-2.06-.94 2.06-2.06.94zm-11 1L8.5 8.5l.94-2.06 2.06-.94-2.06-.94L8.5 2.5l-.94 2.06-2.06.94zm10 10l.94 2.06.94-2.06 2.06-.94-2.06-.94-.94-2.06-.94 2.06-2.06.94z\"/><path d=\"M17.41 7.96l-1.37-1.37c-.4-.4-.92-.59-1.43-.59-.52 0-1.04.2-1.43.59L10.3 9.45l-7.72 7.72c-.78.78-.78 2.05 0 2.83L4 21.41c.39.39.9.59 1.41.59.51 0 1.02-.2 1.41-.59l7.78-7.78 2.81-2.81c.8-.78.8-2.07 0-2.86zM5.41 20L4 18.59l7.72-7.72 1.47 1.35L5.41 20z\"/>\n",
              "  </svg>\n",
              "      </button>\n",
              "      \n",
              "  <style>\n",
              "    .colab-df-container {\n",
              "      display:flex;\n",
              "      flex-wrap:wrap;\n",
              "      gap: 12px;\n",
              "    }\n",
              "\n",
              "    .colab-df-convert {\n",
              "      background-color: #E8F0FE;\n",
              "      border: none;\n",
              "      border-radius: 50%;\n",
              "      cursor: pointer;\n",
              "      display: none;\n",
              "      fill: #1967D2;\n",
              "      height: 32px;\n",
              "      padding: 0 0 0 0;\n",
              "      width: 32px;\n",
              "    }\n",
              "\n",
              "    .colab-df-convert:hover {\n",
              "      background-color: #E2EBFA;\n",
              "      box-shadow: 0px 1px 2px rgba(60, 64, 67, 0.3), 0px 1px 3px 1px rgba(60, 64, 67, 0.15);\n",
              "      fill: #174EA6;\n",
              "    }\n",
              "\n",
              "    [theme=dark] .colab-df-convert {\n",
              "      background-color: #3B4455;\n",
              "      fill: #D2E3FC;\n",
              "    }\n",
              "\n",
              "    [theme=dark] .colab-df-convert:hover {\n",
              "      background-color: #434B5C;\n",
              "      box-shadow: 0px 1px 3px 1px rgba(0, 0, 0, 0.15);\n",
              "      filter: drop-shadow(0px 1px 2px rgba(0, 0, 0, 0.3));\n",
              "      fill: #FFFFFF;\n",
              "    }\n",
              "  </style>\n",
              "\n",
              "      <script>\n",
              "        const buttonEl =\n",
              "          document.querySelector('#df-13f7a420-b5d8-4843-8b4e-f81e00a233cd button.colab-df-convert');\n",
              "        buttonEl.style.display =\n",
              "          google.colab.kernel.accessAllowed ? 'block' : 'none';\n",
              "\n",
              "        async function convertToInteractive(key) {\n",
              "          const element = document.querySelector('#df-13f7a420-b5d8-4843-8b4e-f81e00a233cd');\n",
              "          const dataTable =\n",
              "            await google.colab.kernel.invokeFunction('convertToInteractive',\n",
              "                                                     [key], {});\n",
              "          if (!dataTable) return;\n",
              "\n",
              "          const docLinkHtml = 'Like what you see? Visit the ' +\n",
              "            '<a target=\"_blank\" href=https://colab.research.google.com/notebooks/data_table.ipynb>data table notebook</a>'\n",
              "            + ' to learn more about interactive tables.';\n",
              "          element.innerHTML = '';\n",
              "          dataTable['output_type'] = 'display_data';\n",
              "          await google.colab.output.renderOutput(dataTable, element);\n",
              "          const docLink = document.createElement('div');\n",
              "          docLink.innerHTML = docLinkHtml;\n",
              "          element.appendChild(docLink);\n",
              "        }\n",
              "      </script>\n",
              "    </div>\n",
              "  </div>\n",
              "  "
            ]
          },
          "metadata": {},
          "execution_count": 6
        }
      ]
    },
    {
      "cell_type": "code",
      "source": [
        "average_price_corect=[]\n",
        "\n",
        "for i in range(1115):\n",
        "  if(df['year'][i] < 2018):\n",
        "    average_price_corect.append(df['average_price'][i])\n",
        "  else:\n",
        "    average_price_corect.append(df['average_price'][i]*100)\n",
        "\n",
        "df['average_price_corect'] = average_price_corect\n",
        "\n",
        "df.head()"
      ],
      "metadata": {
        "colab": {
          "base_uri": "https://localhost:8080/",
          "height": 206
        },
        "id": "s8AjOHW8GoFT",
        "outputId": "b2c5dfe3-7d91-49ea-a825-7c4aa78fa4e7"
      },
      "execution_count": 7,
      "outputs": [
        {
          "output_type": "execute_result",
          "data": {
            "text/plain": [
              "        state  colonies_number  yield_per_colony  production   stocks  \\\n",
              "0     Alabama            16000                58      928000    28000   \n",
              "1     Arizona            52000                79     4108000   986000   \n",
              "2    Arkansas            50000                60     3000000   900000   \n",
              "3  California           420000                93    39060000  4687000   \n",
              "4    Colorado            45000                60     2700000  1404000   \n",
              "\n",
              "   average_price  value_of_production  year  average_price_corect  \n",
              "0           62.0               575000  1995                  62.0  \n",
              "1           68.0              2793000  1995                  68.0  \n",
              "2           64.0              1920000  1995                  64.0  \n",
              "3           60.0             23436000  1995                  60.0  \n",
              "4           68.0              1836000  1995                  68.0  "
            ],
            "text/html": [
              "\n",
              "  <div id=\"df-3a33f73c-b9ad-40b8-8e5a-40dd1f7b5333\">\n",
              "    <div class=\"colab-df-container\">\n",
              "      <div>\n",
              "<style scoped>\n",
              "    .dataframe tbody tr th:only-of-type {\n",
              "        vertical-align: middle;\n",
              "    }\n",
              "\n",
              "    .dataframe tbody tr th {\n",
              "        vertical-align: top;\n",
              "    }\n",
              "\n",
              "    .dataframe thead th {\n",
              "        text-align: right;\n",
              "    }\n",
              "</style>\n",
              "<table border=\"1\" class=\"dataframe\">\n",
              "  <thead>\n",
              "    <tr style=\"text-align: right;\">\n",
              "      <th></th>\n",
              "      <th>state</th>\n",
              "      <th>colonies_number</th>\n",
              "      <th>yield_per_colony</th>\n",
              "      <th>production</th>\n",
              "      <th>stocks</th>\n",
              "      <th>average_price</th>\n",
              "      <th>value_of_production</th>\n",
              "      <th>year</th>\n",
              "      <th>average_price_corect</th>\n",
              "    </tr>\n",
              "  </thead>\n",
              "  <tbody>\n",
              "    <tr>\n",
              "      <th>0</th>\n",
              "      <td>Alabama</td>\n",
              "      <td>16000</td>\n",
              "      <td>58</td>\n",
              "      <td>928000</td>\n",
              "      <td>28000</td>\n",
              "      <td>62.0</td>\n",
              "      <td>575000</td>\n",
              "      <td>1995</td>\n",
              "      <td>62.0</td>\n",
              "    </tr>\n",
              "    <tr>\n",
              "      <th>1</th>\n",
              "      <td>Arizona</td>\n",
              "      <td>52000</td>\n",
              "      <td>79</td>\n",
              "      <td>4108000</td>\n",
              "      <td>986000</td>\n",
              "      <td>68.0</td>\n",
              "      <td>2793000</td>\n",
              "      <td>1995</td>\n",
              "      <td>68.0</td>\n",
              "    </tr>\n",
              "    <tr>\n",
              "      <th>2</th>\n",
              "      <td>Arkansas</td>\n",
              "      <td>50000</td>\n",
              "      <td>60</td>\n",
              "      <td>3000000</td>\n",
              "      <td>900000</td>\n",
              "      <td>64.0</td>\n",
              "      <td>1920000</td>\n",
              "      <td>1995</td>\n",
              "      <td>64.0</td>\n",
              "    </tr>\n",
              "    <tr>\n",
              "      <th>3</th>\n",
              "      <td>California</td>\n",
              "      <td>420000</td>\n",
              "      <td>93</td>\n",
              "      <td>39060000</td>\n",
              "      <td>4687000</td>\n",
              "      <td>60.0</td>\n",
              "      <td>23436000</td>\n",
              "      <td>1995</td>\n",
              "      <td>60.0</td>\n",
              "    </tr>\n",
              "    <tr>\n",
              "      <th>4</th>\n",
              "      <td>Colorado</td>\n",
              "      <td>45000</td>\n",
              "      <td>60</td>\n",
              "      <td>2700000</td>\n",
              "      <td>1404000</td>\n",
              "      <td>68.0</td>\n",
              "      <td>1836000</td>\n",
              "      <td>1995</td>\n",
              "      <td>68.0</td>\n",
              "    </tr>\n",
              "  </tbody>\n",
              "</table>\n",
              "</div>\n",
              "      <button class=\"colab-df-convert\" onclick=\"convertToInteractive('df-3a33f73c-b9ad-40b8-8e5a-40dd1f7b5333')\"\n",
              "              title=\"Convert this dataframe to an interactive table.\"\n",
              "              style=\"display:none;\">\n",
              "        \n",
              "  <svg xmlns=\"http://www.w3.org/2000/svg\" height=\"24px\"viewBox=\"0 0 24 24\"\n",
              "       width=\"24px\">\n",
              "    <path d=\"M0 0h24v24H0V0z\" fill=\"none\"/>\n",
              "    <path d=\"M18.56 5.44l.94 2.06.94-2.06 2.06-.94-2.06-.94-.94-2.06-.94 2.06-2.06.94zm-11 1L8.5 8.5l.94-2.06 2.06-.94-2.06-.94L8.5 2.5l-.94 2.06-2.06.94zm10 10l.94 2.06.94-2.06 2.06-.94-2.06-.94-.94-2.06-.94 2.06-2.06.94z\"/><path d=\"M17.41 7.96l-1.37-1.37c-.4-.4-.92-.59-1.43-.59-.52 0-1.04.2-1.43.59L10.3 9.45l-7.72 7.72c-.78.78-.78 2.05 0 2.83L4 21.41c.39.39.9.59 1.41.59.51 0 1.02-.2 1.41-.59l7.78-7.78 2.81-2.81c.8-.78.8-2.07 0-2.86zM5.41 20L4 18.59l7.72-7.72 1.47 1.35L5.41 20z\"/>\n",
              "  </svg>\n",
              "      </button>\n",
              "      \n",
              "  <style>\n",
              "    .colab-df-container {\n",
              "      display:flex;\n",
              "      flex-wrap:wrap;\n",
              "      gap: 12px;\n",
              "    }\n",
              "\n",
              "    .colab-df-convert {\n",
              "      background-color: #E8F0FE;\n",
              "      border: none;\n",
              "      border-radius: 50%;\n",
              "      cursor: pointer;\n",
              "      display: none;\n",
              "      fill: #1967D2;\n",
              "      height: 32px;\n",
              "      padding: 0 0 0 0;\n",
              "      width: 32px;\n",
              "    }\n",
              "\n",
              "    .colab-df-convert:hover {\n",
              "      background-color: #E2EBFA;\n",
              "      box-shadow: 0px 1px 2px rgba(60, 64, 67, 0.3), 0px 1px 3px 1px rgba(60, 64, 67, 0.15);\n",
              "      fill: #174EA6;\n",
              "    }\n",
              "\n",
              "    [theme=dark] .colab-df-convert {\n",
              "      background-color: #3B4455;\n",
              "      fill: #D2E3FC;\n",
              "    }\n",
              "\n",
              "    [theme=dark] .colab-df-convert:hover {\n",
              "      background-color: #434B5C;\n",
              "      box-shadow: 0px 1px 3px 1px rgba(0, 0, 0, 0.15);\n",
              "      filter: drop-shadow(0px 1px 2px rgba(0, 0, 0, 0.3));\n",
              "      fill: #FFFFFF;\n",
              "    }\n",
              "  </style>\n",
              "\n",
              "      <script>\n",
              "        const buttonEl =\n",
              "          document.querySelector('#df-3a33f73c-b9ad-40b8-8e5a-40dd1f7b5333 button.colab-df-convert');\n",
              "        buttonEl.style.display =\n",
              "          google.colab.kernel.accessAllowed ? 'block' : 'none';\n",
              "\n",
              "        async function convertToInteractive(key) {\n",
              "          const element = document.querySelector('#df-3a33f73c-b9ad-40b8-8e5a-40dd1f7b5333');\n",
              "          const dataTable =\n",
              "            await google.colab.kernel.invokeFunction('convertToInteractive',\n",
              "                                                     [key], {});\n",
              "          if (!dataTable) return;\n",
              "\n",
              "          const docLinkHtml = 'Like what you see? Visit the ' +\n",
              "            '<a target=\"_blank\" href=https://colab.research.google.com/notebooks/data_table.ipynb>data table notebook</a>'\n",
              "            + ' to learn more about interactive tables.';\n",
              "          element.innerHTML = '';\n",
              "          dataTable['output_type'] = 'display_data';\n",
              "          await google.colab.output.renderOutput(dataTable, element);\n",
              "          const docLink = document.createElement('div');\n",
              "          docLink.innerHTML = docLinkHtml;\n",
              "          element.appendChild(docLink);\n",
              "        }\n",
              "      </script>\n",
              "    </div>\n",
              "  </div>\n",
              "  "
            ]
          },
          "metadata": {},
          "execution_count": 7
        }
      ]
    },
    {
      "cell_type": "markdown",
      "source": [
        "#**2.Null check**"
      ],
      "metadata": {
        "id": "GCyQmWqWf9dE"
      }
    },
    {
      "cell_type": "code",
      "source": [
        "df.isnull().sum()"
      ],
      "metadata": {
        "colab": {
          "base_uri": "https://localhost:8080/"
        },
        "id": "IOKxrFjLgP6f",
        "outputId": "59143de9-9fed-4f5d-86bd-b9ce75f11edc"
      },
      "execution_count": 8,
      "outputs": [
        {
          "output_type": "execute_result",
          "data": {
            "text/plain": [
              "state                   0\n",
              "colonies_number         0\n",
              "yield_per_colony        0\n",
              "production              0\n",
              "stocks                  0\n",
              "average_price           0\n",
              "value_of_production     0\n",
              "year                    0\n",
              "average_price_corect    0\n",
              "dtype: int64"
            ]
          },
          "metadata": {},
          "execution_count": 8
        }
      ]
    },
    {
      "cell_type": "markdown",
      "source": [
        "\n",
        "*CONCLUSIONS:* No null values, we do not take any additional action"
      ],
      "metadata": {
        "id": "GnF4-kDYgMy-"
      }
    },
    {
      "cell_type": "markdown",
      "source": [
        "# **3. Answer the question what to do with nulls - complete or throw away?**\n",
        "\n",
        "\n",
        "In the case of implemented data, we are not dealing with null values\n",
        "\n",
        "Null variables will be overwritten in the pipeline."
      ],
      "metadata": {
        "id": "vN0tvF6zh6hd"
      }
    },
    {
      "cell_type": "markdown",
      "source": [
        "#**4. Checking the characteristic values ​​**"
      ],
      "metadata": {
        "id": "DVI0Gjndh0Bw"
      }
    },
    {
      "cell_type": "code",
      "source": [
        "df.describe()"
      ],
      "metadata": {
        "colab": {
          "base_uri": "https://localhost:8080/",
          "height": 300
        },
        "id": "V_eefmcAgS3D",
        "outputId": "ee89306b-ddd4-4f5c-e0d0-ad0a3228ee2b"
      },
      "execution_count": 9,
      "outputs": [
        {
          "output_type": "execute_result",
          "data": {
            "text/plain": [
              "       colonies_number  yield_per_colony    production        stocks  \\\n",
              "count      1115.000000       1115.000000  1.115000e+03  1.115000e+03   \n",
              "mean      62438.565022         59.743498  2.851268e+06  1.172625e+06   \n",
              "std       92648.175955         19.940500  5.561202e+06  2.049556e+06   \n",
              "min        2000.000000         19.000000  1.200000e+04  9.000000e+03   \n",
              "25%        9000.000000         45.000000  2.460000e+05  1.125000e+05   \n",
              "50%       26000.000000         57.000000  8.280000e+05  3.700000e+05   \n",
              "75%       69000.000000         71.000000  2.700000e+06  1.253500e+06   \n",
              "max      550000.000000        155.000000  3.906000e+07  1.354500e+07   \n",
              "\n",
              "       average_price  value_of_production         year  average_price_corect  \n",
              "count    1115.000000         1.115000e+03  1115.000000           1115.000000  \n",
              "mean      140.623076         5.667412e+06  2007.740807            184.638565  \n",
              "std       107.011544         9.459460e+06     7.823002            116.644249  \n",
              "min         1.300000         1.060000e+05  1995.000000             49.000000  \n",
              "25%        70.000000         1.008000e+06  2001.000000            102.500000  \n",
              "50%       128.000000         2.281000e+06  2008.000000            155.000000  \n",
              "75%       193.000000         5.704000e+06  2015.000000            223.000000  \n",
              "max       874.000000         8.385900e+07  2021.000000            874.000000  "
            ],
            "text/html": [
              "\n",
              "  <div id=\"df-1e135802-b92c-46b0-af8c-2961dd4b790c\">\n",
              "    <div class=\"colab-df-container\">\n",
              "      <div>\n",
              "<style scoped>\n",
              "    .dataframe tbody tr th:only-of-type {\n",
              "        vertical-align: middle;\n",
              "    }\n",
              "\n",
              "    .dataframe tbody tr th {\n",
              "        vertical-align: top;\n",
              "    }\n",
              "\n",
              "    .dataframe thead th {\n",
              "        text-align: right;\n",
              "    }\n",
              "</style>\n",
              "<table border=\"1\" class=\"dataframe\">\n",
              "  <thead>\n",
              "    <tr style=\"text-align: right;\">\n",
              "      <th></th>\n",
              "      <th>colonies_number</th>\n",
              "      <th>yield_per_colony</th>\n",
              "      <th>production</th>\n",
              "      <th>stocks</th>\n",
              "      <th>average_price</th>\n",
              "      <th>value_of_production</th>\n",
              "      <th>year</th>\n",
              "      <th>average_price_corect</th>\n",
              "    </tr>\n",
              "  </thead>\n",
              "  <tbody>\n",
              "    <tr>\n",
              "      <th>count</th>\n",
              "      <td>1115.000000</td>\n",
              "      <td>1115.000000</td>\n",
              "      <td>1.115000e+03</td>\n",
              "      <td>1.115000e+03</td>\n",
              "      <td>1115.000000</td>\n",
              "      <td>1.115000e+03</td>\n",
              "      <td>1115.000000</td>\n",
              "      <td>1115.000000</td>\n",
              "    </tr>\n",
              "    <tr>\n",
              "      <th>mean</th>\n",
              "      <td>62438.565022</td>\n",
              "      <td>59.743498</td>\n",
              "      <td>2.851268e+06</td>\n",
              "      <td>1.172625e+06</td>\n",
              "      <td>140.623076</td>\n",
              "      <td>5.667412e+06</td>\n",
              "      <td>2007.740807</td>\n",
              "      <td>184.638565</td>\n",
              "    </tr>\n",
              "    <tr>\n",
              "      <th>std</th>\n",
              "      <td>92648.175955</td>\n",
              "      <td>19.940500</td>\n",
              "      <td>5.561202e+06</td>\n",
              "      <td>2.049556e+06</td>\n",
              "      <td>107.011544</td>\n",
              "      <td>9.459460e+06</td>\n",
              "      <td>7.823002</td>\n",
              "      <td>116.644249</td>\n",
              "    </tr>\n",
              "    <tr>\n",
              "      <th>min</th>\n",
              "      <td>2000.000000</td>\n",
              "      <td>19.000000</td>\n",
              "      <td>1.200000e+04</td>\n",
              "      <td>9.000000e+03</td>\n",
              "      <td>1.300000</td>\n",
              "      <td>1.060000e+05</td>\n",
              "      <td>1995.000000</td>\n",
              "      <td>49.000000</td>\n",
              "    </tr>\n",
              "    <tr>\n",
              "      <th>25%</th>\n",
              "      <td>9000.000000</td>\n",
              "      <td>45.000000</td>\n",
              "      <td>2.460000e+05</td>\n",
              "      <td>1.125000e+05</td>\n",
              "      <td>70.000000</td>\n",
              "      <td>1.008000e+06</td>\n",
              "      <td>2001.000000</td>\n",
              "      <td>102.500000</td>\n",
              "    </tr>\n",
              "    <tr>\n",
              "      <th>50%</th>\n",
              "      <td>26000.000000</td>\n",
              "      <td>57.000000</td>\n",
              "      <td>8.280000e+05</td>\n",
              "      <td>3.700000e+05</td>\n",
              "      <td>128.000000</td>\n",
              "      <td>2.281000e+06</td>\n",
              "      <td>2008.000000</td>\n",
              "      <td>155.000000</td>\n",
              "    </tr>\n",
              "    <tr>\n",
              "      <th>75%</th>\n",
              "      <td>69000.000000</td>\n",
              "      <td>71.000000</td>\n",
              "      <td>2.700000e+06</td>\n",
              "      <td>1.253500e+06</td>\n",
              "      <td>193.000000</td>\n",
              "      <td>5.704000e+06</td>\n",
              "      <td>2015.000000</td>\n",
              "      <td>223.000000</td>\n",
              "    </tr>\n",
              "    <tr>\n",
              "      <th>max</th>\n",
              "      <td>550000.000000</td>\n",
              "      <td>155.000000</td>\n",
              "      <td>3.906000e+07</td>\n",
              "      <td>1.354500e+07</td>\n",
              "      <td>874.000000</td>\n",
              "      <td>8.385900e+07</td>\n",
              "      <td>2021.000000</td>\n",
              "      <td>874.000000</td>\n",
              "    </tr>\n",
              "  </tbody>\n",
              "</table>\n",
              "</div>\n",
              "      <button class=\"colab-df-convert\" onclick=\"convertToInteractive('df-1e135802-b92c-46b0-af8c-2961dd4b790c')\"\n",
              "              title=\"Convert this dataframe to an interactive table.\"\n",
              "              style=\"display:none;\">\n",
              "        \n",
              "  <svg xmlns=\"http://www.w3.org/2000/svg\" height=\"24px\"viewBox=\"0 0 24 24\"\n",
              "       width=\"24px\">\n",
              "    <path d=\"M0 0h24v24H0V0z\" fill=\"none\"/>\n",
              "    <path d=\"M18.56 5.44l.94 2.06.94-2.06 2.06-.94-2.06-.94-.94-2.06-.94 2.06-2.06.94zm-11 1L8.5 8.5l.94-2.06 2.06-.94-2.06-.94L8.5 2.5l-.94 2.06-2.06.94zm10 10l.94 2.06.94-2.06 2.06-.94-2.06-.94-.94-2.06-.94 2.06-2.06.94z\"/><path d=\"M17.41 7.96l-1.37-1.37c-.4-.4-.92-.59-1.43-.59-.52 0-1.04.2-1.43.59L10.3 9.45l-7.72 7.72c-.78.78-.78 2.05 0 2.83L4 21.41c.39.39.9.59 1.41.59.51 0 1.02-.2 1.41-.59l7.78-7.78 2.81-2.81c.8-.78.8-2.07 0-2.86zM5.41 20L4 18.59l7.72-7.72 1.47 1.35L5.41 20z\"/>\n",
              "  </svg>\n",
              "      </button>\n",
              "      \n",
              "  <style>\n",
              "    .colab-df-container {\n",
              "      display:flex;\n",
              "      flex-wrap:wrap;\n",
              "      gap: 12px;\n",
              "    }\n",
              "\n",
              "    .colab-df-convert {\n",
              "      background-color: #E8F0FE;\n",
              "      border: none;\n",
              "      border-radius: 50%;\n",
              "      cursor: pointer;\n",
              "      display: none;\n",
              "      fill: #1967D2;\n",
              "      height: 32px;\n",
              "      padding: 0 0 0 0;\n",
              "      width: 32px;\n",
              "    }\n",
              "\n",
              "    .colab-df-convert:hover {\n",
              "      background-color: #E2EBFA;\n",
              "      box-shadow: 0px 1px 2px rgba(60, 64, 67, 0.3), 0px 1px 3px 1px rgba(60, 64, 67, 0.15);\n",
              "      fill: #174EA6;\n",
              "    }\n",
              "\n",
              "    [theme=dark] .colab-df-convert {\n",
              "      background-color: #3B4455;\n",
              "      fill: #D2E3FC;\n",
              "    }\n",
              "\n",
              "    [theme=dark] .colab-df-convert:hover {\n",
              "      background-color: #434B5C;\n",
              "      box-shadow: 0px 1px 3px 1px rgba(0, 0, 0, 0.15);\n",
              "      filter: drop-shadow(0px 1px 2px rgba(0, 0, 0, 0.3));\n",
              "      fill: #FFFFFF;\n",
              "    }\n",
              "  </style>\n",
              "\n",
              "      <script>\n",
              "        const buttonEl =\n",
              "          document.querySelector('#df-1e135802-b92c-46b0-af8c-2961dd4b790c button.colab-df-convert');\n",
              "        buttonEl.style.display =\n",
              "          google.colab.kernel.accessAllowed ? 'block' : 'none';\n",
              "\n",
              "        async function convertToInteractive(key) {\n",
              "          const element = document.querySelector('#df-1e135802-b92c-46b0-af8c-2961dd4b790c');\n",
              "          const dataTable =\n",
              "            await google.colab.kernel.invokeFunction('convertToInteractive',\n",
              "                                                     [key], {});\n",
              "          if (!dataTable) return;\n",
              "\n",
              "          const docLinkHtml = 'Like what you see? Visit the ' +\n",
              "            '<a target=\"_blank\" href=https://colab.research.google.com/notebooks/data_table.ipynb>data table notebook</a>'\n",
              "            + ' to learn more about interactive tables.';\n",
              "          element.innerHTML = '';\n",
              "          dataTable['output_type'] = 'display_data';\n",
              "          await google.colab.output.renderOutput(dataTable, element);\n",
              "          const docLink = document.createElement('div');\n",
              "          docLink.innerHTML = docLinkHtml;\n",
              "          element.appendChild(docLink);\n",
              "        }\n",
              "      </script>\n",
              "    </div>\n",
              "  </div>\n",
              "  "
            ]
          },
          "metadata": {},
          "execution_count": 9
        }
      ]
    },
    {
      "cell_type": "markdown",
      "source": [
        "# **5. Data visualization**"
      ],
      "metadata": {
        "id": "cmx9YSKijgty"
      }
    },
    {
      "cell_type": "code",
      "source": [
        "sns.kdeplot(df.colonies_number, df.yield_per_colony\t)"
      ],
      "metadata": {
        "colab": {
          "base_uri": "https://localhost:8080/",
          "height": 387
        },
        "id": "DZhXjRD6qmf5",
        "outputId": "52826f62-204f-4648-aa91-a52404e678d9"
      },
      "execution_count": 10,
      "outputs": [
        {
          "output_type": "stream",
          "name": "stderr",
          "text": [
            "/usr/local/lib/python3.8/dist-packages/seaborn/_decorators.py:36: FutureWarning:\n",
            "\n",
            "Pass the following variable as a keyword arg: y. From version 0.12, the only valid positional argument will be `data`, and passing other arguments without an explicit keyword will result in an error or misinterpretation.\n",
            "\n"
          ]
        },
        {
          "output_type": "execute_result",
          "data": {
            "text/plain": [
              "<matplotlib.axes._subplots.AxesSubplot at 0x7f6a1479a2b0>"
            ]
          },
          "metadata": {},
          "execution_count": 10
        },
        {
          "output_type": "display_data",
          "data": {
            "text/plain": [
              "<Figure size 432x288 with 1 Axes>"
            ],
            "image/png": "[encoded data removed]"
          },
          "metadata": {
            "needs_background": "light"
          }
        }
      ]
    },
    {
      "cell_type": "markdown",
      "source": [
        "*CONCLUSIONS:*  A kernel density estimate (KDE) plot is a method for visualizing the distribution of observations in a dataset, analogous to a histogram. KDE represents the data using a continuous probability density curve in one or more dimensions."
      ],
      "metadata": {
        "id": "YnunRfj3L45I"
      }
    },
    {
      "cell_type": "code",
      "source": [
        "df1 = df.sort_values(by=['production'], ascending=False).reset_index(drop=True)"
      ],
      "metadata": {
        "id": "M5TmpXT1Bkqw"
      },
      "execution_count": 11,
      "outputs": []
    },
    {
      "cell_type": "code",
      "source": [
        "df1.head()"
      ],
      "metadata": {
        "colab": {
          "base_uri": "https://localhost:8080/",
          "height": 206
        },
        "id": "ahVzGN6ZBonz",
        "outputId": "cf520073-0d52-44e4-93b1-8346036eda8d"
      },
      "execution_count": 12,
      "outputs": [
        {
          "output_type": "execute_result",
          "data": {
            "text/plain": [
              "         state  colonies_number  yield_per_colony  production    stocks  \\\n",
              "0   California           420000                93    39060000   4687000   \n",
              "1   California           450000                83    37350000  12326000   \n",
              "2  NorthDakota           390000                90    35100000   8424000   \n",
              "3  NorthDakota           450000                77    34650000   7623000   \n",
              "4  NorthDakota           370000                91    33670000   8418000   \n",
              "\n",
              "   average_price  value_of_production  year  average_price_corect  \n",
              "0           60.0             23436000  1995                  60.0  \n",
              "1           62.0             23157000  1998                  62.0  \n",
              "2          135.0             47385000  2008                 135.0  \n",
              "3          137.0             47471000  2009                 137.0  \n",
              "4           81.0             27273000  2005                  81.0  "
            ],
            "text/html": [
              "\n",
              "  <div id=\"df-f754c2df-1e74-409d-a7d2-fb913cd0738d\">\n",
              "    <div class=\"colab-df-container\">\n",
              "      <div>\n",
              "<style scoped>\n",
              "    .dataframe tbody tr th:only-of-type {\n",
              "        vertical-align: middle;\n",
              "    }\n",
              "\n",
              "    .dataframe tbody tr th {\n",
              "        vertical-align: top;\n",
              "    }\n",
              "\n",
              "    .dataframe thead th {\n",
              "        text-align: right;\n",
              "    }\n",
              "</style>\n",
              "<table border=\"1\" class=\"dataframe\">\n",
              "  <thead>\n",
              "    <tr style=\"text-align: right;\">\n",
              "      <th></th>\n",
              "      <th>state</th>\n",
              "      <th>colonies_number</th>\n",
              "      <th>yield_per_colony</th>\n",
              "      <th>production</th>\n",
              "      <th>stocks</th>\n",
              "      <th>average_price</th>\n",
              "      <th>value_of_production</th>\n",
              "      <th>year</th>\n",
              "      <th>average_price_corect</th>\n",
              "    </tr>\n",
              "  </thead>\n",
              "  <tbody>\n",
              "    <tr>\n",
              "      <th>0</th>\n",
              "      <td>California</td>\n",
              "      <td>420000</td>\n",
              "      <td>93</td>\n",
              "      <td>39060000</td>\n",
              "      <td>4687000</td>\n",
              "      <td>60.0</td>\n",
              "      <td>23436000</td>\n",
              "      <td>1995</td>\n",
              "      <td>60.0</td>\n",
              "    </tr>\n",
              "    <tr>\n",
              "      <th>1</th>\n",
              "      <td>California</td>\n",
              "      <td>450000</td>\n",
              "      <td>83</td>\n",
              "      <td>37350000</td>\n",
              "      <td>12326000</td>\n",
              "      <td>62.0</td>\n",
              "      <td>23157000</td>\n",
              "      <td>1998</td>\n",
              "      <td>62.0</td>\n",
              "    </tr>\n",
              "    <tr>\n",
              "      <th>2</th>\n",
              "      <td>NorthDakota</td>\n",
              "      <td>390000</td>\n",
              "      <td>90</td>\n",
              "      <td>35100000</td>\n",
              "      <td>8424000</td>\n",
              "      <td>135.0</td>\n",
              "      <td>47385000</td>\n",
              "      <td>2008</td>\n",
              "      <td>135.0</td>\n",
              "    </tr>\n",
              "    <tr>\n",
              "      <th>3</th>\n",
              "      <td>NorthDakota</td>\n",
              "      <td>450000</td>\n",
              "      <td>77</td>\n",
              "      <td>34650000</td>\n",
              "      <td>7623000</td>\n",
              "      <td>137.0</td>\n",
              "      <td>47471000</td>\n",
              "      <td>2009</td>\n",
              "      <td>137.0</td>\n",
              "    </tr>\n",
              "    <tr>\n",
              "      <th>4</th>\n",
              "      <td>NorthDakota</td>\n",
              "      <td>370000</td>\n",
              "      <td>91</td>\n",
              "      <td>33670000</td>\n",
              "      <td>8418000</td>\n",
              "      <td>81.0</td>\n",
              "      <td>27273000</td>\n",
              "      <td>2005</td>\n",
              "      <td>81.0</td>\n",
              "    </tr>\n",
              "  </tbody>\n",
              "</table>\n",
              "</div>\n",
              "      <button class=\"colab-df-convert\" onclick=\"convertToInteractive('df-f754c2df-1e74-409d-a7d2-fb913cd0738d')\"\n",
              "              title=\"Convert this dataframe to an interactive table.\"\n",
              "              style=\"display:none;\">\n",
              "        \n",
              "  <svg xmlns=\"http://www.w3.org/2000/svg\" height=\"24px\"viewBox=\"0 0 24 24\"\n",
              "       width=\"24px\">\n",
              "    <path d=\"M0 0h24v24H0V0z\" fill=\"none\"/>\n",
              "    <path d=\"M18.56 5.44l.94 2.06.94-2.06 2.06-.94-2.06-.94-.94-2.06-.94 2.06-2.06.94zm-11 1L8.5 8.5l.94-2.06 2.06-.94-2.06-.94L8.5 2.5l-.94 2.06-2.06.94zm10 10l.94 2.06.94-2.06 2.06-.94-2.06-.94-.94-2.06-.94 2.06-2.06.94z\"/><path d=\"M17.41 7.96l-1.37-1.37c-.4-.4-.92-.59-1.43-.59-.52 0-1.04.2-1.43.59L10.3 9.45l-7.72 7.72c-.78.78-.78 2.05 0 2.83L4 21.41c.39.39.9.59 1.41.59.51 0 1.02-.2 1.41-.59l7.78-7.78 2.81-2.81c.8-.78.8-2.07 0-2.86zM5.41 20L4 18.59l7.72-7.72 1.47 1.35L5.41 20z\"/>\n",
              "  </svg>\n",
              "      </button>\n",
              "      \n",
              "  <style>\n",
              "    .colab-df-container {\n",
              "      display:flex;\n",
              "      flex-wrap:wrap;\n",
              "      gap: 12px;\n",
              "    }\n",
              "\n",
              "    .colab-df-convert {\n",
              "      background-color: #E8F0FE;\n",
              "      border: none;\n",
              "      border-radius: 50%;\n",
              "      cursor: pointer;\n",
              "      display: none;\n",
              "      fill: #1967D2;\n",
              "      height: 32px;\n",
              "      padding: 0 0 0 0;\n",
              "      width: 32px;\n",
              "    }\n",
              "\n",
              "    .colab-df-convert:hover {\n",
              "      background-color: #E2EBFA;\n",
              "      box-shadow: 0px 1px 2px rgba(60, 64, 67, 0.3), 0px 1px 3px 1px rgba(60, 64, 67, 0.15);\n",
              "      fill: #174EA6;\n",
              "    }\n",
              "\n",
              "    [theme=dark] .colab-df-convert {\n",
              "      background-color: #3B4455;\n",
              "      fill: #D2E3FC;\n",
              "    }\n",
              "\n",
              "    [theme=dark] .colab-df-convert:hover {\n",
              "      background-color: #434B5C;\n",
              "      box-shadow: 0px 1px 3px 1px rgba(0, 0, 0, 0.15);\n",
              "      filter: drop-shadow(0px 1px 2px rgba(0, 0, 0, 0.3));\n",
              "      fill: #FFFFFF;\n",
              "    }\n",
              "  </style>\n",
              "\n",
              "      <script>\n",
              "        const buttonEl =\n",
              "          document.querySelector('#df-f754c2df-1e74-409d-a7d2-fb913cd0738d button.colab-df-convert');\n",
              "        buttonEl.style.display =\n",
              "          google.colab.kernel.accessAllowed ? 'block' : 'none';\n",
              "\n",
              "        async function convertToInteractive(key) {\n",
              "          const element = document.querySelector('#df-f754c2df-1e74-409d-a7d2-fb913cd0738d');\n",
              "          const dataTable =\n",
              "            await google.colab.kernel.invokeFunction('convertToInteractive',\n",
              "                                                     [key], {});\n",
              "          if (!dataTable) return;\n",
              "\n",
              "          const docLinkHtml = 'Like what you see? Visit the ' +\n",
              "            '<a target=\"_blank\" href=https://colab.research.google.com/notebooks/data_table.ipynb>data table notebook</a>'\n",
              "            + ' to learn more about interactive tables.';\n",
              "          element.innerHTML = '';\n",
              "          dataTable['output_type'] = 'display_data';\n",
              "          await google.colab.output.renderOutput(dataTable, element);\n",
              "          const docLink = document.createElement('div');\n",
              "          docLink.innerHTML = docLinkHtml;\n",
              "          element.appendChild(docLink);\n",
              "        }\n",
              "      </script>\n",
              "    </div>\n",
              "  </div>\n",
              "  "
            ]
          },
          "metadata": {},
          "execution_count": 12
        }
      ]
    },
    {
      "cell_type": "code",
      "source": [
        "fig, ax=plt.subplots(figsize=(12,10))\n",
        "ax.bar(df1['state'], df1['production'])\n",
        "ax.xaxis.set_tick_params(rotation=90)\n",
        "ax.set_ylabel('Total production [pounds]')\n",
        "\n",
        "plt.show()"
      ],
      "metadata": {
        "colab": {
          "base_uri": "https://localhost:8080/",
          "height": 663
        },
        "outputId": "4a7d8ec7-0698-49fb-e1de-a6b933f2924d",
        "id": "SdqzO1wRXqCl"
      },
      "execution_count": 13,
      "outputs": [
        {
          "output_type": "display_data",
          "data": {
            "text/plain": [
              "<Figure size 864x720 with 1 Axes>"
            ],
            "image/png": "[encoded data removed]"
          },
          "metadata": {
            "needs_background": "light"
          }
        }
      ]
    },
    {
      "cell_type": "markdown",
      "source": [
        "*CONCLUSIONS:* California has the highest total honey production"
      ],
      "metadata": {
        "id": "xlIOuOQQL_xu"
      }
    },
    {
      "cell_type": "code",
      "source": [
        "trace1=go.Scatter(\n",
        "    x=df.year,\n",
        "    y=df.production,\n",
        "    mode='markers',\n",
        "    name='Total production [pounds]',\n",
        "    marker=dict(color='rgba(16,112,2,0.8)'),\n",
        "    text=df.state\n",
        ")\n",
        "\n",
        "\n",
        "data=[trace1] \n",
        "layout=dict(title='US Honey total Production in 1995-2021',\n",
        "            xaxis=dict(title='Year 1995-2021'))\n",
        "\n",
        "fig=dict(data=data, layout=layout)\n",
        "\n",
        "iplot(fig)"
      ],
      "metadata": {
        "colab": {
          "base_uri": "https://localhost:8080/",
          "height": 542
        },
        "id": "xjJbTTTgqxGC",
        "outputId": "5daa10e1-4995-4ef6-823a-456e87c09610"
      },
      "execution_count": 14,
      "outputs": [
        {
          "output_type": "display_data",
          "data": {
            "text/html": [
              "<html>\n",
              "<head><meta charset=\"utf-8\" /></head>\n",
              "<body>\n",
              "    <div>            <script src=\"https://cdnjs.cloudflare.com/ajax/libs/mathjax/2.7.5/MathJax.js?config=TeX-AMS-MML_SVG\"></script><script type=\"text/javascript\">if (window.MathJax) {MathJax.Hub.Config({SVG: {font: \"STIX-Web\"}});}</script>                <script type=\"text/javascript\">window.PlotlyConfig = {MathJaxConfig: 'local'};</script>\n",
              "        <script src=\"https://cdn.plot.ly/plotly-2.8.3.min.js\"></script>                <div id=\"86f27f7a-0bdf-48ce-abe9-a58b7b7aa33e\" class=\"plotly-graph-div\" style=\"height:525px; width:100%;\"></div>            <script type=\"text/javascript\">                                    window.PLOTLYENV=window.PLOTLYENV || {};                                    if (document.getElementById(\"86f27f7a-0bdf-48ce-abe9-a58b7b7aa33e\")) {                    Plotly.newPlot(                        \"86f27f7a-0bdf-48ce-abe9-a58b7b7aa33e\",                        [{\"marker\":{\"color\":\"rgba(16,112,2,0.8)\"},\"mode\":\"markers\",\"name\":\"Total production [pounds]\",\"text\":[\"Alabama\",\"Arizona\",\"Arkansas\",\"California\",\"Colorado\",\"Florida\",\"Georgia\",\"Hawaii\",\"Idaho\",\"Illinois\",\"Indiana\",\"Iowa\",\"Kansas\",\"Kentucky\",\"Louisiana\",\"Maine\",\"Maryland\",\"Michigan\",\"Minnesota\",\"Mississippi\",\"Missouri\",\"Montana\",\"Nebraska\",\"Nevada\",\"NewJersey\",\"NewMexico\",\"NewYork\",\"NorthCarolina\",\"NorthDakota\",\"Ohio\",\"Oklahoma\",\"Oregon\",\"Pennsylvania\",\"SouthCarolina\",\"SouthDakota\",\"Tennessee\",\"Texas\",\"Utah\",\"Vermont\",\"Virginia\",\"Washington\",\"WestVirginia\",\"Wisconsin\",\"Wyoming\",\"Alabama\",\"Arizona\",\"Arkansas\",\"California\",\"Colorado\",\"Florida\",\"Georgia\",\"Hawaii\",\"Idaho\",\"Illinois\",\"Indiana\",\"Iowa\",\"Kansas\",\"Kentucky\",\"Louisiana\",\"Maine\",\"Maryland\",\"Michigan\",\"Minnesota\",\"Mississippi\",\"Missouri\",\"Montana\",\"Nebraska\",\"Nevada\",\"NewJersey\",\"NewMexico\",\"NewYork\",\"NorthCarolina\",\"NorthDakota\",\"Ohio\",\"Oklahoma\",\"Oregon\",\"Pennsylvania\",\"SouthCarolina\",\"SouthDakota\",\"Tennessee\",\"Texas\",\"Utah\",\"Vermont\",\"Virginia\",\"Washington\",\"WestVirginia\",\"Wisconsin\",\"Wyoming\",\"Alabama\",\"Arizona\",\"Arkansas\",\"California\",\"Colorado\",\"Florida\",\"Georgia\",\"Hawaii\",\"Idaho\",\"Illinois\",\"Indiana\",\"Iowa\",\"Kansas\",\"Kentucky\",\"Louisiana\",\"Maine\",\"Maryland\",\"Michigan\",\"Minnesota\",\"Mississippi\",\"Missouri\",\"Montana\",\"Nebraska\",\"Nevada\",\"NewJersey\",\"NewMexico\",\"NewYork\",\"NorthCarolina\",\"NorthDakota\",\"Ohio\",\"Oklahoma\",\"Oregon\",\"Pennsylvania\",\"SouthDakota\",\"Tennessee\",\"Texas\",\"Utah\",\"Vermont\",\"Virginia\",\"Washington\",\"WestVirginia\",\"Wisconsin\",\"Wyoming\",\"Alabama\",\"Arizona\",\"Arkansas\",\"California\",\"Colorado\",\"Florida\",\"Georgia\",\"Hawaii\",\"Idaho\",\"Illinois\",\"Indiana\",\"Iowa\",\"Kansas\",\"Kentucky\",\"Louisiana\",\"Maine\",\"Maryland\",\"Michigan\",\"Minnesota\",\"Mississippi\",\"Missouri\",\"Montana\",\"Nebraska\",\"Nevada\",\"NewJersey\",\"NewMexico\",\"NewYork\",\"NorthCarolina\",\"NorthDakota\",\"Ohio\",\"Oklahoma\",\"Oregon\",\"Pennsylvania\",\"SouthDakota\",\"Tennessee\",\"Texas\",\"Utah\",\"Vermont\",\"Virginia\",\"Washington\",\"WestVirginia\",\"Wisconsin\",\"Wyoming\",\"Alabama\",\"Arizona\",\"Arkansas\",\"California\",\"Colorado\",\"Florida\",\"Georgia\",\"Hawaii\",\"Idaho\",\"Illinois\",\"Indiana\",\"Iowa\",\"Kansas\",\"Kentucky\",\"Louisiana\",\"Maine\",\"Maryland\",\"Michigan\",\"Minnesota\",\"Mississippi\",\"Missouri\",\"Montana\",\"Nebraska\",\"Nevada\",\"NewJersey\",\"NewMexico\",\"NewYork\",\"NorthCarolina\",\"NorthDakota\",\"Ohio\",\"Oklahoma\",\"Oregon\",\"Pennsylvania\",\"SouthDakota\",\"Tennessee\",\"Texas\",\"Utah\",\"Vermont\",\"Virginia\",\"Washington\",\"WestVirginia\",\"Wisconsin\",\"Wyoming\",\"Alabama\",\"Arizona\",\"Arkansas\",\"California\",\"Colorado\",\"Florida\",\"Georgia\",\"Hawaii\",\"Idaho\",\"Illinois\",\"Indiana\",\"Iowa\",\"Kansas\",\"Kentucky\",\"Louisiana\",\"Maine\",\"Maryland\",\"Michigan\",\"Minnesota\",\"Mississippi\",\"Missouri\",\"Montana\",\"Nebraska\",\"Nevada\",\"NewJersey\",\"NewMexico\",\"NewYork\",\"NorthCarolina\",\"NorthDakota\",\"Ohio\",\"Oklahoma\",\"Oregon\",\"Pennsylvania\",\"SouthDakota\",\"Tennessee\",\"Texas\",\"Utah\",\"Vermont\",\"Virginia\",\"Washington\",\"WestVirginia\",\"Wisconsin\",\"Wyoming\",\"Alabama\",\"Arizona\",\"Arkansas\",\"California\",\"Colorado\",\"Florida\",\"Georgia\",\"Hawaii\",\"Idaho\",\"Illinois\",\"Indiana\",\"Iowa\",\"Kansas\",\"Kentucky\",\"Louisiana\",\"Maine\",\"Maryland\",\"Michigan\",\"Minnesota\",\"Mississippi\",\"Missouri\",\"Montana\",\"Nebraska\",\"Nevada\",\"NewJersey\",\"NewMexico\",\"NewYork\",\"NorthCarolina\",\"NorthDakota\",\"Ohio\",\"Oklahoma\",\"Oregon\",\"Pennsylvania\",\"SouthDakota\",\"Tennessee\",\"Texas\",\"Utah\",\"Vermont\",\"Virginia\",\"Washington\",\"WestVirginia\",\"Wisconsin\",\"Wyoming\",\"Alabama\",\"Arizona\",\"Arkansas\",\"California\",\"Colorado\",\"Florida\",\"Georgia\",\"Hawaii\",\"Idaho\",\"Illinois\",\"Indiana\",\"Iowa\",\"Kansas\",\"Kentucky\",\"Louisiana\",\"Maine\",\"Maryland\",\"Michigan\",\"Minnesota\",\"Mississippi\",\"Missouri\",\"Montana\",\"Nebraska\",\"Nevada\",\"NewJersey\",\"NewMexico\",\"NewYork\",\"NorthCarolina\",\"NorthDakota\",\"Ohio\",\"Oklahoma\",\"Oregon\",\"Pennsylvania\",\"SouthCarolina\",\"SouthDakota\",\"Tennessee\",\"Texas\",\"Utah\",\"Vermont\",\"Virginia\",\"Washington\",\"WestVirginia\",\"Wisconsin\",\"Wyoming\",\"Alabama\",\"Arizona\",\"Arkansas\",\"California\",\"Colorado\",\"Florida\",\"Georgia\",\"Hawaii\",\"Idaho\",\"Illinois\",\"Indiana\",\"Iowa\",\"Kansas\",\"Kentucky\",\"Louisiana\",\"Maine\",\"Maryland\",\"Michigan\",\"Minnesota\",\"Mississippi\",\"Missouri\",\"Montana\",\"Nebraska\",\"Nevada\",\"NewJersey\",\"NewMexico\",\"NewYork\",\"NorthCarolina\",\"NorthDakota\",\"Ohio\",\"Oklahoma\",\"Oregon\",\"Pennsylvania\",\"SouthCarolina\",\"SouthDakota\",\"Tennessee\",\"Texas\",\"Utah\",\"Vermont\",\"Virginia\",\"Washington\",\"WestVirginia\",\"Wisconsin\",\"Wyoming\",\"Alabama\",\"Arizona\",\"Arkansas\",\"California\",\"Colorado\",\"Florida\",\"Georgia\",\"Hawaii\",\"Idaho\",\"Illinois\",\"Indiana\",\"Iowa\",\"Kansas\",\"Louisiana\",\"Maine\",\"Michigan\",\"Minnesota\",\"Mississippi\",\"Missouri\",\"Montana\",\"Nebraska\",\"Nevada\",\"NewJersey\",\"NewMexico\",\"NewYork\",\"NorthCarolina\",\"NorthDakota\",\"Ohio\",\"Oregon\",\"Pennsylvania\",\"SouthDakota\",\"Tennessee\",\"Texas\",\"Utah\",\"Vermont\",\"Virginia\",\"Washington\",\"WestVirginia\",\"Wisconsin\",\"Wyoming\",\"Alabama\",\"Arizona\",\"Arkansas\",\"California\",\"Colorado\",\"Florida\",\"Georgia\",\"Hawaii\",\"Idaho\",\"Illinois\",\"Indiana\",\"Iowa\",\"Kansas\",\"Kentucky\",\"Louisiana\",\"Maine\",\"Michigan\",\"Minnesota\",\"Mississippi\",\"Missouri\",\"Montana\",\"Nebraska\",\"Nevada\",\"NewJersey\",\"NewMexico\",\"NewYork\",\"NorthCarolina\",\"NorthDakota\",\"Ohio\",\"Oregon\",\"Pennsylvania\",\"SouthDakota\",\"Tennessee\",\"Texas\",\"Utah\",\"Vermont\",\"Virginia\",\"Washington\",\"WestVirginia\",\"Wisconsin\",\"Wyoming\",\"Alabama\",\"Arizona\",\"Arkansas\",\"California\",\"Colorado\",\"Florida\",\"Georgia\",\"Hawaii\",\"Idaho\",\"Illinois\",\"Indiana\",\"Iowa\",\"Kansas\",\"Kentucky\",\"Louisiana\",\"Maine\",\"Michigan\",\"Minnesota\",\"Mississippi\",\"Missouri\",\"Montana\",\"Nebraska\",\"Nevada\",\"NewJersey\",\"NewMexico\",\"NewYork\",\"NorthCarolina\",\"NorthDakota\",\"Ohio\",\"Oregon\",\"Pennsylvania\",\"SouthDakota\",\"Tennessee\",\"Texas\",\"Utah\",\"Vermont\",\"Virginia\",\"Washington\",\"WestVirginia\",\"Wisconsin\",\"Wyoming\",\"Alabama\",\"Arizona\",\"Arkansas\",\"California\",\"Colorado\",\"Florida\",\"Georgia\",\"Hawaii\",\"Idaho\",\"Illinois\",\"Indiana\",\"Iowa\",\"Kansas\",\"Kentucky\",\"Louisiana\",\"Maine\",\"Michigan\",\"Minnesota\",\"Mississippi\",\"Missouri\",\"Montana\",\"Nebraska\",\"Nevada\",\"NewJersey\",\"NewMexico\",\"NewYork\",\"NorthCarolina\",\"NorthDakota\",\"Ohio\",\"Oregon\",\"Pennsylvania\",\"SouthDakota\",\"Tennessee\",\"Texas\",\"Utah\",\"Vermont\",\"Virginia\",\"Washington\",\"WestVirginia\",\"Wisconsin\",\"Wyoming\",\"Alabama\",\"Arizona\",\"Arkansas\",\"California\",\"Colorado\",\"Florida\",\"Georgia\",\"Hawaii\",\"Idaho\",\"Illinois\",\"Indiana\",\"Iowa\",\"Kansas\",\"Kentucky\",\"Louisiana\",\"Maine\",\"Michigan\",\"Minnesota\",\"Mississippi\",\"Missouri\",\"Montana\",\"Nebraska\",\"Nevada\",\"NewJersey\",\"NewMexico\",\"NewYork\",\"NorthCarolina\",\"NorthDakota\",\"Ohio\",\"Oregon\",\"Pennsylvania\",\"SouthDakota\",\"Tennessee\",\"Texas\",\"Utah\",\"Vermont\",\"Virginia\",\"Washington\",\"WestVirginia\",\"Wisconsin\",\"Wyoming\",\"Alabama\",\"Arizona\",\"Arkansas\",\"California\",\"Colorado\",\"Florida\",\"Georgia\",\"Hawaii\",\"Idaho\",\"Illinois\",\"Indiana\",\"Iowa\",\"Kansas\",\"Kentucky\",\"Louisiana\",\"Maine\",\"Michigan\",\"Minnesota\",\"Mississippi\",\"Missouri\",\"Montana\",\"Nebraska\",\"Nevada\",\"NewJersey\",\"NewMexico\",\"NewYork\",\"NorthCarolina\",\"NorthDakota\",\"Ohio\",\"Oregon\",\"Pennsylvania\",\"SouthDakota\",\"Tennessee\",\"Texas\",\"Utah\",\"Vermont\",\"Virginia\",\"Washington\",\"WestVirginia\",\"Wisconsin\",\"Wyoming\",\"Alabama\",\"Arizona\",\"Arkansas\",\"California\",\"Colorado\",\"Florida\",\"Georgia\",\"Hawaii\",\"Idaho\",\"Illinois\",\"Indiana\",\"Iowa\",\"Kansas\",\"Kentucky\",\"Louisiana\",\"Maine\",\"Michigan\",\"Minnesota\",\"Mississippi\",\"Missouri\",\"Montana\",\"Nebraska\",\"NewJersey\",\"NewMexico\",\"NewYork\",\"NorthCarolina\",\"NorthDakota\",\"Ohio\",\"Oregon\",\"Pennsylvania\",\"SouthDakota\",\"Tennessee\",\"Texas\",\"Utah\",\"Vermont\",\"Virginia\",\"Washington\",\"WestVirginia\",\"Wisconsin\",\"Wyoming\",\"Alabama\",\"Arizona\",\"Arkansas\",\"California\",\"Colorado\",\"Florida\",\"Georgia\",\"Hawaii\",\"Idaho\",\"Illinois\",\"Indiana\",\"Iowa\",\"Kansas\",\"Kentucky\",\"Louisiana\",\"Maine\",\"Michigan\",\"Minnesota\",\"Mississippi\",\"Missouri\",\"Montana\",\"Nebraska\",\"NewJersey\",\"NewMexico\",\"NewYork\",\"NorthCarolina\",\"NorthDakota\",\"Ohio\",\"Oregon\",\"Pennsylvania\",\"SouthDakota\",\"Tennessee\",\"Texas\",\"Utah\",\"Vermont\",\"Virginia\",\"Washington\",\"WestVirginia\",\"Wisconsin\",\"Wyoming\",\"Alabama\",\"Arizona\",\"Arkansas\",\"California\",\"Colorado\",\"Florida\",\"Georgia\",\"Hawaii\",\"Idaho\",\"Illinois\",\"Indiana\",\"Iowa\",\"Kansas\",\"Kentucky\",\"Louisiana\",\"Maine\",\"Michigan\",\"Minnesota\",\"Mississippi\",\"Missouri\",\"Montana\",\"Nebraska\",\"NewJersey\",\"NewMexico\",\"NewYork\",\"NorthCarolina\",\"NorthDakota\",\"Ohio\",\"Oregon\",\"Pennsylvania\",\"SouthDakota\",\"Tennessee\",\"Texas\",\"Utah\",\"Vermont\",\"Virginia\",\"Washington\",\"WestVirginia\",\"Wisconsin\",\"Wyoming\",\"Alabama\",\"Arizona\",\"Arkansas\",\"California\",\"Colorado\",\"Florida\",\"Georgia\",\"Hawaii\",\"Idaho\",\"Illinois\",\"Indiana\",\"Iowa\",\"Kansas\",\"Kentucky\",\"Louisiana\",\"Maine\",\"Michigan\",\"Minnesota\",\"Mississippi\",\"Missouri\",\"Montana\",\"Nebraska\",\"NewJersey\",\"NewYork\",\"NorthCarolina\",\"NorthDakota\",\"Ohio\",\"Oregon\",\"Pennsylvania\",\"SouthDakota\",\"Tennessee\",\"Texas\",\"Utah\",\"Vermont\",\"Virginia\",\"Washington\",\"WestVirginia\",\"Wisconsin\",\"Wyoming\",\"Alabama\",\"Arizona\",\"Arkansas\",\"California\",\"Colorado\",\"Florida\",\"Georgia\",\"Hawaii\",\"Idaho\",\"Illinois\",\"Indiana\",\"Iowa\",\"Kansas\",\"Kentucky\",\"Louisiana\",\"Maine\",\"Michigan\",\"Minnesota\",\"Mississippi\",\"Missouri\",\"Montana\",\"Nebraska\",\"NewJersey\",\"NewYork\",\"NorthCarolina\",\"NorthDakota\",\"Ohio\",\"Oregon\",\"Pennsylvania\",\"SouthCarolina\",\"SouthDakota\",\"Tennessee\",\"Texas\",\"Utah\",\"Vermont\",\"Virginia\",\"Washington\",\"WestVirginia\",\"Wisconsin\",\"Wyoming\",\"Alabama\",\"Arizona\",\"Arkansas\",\"California\",\"Colorado\",\"Florida\",\"Georgia\",\"Hawaii\",\"Idaho\",\"Illinois\",\"Indiana\",\"Iowa\",\"Kansas\",\"Kentucky\",\"Louisiana\",\"Maine\",\"Michigan\",\"Minnesota\",\"Mississippi\",\"Missouri\",\"Montana\",\"Nebraska\",\"NewJersey\",\"NewYork\",\"NorthCarolina\",\"NorthDakota\",\"Ohio\",\"Oregon\",\"Pennsylvania\",\"SouthCarolina\",\"SouthDakota\",\"Tennessee\",\"Texas\",\"Utah\",\"Vermont\",\"Virginia\",\"Washington\",\"WestVirginia\",\"Wisconsin\",\"Wyoming\",\"Alabama\",\"Arizona\",\"Arkansas\",\"California\",\"Colorado\",\"Florida\",\"Georgia\",\"Hawaii\",\"Idaho\",\"Illinois\",\"Indiana\",\"Iowa\",\"Kansas\",\"Kentucky\",\"Louisiana\",\"Maine\",\"Michigan\",\"Minnesota\",\"Mississippi\",\"Missouri\",\"Montana\",\"Nebraska\",\"NewJersey\",\"NewYork\",\"NorthCarolina\",\"NorthDakota\",\"Ohio\",\"Oregon\",\"Pennsylvania\",\"SouthCarolina\",\"SouthDakota\",\"Tennessee\",\"Texas\",\"Utah\",\"Vermont\",\"Virginia\",\"Washington\",\"WestVirginia\",\"Wisconsin\",\"Wyoming\",\"Alabama\",\"Arizona\",\"Arkansas\",\"California\",\"Colorado\",\"Florida\",\"Georgia\",\"Hawaii\",\"Idaho\",\"Illinois\",\"Indiana\",\"Iowa\",\"Kansas\",\"Kentucky\",\"Louisiana\",\"Maine\",\"Michigan\",\"Minnesota\",\"Mississippi\",\"Missouri\",\"Montana\",\"Nebraska\",\"NewJersey\",\"NewYork\",\"NorthCarolina\",\"NorthDakota\",\"Ohio\",\"Oregon\",\"Pennsylvania\",\"SouthCarolina\",\"SouthDakota\",\"Tennessee\",\"Texas\",\"Utah\",\"Vermont\",\"Virginia\",\"Washington\",\"WestVirginia\",\"Wisconsin\",\"Wyoming\",\"Alabama\",\"Arizona\",\"Arkansas\",\"California\",\"Colorado\",\"Florida\",\"Georgia\",\"Hawaii\",\"Idaho\",\"Illinois\",\"Indiana\",\"Iowa\",\"Kansas\",\"Kentucky\",\"Louisiana\",\"Maine\",\"Michigan\",\"Minnesota\",\"Mississippi\",\"Missouri\",\"Montana\",\"Nebraska\",\"NewJersey\",\"NewYork\",\"NorthCarolina\",\"NorthDakota\",\"Ohio\",\"Oregon\",\"Pennsylvania\",\"SouthCarolina\",\"SouthDakota\",\"Tennessee\",\"Texas\",\"Utah\",\"Vermont\",\"Virginia\",\"Washington\",\"WestVirginia\",\"Wisconsin\",\"Wyoming\",\"Alabama\",\"Arizona\",\"Arkansas\",\"California\",\"Colorado\",\"Florida\",\"Georgia\",\"Hawaii\",\"Idaho\",\"Illinois\",\"Indiana\",\"Iowa\",\"Kansas\",\"Kentucky\",\"Louisiana\",\"Maine\",\"Michigan\",\"Minnesota\",\"Mississippi\",\"Missouri\",\"Montana\",\"Nebraska\",\"NewJersey\",\"NewYork\",\"NorthCarolina\",\"NorthDakota\",\"Ohio\",\"Oregon\",\"Pennsylvania\",\"SouthCarolina\",\"SouthDakota\",\"Tennessee\",\"Texas\",\"Utah\",\"Vermont\",\"Virginia\",\"Washington\",\"WestVirginia\",\"Wisconsin\",\"Wyoming\",\"Alabama\",\"Arizona\",\"Arkansas\",\"California\",\"Colorado\",\"Florida\",\"Georgia\",\"Hawaii\",\"Idaho\",\"Illinois\",\"Indiana\",\"Iowa\",\"Kansas\",\"Kentucky\",\"Louisiana\",\"Maine\",\"Michigan\",\"Minnesota\",\"Mississippi\",\"Missouri\",\"Montana\",\"Nebraska\",\"NewJersey\",\"NewYork\",\"NorthCarolina\",\"NorthDakota\",\"Ohio\",\"Oregon\",\"Pennsylvania\",\"SouthCarolina\",\"SouthDakota\",\"Tennessee\",\"Texas\",\"Utah\",\"Vermont\",\"Virginia\",\"Washington\",\"WestVirginia\",\"Wisconsin\",\"Wyoming\",\"Alabama\",\"Arizona\",\"Arkansas\",\"California\",\"Colorado\",\"Florida\",\"Georgia\",\"Hawaii\",\"Idaho\",\"Illinois\",\"Indiana\",\"Iowa\",\"Kansas\",\"Kentucky\",\"Louisiana\",\"Maine\",\"Michigan\",\"Minnesota\",\"Mississippi\",\"Missouri\",\"Montana\",\"Nebraska\",\"NewJersey\",\"NewYork\",\"NorthCarolina\",\"NorthDakota\",\"Ohio\",\"Oregon\",\"Pennsylvania\",\"SouthCarolina\",\"SouthDakota\",\"Tennessee\",\"Texas\",\"Utah\",\"Vermont\",\"Virginia\",\"Washington\",\"WestVirginia\",\"Wisconsin\",\"Wyoming\"],\"x\":[1995,1995,1995,1995,1995,1995,1995,1995,1995,1995,1995,1995,1995,1995,1995,1995,1995,1995,1995,1995,1995,1995,1995,1995,1995,1995,1995,1995,1995,1995,1995,1995,1995,1995,1995,1995,1995,1995,1995,1995,1995,1995,1995,1995,1996,1996,1996,1996,1996,1996,1996,1996,1996,1996,1996,1996,1996,1996,1996,1996,1996,1996,1996,1996,1996,1996,1996,1996,1996,1996,1996,1996,1996,1996,1996,1996,1996,1996,1996,1996,1996,1996,1996,1996,1996,1996,1996,1996,1997,1997,1997,1997,1997,1997,1997,1997,1997,1997,1997,1997,1997,1997,1997,1997,1997,1997,1997,1997,1997,1997,1997,1997,1997,1997,1997,1997,1997,1997,1997,1997,1997,1997,1997,1997,1997,1997,1997,1997,1997,1997,1997,1998,1998,1998,1998,1998,1998,1998,1998,1998,1998,1998,1998,1998,1998,1998,1998,1998,1998,1998,1998,1998,1998,1998,1998,1998,1998,1998,1998,1998,1998,1998,1998,1998,1998,1998,1998,1998,1998,1998,1998,1998,1998,1998,1999,1999,1999,1999,1999,1999,1999,1999,1999,1999,1999,1999,1999,1999,1999,1999,1999,1999,1999,1999,1999,1999,1999,1999,1999,1999,1999,1999,1999,1999,1999,1999,1999,1999,1999,1999,1999,1999,1999,1999,1999,1999,1999,2000,2000,2000,2000,2000,2000,2000,2000,2000,2000,2000,2000,2000,2000,2000,2000,2000,2000,2000,2000,2000,2000,2000,2000,2000,2000,2000,2000,2000,2000,2000,2000,2000,2000,2000,2000,2000,2000,2000,2000,2000,2000,2000,2001,2001,2001,2001,2001,2001,2001,2001,2001,2001,2001,2001,2001,2001,2001,2001,2001,2001,2001,2001,2001,2001,2001,2001,2001,2001,2001,2001,2001,2001,2001,2001,2001,2001,2001,2001,2001,2001,2001,2001,2001,2001,2001,2002,2002,2002,2002,2002,2002,2002,2002,2002,2002,2002,2002,2002,2002,2002,2002,2002,2002,2002,2002,2002,2002,2002,2002,2002,2002,2002,2002,2002,2002,2002,2002,2002,2002,2002,2002,2002,2002,2002,2002,2002,2002,2002,2002,2003,2003,2003,2003,2003,2003,2003,2003,2003,2003,2003,2003,2003,2003,2003,2003,2003,2003,2003,2003,2003,2003,2003,2003,2003,2003,2003,2003,2003,2003,2003,2003,2003,2003,2003,2003,2003,2003,2003,2003,2003,2003,2003,2003,2004,2004,2004,2004,2004,2004,2004,2004,2004,2004,2004,2004,2004,2004,2004,2004,2004,2004,2004,2004,2004,2004,2004,2004,2004,2004,2004,2004,2004,2004,2004,2004,2004,2004,2004,2004,2004,2004,2004,2004,2005,2005,2005,2005,2005,2005,2005,2005,2005,2005,2005,2005,2005,2005,2005,2005,2005,2005,2005,2005,2005,2005,2005,2005,2005,2005,2005,2005,2005,2005,2005,2005,2005,2005,2005,2005,2005,2005,2005,2005,2005,2006,2006,2006,2006,2006,2006,2006,2006,2006,2006,2006,2006,2006,2006,2006,2006,2006,2006,2006,2006,2006,2006,2006,2006,2006,2006,2006,2006,2006,2006,2006,2006,2006,2006,2006,2006,2006,2006,2006,2006,2006,2007,2007,2007,2007,2007,2007,2007,2007,2007,2007,2007,2007,2007,2007,2007,2007,2007,2007,2007,2007,2007,2007,2007,2007,2007,2007,2007,2007,2007,2007,2007,2007,2007,2007,2007,2007,2007,2007,2007,2007,2007,2008,2008,2008,2008,2008,2008,2008,2008,2008,2008,2008,2008,2008,2008,2008,2008,2008,2008,2008,2008,2008,2008,2008,2008,2008,2008,2008,2008,2008,2008,2008,2008,2008,2008,2008,2008,2008,2008,2008,2008,2008,2009,2009,2009,2009,2009,2009,2009,2009,2009,2009,2009,2009,2009,2009,2009,2009,2009,2009,2009,2009,2009,2009,2009,2009,2009,2009,2009,2009,2009,2009,2009,2009,2009,2009,2009,2009,2009,2009,2009,2009,2009,2010,2010,2010,2010,2010,2010,2010,2010,2010,2010,2010,2010,2010,2010,2010,2010,2010,2010,2010,2010,2010,2010,2010,2010,2010,2010,2010,2010,2010,2010,2010,2010,2010,2010,2010,2010,2010,2010,2010,2010,2011,2011,2011,2011,2011,2011,2011,2011,2011,2011,2011,2011,2011,2011,2011,2011,2011,2011,2011,2011,2011,2011,2011,2011,2011,2011,2011,2011,2011,2011,2011,2011,2011,2011,2011,2011,2011,2011,2011,2011,2012,2012,2012,2012,2012,2012,2012,2012,2012,2012,2012,2012,2012,2012,2012,2012,2012,2012,2012,2012,2012,2012,2012,2012,2012,2012,2012,2012,2012,2012,2012,2012,2012,2012,2012,2012,2012,2012,2012,2012,2013,2013,2013,2013,2013,2013,2013,2013,2013,2013,2013,2013,2013,2013,2013,2013,2013,2013,2013,2013,2013,2013,2013,2013,2013,2013,2013,2013,2013,2013,2013,2013,2013,2013,2013,2013,2013,2013,2013,2014,2014,2014,2014,2014,2014,2014,2014,2014,2014,2014,2014,2014,2014,2014,2014,2014,2014,2014,2014,2014,2014,2014,2014,2014,2014,2014,2014,2014,2014,2014,2014,2014,2014,2014,2014,2014,2014,2014,2014,2015,2015,2015,2015,2015,2015,2015,2015,2015,2015,2015,2015,2015,2015,2015,2015,2015,2015,2015,2015,2015,2015,2015,2015,2015,2015,2015,2015,2015,2015,2015,2015,2015,2015,2015,2015,2015,2015,2015,2015,2016,2016,2016,2016,2016,2016,2016,2016,2016,2016,2016,2016,2016,2016,2016,2016,2016,2016,2016,2016,2016,2016,2016,2016,2016,2016,2016,2016,2016,2016,2016,2016,2016,2016,2016,2016,2016,2016,2016,2016,2017,2017,2017,2017,2017,2017,2017,2017,2017,2017,2017,2017,2017,2017,2017,2017,2017,2017,2017,2017,2017,2017,2017,2017,2017,2017,2017,2017,2017,2017,2017,2017,2017,2017,2017,2017,2017,2017,2017,2017,2018,2018,2018,2018,2018,2018,2018,2018,2018,2018,2018,2018,2018,2018,2018,2018,2018,2018,2018,2018,2018,2018,2018,2018,2018,2018,2018,2018,2018,2018,2018,2018,2018,2018,2018,2018,2018,2018,2018,2018,2019,2019,2019,2019,2019,2019,2019,2019,2019,2019,2019,2019,2019,2019,2019,2019,2019,2019,2019,2019,2019,2019,2019,2019,2019,2019,2019,2019,2019,2019,2019,2019,2019,2019,2019,2019,2019,2019,2019,2019,2020,2020,2020,2020,2020,2020,2020,2020,2020,2020,2020,2020,2020,2020,2020,2020,2020,2020,2020,2020,2020,2020,2020,2020,2020,2020,2020,2020,2020,2020,2020,2020,2020,2020,2020,2020,2020,2020,2020,2020,2021,2021,2021,2021,2021,2021,2021,2021,2021,2021,2021,2021,2021,2021,2021,2021,2021,2021,2021,2021,2021,2021,2021,2021,2021,2021,2021,2021,2021,2021,2021,2021,2021,2021,2021,2021,2021,2021,2021,2021],\"y\":[928000,4108000,3000000,39060000,2700000,19780000,4340000,1032000,6000000,814000,756000,3400000,1139000,132000,3927000,495000,245000,8924000,13530000,1120000,1541000,8480000,4380000,261000,272000,1235000,5250000,624000,23760000,1550000,380000,2704000,1075000,810000,20400000,212000,8904000,1056000,335000,405000,3540000,533000,5767000,1368000,1024000,1920000,3360000,27300000,2220000,25200000,5100000,1240000,4950000,814000,675000,3886000,816000,180000,3922000,230000,224000,8640000,11550000,1360000,1628000,7020000,4875000,854000,225000,1155000,5440000,528000,19780000,1680000,236000,3245000,1058000,810000,23280000,320000,6806000,1564000,332000,350000,3306000,590000,5382000,2920000,924000,2560000,3800000,30000000,1925000,16080000,3450000,1314000,7680000,483000,568000,3774000,1207000,180000,4370000,152000,240000,5950000,10585000,1387000,1848000,12840000,4087000,854000,392000,900000,4320000,464000,24500000,1760000,232000,2491000,1056000,15600000,372000,9964000,1664000,315000,424000,2808000,560000,4740000,2356000,1136000,3300000,3445000,37350000,1944000,22540000,4200000,944000,6000000,639000,828000,3900000,736000,150000,4551000,260000,308000,6800000,11060000,1548000,1518000,14030000,4480000,460000,539000,770000,5200000,472000,29440000,1404000,204000,2250000,1518000,21375000,448000,7007000,1740000,384000,296000,2958000,330000,8099000,2760000,1156000,3224000,4628000,30300000,2052000,23256000,3315000,640000,5760000,594000,810000,2600000,871000,150000,5472000,308000,276000,6205000,11890000,1314000,1560000,8540000,4466000,383000,440000,780000,4830000,414000,26775000,1480000,270000,2565000,1500000,23296000,408000,8748000,1170000,396000,245000,2600000,234000,6000000,2664000,1248000,2360000,5115000,30800000,1740000,24360000,3135000,784000,4700000,488000,520000,2010000,1020000,144000,4042000,231000,276000,5400000,13500000,1224000,1725000,12728000,4350000,350000,385000,960000,4640000,539000,33350000,1170000,245000,2448000,990000,28435000,549000,8295000,984000,413000,294000,2808000,378000,7560000,3627000,1022000,2537000,5655000,27625000,1430000,22000000,3135000,696000,4600000,456000,608000,1683000,663000,234000,4770000,220000,184000,4560000,10935000,1122000,1525000,13872000,2064000,550000,374000,1050000,3710000,484000,26880000,1296000,188000,1936000,969000,15275000,531000,7663000,874000,567000,468000,2184000,455000,5427000,2926000,1032000,2394000,4840000,23320000,1440000,20460000,2600000,952000,5700000,720000,496000,2310000,884000,162000,4340000,451000,138000,5544000,8541000,1404000,954000,8442000,3225000,558000,350000,484000,5880000,714000,24000000,1296000,159000,1911000,1026000,470000,11475000,488000,7638000,1298000,623000,266000,2244000,459000,6650000,2394000,1066000,2880000,3000000,32160000,2064000,14910000,3380000,791000,4600000,420000,280000,1888000,912000,240000,3060000,264000,84000,4810000,9960000,1449000,901000,9570000,3330000,384000,190000,246000,4824000,440000,29580000,750000,141000,2142000,1350000,420000,14000000,280000,9380000,1311000,581000,222000,3248000,376000,5698000,3159000,1044000,1760000,2280000,17550000,1840000,20090000,3087000,768000,6300000,385000,413000,2345000,1120000,3430000,217000,4355000,10125000,1170000,656000,10780000,4539000,770000,324000,352000,4288000,360000,30420000,928000,2268000,1620000,22575000,324000,8816000,1610000,408000,266000,3528000,495000,5848000,2925000,858000,1800000,2484000,30000000,1820000,13760000,2891000,1179000,3515000,680000,512000,2464000,800000,250000,3395000,208000,4420000,8880000,1280000,750000,8710000,2720000,552000,384000,343000,4380000,540000,33670000,1035000,1638000,1568000,17380000,385000,5964000,1035000,546000,296000,2805000,408000,5312000,2240000,792000,1950000,2432000,19760000,2700000,13770000,4662000,930000,4180000,660000,324000,2184000,770000,280000,2700000,253000,3960000,10000000,1372000,690000,10428000,3431000,333000,324000,336000,3840000,500000,25900000,784000,2208000,1120000,10575000,385000,5740000,1150000,336000,336000,2548000,210000,5952000,3315000,616000,1920000,2240000,13600000,1683000,11360000,3480000,920000,3772000,567000,357000,2106000,560000,244000,2581000,234000,4608000,8840000,1575000,611000,9180000,2205000,280000,513000,354000,3192000,495000,31080000,854000,1892000,1050000,13260000,455000,8610000,975000,320000,276000,2024000,240000,5040000,3440000,594000,1600000,2100000,18360000,1215000,11850000,3905000,900000,3600000,448000,402000,1488000,610000,156000,2233000,294000,5183000,9516000,1372000,583000,9380000,2412000,290000,360000,288000,3500000,624000,35100000,742000,2150000,1104000,21375000,427000,4928000,1344000,330000,252000,1804000,258000,4640000,2379000,441000,1040000,1368000,11715000,1484000,10200000,2665000,950000,4738000,272000,288000,1092000,567000,175000,3811000,300000,3960000,7930000,1456000,517000,10220000,2688000,520000,288000,420000,3055000,495000,34650000,550000,1870000,840000,17820000,357000,4662000,988000,245000,234000,2728000,185000,3780000,1776000,73000,665000,360000,6318000,533000,1794000,152000,239000,1179000,92000,151000,463000,103000,67000,288000,33000,1524000,1774000,78000,92000,2905000,902000,73000,157000,1123000,144000,12995000,346000,874000,377000,4765000,106000,792000,195000,73000,37000,1077000,40000,1556000,282000,63000,427000,239000,3730000,443000,988000,196000,246000,1879000,98000,147000,961000,117000,12000,471000,17000,2084000,2099000,104000,76000,3202000,653000,135000,153000,1235000,95000,7512000,228000,755000,306000,4290000,68000,633000,170000,43000,21000,836000,45000,1508000,265000,65000,253000,189000,3119000,468000,1235000,181000,263000,530000,145000,203000,1196000,125000,41000,141000,24000,1332000,1591000,64000,108000,2413000,1146000,51000,99000,988000,106000,5962000,410000,845000,269000,3604000,59000,718000,209000,53000,23000,1017000,95000,1863000,459000,55000,251000,66000,2505000,324000,1074000,637000,65000,1036000,101000,82000,1217000,39000,17000,490000,27000,982000,1282000,39000,85000,5231000,1628000,34000,1030000,84000,6955000,390000,456000,257000,6381000,63000,1689000,92000,46000,42000,1023000,83000,1558000,558000,26000,193000,137000,2995000,200000,1029000,362000,140000,850000,94000,115000,933000,84000,56000,524000,41000,1835000,1426000,45000,96000,5132000,1688000,119000,1518000,88000,9271000,256000,767000,203000,19000,5846000,88000,2081000,130000,61000,57000,1167000,33000,1030000,255000,13000,306000,121000,1485000,399000,832000,221000,71000,1082000,155000,165000,990000,107000,55000,348000,47000,1984000,2157000,87000,52000,3757000,1450000,207000,899000,103000,9428000,357000,809000,225000,38000,9379000,78000,1164000,147000,62000,50000,1221000,32000,1603000,146000,33000,261000,99000,2009000,282000,538000,899000,127000,1253000,77000,208000,746000,54000,48000,301000,65000,1709000,1390000,113000,30000,3183000,640000,198000,1167000,89000,6809000,664000,622000,266000,36000,12127000,69000,2607000,169000,69000,30000,412000,43000,1205000,190000,22000,97000,197000,2198000,284000,529000,190000,25000,1045000,167000,158000,1035000,260000,42000,279000,51000,822000,1016000,124000,57000,2506000,423000,167000,766000,99000,4377000,657000,998000,177000,27000,6541000,75000,2297000,67000,144000,46000,1594000,50000,683000,186000,14000,109000,84000,3022000,283000,737000,200000,18000,655000,108000,106000,1005000,95000,34000,261000,92000,768000,1161000,70000,36000,3680000,850000,165000,833000,63000,4752000,491000,1009000,309000,15000,5154000,84000,1035000,75000,94000,35000,563000,38000,711000,175000,44000,201000,176000,3216000,500000,830000,370000,51000,677000,116000,188000,1170000,171000,44000,428000,110000,1363000,3063000,141000,73000,5802000,223000,155000,1027000,118000,6422000,442000,1141000,409000,45000,7582000,91000,1663000,89000,84000,49000,1191000,47000,692000,306000,66000,360000,176000,2752000,455000,883000,412000,79000,637000,156000,149000,1259000,164000,58000,228000,78000,1384000,2495000,146000,100000,3208000,250000,91000,844000,123000,8108000,576000,1102000,392000,66000,8668000,54000,1253000,171000,96000,54000,798000,58000,855000,608000,112000,368000,255000,1627000,232000,849000,261000,56000,270000,115000,177000,502000,144000,73000,205000,60000,1957000,285000,71000,92000,1934000,550000,158000,665000,104000,2266000,389000,693000,336000,67000,5268000,81000,384000,92000,76000,79000,1206000,136000,750000,242000],\"type\":\"scatter\"}],                        {\"template\":{\"data\":{\"barpolar\":[{\"marker\":{\"line\":{\"color\":\"#E5ECF6\",\"width\":0.5},\"pattern\":{\"fillmode\":\"overlay\",\"size\":10,\"solidity\":0.2}},\"type\":\"barpolar\"}],\"bar\":[{\"error_x\":{\"color\":\"#2a3f5f\"},\"error_y\":{\"color\":\"#2a3f5f\"},\"marker\":{\"line\":{\"color\":\"#E5ECF6\",\"width\":0.5},\"pattern\":{\"fillmode\":\"overlay\",\"size\":10,\"solidity\":0.2}},\"type\":\"bar\"}],\"carpet\":[{\"aaxis\":{\"endlinecolor\":\"#2a3f5f\",\"gridcolor\":\"white\",\"linecolor\":\"white\",\"minorgridcolor\":\"white\",\"startlinecolor\":\"#2a3f5f\"},\"baxis\":{\"endlinecolor\":\"#2a3f5f\",\"gridcolor\":\"white\",\"linecolor\":\"white\",\"minorgridcolor\":\"white\",\"startlinecolor\":\"#2a3f5f\"},\"type\":\"carpet\"}],\"choropleth\":[{\"colorbar\":{\"outlinewidth\":0,\"ticks\":\"\"},\"type\":\"choropleth\"}],\"contourcarpet\":[{\"colorbar\":{\"outlinewidth\":0,\"ticks\":\"\"},\"type\":\"contourcarpet\"}],\"contour\":[{\"colorbar\":{\"outlinewidth\":0,\"ticks\":\"\"},\"colorscale\":[[0.0,\"#0d0887\"],[0.1111111111111111,\"#46039f\"],[0.2222222222222222,\"#7201a8\"],[0.3333333333333333,\"#9c179e\"],[0.4444444444444444,\"#bd3786\"],[0.5555555555555556,\"#d8576b\"],[0.6666666666666666,\"#ed7953\"],[0.7777777777777778,\"#fb9f3a\"],[0.8888888888888888,\"#fdca26\"],[1.0,\"#f0f921\"]],\"type\":\"contour\"}],\"heatmapgl\":[{\"colorbar\":{\"outlinewidth\":0,\"ticks\":\"\"},\"colorscale\":[[0.0,\"#0d0887\"],[0.1111111111111111,\"#46039f\"],[0.2222222222222222,\"#7201a8\"],[0.3333333333333333,\"#9c179e\"],[0.4444444444444444,\"#bd3786\"],[0.5555555555555556,\"#d8576b\"],[0.6666666666666666,\"#ed7953\"],[0.7777777777777778,\"#fb9f3a\"],[0.8888888888888888,\"#fdca26\"],[1.0,\"#f0f921\"]],\"type\":\"heatmapgl\"}],\"heatmap\":[{\"colorbar\":{\"outlinewidth\":0,\"ticks\":\"\"},\"colorscale\":[[0.0,\"#0d0887\"],[0.1111111111111111,\"#46039f\"],[0.2222222222222222,\"#7201a8\"],[0.3333333333333333,\"#9c179e\"],[0.4444444444444444,\"#bd3786\"],[0.5555555555555556,\"#d8576b\"],[0.6666666666666666,\"#ed7953\"],[0.7777777777777778,\"#fb9f3a\"],[0.8888888888888888,\"#fdca26\"],[1.0,\"#f0f921\"]],\"type\":\"heatmap\"}],\"histogram2dcontour\":[{\"colorbar\":{\"outlinewidth\":0,\"ticks\":\"\"},\"colorscale\":[[0.0,\"#0d0887\"],[0.1111111111111111,\"#46039f\"],[0.2222222222222222,\"#7201a8\"],[0.3333333333333333,\"#9c179e\"],[0.4444444444444444,\"#bd3786\"],[0.5555555555555556,\"#d8576b\"],[0.6666666666666666,\"#ed7953\"],[0.7777777777777778,\"#fb9f3a\"],[0.8888888888888888,\"#fdca26\"],[1.0,\"#f0f921\"]],\"type\":\"histogram2dcontour\"}],\"histogram2d\":[{\"colorbar\":{\"outlinewidth\":0,\"ticks\":\"\"},\"colorscale\":[[0.0,\"#0d0887\"],[0.1111111111111111,\"#46039f\"],[0.2222222222222222,\"#7201a8\"],[0.3333333333333333,\"#9c179e\"],[0.4444444444444444,\"#bd3786\"],[0.5555555555555556,\"#d8576b\"],[0.6666666666666666,\"#ed7953\"],[0.7777777777777778,\"#fb9f3a\"],[0.8888888888888888,\"#fdca26\"],[1.0,\"#f0f921\"]],\"type\":\"histogram2d\"}],\"histogram\":[{\"marker\":{\"pattern\":{\"fillmode\":\"overlay\",\"size\":10,\"solidity\":0.2}},\"type\":\"histogram\"}],\"mesh3d\":[{\"colorbar\":{\"outlinewidth\":0,\"ticks\":\"\"},\"type\":\"mesh3d\"}],\"parcoords\":[{\"line\":{\"colorbar\":{\"outlinewidth\":0,\"ticks\":\"\"}},\"type\":\"parcoords\"}],\"pie\":[{\"automargin\":true,\"type\":\"pie\"}],\"scatter3d\":[{\"line\":{\"colorbar\":{\"outlinewidth\":0,\"ticks\":\"\"}},\"marker\":{\"colorbar\":{\"outlinewidth\":0,\"ticks\":\"\"}},\"type\":\"scatter3d\"}],\"scattercarpet\":[{\"marker\":{\"colorbar\":{\"outlinewidth\":0,\"ticks\":\"\"}},\"type\":\"scattercarpet\"}],\"scattergeo\":[{\"marker\":{\"colorbar\":{\"outlinewidth\":0,\"ticks\":\"\"}},\"type\":\"scattergeo\"}],\"scattergl\":[{\"marker\":{\"colorbar\":{\"outlinewidth\":0,\"ticks\":\"\"}},\"type\":\"scattergl\"}],\"scattermapbox\":[{\"marker\":{\"colorbar\":{\"outlinewidth\":0,\"ticks\":\"\"}},\"type\":\"scattermapbox\"}],\"scatterpolargl\":[{\"marker\":{\"colorbar\":{\"outlinewidth\":0,\"ticks\":\"\"}},\"type\":\"scatterpolargl\"}],\"scatterpolar\":[{\"marker\":{\"colorbar\":{\"outlinewidth\":0,\"ticks\":\"\"}},\"type\":\"scatterpolar\"}],\"scatter\":[{\"marker\":{\"colorbar\":{\"outlinewidth\":0,\"ticks\":\"\"}},\"type\":\"scatter\"}],\"scatterternary\":[{\"marker\":{\"colorbar\":{\"outlinewidth\":0,\"ticks\":\"\"}},\"type\":\"scatterternary\"}],\"surface\":[{\"colorbar\":{\"outlinewidth\":0,\"ticks\":\"\"},\"colorscale\":[[0.0,\"#0d0887\"],[0.1111111111111111,\"#46039f\"],[0.2222222222222222,\"#7201a8\"],[0.3333333333333333,\"#9c179e\"],[0.4444444444444444,\"#bd3786\"],[0.5555555555555556,\"#d8576b\"],[0.6666666666666666,\"#ed7953\"],[0.7777777777777778,\"#fb9f3a\"],[0.8888888888888888,\"#fdca26\"],[1.0,\"#f0f921\"]],\"type\":\"surface\"}],\"table\":[{\"cells\":{\"fill\":{\"color\":\"#EBF0F8\"},\"line\":{\"color\":\"white\"}},\"header\":{\"fill\":{\"color\":\"#C8D4E3\"},\"line\":{\"color\":\"white\"}},\"type\":\"table\"}]},\"layout\":{\"annotationdefaults\":{\"arrowcolor\":\"#2a3f5f\",\"arrowhead\":0,\"arrowwidth\":1},\"autotypenumbers\":\"strict\",\"coloraxis\":{\"colorbar\":{\"outlinewidth\":0,\"ticks\":\"\"}},\"colorscale\":{\"diverging\":[[0,\"#8e0152\"],[0.1,\"#c51b7d\"],[0.2,\"#de77ae\"],[0.3,\"#f1b6da\"],[0.4,\"#fde0ef\"],[0.5,\"#f7f7f7\"],[0.6,\"#e6f5d0\"],[0.7,\"#b8e186\"],[0.8,\"#7fbc41\"],[0.9,\"#4d9221\"],[1,\"#276419\"]],\"sequential\":[[0.0,\"#0d0887\"],[0.1111111111111111,\"#46039f\"],[0.2222222222222222,\"#7201a8\"],[0.3333333333333333,\"#9c179e\"],[0.4444444444444444,\"#bd3786\"],[0.5555555555555556,\"#d8576b\"],[0.6666666666666666,\"#ed7953\"],[0.7777777777777778,\"#fb9f3a\"],[0.8888888888888888,\"#fdca26\"],[1.0,\"#f0f921\"]],\"sequentialminus\":[[0.0,\"#0d0887\"],[0.1111111111111111,\"#46039f\"],[0.2222222222222222,\"#7201a8\"],[0.3333333333333333,\"#9c179e\"],[0.4444444444444444,\"#bd3786\"],[0.5555555555555556,\"#d8576b\"],[0.6666666666666666,\"#ed7953\"],[0.7777777777777778,\"#fb9f3a\"],[0.8888888888888888,\"#fdca26\"],[1.0,\"#f0f921\"]]},\"colorway\":[\"#636efa\",\"#EF553B\",\"#00cc96\",\"#ab63fa\",\"#FFA15A\",\"#19d3f3\",\"#FF6692\",\"#B6E880\",\"#FF97FF\",\"#FECB52\"],\"font\":{\"color\":\"#2a3f5f\"},\"geo\":{\"bgcolor\":\"white\",\"lakecolor\":\"white\",\"landcolor\":\"#E5ECF6\",\"showlakes\":true,\"showland\":true,\"subunitcolor\":\"white\"},\"hoverlabel\":{\"align\":\"left\"},\"hovermode\":\"closest\",\"mapbox\":{\"style\":\"light\"},\"paper_bgcolor\":\"white\",\"plot_bgcolor\":\"#E5ECF6\",\"polar\":{\"angularaxis\":{\"gridcolor\":\"white\",\"linecolor\":\"white\",\"ticks\":\"\"},\"bgcolor\":\"#E5ECF6\",\"radialaxis\":{\"gridcolor\":\"white\",\"linecolor\":\"white\",\"ticks\":\"\"}},\"scene\":{\"xaxis\":{\"backgroundcolor\":\"#E5ECF6\",\"gridcolor\":\"white\",\"gridwidth\":2,\"linecolor\":\"white\",\"showbackground\":true,\"ticks\":\"\",\"zerolinecolor\":\"white\"},\"yaxis\":{\"backgroundcolor\":\"#E5ECF6\",\"gridcolor\":\"white\",\"gridwidth\":2,\"linecolor\":\"white\",\"showbackground\":true,\"ticks\":\"\",\"zerolinecolor\":\"white\"},\"zaxis\":{\"backgroundcolor\":\"#E5ECF6\",\"gridcolor\":\"white\",\"gridwidth\":2,\"linecolor\":\"white\",\"showbackground\":true,\"ticks\":\"\",\"zerolinecolor\":\"white\"}},\"shapedefaults\":{\"line\":{\"color\":\"#2a3f5f\"}},\"ternary\":{\"aaxis\":{\"gridcolor\":\"white\",\"linecolor\":\"white\",\"ticks\":\"\"},\"baxis\":{\"gridcolor\":\"white\",\"linecolor\":\"white\",\"ticks\":\"\"},\"bgcolor\":\"#E5ECF6\",\"caxis\":{\"gridcolor\":\"white\",\"linecolor\":\"white\",\"ticks\":\"\"}},\"title\":{\"x\":0.05},\"xaxis\":{\"automargin\":true,\"gridcolor\":\"white\",\"linecolor\":\"white\",\"ticks\":\"\",\"title\":{\"standoff\":15},\"zerolinecolor\":\"white\",\"zerolinewidth\":2},\"yaxis\":{\"automargin\":true,\"gridcolor\":\"white\",\"linecolor\":\"white\",\"ticks\":\"\",\"title\":{\"standoff\":15},\"zerolinecolor\":\"white\",\"zerolinewidth\":2}}},\"title\":{\"text\":\"US Honey total Production in 1995-2021\"},\"xaxis\":{\"title\":{\"text\":\"Year 1995-2021\"}}},                        {\"responsive\": true}                    ).then(function(){\n",
              "                            \n",
              "var gd = document.getElementById('86f27f7a-0bdf-48ce-abe9-a58b7b7aa33e');\n",
              "var x = new MutationObserver(function (mutations, observer) {{\n",
              "        var display = window.getComputedStyle(gd).display;\n",
              "        if (!display || display === 'none') {{\n",
              "            console.log([gd, 'removed!']);\n",
              "            Plotly.purge(gd);\n",
              "            observer.disconnect();\n",
              "        }}\n",
              "}});\n",
              "\n",
              "// Listen for the removal of the full notebook cells\n",
              "var notebookContainer = gd.closest('#notebook-container');\n",
              "if (notebookContainer) {{\n",
              "    x.observe(notebookContainer, {childList: true});\n",
              "}}\n",
              "\n",
              "// Listen for the clearing of the current output cell\n",
              "var outputEl = gd.closest('.output');\n",
              "if (outputEl) {{\n",
              "    x.observe(outputEl, {childList: true});\n",
              "}}\n",
              "\n",
              "                        })                };                            </script>        </div>\n",
              "</body>\n",
              "</html>"
            ]
          },
          "metadata": {}
        }
      ]
    },
    {
      "cell_type": "markdown",
      "source": [
        "*CONCLUSIONS:* This type of chart can be use to present interactive data "
      ],
      "metadata": {
        "id": "JDfmUgQzMBoO"
      }
    },
    {
      "cell_type": "code",
      "source": [
        "df2 = df.sort_values(by=['average_price_corect'], ascending=False).reset_index(drop=True)"
      ],
      "metadata": {
        "id": "hJbeMzMbCfr6"
      },
      "execution_count": 15,
      "outputs": []
    },
    {
      "cell_type": "code",
      "source": [
        "df2.head()"
      ],
      "metadata": {
        "colab": {
          "base_uri": "https://localhost:8080/",
          "height": 206
        },
        "id": "MQRfyA-eClqG",
        "outputId": "59631c9d-0b69-4781-ea6b-39382a1545e2"
      },
      "execution_count": 16,
      "outputs": [
        {
          "output_type": "execute_result",
          "data": {
            "text/plain": [
              "       state  colonies_number  yield_per_colony  production  stocks  \\\n",
              "0  NewJersey            13000                28      167000  167000   \n",
              "1   Virginia             6000                40       79000   79000   \n",
              "2  NewJersey            13000                31      165000  165000   \n",
              "3   Virginia             4000                40       35000   35000   \n",
              "4   Virginia             5000                39       49000   49000   \n",
              "\n",
              "   average_price  value_of_production  year  average_price_corect  \n",
              "0         874.00              3181000  2017                 874.0  \n",
              "1           8.23              1975000  2021                 823.0  \n",
              "2           7.47              3010000  2018                 747.0  \n",
              "3           7.24              1158000  2018                 724.0  \n",
              "4           7.19              1402000  2019                 719.0  "
            ],
            "text/html": [
              "\n",
              "  <div id=\"df-854fabd3-ba29-4386-a363-231bfc81d557\">\n",
              "    <div class=\"colab-df-container\">\n",
              "      <div>\n",
              "<style scoped>\n",
              "    .dataframe tbody tr th:only-of-type {\n",
              "        vertical-align: middle;\n",
              "    }\n",
              "\n",
              "    .dataframe tbody tr th {\n",
              "        vertical-align: top;\n",
              "    }\n",
              "\n",
              "    .dataframe thead th {\n",
              "        text-align: right;\n",
              "    }\n",
              "</style>\n",
              "<table border=\"1\" class=\"dataframe\">\n",
              "  <thead>\n",
              "    <tr style=\"text-align: right;\">\n",
              "      <th></th>\n",
              "      <th>state</th>\n",
              "      <th>colonies_number</th>\n",
              "      <th>yield_per_colony</th>\n",
              "      <th>production</th>\n",
              "      <th>stocks</th>\n",
              "      <th>average_price</th>\n",
              "      <th>value_of_production</th>\n",
              "      <th>year</th>\n",
              "      <th>average_price_corect</th>\n",
              "    </tr>\n",
              "  </thead>\n",
              "  <tbody>\n",
              "    <tr>\n",
              "      <th>0</th>\n",
              "      <td>NewJersey</td>\n",
              "      <td>13000</td>\n",
              "      <td>28</td>\n",
              "      <td>167000</td>\n",
              "      <td>167000</td>\n",
              "      <td>874.00</td>\n",
              "      <td>3181000</td>\n",
              "      <td>2017</td>\n",
              "      <td>874.0</td>\n",
              "    </tr>\n",
              "    <tr>\n",
              "      <th>1</th>\n",
              "      <td>Virginia</td>\n",
              "      <td>6000</td>\n",
              "      <td>40</td>\n",
              "      <td>79000</td>\n",
              "      <td>79000</td>\n",
              "      <td>8.23</td>\n",
              "      <td>1975000</td>\n",
              "      <td>2021</td>\n",
              "      <td>823.0</td>\n",
              "    </tr>\n",
              "    <tr>\n",
              "      <th>2</th>\n",
              "      <td>NewJersey</td>\n",
              "      <td>13000</td>\n",
              "      <td>31</td>\n",
              "      <td>165000</td>\n",
              "      <td>165000</td>\n",
              "      <td>7.47</td>\n",
              "      <td>3010000</td>\n",
              "      <td>2018</td>\n",
              "      <td>747.0</td>\n",
              "    </tr>\n",
              "    <tr>\n",
              "      <th>3</th>\n",
              "      <td>Virginia</td>\n",
              "      <td>4000</td>\n",
              "      <td>40</td>\n",
              "      <td>35000</td>\n",
              "      <td>35000</td>\n",
              "      <td>7.24</td>\n",
              "      <td>1158000</td>\n",
              "      <td>2018</td>\n",
              "      <td>724.0</td>\n",
              "    </tr>\n",
              "    <tr>\n",
              "      <th>4</th>\n",
              "      <td>Virginia</td>\n",
              "      <td>5000</td>\n",
              "      <td>39</td>\n",
              "      <td>49000</td>\n",
              "      <td>49000</td>\n",
              "      <td>7.19</td>\n",
              "      <td>1402000</td>\n",
              "      <td>2019</td>\n",
              "      <td>719.0</td>\n",
              "    </tr>\n",
              "  </tbody>\n",
              "</table>\n",
              "</div>\n",
              "      <button class=\"colab-df-convert\" onclick=\"convertToInteractive('df-854fabd3-ba29-4386-a363-231bfc81d557')\"\n",
              "              title=\"Convert this dataframe to an interactive table.\"\n",
              "              style=\"display:none;\">\n",
              "        \n",
              "  <svg xmlns=\"http://www.w3.org/2000/svg\" height=\"24px\"viewBox=\"0 0 24 24\"\n",
              "       width=\"24px\">\n",
              "    <path d=\"M0 0h24v24H0V0z\" fill=\"none\"/>\n",
              "    <path d=\"M18.56 5.44l.94 2.06.94-2.06 2.06-.94-2.06-.94-.94-2.06-.94 2.06-2.06.94zm-11 1L8.5 8.5l.94-2.06 2.06-.94-2.06-.94L8.5 2.5l-.94 2.06-2.06.94zm10 10l.94 2.06.94-2.06 2.06-.94-2.06-.94-.94-2.06-.94 2.06-2.06.94z\"/><path d=\"M17.41 7.96l-1.37-1.37c-.4-.4-.92-.59-1.43-.59-.52 0-1.04.2-1.43.59L10.3 9.45l-7.72 7.72c-.78.78-.78 2.05 0 2.83L4 21.41c.39.39.9.59 1.41.59.51 0 1.02-.2 1.41-.59l7.78-7.78 2.81-2.81c.8-.78.8-2.07 0-2.86zM5.41 20L4 18.59l7.72-7.72 1.47 1.35L5.41 20z\"/>\n",
              "  </svg>\n",
              "      </button>\n",
              "      \n",
              "  <style>\n",
              "    .colab-df-container {\n",
              "      display:flex;\n",
              "      flex-wrap:wrap;\n",
              "      gap: 12px;\n",
              "    }\n",
              "\n",
              "    .colab-df-convert {\n",
              "      background-color: #E8F0FE;\n",
              "      border: none;\n",
              "      border-radius: 50%;\n",
              "      cursor: pointer;\n",
              "      display: none;\n",
              "      fill: #1967D2;\n",
              "      height: 32px;\n",
              "      padding: 0 0 0 0;\n",
              "      width: 32px;\n",
              "    }\n",
              "\n",
              "    .colab-df-convert:hover {\n",
              "      background-color: #E2EBFA;\n",
              "      box-shadow: 0px 1px 2px rgba(60, 64, 67, 0.3), 0px 1px 3px 1px rgba(60, 64, 67, 0.15);\n",
              "      fill: #174EA6;\n",
              "    }\n",
              "\n",
              "    [theme=dark] .colab-df-convert {\n",
              "      background-color: #3B4455;\n",
              "      fill: #D2E3FC;\n",
              "    }\n",
              "\n",
              "    [theme=dark] .colab-df-convert:hover {\n",
              "      background-color: #434B5C;\n",
              "      box-shadow: 0px 1px 3px 1px rgba(0, 0, 0, 0.15);\n",
              "      filter: drop-shadow(0px 1px 2px rgba(0, 0, 0, 0.3));\n",
              "      fill: #FFFFFF;\n",
              "    }\n",
              "  </style>\n",
              "\n",
              "      <script>\n",
              "        const buttonEl =\n",
              "          document.querySelector('#df-854fabd3-ba29-4386-a363-231bfc81d557 button.colab-df-convert');\n",
              "        buttonEl.style.display =\n",
              "          google.colab.kernel.accessAllowed ? 'block' : 'none';\n",
              "\n",
              "        async function convertToInteractive(key) {\n",
              "          const element = document.querySelector('#df-854fabd3-ba29-4386-a363-231bfc81d557');\n",
              "          const dataTable =\n",
              "            await google.colab.kernel.invokeFunction('convertToInteractive',\n",
              "                                                     [key], {});\n",
              "          if (!dataTable) return;\n",
              "\n",
              "          const docLinkHtml = 'Like what you see? Visit the ' +\n",
              "            '<a target=\"_blank\" href=https://colab.research.google.com/notebooks/data_table.ipynb>data table notebook</a>'\n",
              "            + ' to learn more about interactive tables.';\n",
              "          element.innerHTML = '';\n",
              "          dataTable['output_type'] = 'display_data';\n",
              "          await google.colab.output.renderOutput(dataTable, element);\n",
              "          const docLink = document.createElement('div');\n",
              "          docLink.innerHTML = docLinkHtml;\n",
              "          element.appendChild(docLink);\n",
              "        }\n",
              "      </script>\n",
              "    </div>\n",
              "  </div>\n",
              "  "
            ]
          },
          "metadata": {},
          "execution_count": 16
        }
      ]
    },
    {
      "cell_type": "code",
      "source": [
        "fig, ax=plt.subplots(figsize=(12,10))\n",
        "ax.bar(df2['state'], df2['average_price'])\n",
        "ax.xaxis.set_tick_params(rotation=90)\n",
        "ax.set_ylabel('Average price [$]')\n",
        "\n",
        "plt.show()"
      ],
      "metadata": {
        "colab": {
          "base_uri": "https://localhost:8080/",
          "height": 652
        },
        "id": "XGqWXr-w-fCk",
        "outputId": "e5e264fd-136e-43bf-9966-8c31baf1f328"
      },
      "execution_count": 17,
      "outputs": [
        {
          "output_type": "display_data",
          "data": {
            "text/plain": [
              "<Figure size 864x720 with 1 Axes>"
            ],
            "image/png": "[encoded data removed]"
          },
          "metadata": {
            "needs_background": "light"
          }
        }
      ]
    },
    {
      "cell_type": "markdown",
      "source": [
        "*CONCLUSIONS:* Newjersey has the highest unit selling price"
      ],
      "metadata": {
        "id": "mzvIXPIsMtOz"
      }
    },
    {
      "cell_type": "code",
      "source": [
        "sns.scatterplot(x='colonies_number', y='average_price_corect', data=df, hue='state')\n",
        "plt.xlabel('Colonies number')\n",
        "plt.ylabel('Average pricec')\n",
        "plt.legend(loc=2, bbox_to_anchor=(1,1))"
      ],
      "metadata": {
        "colab": {
          "base_uri": "https://localhost:8080/",
          "height": 716
        },
        "id": "28HtdyenpNQt",
        "outputId": "084db9cb-1bd9-440f-f9e6-cfc2f8dddc85"
      },
      "execution_count": 18,
      "outputs": [
        {
          "output_type": "execute_result",
          "data": {
            "text/plain": [
              "<matplotlib.legend.Legend at 0x7f6a10757790>"
            ]
          },
          "metadata": {},
          "execution_count": 18
        },
        {
          "output_type": "display_data",
          "data": {
            "text/plain": [
              "<Figure size 432x288 with 1 Axes>"
            ],
            "image/png": "[encoded data removed]"
          },
          "metadata": {
            "needs_background": "light"
          }
        }
      ]
    },
    {
      "cell_type": "markdown",
      "source": [
        "*CONCLUSIONS:* A high density of colonies number between 0 - 100000 is present in the chart"
      ],
      "metadata": {
        "id": "WddHbvu5Mvx_"
      }
    },
    {
      "cell_type": "code",
      "source": [
        "fig, ax=plt.subplots()\n",
        "ax.hist(df['production'], bins='auto')\n",
        "ax.set_xlabel('Production [pounds]')\n",
        "\n",
        "plt.show()"
      ],
      "metadata": {
        "colab": {
          "base_uri": "https://localhost:8080/",
          "height": 279
        },
        "id": "PHJlABTw5CdK",
        "outputId": "b1351497-66b2-4aff-afe2-9580882fd412"
      },
      "execution_count": 19,
      "outputs": [
        {
          "output_type": "display_data",
          "data": {
            "text/plain": [
              "<Figure size 432x288 with 1 Axes>"
            ],
            "image/png": "[encoded data removed]"
          },
          "metadata": {
            "needs_background": "light"
          }
        }
      ]
    },
    {
      "cell_type": "markdown",
      "source": [
        "*CONCLUSIONS:* visualization of data using a histogram indicates the lack of normal distribution of data"
      ],
      "metadata": {
        "id": "MpS0uULANA16"
      }
    },
    {
      "cell_type": "markdown",
      "source": [
        "# **6.Outlier analysis using boxplot**"
      ],
      "metadata": {
        "id": "IfjMrIWij1HE"
      }
    },
    {
      "cell_type": "code",
      "source": [
        "fig, ax=plt.subplots(figsize=(15,15))\n",
        "\n",
        "box=ax.boxplot([df['production'].dropna(),\n",
        "                df['average_price_corect'].dropna(),\n",
        "                df['stocks'].dropna(),\n",
        "                df['colonies_number'].dropna()],\n",
        "               patch_artist=True)\n",
        "\n",
        "ax.set_xticklabels(['production', 'average_price_corect', 'stocks', 'colonies_number'])\n",
        "\n",
        "colors=['blue', 'black', 'lightgreen', 'red']\n",
        "\n",
        "for patch, color in zip(box['boxes'], colors):\n",
        "  patch.set_facecolor(color)\n",
        "\n",
        "\n",
        "plt.show()"
      ],
      "metadata": {
        "colab": {
          "base_uri": "https://localhost:8080/",
          "height": 875
        },
        "id": "T5AEpzK3XodF",
        "outputId": "0249f734-6a3e-4a55-b516-3797f8577f0b"
      },
      "execution_count": 20,
      "outputs": [
        {
          "output_type": "display_data",
          "data": {
            "text/plain": [
              "<Figure size 1080x1080 with 1 Axes>"
            ],
            "image/png": "[encoded data removed]"
          },
          "metadata": {
            "needs_background": "light"
          }
        }
      ]
    },
    {
      "cell_type": "markdown",
      "source": [
        "*CONCLUSIONS:* \n",
        "Thanks to the use of boxplot, you can observe the upper outliers, the upper or third quartile, the median or the second quartile and the lower or first quartile"
      ],
      "metadata": {
        "id": "wTcGlZQANEim"
      }
    },
    {
      "cell_type": "markdown",
      "source": [
        "# **7. Checking values ​​for categorical variables**"
      ],
      "metadata": {
        "id": "aQv40Ou0mMJk"
      }
    },
    {
      "cell_type": "code",
      "source": [
        "df['state'].value_counts()"
      ],
      "metadata": {
        "colab": {
          "base_uri": "https://localhost:8080/"
        },
        "id": "TPyFr9U8mTxm",
        "outputId": "20623caa-4785-41f1-b219-216e520155ed"
      },
      "execution_count": 21,
      "outputs": [
        {
          "output_type": "execute_result",
          "data": {
            "text/plain": [
              "Alabama          27\n",
              "Missouri         27\n",
              "Arizona          27\n",
              "NewJersey        27\n",
              "NewYork          27\n",
              "NorthCarolina    27\n",
              "NorthDakota      27\n",
              "Ohio             27\n",
              "Oregon           27\n",
              "Pennsylvania     27\n",
              "SouthDakota      27\n",
              "Tennessee        27\n",
              "Texas            27\n",
              "Utah             27\n",
              "Vermont          27\n",
              "Virginia         27\n",
              "Washington       27\n",
              "WestVirginia     27\n",
              "Wisconsin        27\n",
              "Montana          27\n",
              "Nebraska         27\n",
              "Mississippi      27\n",
              "Minnesota        27\n",
              "Arkansas         27\n",
              "California       27\n",
              "Colorado         27\n",
              "Florida          27\n",
              "Georgia          27\n",
              "Hawaii           27\n",
              "Idaho            27\n",
              "Illinois         27\n",
              "Indiana          27\n",
              "Iowa             27\n",
              "Kansas           27\n",
              "Louisiana        27\n",
              "Maine            27\n",
              "Michigan         27\n",
              "Wyoming          27\n",
              "Kentucky         26\n",
              "NewMexico        18\n",
              "Nevada           15\n",
              "SouthCarolina    12\n",
              "Oklahoma          9\n",
              "Maryland          9\n",
              "Name: state, dtype: int64"
            ]
          },
          "metadata": {},
          "execution_count": 21
        }
      ]
    },
    {
      "cell_type": "markdown",
      "source": [
        "#**8.What to do with categorical variables?**\n",
        "OneHotEncoder"
      ],
      "metadata": {
        "id": "pSKXNm8fxefw"
      }
    },
    {
      "cell_type": "code",
      "source": [
        "df_state = df['state'] # wybranie zmiennych kategorycznych\n",
        "df_state = pd.get_dummies(data=df_state) # stworzenie dummies\n",
        "df_state = df.join(df_state) #polaczenie oryginalnego df z dummies\n",
        "\n",
        "df_state.head()"
      ],
      "metadata": {
        "colab": {
          "base_uri": "https://localhost:8080/",
          "height": 300
        },
        "id": "kAHsXJ8kecsY",
        "outputId": "c523e69f-14a5-44c3-e238-37f057e8bf56"
      },
      "execution_count": 22,
      "outputs": [
        {
          "output_type": "execute_result",
          "data": {
            "text/plain": [
              "        state  colonies_number  yield_per_colony  production   stocks  \\\n",
              "0     Alabama            16000                58      928000    28000   \n",
              "1     Arizona            52000                79     4108000   986000   \n",
              "2    Arkansas            50000                60     3000000   900000   \n",
              "3  California           420000                93    39060000  4687000   \n",
              "4    Colorado            45000                60     2700000  1404000   \n",
              "\n",
              "   average_price  value_of_production  year  average_price_corect  Alabama  \\\n",
              "0           62.0               575000  1995                  62.0        1   \n",
              "1           68.0              2793000  1995                  68.0        0   \n",
              "2           64.0              1920000  1995                  64.0        0   \n",
              "3           60.0             23436000  1995                  60.0        0   \n",
              "4           68.0              1836000  1995                  68.0        0   \n",
              "\n",
              "   ...  SouthDakota  Tennessee  Texas  Utah  Vermont  Virginia  Washington  \\\n",
              "0  ...            0          0      0     0        0         0           0   \n",
              "1  ...            0          0      0     0        0         0           0   \n",
              "2  ...            0          0      0     0        0         0           0   \n",
              "3  ...            0          0      0     0        0         0           0   \n",
              "4  ...            0          0      0     0        0         0           0   \n",
              "\n",
              "   WestVirginia  Wisconsin  Wyoming  \n",
              "0             0          0        0  \n",
              "1             0          0        0  \n",
              "2             0          0        0  \n",
              "3             0          0        0  \n",
              "4             0          0        0  \n",
              "\n",
              "[5 rows x 53 columns]"
            ],
            "text/html": [
              "\n",
              "  <div id=\"df-f05ff005-7705-4bfe-8d05-81dc6440ccf0\">\n",
              "    <div class=\"colab-df-container\">\n",
              "      <div>\n",
              "<style scoped>\n",
              "    .dataframe tbody tr th:only-of-type {\n",
              "        vertical-align: middle;\n",
              "    }\n",
              "\n",
              "    .dataframe tbody tr th {\n",
              "        vertical-align: top;\n",
              "    }\n",
              "\n",
              "    .dataframe thead th {\n",
              "        text-align: right;\n",
              "    }\n",
              "</style>\n",
              "<table border=\"1\" class=\"dataframe\">\n",
              "  <thead>\n",
              "    <tr style=\"text-align: right;\">\n",
              "      <th></th>\n",
              "      <th>state</th>\n",
              "      <th>colonies_number</th>\n",
              "      <th>yield_per_colony</th>\n",
              "      <th>production</th>\n",
              "      <th>stocks</th>\n",
              "      <th>average_price</th>\n",
              "      <th>value_of_production</th>\n",
              "      <th>year</th>\n",
              "      <th>average_price_corect</th>\n",
              "      <th>Alabama</th>\n",
              "      <th>...</th>\n",
              "      <th>SouthDakota</th>\n",
              "      <th>Tennessee</th>\n",
              "      <th>Texas</th>\n",
              "      <th>Utah</th>\n",
              "      <th>Vermont</th>\n",
              "      <th>Virginia</th>\n",
              "      <th>Washington</th>\n",
              "      <th>WestVirginia</th>\n",
              "      <th>Wisconsin</th>\n",
              "      <th>Wyoming</th>\n",
              "    </tr>\n",
              "  </thead>\n",
              "  <tbody>\n",
              "    <tr>\n",
              "      <th>0</th>\n",
              "      <td>Alabama</td>\n",
              "      <td>16000</td>\n",
              "      <td>58</td>\n",
              "      <td>928000</td>\n",
              "      <td>28000</td>\n",
              "      <td>62.0</td>\n",
              "      <td>575000</td>\n",
              "      <td>1995</td>\n",
              "      <td>62.0</td>\n",
              "      <td>1</td>\n",
              "      <td>...</td>\n",
              "      <td>0</td>\n",
              "      <td>0</td>\n",
              "      <td>0</td>\n",
              "      <td>0</td>\n",
              "      <td>0</td>\n",
              "      <td>0</td>\n",
              "      <td>0</td>\n",
              "      <td>0</td>\n",
              "      <td>0</td>\n",
              "      <td>0</td>\n",
              "    </tr>\n",
              "    <tr>\n",
              "      <th>1</th>\n",
              "      <td>Arizona</td>\n",
              "      <td>52000</td>\n",
              "      <td>79</td>\n",
              "      <td>4108000</td>\n",
              "      <td>986000</td>\n",
              "      <td>68.0</td>\n",
              "      <td>2793000</td>\n",
              "      <td>1995</td>\n",
              "      <td>68.0</td>\n",
              "      <td>0</td>\n",
              "      <td>...</td>\n",
              "      <td>0</td>\n",
              "      <td>0</td>\n",
              "      <td>0</td>\n",
              "      <td>0</td>\n",
              "      <td>0</td>\n",
              "      <td>0</td>\n",
              "      <td>0</td>\n",
              "      <td>0</td>\n",
              "      <td>0</td>\n",
              "      <td>0</td>\n",
              "    </tr>\n",
              "    <tr>\n",
              "      <th>2</th>\n",
              "      <td>Arkansas</td>\n",
              "      <td>50000</td>\n",
              "      <td>60</td>\n",
              "      <td>3000000</td>\n",
              "      <td>900000</td>\n",
              "      <td>64.0</td>\n",
              "      <td>1920000</td>\n",
              "      <td>1995</td>\n",
              "      <td>64.0</td>\n",
              "      <td>0</td>\n",
              "      <td>...</td>\n",
              "      <td>0</td>\n",
              "      <td>0</td>\n",
              "      <td>0</td>\n",
              "      <td>0</td>\n",
              "      <td>0</td>\n",
              "      <td>0</td>\n",
              "      <td>0</td>\n",
              "      <td>0</td>\n",
              "      <td>0</td>\n",
              "      <td>0</td>\n",
              "    </tr>\n",
              "    <tr>\n",
              "      <th>3</th>\n",
              "      <td>California</td>\n",
              "      <td>420000</td>\n",
              "      <td>93</td>\n",
              "      <td>39060000</td>\n",
              "      <td>4687000</td>\n",
              "      <td>60.0</td>\n",
              "      <td>23436000</td>\n",
              "      <td>1995</td>\n",
              "      <td>60.0</td>\n",
              "      <td>0</td>\n",
              "      <td>...</td>\n",
              "      <td>0</td>\n",
              "      <td>0</td>\n",
              "      <td>0</td>\n",
              "      <td>0</td>\n",
              "      <td>0</td>\n",
              "      <td>0</td>\n",
              "      <td>0</td>\n",
              "      <td>0</td>\n",
              "      <td>0</td>\n",
              "      <td>0</td>\n",
              "    </tr>\n",
              "    <tr>\n",
              "      <th>4</th>\n",
              "      <td>Colorado</td>\n",
              "      <td>45000</td>\n",
              "      <td>60</td>\n",
              "      <td>2700000</td>\n",
              "      <td>1404000</td>\n",
              "      <td>68.0</td>\n",
              "      <td>1836000</td>\n",
              "      <td>1995</td>\n",
              "      <td>68.0</td>\n",
              "      <td>0</td>\n",
              "      <td>...</td>\n",
              "      <td>0</td>\n",
              "      <td>0</td>\n",
              "      <td>0</td>\n",
              "      <td>0</td>\n",
              "      <td>0</td>\n",
              "      <td>0</td>\n",
              "      <td>0</td>\n",
              "      <td>0</td>\n",
              "      <td>0</td>\n",
              "      <td>0</td>\n",
              "    </tr>\n",
              "  </tbody>\n",
              "</table>\n",
              "<p>5 rows × 53 columns</p>\n",
              "</div>\n",
              "      <button class=\"colab-df-convert\" onclick=\"convertToInteractive('df-f05ff005-7705-4bfe-8d05-81dc6440ccf0')\"\n",
              "              title=\"Convert this dataframe to an interactive table.\"\n",
              "              style=\"display:none;\">\n",
              "        \n",
              "  <svg xmlns=\"http://www.w3.org/2000/svg\" height=\"24px\"viewBox=\"0 0 24 24\"\n",
              "       width=\"24px\">\n",
              "    <path d=\"M0 0h24v24H0V0z\" fill=\"none\"/>\n",
              "    <path d=\"M18.56 5.44l.94 2.06.94-2.06 2.06-.94-2.06-.94-.94-2.06-.94 2.06-2.06.94zm-11 1L8.5 8.5l.94-2.06 2.06-.94-2.06-.94L8.5 2.5l-.94 2.06-2.06.94zm10 10l.94 2.06.94-2.06 2.06-.94-2.06-.94-.94-2.06-.94 2.06-2.06.94z\"/><path d=\"M17.41 7.96l-1.37-1.37c-.4-.4-.92-.59-1.43-.59-.52 0-1.04.2-1.43.59L10.3 9.45l-7.72 7.72c-.78.78-.78 2.05 0 2.83L4 21.41c.39.39.9.59 1.41.59.51 0 1.02-.2 1.41-.59l7.78-7.78 2.81-2.81c.8-.78.8-2.07 0-2.86zM5.41 20L4 18.59l7.72-7.72 1.47 1.35L5.41 20z\"/>\n",
              "  </svg>\n",
              "      </button>\n",
              "      \n",
              "  <style>\n",
              "    .colab-df-container {\n",
              "      display:flex;\n",
              "      flex-wrap:wrap;\n",
              "      gap: 12px;\n",
              "    }\n",
              "\n",
              "    .colab-df-convert {\n",
              "      background-color: #E8F0FE;\n",
              "      border: none;\n",
              "      border-radius: 50%;\n",
              "      cursor: pointer;\n",
              "      display: none;\n",
              "      fill: #1967D2;\n",
              "      height: 32px;\n",
              "      padding: 0 0 0 0;\n",
              "      width: 32px;\n",
              "    }\n",
              "\n",
              "    .colab-df-convert:hover {\n",
              "      background-color: #E2EBFA;\n",
              "      box-shadow: 0px 1px 2px rgba(60, 64, 67, 0.3), 0px 1px 3px 1px rgba(60, 64, 67, 0.15);\n",
              "      fill: #174EA6;\n",
              "    }\n",
              "\n",
              "    [theme=dark] .colab-df-convert {\n",
              "      background-color: #3B4455;\n",
              "      fill: #D2E3FC;\n",
              "    }\n",
              "\n",
              "    [theme=dark] .colab-df-convert:hover {\n",
              "      background-color: #434B5C;\n",
              "      box-shadow: 0px 1px 3px 1px rgba(0, 0, 0, 0.15);\n",
              "      filter: drop-shadow(0px 1px 2px rgba(0, 0, 0, 0.3));\n",
              "      fill: #FFFFFF;\n",
              "    }\n",
              "  </style>\n",
              "\n",
              "      <script>\n",
              "        const buttonEl =\n",
              "          document.querySelector('#df-f05ff005-7705-4bfe-8d05-81dc6440ccf0 button.colab-df-convert');\n",
              "        buttonEl.style.display =\n",
              "          google.colab.kernel.accessAllowed ? 'block' : 'none';\n",
              "\n",
              "        async function convertToInteractive(key) {\n",
              "          const element = document.querySelector('#df-f05ff005-7705-4bfe-8d05-81dc6440ccf0');\n",
              "          const dataTable =\n",
              "            await google.colab.kernel.invokeFunction('convertToInteractive',\n",
              "                                                     [key], {});\n",
              "          if (!dataTable) return;\n",
              "\n",
              "          const docLinkHtml = 'Like what you see? Visit the ' +\n",
              "            '<a target=\"_blank\" href=https://colab.research.google.com/notebooks/data_table.ipynb>data table notebook</a>'\n",
              "            + ' to learn more about interactive tables.';\n",
              "          element.innerHTML = '';\n",
              "          dataTable['output_type'] = 'display_data';\n",
              "          await google.colab.output.renderOutput(dataTable, element);\n",
              "          const docLink = document.createElement('div');\n",
              "          docLink.innerHTML = docLinkHtml;\n",
              "          element.appendChild(docLink);\n",
              "        }\n",
              "      </script>\n",
              "    </div>\n",
              "  </div>\n",
              "  "
            ]
          },
          "metadata": {},
          "execution_count": 22
        }
      ]
    },
    {
      "cell_type": "markdown",
      "source": [
        "# **9. Checking for outliers for variables**"
      ],
      "metadata": {
        "id": "15MF0VfBxlWE"
      }
    },
    {
      "cell_type": "code",
      "source": [
        "df.quantile([0.01,0.05, 0.25, 0.5, 0.75, 0.95, 0.99])"
      ],
      "metadata": {
        "colab": {
          "base_uri": "https://localhost:8080/",
          "height": 269
        },
        "id": "t5V8paCq4lBN",
        "outputId": "1372cc0f-6017-4066-b28a-e6bf3f6f6ebc"
      },
      "execution_count": 23,
      "outputs": [
        {
          "output_type": "execute_result",
          "data": {
            "text/plain": [
              "      colonies_number  yield_per_colony  production      stocks  \\\n",
              "0.01           3000.0             27.00     24140.0     18140.0   \n",
              "0.05           5000.0             33.00     52700.0     41700.0   \n",
              "0.25           9000.0             45.00    246000.0    112500.0   \n",
              "0.50          26000.0             57.00    828000.0    370000.0   \n",
              "0.75          69000.0             71.00   2700000.0   1253500.0   \n",
              "0.95         261500.0             96.30  13509000.0   5240900.0   \n",
              "0.99         477200.0            118.86  30000000.0  10859980.0   \n",
              "\n",
              "      average_price  value_of_production    year  average_price_corect  \n",
              "0.01         1.6914             229840.0  1995.0                 55.14  \n",
              "0.05         2.3200             372100.0  1996.0                 63.00  \n",
              "0.25        70.0000            1008000.0  2001.0                102.50  \n",
              "0.50       128.0000            2281000.0  2008.0                155.00  \n",
              "0.75       193.0000            5704000.0  2015.0                223.00  \n",
              "0.95       360.3000           23097500.0  2020.0                413.60  \n",
              "0.99       486.6000           50342100.0  2021.0                576.86  "
            ],
            "text/html": [
              "\n",
              "  <div id=\"df-7f0ec007-6f6f-4a4b-9d11-1f2fcd5feac4\">\n",
              "    <div class=\"colab-df-container\">\n",
              "      <div>\n",
              "<style scoped>\n",
              "    .dataframe tbody tr th:only-of-type {\n",
              "        vertical-align: middle;\n",
              "    }\n",
              "\n",
              "    .dataframe tbody tr th {\n",
              "        vertical-align: top;\n",
              "    }\n",
              "\n",
              "    .dataframe thead th {\n",
              "        text-align: right;\n",
              "    }\n",
              "</style>\n",
              "<table border=\"1\" class=\"dataframe\">\n",
              "  <thead>\n",
              "    <tr style=\"text-align: right;\">\n",
              "      <th></th>\n",
              "      <th>colonies_number</th>\n",
              "      <th>yield_per_colony</th>\n",
              "      <th>production</th>\n",
              "      <th>stocks</th>\n",
              "      <th>average_price</th>\n",
              "      <th>value_of_production</th>\n",
              "      <th>year</th>\n",
              "      <th>average_price_corect</th>\n",
              "    </tr>\n",
              "  </thead>\n",
              "  <tbody>\n",
              "    <tr>\n",
              "      <th>0.01</th>\n",
              "      <td>3000.0</td>\n",
              "      <td>27.00</td>\n",
              "      <td>24140.0</td>\n",
              "      <td>18140.0</td>\n",
              "      <td>1.6914</td>\n",
              "      <td>229840.0</td>\n",
              "      <td>1995.0</td>\n",
              "      <td>55.14</td>\n",
              "    </tr>\n",
              "    <tr>\n",
              "      <th>0.05</th>\n",
              "      <td>5000.0</td>\n",
              "      <td>33.00</td>\n",
              "      <td>52700.0</td>\n",
              "      <td>41700.0</td>\n",
              "      <td>2.3200</td>\n",
              "      <td>372100.0</td>\n",
              "      <td>1996.0</td>\n",
              "      <td>63.00</td>\n",
              "    </tr>\n",
              "    <tr>\n",
              "      <th>0.25</th>\n",
              "      <td>9000.0</td>\n",
              "      <td>45.00</td>\n",
              "      <td>246000.0</td>\n",
              "      <td>112500.0</td>\n",
              "      <td>70.0000</td>\n",
              "      <td>1008000.0</td>\n",
              "      <td>2001.0</td>\n",
              "      <td>102.50</td>\n",
              "    </tr>\n",
              "    <tr>\n",
              "      <th>0.50</th>\n",
              "      <td>26000.0</td>\n",
              "      <td>57.00</td>\n",
              "      <td>828000.0</td>\n",
              "      <td>370000.0</td>\n",
              "      <td>128.0000</td>\n",
              "      <td>2281000.0</td>\n",
              "      <td>2008.0</td>\n",
              "      <td>155.00</td>\n",
              "    </tr>\n",
              "    <tr>\n",
              "      <th>0.75</th>\n",
              "      <td>69000.0</td>\n",
              "      <td>71.00</td>\n",
              "      <td>2700000.0</td>\n",
              "      <td>1253500.0</td>\n",
              "      <td>193.0000</td>\n",
              "      <td>5704000.0</td>\n",
              "      <td>2015.0</td>\n",
              "      <td>223.00</td>\n",
              "    </tr>\n",
              "    <tr>\n",
              "      <th>0.95</th>\n",
              "      <td>261500.0</td>\n",
              "      <td>96.30</td>\n",
              "      <td>13509000.0</td>\n",
              "      <td>5240900.0</td>\n",
              "      <td>360.3000</td>\n",
              "      <td>23097500.0</td>\n",
              "      <td>2020.0</td>\n",
              "      <td>413.60</td>\n",
              "    </tr>\n",
              "    <tr>\n",
              "      <th>0.99</th>\n",
              "      <td>477200.0</td>\n",
              "      <td>118.86</td>\n",
              "      <td>30000000.0</td>\n",
              "      <td>10859980.0</td>\n",
              "      <td>486.6000</td>\n",
              "      <td>50342100.0</td>\n",
              "      <td>2021.0</td>\n",
              "      <td>576.86</td>\n",
              "    </tr>\n",
              "  </tbody>\n",
              "</table>\n",
              "</div>\n",
              "      <button class=\"colab-df-convert\" onclick=\"convertToInteractive('df-7f0ec007-6f6f-4a4b-9d11-1f2fcd5feac4')\"\n",
              "              title=\"Convert this dataframe to an interactive table.\"\n",
              "              style=\"display:none;\">\n",
              "        \n",
              "  <svg xmlns=\"http://www.w3.org/2000/svg\" height=\"24px\"viewBox=\"0 0 24 24\"\n",
              "       width=\"24px\">\n",
              "    <path d=\"M0 0h24v24H0V0z\" fill=\"none\"/>\n",
              "    <path d=\"M18.56 5.44l.94 2.06.94-2.06 2.06-.94-2.06-.94-.94-2.06-.94 2.06-2.06.94zm-11 1L8.5 8.5l.94-2.06 2.06-.94-2.06-.94L8.5 2.5l-.94 2.06-2.06.94zm10 10l.94 2.06.94-2.06 2.06-.94-2.06-.94-.94-2.06-.94 2.06-2.06.94z\"/><path d=\"M17.41 7.96l-1.37-1.37c-.4-.4-.92-.59-1.43-.59-.52 0-1.04.2-1.43.59L10.3 9.45l-7.72 7.72c-.78.78-.78 2.05 0 2.83L4 21.41c.39.39.9.59 1.41.59.51 0 1.02-.2 1.41-.59l7.78-7.78 2.81-2.81c.8-.78.8-2.07 0-2.86zM5.41 20L4 18.59l7.72-7.72 1.47 1.35L5.41 20z\"/>\n",
              "  </svg>\n",
              "      </button>\n",
              "      \n",
              "  <style>\n",
              "    .colab-df-container {\n",
              "      display:flex;\n",
              "      flex-wrap:wrap;\n",
              "      gap: 12px;\n",
              "    }\n",
              "\n",
              "    .colab-df-convert {\n",
              "      background-color: #E8F0FE;\n",
              "      border: none;\n",
              "      border-radius: 50%;\n",
              "      cursor: pointer;\n",
              "      display: none;\n",
              "      fill: #1967D2;\n",
              "      height: 32px;\n",
              "      padding: 0 0 0 0;\n",
              "      width: 32px;\n",
              "    }\n",
              "\n",
              "    .colab-df-convert:hover {\n",
              "      background-color: #E2EBFA;\n",
              "      box-shadow: 0px 1px 2px rgba(60, 64, 67, 0.3), 0px 1px 3px 1px rgba(60, 64, 67, 0.15);\n",
              "      fill: #174EA6;\n",
              "    }\n",
              "\n",
              "    [theme=dark] .colab-df-convert {\n",
              "      background-color: #3B4455;\n",
              "      fill: #D2E3FC;\n",
              "    }\n",
              "\n",
              "    [theme=dark] .colab-df-convert:hover {\n",
              "      background-color: #434B5C;\n",
              "      box-shadow: 0px 1px 3px 1px rgba(0, 0, 0, 0.15);\n",
              "      filter: drop-shadow(0px 1px 2px rgba(0, 0, 0, 0.3));\n",
              "      fill: #FFFFFF;\n",
              "    }\n",
              "  </style>\n",
              "\n",
              "      <script>\n",
              "        const buttonEl =\n",
              "          document.querySelector('#df-7f0ec007-6f6f-4a4b-9d11-1f2fcd5feac4 button.colab-df-convert');\n",
              "        buttonEl.style.display =\n",
              "          google.colab.kernel.accessAllowed ? 'block' : 'none';\n",
              "\n",
              "        async function convertToInteractive(key) {\n",
              "          const element = document.querySelector('#df-7f0ec007-6f6f-4a4b-9d11-1f2fcd5feac4');\n",
              "          const dataTable =\n",
              "            await google.colab.kernel.invokeFunction('convertToInteractive',\n",
              "                                                     [key], {});\n",
              "          if (!dataTable) return;\n",
              "\n",
              "          const docLinkHtml = 'Like what you see? Visit the ' +\n",
              "            '<a target=\"_blank\" href=https://colab.research.google.com/notebooks/data_table.ipynb>data table notebook</a>'\n",
              "            + ' to learn more about interactive tables.';\n",
              "          element.innerHTML = '';\n",
              "          dataTable['output_type'] = 'display_data';\n",
              "          await google.colab.output.renderOutput(dataTable, element);\n",
              "          const docLink = document.createElement('div');\n",
              "          docLink.innerHTML = docLinkHtml;\n",
              "          element.appendChild(docLink);\n",
              "        }\n",
              "      </script>\n",
              "    </div>\n",
              "  </div>\n",
              "  "
            ]
          },
          "metadata": {},
          "execution_count": 23
        }
      ]
    },
    {
      "cell_type": "code",
      "source": [
        "fig, axes = plt.subplots(2,3, figsize=(20, 10))\n",
        "sns.distplot(df['colonies_number'], color='skyblue', ax=axes[0, 0])\n",
        "sns.distplot(df['yield_per_colony'], color='olive', ax=axes[0, 1])\n",
        "sns.distplot(df['production'], color='gold', ax=axes[1, 0])\n",
        "sns.distplot(df['stocks'], color='teal', ax=axes[1, 1])\n",
        "sns.distplot(df['average_price_corect'], color='green', ax=axes[0, 2])\n",
        "sns.distplot(df['value_of_production'], color='red', ax=axes[1, 2])\n",
        "plt.show()"
      ],
      "metadata": {
        "colab": {
          "base_uri": "https://localhost:8080/",
          "height": 1000
        },
        "id": "ReL70eLdaTS3",
        "outputId": "84844017-9f15-4eba-d79f-9053245bcce0"
      },
      "execution_count": 24,
      "outputs": [
        {
          "output_type": "stream",
          "name": "stderr",
          "text": [
            "/usr/local/lib/python3.8/dist-packages/seaborn/distributions.py:2619: FutureWarning:\n",
            "\n",
            "`distplot` is a deprecated function and will be removed in a future version. Please adapt your code to use either `displot` (a figure-level function with similar flexibility) or `histplot` (an axes-level function for histograms).\n",
            "\n",
            "/usr/local/lib/python3.8/dist-packages/seaborn/distributions.py:2619: FutureWarning:\n",
            "\n",
            "`distplot` is a deprecated function and will be removed in a future version. Please adapt your code to use either `displot` (a figure-level function with similar flexibility) or `histplot` (an axes-level function for histograms).\n",
            "\n",
            "/usr/local/lib/python3.8/dist-packages/seaborn/distributions.py:2619: FutureWarning:\n",
            "\n",
            "`distplot` is a deprecated function and will be removed in a future version. Please adapt your code to use either `displot` (a figure-level function with similar flexibility) or `histplot` (an axes-level function for histograms).\n",
            "\n",
            "/usr/local/lib/python3.8/dist-packages/seaborn/distributions.py:2619: FutureWarning:\n",
            "\n",
            "`distplot` is a deprecated function and will be removed in a future version. Please adapt your code to use either `displot` (a figure-level function with similar flexibility) or `histplot` (an axes-level function for histograms).\n",
            "\n",
            "/usr/local/lib/python3.8/dist-packages/seaborn/distributions.py:2619: FutureWarning:\n",
            "\n",
            "`distplot` is a deprecated function and will be removed in a future version. Please adapt your code to use either `displot` (a figure-level function with similar flexibility) or `histplot` (an axes-level function for histograms).\n",
            "\n",
            "/usr/local/lib/python3.8/dist-packages/seaborn/distributions.py:2619: FutureWarning:\n",
            "\n",
            "`distplot` is a deprecated function and will be removed in a future version. Please adapt your code to use either `displot` (a figure-level function with similar flexibility) or `histplot` (an axes-level function for histograms).\n",
            "\n"
          ]
        },
        {
          "output_type": "display_data",
          "data": {
            "text/plain": [
              "<Figure size 1440x720 with 6 Axes>"
            ],
            "image/png": "[encoded data removed]"
          },
          "metadata": {
            "needs_background": "light"
          }
        }
      ]
    },
    {
      "cell_type": "markdown",
      "source": [
        "*   Checking whether the set has a normal distribution D'Agostino-Pearson test"
      ],
      "metadata": {
        "id": "-C8OXMHEyWBM"
      }
    },
    {
      "cell_type": "code",
      "source": [
        "results = []\n",
        "for feature in df.columns:\n",
        "    alpha = 0.05\n",
        "    if df[feature].dtype != 'object':\n",
        "      p_value = scipy.stats.normaltest(df[feature])\n",
        "      results.append([feature, p_value])\n",
        "      if(p_value[1] < alpha):\n",
        "          print('For a variable \\'' + feature +'\\' reject the null hypothesis. The variable is NOT normally distributed. P-value:', p_value)\n",
        "      else:\n",
        "          print('For a variable \\'' + feature +'\\' no grounds for rejecting the null hypothesis were found. The variable COMES from a normal distribution. P-value:', p_value)"
      ],
      "metadata": {
        "id": "iWaJifDZpj_y",
        "colab": {
          "base_uri": "https://localhost:8080/"
        },
        "outputId": "b0159de5-2730-4cff-bef1-5a18f0856cad"
      },
      "execution_count": 84,
      "outputs": [
        {
          "output_type": "stream",
          "name": "stdout",
          "text": [
            "For a variable 'colonies_number' reject the null hypothesis. The variable is NOT normally distributed. P-value: NormaltestResult(statistic=645.2031249355281, pvalue=7.869036629048983e-141)\n",
            "For a variable 'yield_per_colony' reject the null hypothesis. The variable is NOT normally distributed. P-value: NormaltestResult(statistic=140.76888496875875, pvalue=2.706605856481851e-31)\n",
            "For a variable 'production' reject the null hypothesis. The variable is NOT normally distributed. P-value: NormaltestResult(statistic=845.8075130005496, pvalue=2.16387503184106e-184)\n",
            "For a variable 'stocks' reject the null hypothesis. The variable is NOT normally distributed. P-value: NormaltestResult(statistic=796.9122152103691, pvalue=8.968321867381252e-174)\n",
            "For a variable 'average_price' reject the null hypothesis. The variable is NOT normally distributed. P-value: NormaltestResult(statistic=322.6840965797898, pvalue=8.512139428408907e-71)\n",
            "For a variable 'value_of_production' reject the null hypothesis. The variable is NOT normally distributed. P-value: NormaltestResult(statistic=937.699008169827, pvalue=2.4057335943262457e-204)\n",
            "For a variable 'year' reject the null hypothesis. The variable is NOT normally distributed. P-value: NormaltestResult(statistic=915.8097069670775, pvalue=1.362852626180846e-199)\n",
            "For a variable 'average_price_corect' reject the null hypothesis. The variable is NOT normally distributed. P-value: NormaltestResult(statistic=398.0134927625747, pvalue=3.736527518700548e-87)\n",
            "For a variable 'production_Zscore' reject the null hypothesis. The variable is NOT normally distributed. P-value: NormaltestResult(statistic=845.8075130005492, pvalue=2.163875031841553e-184)\n"
          ]
        }
      ]
    },
    {
      "cell_type": "code",
      "source": [
        "summary_all = pd.DataFrame(results)\n",
        "summary_all.columns = ['variable_name', 'P-value']\n",
        "summary_all.set_index('variable_name', inplace = True)\n",
        "summary_all.sort_values('P-value', ascending = False, inplace = True)\n",
        "summary_all "
      ],
      "metadata": {
        "id": "tFKlRvFgpm_5",
        "colab": {
          "base_uri": "https://localhost:8080/",
          "height": 363
        },
        "outputId": "505d97b0-81db-4706-f137-dc0909216d82"
      },
      "execution_count": 85,
      "outputs": [
        {
          "output_type": "execute_result",
          "data": {
            "text/plain": [
              "                                                          P-value\n",
              "variable_name                                                    \n",
              "value_of_production   (937.699008169827, 2.4057335943262457e-204)\n",
              "year                  (915.8097069670775, 1.362852626180846e-199)\n",
              "production             (845.8075130005496, 2.16387503184106e-184)\n",
              "production_Zscore     (845.8075130005492, 2.163875031841553e-184)\n",
              "stocks                (796.9122152103691, 8.968321867381252e-174)\n",
              "colonies_number       (645.2031249355281, 7.869036629048983e-141)\n",
              "average_price_corect   (398.0134927625747, 3.736527518700548e-87)\n",
              "average_price          (322.6840965797898, 8.512139428408907e-71)\n",
              "yield_per_colony      (140.76888496875875, 2.706605856481851e-31)"
            ],
            "text/html": [
              "\n",
              "  <div id=\"df-7fdc602b-ffa2-4e7b-a2cb-e5b9359cf4d6\">\n",
              "    <div class=\"colab-df-container\">\n",
              "      <div>\n",
              "<style scoped>\n",
              "    .dataframe tbody tr th:only-of-type {\n",
              "        vertical-align: middle;\n",
              "    }\n",
              "\n",
              "    .dataframe tbody tr th {\n",
              "        vertical-align: top;\n",
              "    }\n",
              "\n",
              "    .dataframe thead th {\n",
              "        text-align: right;\n",
              "    }\n",
              "</style>\n",
              "<table border=\"1\" class=\"dataframe\">\n",
              "  <thead>\n",
              "    <tr style=\"text-align: right;\">\n",
              "      <th></th>\n",
              "      <th>P-value</th>\n",
              "    </tr>\n",
              "    <tr>\n",
              "      <th>variable_name</th>\n",
              "      <th></th>\n",
              "    </tr>\n",
              "  </thead>\n",
              "  <tbody>\n",
              "    <tr>\n",
              "      <th>value_of_production</th>\n",
              "      <td>(937.699008169827, 2.4057335943262457e-204)</td>\n",
              "    </tr>\n",
              "    <tr>\n",
              "      <th>year</th>\n",
              "      <td>(915.8097069670775, 1.362852626180846e-199)</td>\n",
              "    </tr>\n",
              "    <tr>\n",
              "      <th>production</th>\n",
              "      <td>(845.8075130005496, 2.16387503184106e-184)</td>\n",
              "    </tr>\n",
              "    <tr>\n",
              "      <th>production_Zscore</th>\n",
              "      <td>(845.8075130005492, 2.163875031841553e-184)</td>\n",
              "    </tr>\n",
              "    <tr>\n",
              "      <th>stocks</th>\n",
              "      <td>(796.9122152103691, 8.968321867381252e-174)</td>\n",
              "    </tr>\n",
              "    <tr>\n",
              "      <th>colonies_number</th>\n",
              "      <td>(645.2031249355281, 7.869036629048983e-141)</td>\n",
              "    </tr>\n",
              "    <tr>\n",
              "      <th>average_price_corect</th>\n",
              "      <td>(398.0134927625747, 3.736527518700548e-87)</td>\n",
              "    </tr>\n",
              "    <tr>\n",
              "      <th>average_price</th>\n",
              "      <td>(322.6840965797898, 8.512139428408907e-71)</td>\n",
              "    </tr>\n",
              "    <tr>\n",
              "      <th>yield_per_colony</th>\n",
              "      <td>(140.76888496875875, 2.706605856481851e-31)</td>\n",
              "    </tr>\n",
              "  </tbody>\n",
              "</table>\n",
              "</div>\n",
              "      <button class=\"colab-df-convert\" onclick=\"convertToInteractive('df-7fdc602b-ffa2-4e7b-a2cb-e5b9359cf4d6')\"\n",
              "              title=\"Convert this dataframe to an interactive table.\"\n",
              "              style=\"display:none;\">\n",
              "        \n",
              "  <svg xmlns=\"http://www.w3.org/2000/svg\" height=\"24px\"viewBox=\"0 0 24 24\"\n",
              "       width=\"24px\">\n",
              "    <path d=\"M0 0h24v24H0V0z\" fill=\"none\"/>\n",
              "    <path d=\"M18.56 5.44l.94 2.06.94-2.06 2.06-.94-2.06-.94-.94-2.06-.94 2.06-2.06.94zm-11 1L8.5 8.5l.94-2.06 2.06-.94-2.06-.94L8.5 2.5l-.94 2.06-2.06.94zm10 10l.94 2.06.94-2.06 2.06-.94-2.06-.94-.94-2.06-.94 2.06-2.06.94z\"/><path d=\"M17.41 7.96l-1.37-1.37c-.4-.4-.92-.59-1.43-.59-.52 0-1.04.2-1.43.59L10.3 9.45l-7.72 7.72c-.78.78-.78 2.05 0 2.83L4 21.41c.39.39.9.59 1.41.59.51 0 1.02-.2 1.41-.59l7.78-7.78 2.81-2.81c.8-.78.8-2.07 0-2.86zM5.41 20L4 18.59l7.72-7.72 1.47 1.35L5.41 20z\"/>\n",
              "  </svg>\n",
              "      </button>\n",
              "      \n",
              "  <style>\n",
              "    .colab-df-container {\n",
              "      display:flex;\n",
              "      flex-wrap:wrap;\n",
              "      gap: 12px;\n",
              "    }\n",
              "\n",
              "    .colab-df-convert {\n",
              "      background-color: #E8F0FE;\n",
              "      border: none;\n",
              "      border-radius: 50%;\n",
              "      cursor: pointer;\n",
              "      display: none;\n",
              "      fill: #1967D2;\n",
              "      height: 32px;\n",
              "      padding: 0 0 0 0;\n",
              "      width: 32px;\n",
              "    }\n",
              "\n",
              "    .colab-df-convert:hover {\n",
              "      background-color: #E2EBFA;\n",
              "      box-shadow: 0px 1px 2px rgba(60, 64, 67, 0.3), 0px 1px 3px 1px rgba(60, 64, 67, 0.15);\n",
              "      fill: #174EA6;\n",
              "    }\n",
              "\n",
              "    [theme=dark] .colab-df-convert {\n",
              "      background-color: #3B4455;\n",
              "      fill: #D2E3FC;\n",
              "    }\n",
              "\n",
              "    [theme=dark] .colab-df-convert:hover {\n",
              "      background-color: #434B5C;\n",
              "      box-shadow: 0px 1px 3px 1px rgba(0, 0, 0, 0.15);\n",
              "      filter: drop-shadow(0px 1px 2px rgba(0, 0, 0, 0.3));\n",
              "      fill: #FFFFFF;\n",
              "    }\n",
              "  </style>\n",
              "\n",
              "      <script>\n",
              "        const buttonEl =\n",
              "          document.querySelector('#df-7fdc602b-ffa2-4e7b-a2cb-e5b9359cf4d6 button.colab-df-convert');\n",
              "        buttonEl.style.display =\n",
              "          google.colab.kernel.accessAllowed ? 'block' : 'none';\n",
              "\n",
              "        async function convertToInteractive(key) {\n",
              "          const element = document.querySelector('#df-7fdc602b-ffa2-4e7b-a2cb-e5b9359cf4d6');\n",
              "          const dataTable =\n",
              "            await google.colab.kernel.invokeFunction('convertToInteractive',\n",
              "                                                     [key], {});\n",
              "          if (!dataTable) return;\n",
              "\n",
              "          const docLinkHtml = 'Like what you see? Visit the ' +\n",
              "            '<a target=\"_blank\" href=https://colab.research.google.com/notebooks/data_table.ipynb>data table notebook</a>'\n",
              "            + ' to learn more about interactive tables.';\n",
              "          element.innerHTML = '';\n",
              "          dataTable['output_type'] = 'display_data';\n",
              "          await google.colab.output.renderOutput(dataTable, element);\n",
              "          const docLink = document.createElement('div');\n",
              "          docLink.innerHTML = docLinkHtml;\n",
              "          element.appendChild(docLink);\n",
              "        }\n",
              "      </script>\n",
              "    </div>\n",
              "  </div>\n",
              "  "
            ]
          },
          "metadata": {},
          "execution_count": 85
        }
      ]
    },
    {
      "cell_type": "markdown",
      "source": [
        "*  Checking if the above code worked correctly on a randomly selected part of the data"
      ],
      "metadata": {
        "id": "nN9P2AnuNfU4"
      }
    },
    {
      "cell_type": "code",
      "source": [
        "stats, p = normaltest(df['production'])\n",
        "print(f'CONCLUSIONS:' f'\\n'\n",
        "      f'Characteristic value for the test: {stats}', f'\\n'\n",
        "      f'Value p: {p}')\n",
        "if p > 0.05:\n",
        "    print (\"The distribution appears to be of the normal type\")\n",
        "else:\n",
        "  print (\"The distribution does not appear to be of the normal type\")\n"
      ],
      "metadata": {
        "id": "qprkHTNyfjfB",
        "colab": {
          "base_uri": "https://localhost:8080/"
        },
        "outputId": "cbd63e28-16c5-48bb-9795-9c2fe4996c4f"
      },
      "execution_count": 86,
      "outputs": [
        {
          "output_type": "stream",
          "name": "stdout",
          "text": [
            "CONCLUSIONS:\n",
            "Characteristic value for the test: 845.8075130005496 \n",
            "Value p: 2.16387503184106e-184\n",
            "The distribution does not appear to be of the normal type\n"
          ]
        }
      ]
    },
    {
      "cell_type": "code",
      "source": [
        "stats, p = normaltest(df['colonies_number'])\n",
        "print(f'CONCLUSIONS:' f'\\n'\n",
        "      f'Characteristic value for the test: {stats}', f'\\n'\n",
        "      f'Value p: {p}')\n",
        "if p > 0.05:\n",
        "    print (\"The distribution appears to be of the normal type\")\n",
        "else:\n",
        "  print (\"The distribution does not appear to be of the normal typ\")\n"
      ],
      "metadata": {
        "id": "8Tw0GkCC441H",
        "colab": {
          "base_uri": "https://localhost:8080/"
        },
        "outputId": "1b30311e-5361-4aff-ea2f-9384582d2666"
      },
      "execution_count": 87,
      "outputs": [
        {
          "output_type": "stream",
          "name": "stdout",
          "text": [
            "CONCLUSIONS:\n",
            "Characteristic value for the test: 645.2031249355281 \n",
            "Value p: 7.869036629048983e-141\n",
            "The distribution does not appear to be of the normal typ\n"
          ]
        }
      ]
    },
    {
      "cell_type": "markdown",
      "source": [
        "*  Checking if the set has a normal distribution with the Shapiro-Wilk test"
      ],
      "metadata": {
        "id": "OcEYjQxWzn4o"
      }
    },
    {
      "cell_type": "code",
      "source": [
        "resultss = []\n",
        "for feature in df.columns:\n",
        "    alpha = 0.05\n",
        "    if df[feature].dtype != 'object':\n",
        "      p_value = scipy.stats.shapiro(df[feature])\n",
        "      resultss.append([feature, p_value])\n",
        "      if(p_value[1] < alpha):\n",
        "          print('For a variable \\'' + feature +'\\' I reject the null hypothesis. The variable is NOT normally distributed.', p_value)\n",
        "      else:\n",
        "          print('For a variable \\'' + feature +'\\' no grounds for rejecting the null hypothesis were found. The variable COMES from a normal distribution.', p_value)"
      ],
      "metadata": {
        "id": "HkhkTGG0LROv",
        "colab": {
          "base_uri": "https://localhost:8080/"
        },
        "outputId": "94e5c707-5d1c-41e7-c9da-1593a64bcc8b"
      },
      "execution_count": 89,
      "outputs": [
        {
          "output_type": "stream",
          "name": "stdout",
          "text": [
            "For a variable 'colonies_number' I reject the null hypothesis. The variable is NOT normally distributed. ShapiroResult(statistic=0.6319059133529663, pvalue=1.3452465257518244e-43)\n",
            "For a variable 'yield_per_colony' I reject the null hypothesis. The variable is NOT normally distributed. ShapiroResult(statistic=0.956164538860321, pvalue=9.200120321315875e-18)\n",
            "For a variable 'production' I reject the null hypothesis. The variable is NOT normally distributed. ShapiroResult(statistic=0.5220077037811279, pvalue=0.0)\n",
            "For a variable 'stocks' I reject the null hypothesis. The variable is NOT normally distributed. ShapiroResult(statistic=0.569826602935791, pvalue=0.0)\n",
            "For a variable 'average_price' I reject the null hypothesis. The variable is NOT normally distributed. ShapiroResult(statistic=0.9004910588264465, pvalue=2.747441371067038e-26)\n",
            "For a variable 'value_of_production' I reject the null hypothesis. The variable is NOT normally distributed. ShapiroResult(statistic=0.555071234703064, pvalue=0.0)\n",
            "For a variable 'year' I reject the null hypothesis. The variable is NOT normally distributed. ShapiroResult(statistic=0.9503500461578369, pvalue=6.076767081822943e-19)\n",
            "For a variable 'average_price_corect' I reject the null hypothesis. The variable is NOT normally distributed. ShapiroResult(statistic=0.8498538732528687, pvalue=3.0701716620030814e-31)\n",
            "For a variable 'production_Zscore' I reject the null hypothesis. The variable is NOT normally distributed. ShapiroResult(statistic=0.522007942199707, pvalue=0.0)\n"
          ]
        }
      ]
    },
    {
      "cell_type": "code",
      "source": [
        "summary_all2 = pd.DataFrame(resultss)\n",
        "summary_all2.columns = ['variable_name', 'P-value']\n",
        "summary_all2.set_index('variable_name', inplace = True)\n",
        "summary_all2.sort_values('P-value', ascending = False, inplace = True)\n",
        "summary_all2"
      ],
      "metadata": {
        "id": "EeBnHkNoMomz",
        "colab": {
          "base_uri": "https://localhost:8080/",
          "height": 363
        },
        "outputId": "0a3ecfc3-6ac2-4257-f3d2-e56251c86119"
      },
      "execution_count": 91,
      "outputs": [
        {
          "output_type": "execute_result",
          "data": {
            "text/plain": [
              "                                                           P-value\n",
              "variable_name                                                     \n",
              "yield_per_colony        (0.956164538860321, 9.200120321315875e-18)\n",
              "year                   (0.9503500461578369, 6.076767081822943e-19)\n",
              "average_price          (0.9004910588264465, 2.747441371067038e-26)\n",
              "average_price_corect  (0.8498538732528687, 3.0701716620030814e-31)\n",
              "colonies_number       (0.6319059133529663, 1.3452465257518244e-43)\n",
              "stocks                                    (0.569826602935791, 0.0)\n",
              "value_of_production                       (0.555071234703064, 0.0)\n",
              "production_Zscore                         (0.522007942199707, 0.0)\n",
              "production                               (0.5220077037811279, 0.0)"
            ],
            "text/html": [
              "\n",
              "  <div id=\"df-bc85f850-ec7a-4920-a090-26e93c30fb83\">\n",
              "    <div class=\"colab-df-container\">\n",
              "      <div>\n",
              "<style scoped>\n",
              "    .dataframe tbody tr th:only-of-type {\n",
              "        vertical-align: middle;\n",
              "    }\n",
              "\n",
              "    .dataframe tbody tr th {\n",
              "        vertical-align: top;\n",
              "    }\n",
              "\n",
              "    .dataframe thead th {\n",
              "        text-align: right;\n",
              "    }\n",
              "</style>\n",
              "<table border=\"1\" class=\"dataframe\">\n",
              "  <thead>\n",
              "    <tr style=\"text-align: right;\">\n",
              "      <th></th>\n",
              "      <th>P-value</th>\n",
              "    </tr>\n",
              "    <tr>\n",
              "      <th>variable_name</th>\n",
              "      <th></th>\n",
              "    </tr>\n",
              "  </thead>\n",
              "  <tbody>\n",
              "    <tr>\n",
              "      <th>yield_per_colony</th>\n",
              "      <td>(0.956164538860321, 9.200120321315875e-18)</td>\n",
              "    </tr>\n",
              "    <tr>\n",
              "      <th>year</th>\n",
              "      <td>(0.9503500461578369, 6.076767081822943e-19)</td>\n",
              "    </tr>\n",
              "    <tr>\n",
              "      <th>average_price</th>\n",
              "      <td>(0.9004910588264465, 2.747441371067038e-26)</td>\n",
              "    </tr>\n",
              "    <tr>\n",
              "      <th>average_price_corect</th>\n",
              "      <td>(0.8498538732528687, 3.0701716620030814e-31)</td>\n",
              "    </tr>\n",
              "    <tr>\n",
              "      <th>colonies_number</th>\n",
              "      <td>(0.6319059133529663, 1.3452465257518244e-43)</td>\n",
              "    </tr>\n",
              "    <tr>\n",
              "      <th>stocks</th>\n",
              "      <td>(0.569826602935791, 0.0)</td>\n",
              "    </tr>\n",
              "    <tr>\n",
              "      <th>value_of_production</th>\n",
              "      <td>(0.555071234703064, 0.0)</td>\n",
              "    </tr>\n",
              "    <tr>\n",
              "      <th>production_Zscore</th>\n",
              "      <td>(0.522007942199707, 0.0)</td>\n",
              "    </tr>\n",
              "    <tr>\n",
              "      <th>production</th>\n",
              "      <td>(0.5220077037811279, 0.0)</td>\n",
              "    </tr>\n",
              "  </tbody>\n",
              "</table>\n",
              "</div>\n",
              "      <button class=\"colab-df-convert\" onclick=\"convertToInteractive('df-bc85f850-ec7a-4920-a090-26e93c30fb83')\"\n",
              "              title=\"Convert this dataframe to an interactive table.\"\n",
              "              style=\"display:none;\">\n",
              "        \n",
              "  <svg xmlns=\"http://www.w3.org/2000/svg\" height=\"24px\"viewBox=\"0 0 24 24\"\n",
              "       width=\"24px\">\n",
              "    <path d=\"M0 0h24v24H0V0z\" fill=\"none\"/>\n",
              "    <path d=\"M18.56 5.44l.94 2.06.94-2.06 2.06-.94-2.06-.94-.94-2.06-.94 2.06-2.06.94zm-11 1L8.5 8.5l.94-2.06 2.06-.94-2.06-.94L8.5 2.5l-.94 2.06-2.06.94zm10 10l.94 2.06.94-2.06 2.06-.94-2.06-.94-.94-2.06-.94 2.06-2.06.94z\"/><path d=\"M17.41 7.96l-1.37-1.37c-.4-.4-.92-.59-1.43-.59-.52 0-1.04.2-1.43.59L10.3 9.45l-7.72 7.72c-.78.78-.78 2.05 0 2.83L4 21.41c.39.39.9.59 1.41.59.51 0 1.02-.2 1.41-.59l7.78-7.78 2.81-2.81c.8-.78.8-2.07 0-2.86zM5.41 20L4 18.59l7.72-7.72 1.47 1.35L5.41 20z\"/>\n",
              "  </svg>\n",
              "      </button>\n",
              "      \n",
              "  <style>\n",
              "    .colab-df-container {\n",
              "      display:flex;\n",
              "      flex-wrap:wrap;\n",
              "      gap: 12px;\n",
              "    }\n",
              "\n",
              "    .colab-df-convert {\n",
              "      background-color: #E8F0FE;\n",
              "      border: none;\n",
              "      border-radius: 50%;\n",
              "      cursor: pointer;\n",
              "      display: none;\n",
              "      fill: #1967D2;\n",
              "      height: 32px;\n",
              "      padding: 0 0 0 0;\n",
              "      width: 32px;\n",
              "    }\n",
              "\n",
              "    .colab-df-convert:hover {\n",
              "      background-color: #E2EBFA;\n",
              "      box-shadow: 0px 1px 2px rgba(60, 64, 67, 0.3), 0px 1px 3px 1px rgba(60, 64, 67, 0.15);\n",
              "      fill: #174EA6;\n",
              "    }\n",
              "\n",
              "    [theme=dark] .colab-df-convert {\n",
              "      background-color: #3B4455;\n",
              "      fill: #D2E3FC;\n",
              "    }\n",
              "\n",
              "    [theme=dark] .colab-df-convert:hover {\n",
              "      background-color: #434B5C;\n",
              "      box-shadow: 0px 1px 3px 1px rgba(0, 0, 0, 0.15);\n",
              "      filter: drop-shadow(0px 1px 2px rgba(0, 0, 0, 0.3));\n",
              "      fill: #FFFFFF;\n",
              "    }\n",
              "  </style>\n",
              "\n",
              "      <script>\n",
              "        const buttonEl =\n",
              "          document.querySelector('#df-bc85f850-ec7a-4920-a090-26e93c30fb83 button.colab-df-convert');\n",
              "        buttonEl.style.display =\n",
              "          google.colab.kernel.accessAllowed ? 'block' : 'none';\n",
              "\n",
              "        async function convertToInteractive(key) {\n",
              "          const element = document.querySelector('#df-bc85f850-ec7a-4920-a090-26e93c30fb83');\n",
              "          const dataTable =\n",
              "            await google.colab.kernel.invokeFunction('convertToInteractive',\n",
              "                                                     [key], {});\n",
              "          if (!dataTable) return;\n",
              "\n",
              "          const docLinkHtml = 'Like what you see? Visit the ' +\n",
              "            '<a target=\"_blank\" href=https://colab.research.google.com/notebooks/data_table.ipynb>data table notebook</a>'\n",
              "            + ' to learn more about interactive tables.';\n",
              "          element.innerHTML = '';\n",
              "          dataTable['output_type'] = 'display_data';\n",
              "          await google.colab.output.renderOutput(dataTable, element);\n",
              "          const docLink = document.createElement('div');\n",
              "          docLink.innerHTML = docLinkHtml;\n",
              "          element.appendChild(docLink);\n",
              "        }\n",
              "      </script>\n",
              "    </div>\n",
              "  </div>\n",
              "  "
            ]
          },
          "metadata": {},
          "execution_count": 91
        }
      ]
    },
    {
      "cell_type": "code",
      "source": [
        "stats, p = shapiro(df['production'])\n",
        "print(f'CONCLUSIONS:' f'\\n'\n",
        "      f'Test characteristic value: {stats}', f'\\n'\n",
        "      f'Value p: {p}')\n",
        "if p > 0.05:\n",
        "    print (\"The distribution appears to be of the normal type\")\n",
        "else:\n",
        "  print (\"The distribution does not appear to be of the normal type\")"
      ],
      "metadata": {
        "id": "H3_mkXlOyVlf",
        "colab": {
          "base_uri": "https://localhost:8080/"
        },
        "outputId": "d905b0c8-b52d-448f-c6d5-b003f30d2a84"
      },
      "execution_count": 92,
      "outputs": [
        {
          "output_type": "stream",
          "name": "stdout",
          "text": [
            "CONCLUSIONS:\n",
            "Test characteristic value: 0.5220077037811279 \n",
            "Value p: 0.0\n",
            "The distribution does not appear to be of the normal type\n"
          ]
        }
      ]
    },
    {
      "cell_type": "markdown",
      "source": [
        "*   Determination of the skewness of the distribution"
      ],
      "metadata": {
        "id": "x5lFATpV0pb5"
      }
    },
    {
      "cell_type": "code",
      "source": [
        "df.agg(['mean', 'median'])"
      ],
      "metadata": {
        "id": "kFOGPY0B0wNb",
        "colab": {
          "base_uri": "https://localhost:8080/",
          "height": 112
        },
        "outputId": "6002579f-66fb-4f54-dd3a-a5713ae9100f"
      },
      "execution_count": 32,
      "outputs": [
        {
          "output_type": "execute_result",
          "data": {
            "text/plain": [
              "        colonies_number  yield_per_colony    production        stocks  \\\n",
              "mean       62438.565022         59.743498  2.851268e+06  1.172625e+06   \n",
              "median     26000.000000         57.000000  8.280000e+05  3.700000e+05   \n",
              "\n",
              "        average_price  value_of_production         year  average_price_corect  \n",
              "mean       140.623076         5.667412e+06  2007.740807            184.638565  \n",
              "median     128.000000         2.281000e+06  2008.000000            155.000000  "
            ],
            "text/html": [
              "\n",
              "  <div id=\"df-0d1ddb71-33ee-4f0e-91da-0d885f1ff6f9\">\n",
              "    <div class=\"colab-df-container\">\n",
              "      <div>\n",
              "<style scoped>\n",
              "    .dataframe tbody tr th:only-of-type {\n",
              "        vertical-align: middle;\n",
              "    }\n",
              "\n",
              "    .dataframe tbody tr th {\n",
              "        vertical-align: top;\n",
              "    }\n",
              "\n",
              "    .dataframe thead th {\n",
              "        text-align: right;\n",
              "    }\n",
              "</style>\n",
              "<table border=\"1\" class=\"dataframe\">\n",
              "  <thead>\n",
              "    <tr style=\"text-align: right;\">\n",
              "      <th></th>\n",
              "      <th>colonies_number</th>\n",
              "      <th>yield_per_colony</th>\n",
              "      <th>production</th>\n",
              "      <th>stocks</th>\n",
              "      <th>average_price</th>\n",
              "      <th>value_of_production</th>\n",
              "      <th>year</th>\n",
              "      <th>average_price_corect</th>\n",
              "    </tr>\n",
              "  </thead>\n",
              "  <tbody>\n",
              "    <tr>\n",
              "      <th>mean</th>\n",
              "      <td>62438.565022</td>\n",
              "      <td>59.743498</td>\n",
              "      <td>2.851268e+06</td>\n",
              "      <td>1.172625e+06</td>\n",
              "      <td>140.623076</td>\n",
              "      <td>5.667412e+06</td>\n",
              "      <td>2007.740807</td>\n",
              "      <td>184.638565</td>\n",
              "    </tr>\n",
              "    <tr>\n",
              "      <th>median</th>\n",
              "      <td>26000.000000</td>\n",
              "      <td>57.000000</td>\n",
              "      <td>8.280000e+05</td>\n",
              "      <td>3.700000e+05</td>\n",
              "      <td>128.000000</td>\n",
              "      <td>2.281000e+06</td>\n",
              "      <td>2008.000000</td>\n",
              "      <td>155.000000</td>\n",
              "    </tr>\n",
              "  </tbody>\n",
              "</table>\n",
              "</div>\n",
              "      <button class=\"colab-df-convert\" onclick=\"convertToInteractive('df-0d1ddb71-33ee-4f0e-91da-0d885f1ff6f9')\"\n",
              "              title=\"Convert this dataframe to an interactive table.\"\n",
              "              style=\"display:none;\">\n",
              "        \n",
              "  <svg xmlns=\"http://www.w3.org/2000/svg\" height=\"24px\"viewBox=\"0 0 24 24\"\n",
              "       width=\"24px\">\n",
              "    <path d=\"M0 0h24v24H0V0z\" fill=\"none\"/>\n",
              "    <path d=\"M18.56 5.44l.94 2.06.94-2.06 2.06-.94-2.06-.94-.94-2.06-.94 2.06-2.06.94zm-11 1L8.5 8.5l.94-2.06 2.06-.94-2.06-.94L8.5 2.5l-.94 2.06-2.06.94zm10 10l.94 2.06.94-2.06 2.06-.94-2.06-.94-.94-2.06-.94 2.06-2.06.94z\"/><path d=\"M17.41 7.96l-1.37-1.37c-.4-.4-.92-.59-1.43-.59-.52 0-1.04.2-1.43.59L10.3 9.45l-7.72 7.72c-.78.78-.78 2.05 0 2.83L4 21.41c.39.39.9.59 1.41.59.51 0 1.02-.2 1.41-.59l7.78-7.78 2.81-2.81c.8-.78.8-2.07 0-2.86zM5.41 20L4 18.59l7.72-7.72 1.47 1.35L5.41 20z\"/>\n",
              "  </svg>\n",
              "      </button>\n",
              "      \n",
              "  <style>\n",
              "    .colab-df-container {\n",
              "      display:flex;\n",
              "      flex-wrap:wrap;\n",
              "      gap: 12px;\n",
              "    }\n",
              "\n",
              "    .colab-df-convert {\n",
              "      background-color: #E8F0FE;\n",
              "      border: none;\n",
              "      border-radius: 50%;\n",
              "      cursor: pointer;\n",
              "      display: none;\n",
              "      fill: #1967D2;\n",
              "      height: 32px;\n",
              "      padding: 0 0 0 0;\n",
              "      width: 32px;\n",
              "    }\n",
              "\n",
              "    .colab-df-convert:hover {\n",
              "      background-color: #E2EBFA;\n",
              "      box-shadow: 0px 1px 2px rgba(60, 64, 67, 0.3), 0px 1px 3px 1px rgba(60, 64, 67, 0.15);\n",
              "      fill: #174EA6;\n",
              "    }\n",
              "\n",
              "    [theme=dark] .colab-df-convert {\n",
              "      background-color: #3B4455;\n",
              "      fill: #D2E3FC;\n",
              "    }\n",
              "\n",
              "    [theme=dark] .colab-df-convert:hover {\n",
              "      background-color: #434B5C;\n",
              "      box-shadow: 0px 1px 3px 1px rgba(0, 0, 0, 0.15);\n",
              "      filter: drop-shadow(0px 1px 2px rgba(0, 0, 0, 0.3));\n",
              "      fill: #FFFFFF;\n",
              "    }\n",
              "  </style>\n",
              "\n",
              "      <script>\n",
              "        const buttonEl =\n",
              "          document.querySelector('#df-0d1ddb71-33ee-4f0e-91da-0d885f1ff6f9 button.colab-df-convert');\n",
              "        buttonEl.style.display =\n",
              "          google.colab.kernel.accessAllowed ? 'block' : 'none';\n",
              "\n",
              "        async function convertToInteractive(key) {\n",
              "          const element = document.querySelector('#df-0d1ddb71-33ee-4f0e-91da-0d885f1ff6f9');\n",
              "          const dataTable =\n",
              "            await google.colab.kernel.invokeFunction('convertToInteractive',\n",
              "                                                     [key], {});\n",
              "          if (!dataTable) return;\n",
              "\n",
              "          const docLinkHtml = 'Like what you see? Visit the ' +\n",
              "            '<a target=\"_blank\" href=https://colab.research.google.com/notebooks/data_table.ipynb>data table notebook</a>'\n",
              "            + ' to learn more about interactive tables.';\n",
              "          element.innerHTML = '';\n",
              "          dataTable['output_type'] = 'display_data';\n",
              "          await google.colab.output.renderOutput(dataTable, element);\n",
              "          const docLink = document.createElement('div');\n",
              "          docLink.innerHTML = docLinkHtml;\n",
              "          element.appendChild(docLink);\n",
              "        }\n",
              "      </script>\n",
              "    </div>\n",
              "  </div>\n",
              "  "
            ]
          },
          "metadata": {},
          "execution_count": 32
        }
      ]
    },
    {
      "cell_type": "markdown",
      "source": [
        "*CONCLUSIONS:* According to the assumptions of normal distribution, the mean value and the median should be close or equal to each other. Then we can suspect the distribution of the variable to be skewed.\n",
        "\n",
        "Differences in values ​​indicate skewness of the distribution.\n",
        "\n",
        "consecutively:\n",
        "\n",
        "> mean less than the median - left-skewed distribution (extended left arm of the distribution)\n",
        "> mean greater than the median - right-skewed distribution (extended right arm of the distribution)"
      ],
      "metadata": {
        "id": "-lVVxzOJ0w1-"
      }
    },
    {
      "cell_type": "markdown",
      "source": [
        "*   The coefficient of skewness of the distribution"
      ],
      "metadata": {
        "id": "i_q4EOkB16Dk"
      }
    },
    {
      "cell_type": "code",
      "source": [
        "df.skew()"
      ],
      "metadata": {
        "id": "RZKv22M-1ZRg",
        "colab": {
          "base_uri": "https://localhost:8080/"
        },
        "outputId": "a70f1bd5-c2f1-41b4-af4e-0a8cb27cd77f"
      },
      "execution_count": 33,
      "outputs": [
        {
          "output_type": "stream",
          "name": "stderr",
          "text": [
            "<ipython-input-33-9e0b1e29546f>:1: FutureWarning:\n",
            "\n",
            "Dropping of nuisance columns in DataFrame reductions (with 'numeric_only=None') is deprecated; in a future version this will raise TypeError.  Select only valid columns before calling the reduction.\n",
            "\n"
          ]
        },
        {
          "output_type": "execute_result",
          "data": {
            "text/plain": [
              "colonies_number         2.724796\n",
              "yield_per_colony        0.895759\n",
              "production              3.556899\n",
              "stocks                  3.322866\n",
              "average_price           1.411339\n",
              "value_of_production     3.894655\n",
              "year                    0.045198\n",
              "average_price_corect    1.744436\n",
              "dtype: float64"
            ]
          },
          "metadata": {},
          "execution_count": 33
        }
      ]
    },
    {
      "cell_type": "markdown",
      "source": [
        "*CONCLUSIONS:*\n",
        "\n",
        "\n",
        "> A coefficient of 0 is a symmetrical distribution.\n",
        "\n",
        "> A coefficient with a positive value is a right-skewed distribution (extended right arm of the distribution; mean greater than the median)."
      ],
      "metadata": {
        "id": "AO38U00e1euy"
      }
    },
    {
      "cell_type": "markdown",
      "source": [
        "#10. Z-score Standardization\n",
        "\n",
        "---\n",
        "\n"
      ],
      "metadata": {
        "id": "QPaSrv2Yxo0S"
      }
    },
    {
      "cell_type": "code",
      "source": [
        "df['production_Zscore'] = (df['production']-df['production'].mean()) / df['production'].std()\n",
        "df['production_Zscore'].describe()"
      ],
      "metadata": {
        "id": "EFNnkaek24kT",
        "colab": {
          "base_uri": "https://localhost:8080/"
        },
        "outputId": "6f8f42df-f6d0-4d12-918c-5d78894602c0"
      },
      "execution_count": 34,
      "outputs": [
        {
          "output_type": "execute_result",
          "data": {
            "text/plain": [
              "count    1.115000e+03\n",
              "mean    -7.647097e-17\n",
              "std      1.000000e+00\n",
              "min     -5.105494e-01\n",
              "25%     -4.684721e-01\n",
              "50%     -3.638185e-01\n",
              "75%     -2.720062e-02\n",
              "max      6.510954e+00\n",
              "Name: production_Zscore, dtype: float64"
            ]
          },
          "metadata": {},
          "execution_count": 34
        }
      ]
    },
    {
      "cell_type": "markdown",
      "source": [
        "#**11. model**"
      ],
      "metadata": {
        "id": "Iy6IlqxyxrWN"
      }
    },
    {
      "cell_type": "code",
      "source": [
        "df_state.head(5)"
      ],
      "metadata": {
        "id": "JUxpJ3y5LuyK",
        "colab": {
          "base_uri": "https://localhost:8080/",
          "height": 300
        },
        "outputId": "aa714584-7465-43ef-e39e-22ccd8cbb63f"
      },
      "execution_count": 35,
      "outputs": [
        {
          "output_type": "execute_result",
          "data": {
            "text/plain": [
              "        state  colonies_number  yield_per_colony  production   stocks  \\\n",
              "0     Alabama            16000                58      928000    28000   \n",
              "1     Arizona            52000                79     4108000   986000   \n",
              "2    Arkansas            50000                60     3000000   900000   \n",
              "3  California           420000                93    39060000  4687000   \n",
              "4    Colorado            45000                60     2700000  1404000   \n",
              "\n",
              "   average_price  value_of_production  year  average_price_corect  Alabama  \\\n",
              "0           62.0               575000  1995                  62.0        1   \n",
              "1           68.0              2793000  1995                  68.0        0   \n",
              "2           64.0              1920000  1995                  64.0        0   \n",
              "3           60.0             23436000  1995                  60.0        0   \n",
              "4           68.0              1836000  1995                  68.0        0   \n",
              "\n",
              "   ...  SouthDakota  Tennessee  Texas  Utah  Vermont  Virginia  Washington  \\\n",
              "0  ...            0          0      0     0        0         0           0   \n",
              "1  ...            0          0      0     0        0         0           0   \n",
              "2  ...            0          0      0     0        0         0           0   \n",
              "3  ...            0          0      0     0        0         0           0   \n",
              "4  ...            0          0      0     0        0         0           0   \n",
              "\n",
              "   WestVirginia  Wisconsin  Wyoming  \n",
              "0             0          0        0  \n",
              "1             0          0        0  \n",
              "2             0          0        0  \n",
              "3             0          0        0  \n",
              "4             0          0        0  \n",
              "\n",
              "[5 rows x 53 columns]"
            ],
            "text/html": [
              "\n",
              "  <div id=\"df-0befdf7c-8a9b-4f98-a9f0-2cab17081d40\">\n",
              "    <div class=\"colab-df-container\">\n",
              "      <div>\n",
              "<style scoped>\n",
              "    .dataframe tbody tr th:only-of-type {\n",
              "        vertical-align: middle;\n",
              "    }\n",
              "\n",
              "    .dataframe tbody tr th {\n",
              "        vertical-align: top;\n",
              "    }\n",
              "\n",
              "    .dataframe thead th {\n",
              "        text-align: right;\n",
              "    }\n",
              "</style>\n",
              "<table border=\"1\" class=\"dataframe\">\n",
              "  <thead>\n",
              "    <tr style=\"text-align: right;\">\n",
              "      <th></th>\n",
              "      <th>state</th>\n",
              "      <th>colonies_number</th>\n",
              "      <th>yield_per_colony</th>\n",
              "      <th>production</th>\n",
              "      <th>stocks</th>\n",
              "      <th>average_price</th>\n",
              "      <th>value_of_production</th>\n",
              "      <th>year</th>\n",
              "      <th>average_price_corect</th>\n",
              "      <th>Alabama</th>\n",
              "      <th>...</th>\n",
              "      <th>SouthDakota</th>\n",
              "      <th>Tennessee</th>\n",
              "      <th>Texas</th>\n",
              "      <th>Utah</th>\n",
              "      <th>Vermont</th>\n",
              "      <th>Virginia</th>\n",
              "      <th>Washington</th>\n",
              "      <th>WestVirginia</th>\n",
              "      <th>Wisconsin</th>\n",
              "      <th>Wyoming</th>\n",
              "    </tr>\n",
              "  </thead>\n",
              "  <tbody>\n",
              "    <tr>\n",
              "      <th>0</th>\n",
              "      <td>Alabama</td>\n",
              "      <td>16000</td>\n",
              "      <td>58</td>\n",
              "      <td>928000</td>\n",
              "      <td>28000</td>\n",
              "      <td>62.0</td>\n",
              "      <td>575000</td>\n",
              "      <td>1995</td>\n",
              "      <td>62.0</td>\n",
              "      <td>1</td>\n",
              "      <td>...</td>\n",
              "      <td>0</td>\n",
              "      <td>0</td>\n",
              "      <td>0</td>\n",
              "      <td>0</td>\n",
              "      <td>0</td>\n",
              "      <td>0</td>\n",
              "      <td>0</td>\n",
              "      <td>0</td>\n",
              "      <td>0</td>\n",
              "      <td>0</td>\n",
              "    </tr>\n",
              "    <tr>\n",
              "      <th>1</th>\n",
              "      <td>Arizona</td>\n",
              "      <td>52000</td>\n",
              "      <td>79</td>\n",
              "      <td>4108000</td>\n",
              "      <td>986000</td>\n",
              "      <td>68.0</td>\n",
              "      <td>2793000</td>\n",
              "      <td>1995</td>\n",
              "      <td>68.0</td>\n",
              "      <td>0</td>\n",
              "      <td>...</td>\n",
              "      <td>0</td>\n",
              "      <td>0</td>\n",
              "      <td>0</td>\n",
              "      <td>0</td>\n",
              "      <td>0</td>\n",
              "      <td>0</td>\n",
              "      <td>0</td>\n",
              "      <td>0</td>\n",
              "      <td>0</td>\n",
              "      <td>0</td>\n",
              "    </tr>\n",
              "    <tr>\n",
              "      <th>2</th>\n",
              "      <td>Arkansas</td>\n",
              "      <td>50000</td>\n",
              "      <td>60</td>\n",
              "      <td>3000000</td>\n",
              "      <td>900000</td>\n",
              "      <td>64.0</td>\n",
              "      <td>1920000</td>\n",
              "      <td>1995</td>\n",
              "      <td>64.0</td>\n",
              "      <td>0</td>\n",
              "      <td>...</td>\n",
              "      <td>0</td>\n",
              "      <td>0</td>\n",
              "      <td>0</td>\n",
              "      <td>0</td>\n",
              "      <td>0</td>\n",
              "      <td>0</td>\n",
              "      <td>0</td>\n",
              "      <td>0</td>\n",
              "      <td>0</td>\n",
              "      <td>0</td>\n",
              "    </tr>\n",
              "    <tr>\n",
              "      <th>3</th>\n",
              "      <td>California</td>\n",
              "      <td>420000</td>\n",
              "      <td>93</td>\n",
              "      <td>39060000</td>\n",
              "      <td>4687000</td>\n",
              "      <td>60.0</td>\n",
              "      <td>23436000</td>\n",
              "      <td>1995</td>\n",
              "      <td>60.0</td>\n",
              "      <td>0</td>\n",
              "      <td>...</td>\n",
              "      <td>0</td>\n",
              "      <td>0</td>\n",
              "      <td>0</td>\n",
              "      <td>0</td>\n",
              "      <td>0</td>\n",
              "      <td>0</td>\n",
              "      <td>0</td>\n",
              "      <td>0</td>\n",
              "      <td>0</td>\n",
              "      <td>0</td>\n",
              "    </tr>\n",
              "    <tr>\n",
              "      <th>4</th>\n",
              "      <td>Colorado</td>\n",
              "      <td>45000</td>\n",
              "      <td>60</td>\n",
              "      <td>2700000</td>\n",
              "      <td>1404000</td>\n",
              "      <td>68.0</td>\n",
              "      <td>1836000</td>\n",
              "      <td>1995</td>\n",
              "      <td>68.0</td>\n",
              "      <td>0</td>\n",
              "      <td>...</td>\n",
              "      <td>0</td>\n",
              "      <td>0</td>\n",
              "      <td>0</td>\n",
              "      <td>0</td>\n",
              "      <td>0</td>\n",
              "      <td>0</td>\n",
              "      <td>0</td>\n",
              "      <td>0</td>\n",
              "      <td>0</td>\n",
              "      <td>0</td>\n",
              "    </tr>\n",
              "  </tbody>\n",
              "</table>\n",
              "<p>5 rows × 53 columns</p>\n",
              "</div>\n",
              "      <button class=\"colab-df-convert\" onclick=\"convertToInteractive('df-0befdf7c-8a9b-4f98-a9f0-2cab17081d40')\"\n",
              "              title=\"Convert this dataframe to an interactive table.\"\n",
              "              style=\"display:none;\">\n",
              "        \n",
              "  <svg xmlns=\"http://www.w3.org/2000/svg\" height=\"24px\"viewBox=\"0 0 24 24\"\n",
              "       width=\"24px\">\n",
              "    <path d=\"M0 0h24v24H0V0z\" fill=\"none\"/>\n",
              "    <path d=\"M18.56 5.44l.94 2.06.94-2.06 2.06-.94-2.06-.94-.94-2.06-.94 2.06-2.06.94zm-11 1L8.5 8.5l.94-2.06 2.06-.94-2.06-.94L8.5 2.5l-.94 2.06-2.06.94zm10 10l.94 2.06.94-2.06 2.06-.94-2.06-.94-.94-2.06-.94 2.06-2.06.94z\"/><path d=\"M17.41 7.96l-1.37-1.37c-.4-.4-.92-.59-1.43-.59-.52 0-1.04.2-1.43.59L10.3 9.45l-7.72 7.72c-.78.78-.78 2.05 0 2.83L4 21.41c.39.39.9.59 1.41.59.51 0 1.02-.2 1.41-.59l7.78-7.78 2.81-2.81c.8-.78.8-2.07 0-2.86zM5.41 20L4 18.59l7.72-7.72 1.47 1.35L5.41 20z\"/>\n",
              "  </svg>\n",
              "      </button>\n",
              "      \n",
              "  <style>\n",
              "    .colab-df-container {\n",
              "      display:flex;\n",
              "      flex-wrap:wrap;\n",
              "      gap: 12px;\n",
              "    }\n",
              "\n",
              "    .colab-df-convert {\n",
              "      background-color: #E8F0FE;\n",
              "      border: none;\n",
              "      border-radius: 50%;\n",
              "      cursor: pointer;\n",
              "      display: none;\n",
              "      fill: #1967D2;\n",
              "      height: 32px;\n",
              "      padding: 0 0 0 0;\n",
              "      width: 32px;\n",
              "    }\n",
              "\n",
              "    .colab-df-convert:hover {\n",
              "      background-color: #E2EBFA;\n",
              "      box-shadow: 0px 1px 2px rgba(60, 64, 67, 0.3), 0px 1px 3px 1px rgba(60, 64, 67, 0.15);\n",
              "      fill: #174EA6;\n",
              "    }\n",
              "\n",
              "    [theme=dark] .colab-df-convert {\n",
              "      background-color: #3B4455;\n",
              "      fill: #D2E3FC;\n",
              "    }\n",
              "\n",
              "    [theme=dark] .colab-df-convert:hover {\n",
              "      background-color: #434B5C;\n",
              "      box-shadow: 0px 1px 3px 1px rgba(0, 0, 0, 0.15);\n",
              "      filter: drop-shadow(0px 1px 2px rgba(0, 0, 0, 0.3));\n",
              "      fill: #FFFFFF;\n",
              "    }\n",
              "  </style>\n",
              "\n",
              "      <script>\n",
              "        const buttonEl =\n",
              "          document.querySelector('#df-0befdf7c-8a9b-4f98-a9f0-2cab17081d40 button.colab-df-convert');\n",
              "        buttonEl.style.display =\n",
              "          google.colab.kernel.accessAllowed ? 'block' : 'none';\n",
              "\n",
              "        async function convertToInteractive(key) {\n",
              "          const element = document.querySelector('#df-0befdf7c-8a9b-4f98-a9f0-2cab17081d40');\n",
              "          const dataTable =\n",
              "            await google.colab.kernel.invokeFunction('convertToInteractive',\n",
              "                                                     [key], {});\n",
              "          if (!dataTable) return;\n",
              "\n",
              "          const docLinkHtml = 'Like what you see? Visit the ' +\n",
              "            '<a target=\"_blank\" href=https://colab.research.google.com/notebooks/data_table.ipynb>data table notebook</a>'\n",
              "            + ' to learn more about interactive tables.';\n",
              "          element.innerHTML = '';\n",
              "          dataTable['output_type'] = 'display_data';\n",
              "          await google.colab.output.renderOutput(dataTable, element);\n",
              "          const docLink = document.createElement('div');\n",
              "          docLink.innerHTML = docLinkHtml;\n",
              "          element.appendChild(docLink);\n",
              "        }\n",
              "      </script>\n",
              "    </div>\n",
              "  </div>\n",
              "  "
            ]
          },
          "metadata": {},
          "execution_count": 35
        }
      ]
    },
    {
      "cell_type": "code",
      "source": [
        "X = df[['production', 'colonies_number']]"
      ],
      "metadata": {
        "id": "15v0tVXHLpKx"
      },
      "execution_count": 36,
      "outputs": []
    },
    {
      "cell_type": "code",
      "source": [
        "y = df['average_price_corect']"
      ],
      "metadata": {
        "id": "_Ej_uKJLLpi6"
      },
      "execution_count": 37,
      "outputs": []
    },
    {
      "cell_type": "markdown",
      "source": [
        "*Multivariate Linear Regression*"
      ],
      "metadata": {
        "id": "m9ZToSrCSKlU"
      }
    },
    {
      "cell_type": "code",
      "source": [
        "model = LinearRegression()"
      ],
      "metadata": {
        "id": "kzmI5Wvf4otw"
      },
      "execution_count": 38,
      "outputs": []
    },
    {
      "cell_type": "code",
      "source": [
        "model.fit(X,y)"
      ],
      "metadata": {
        "id": "zrzCjhMvN7bW",
        "colab": {
          "base_uri": "https://localhost:8080/"
        },
        "outputId": "8c764572-ef2e-4d71-c0a7-17bd20b4db3e"
      },
      "execution_count": 39,
      "outputs": [
        {
          "output_type": "execute_result",
          "data": {
            "text/plain": [
              "LinearRegression()"
            ]
          },
          "metadata": {},
          "execution_count": 39
        }
      ]
    },
    {
      "cell_type": "markdown",
      "source": [
        "free expression θ0"
      ],
      "metadata": {
        "id": "UwRZMb3bPd35"
      }
    },
    {
      "cell_type": "code",
      "source": [
        "model.intercept_"
      ],
      "metadata": {
        "id": "ZgY4v314OEkR",
        "colab": {
          "base_uri": "https://localhost:8080/"
        },
        "outputId": "b1e6d91f-69c9-4abb-c93b-4ad9946cb8d6"
      },
      "execution_count": 40,
      "outputs": [
        {
          "output_type": "execute_result",
          "data": {
            "text/plain": [
              "201.54979145401896"
            ]
          },
          "metadata": {},
          "execution_count": 40
        }
      ]
    },
    {
      "cell_type": "markdown",
      "source": [
        "factor at x"
      ],
      "metadata": {
        "id": "eta4LCJBPkkl"
      }
    },
    {
      "cell_type": "code",
      "source": [
        "model.coef_"
      ],
      "metadata": {
        "id": "tg1XW21TOFtj",
        "colab": {
          "base_uri": "https://localhost:8080/"
        },
        "outputId": "07cd6a7d-008d-4c3e-818d-cca11a6deb79"
      },
      "execution_count": 41,
      "outputs": [
        {
          "output_type": "execute_result",
          "data": {
            "text/plain": [
              "array([-8.31247430e-06,  1.08744762e-04])"
            ]
          },
          "metadata": {},
          "execution_count": 41
        }
      ]
    },
    {
      "cell_type": "code",
      "source": [
        "model.coef_[0]"
      ],
      "metadata": {
        "id": "zKxK8RUmOQBr",
        "colab": {
          "base_uri": "https://localhost:8080/"
        },
        "outputId": "b337f616-7c59-4976-f5ad-a73be73b17f6"
      },
      "execution_count": 42,
      "outputs": [
        {
          "output_type": "execute_result",
          "data": {
            "text/plain": [
              "-8.312474303618217e-06"
            ]
          },
          "metadata": {},
          "execution_count": 42
        }
      ]
    },
    {
      "cell_type": "code",
      "source": [
        "X_temp, X_test, y_temp, y_test = train_test_split(X, y, test_size =0.2, random_state = 333)"
      ],
      "metadata": {
        "id": "SU802DU6PIRE"
      },
      "execution_count": 43,
      "outputs": []
    },
    {
      "cell_type": "code",
      "source": [
        "X_train, X_val, y_train, y_val = train_test_split(X_temp, y_temp, test_size=0.25, random_state=23)"
      ],
      "metadata": {
        "id": "ibZvPQV7PKN1"
      },
      "execution_count": 44,
      "outputs": []
    },
    {
      "cell_type": "code",
      "source": [
        "print(X_train.shape)\n",
        "print(X_test.shape)\n",
        "print(X_val.shape)"
      ],
      "metadata": {
        "id": "TrhMJPmjPLuF",
        "colab": {
          "base_uri": "https://localhost:8080/"
        },
        "outputId": "97b44f09-434a-48d9-e2f6-c328b1bcd9e9"
      },
      "execution_count": 45,
      "outputs": [
        {
          "output_type": "stream",
          "name": "stdout",
          "text": [
            "(669, 2)\n",
            "(223, 2)\n",
            "(223, 2)\n"
          ]
        }
      ]
    },
    {
      "cell_type": "code",
      "source": [
        "model.fit(X_train, y_train)"
      ],
      "metadata": {
        "id": "B9mo0TuAPQFs",
        "colab": {
          "base_uri": "https://localhost:8080/"
        },
        "outputId": "410ae06d-6c65-4263-bffa-0609c4800564"
      },
      "execution_count": 46,
      "outputs": [
        {
          "output_type": "execute_result",
          "data": {
            "text/plain": [
              "LinearRegression()"
            ]
          },
          "metadata": {},
          "execution_count": 46
        }
      ]
    },
    {
      "cell_type": "code",
      "source": [
        "y_pred_train = model.predict(X_train)"
      ],
      "metadata": {
        "id": "o9nfrNqgPSQ7"
      },
      "execution_count": 47,
      "outputs": []
    },
    {
      "cell_type": "markdown",
      "source": [
        "# **Metrics**"
      ],
      "metadata": {
        "id": "6G5ChxAkWotK"
      }
    },
    {
      "cell_type": "markdown",
      "source": [
        "## R2"
      ],
      "metadata": {
        "id": "LneXjyfytwkd"
      }
    },
    {
      "cell_type": "code",
      "source": [
        "r2_train = r2_score(y_train, y_pred_train )\n",
        "r2_train"
      ],
      "metadata": {
        "id": "eSoUhVQKWqHz",
        "colab": {
          "base_uri": "https://localhost:8080/"
        },
        "outputId": "b19e2b0f-a73a-43ee-89d5-1c0a44bf0ed5"
      },
      "execution_count": 48,
      "outputs": [
        {
          "output_type": "execute_result",
          "data": {
            "text/plain": [
              "0.11433108361666466"
            ]
          },
          "metadata": {},
          "execution_count": 48
        }
      ]
    },
    {
      "cell_type": "code",
      "source": [
        "y_pred_val = model.predict(X_val)\n",
        "y_pred_val"
      ],
      "metadata": {
        "id": "fMIKsci2Wr81",
        "colab": {
          "base_uri": "https://localhost:8080/"
        },
        "outputId": "9008a5de-0ff3-4428-a780-cb8607756425"
      },
      "execution_count": 49,
      "outputs": [
        {
          "output_type": "execute_result",
          "data": {
            "text/plain": [
              "array([201.96483134, 197.02104826, 200.98732114, 179.21608763,\n",
              "       198.08765916, 200.23587289, 169.21096574, 200.59617967,\n",
              "       201.48553319, 200.7353612 , 198.93808599,   9.07296974,\n",
              "       201.36951977, 164.67961319, 201.32829311, 193.20835054,\n",
              "       201.0766744 , 178.47434888, 201.56491989, 199.06253265,\n",
              "       201.27241575, 173.35464637, 190.73108565, 201.73945187,\n",
              "       203.23961849, 201.6593827 , 215.9190139 , 191.80289928,\n",
              "       201.35256911, 197.88612578, 196.86653357, 200.17267019,\n",
              "       197.98748851, 197.71465593, 204.22326646, 170.81863286,\n",
              "       198.6409819 , 199.82863159, 201.4466065 , 202.1529948 ,\n",
              "       177.83465533, 193.2690849 , 191.38517733, 202.08050802,\n",
              "       198.34966985, 198.49532588, 202.91210964, 205.08732026,\n",
              "        59.21441975, 199.66057411, 201.40767981, 198.57701255,\n",
              "       172.79461457, 200.73681033, 200.47684257, 194.45247587,\n",
              "       171.71198804, 148.08709236, 199.57888744, 139.89125515,\n",
              "       196.39608958, 198.95580331, 190.73705504, 200.06670751,\n",
              "       200.25784892, 201.91364262, 179.68423165, 199.86210749,\n",
              "       197.40946434, 199.70682615, 189.7430151 , 196.17488014,\n",
              "       179.36481029, 102.01992083, 195.60844003, 192.61286611,\n",
              "       129.48536647, 170.61897403, 185.67657157, 195.726328  ,\n",
              "       202.56952017, 217.52932223, 199.64592342, 203.39345521,\n",
              "       203.45325004, 199.34268607, 202.49243345, 198.5805046 ,\n",
              "       194.44625842, 173.14912933, 199.65214087, 195.48280129,\n",
              "       196.74132026, 201.25393178, 212.52182235, 199.56577007,\n",
              "       182.62596214, 203.42233116, 186.8056982 , 183.07861362,\n",
              "       143.21280911, 141.00633388, 193.97538901, 196.99225649,\n",
              "       200.13271979, 195.67802854, 199.58118741, 196.20878147,\n",
              "       200.46304272, 194.68901847, 202.14873609, 200.04669022,\n",
              "       157.9920436 , 198.76892061, 183.17767638, 201.00972259,\n",
              "       201.19652111,  -5.67492495, 191.54318857, 198.69813552,\n",
              "       203.48630052, 188.49676267, 186.87452905, 164.2664115 ,\n",
              "       201.3202011 , 201.3310185 , 201.3121091 , 199.30145941,\n",
              "       171.59239838, 199.03868206, 168.73004559, 202.21151336,\n",
              "       216.44627027, 129.50342502, 201.86670811, 198.10963519,\n",
              "       168.71087914, 196.69864446, 203.84754233, 198.1862965 ,\n",
              "       201.22812245, 206.02923195, 200.72411838, 190.91627116,\n",
              "       198.41133923, 201.91134265, 191.82990068, 192.4125248 ,\n",
              "       190.95136456, 189.22359368, 194.42547447, 129.59729404,\n",
              "       196.43842414, 200.77037041, 186.89769716, 195.5059649 ,\n",
              "       202.16952004, 198.31576852, 202.05129083, 200.97147838,\n",
              "       191.46806059, 174.40918161, 207.72266259, 202.59030412,\n",
              "       201.86823693, 201.88749206, 200.37854647, 195.37453864,\n",
              "       200.65129036, 186.86379584, 200.83161437, 200.97454051,\n",
              "       199.95188617, 201.08399974, 201.25742383, 200.14379423,\n",
              "       196.54634556, 191.77708996, 198.57317926, 198.86909127,\n",
              "       180.73550939, 201.26355709, 198.22445653, 201.39226246,\n",
              "       197.33007764, 199.41551409, 185.89463019, 199.78178127,\n",
              "       201.20691308, 201.58110389, 200.84106682,  54.85324729,\n",
              "       192.22445003, 201.20307979, 215.70264347, 197.05767498,\n",
              "       199.12573534, 194.80469065, 200.66559981, 200.00213986,\n",
              "       196.10861081, 184.6983564 , 197.73314441, 203.1229271 ,\n",
              "       180.47818284, 172.19154774, 201.38570378, 201.88357459,\n",
              "       195.33714526, 201.07514108, 198.22445653, 201.3121091 ,\n",
              "       188.97538284, 200.50026773, 189.87044421, 195.91508075,\n",
              "       184.57333395, -45.28740007, 170.42485017, 181.71881611,\n",
              "       195.07947747, 198.88374195, 199.80469682])"
            ]
          },
          "metadata": {},
          "execution_count": 49
        }
      ]
    },
    {
      "cell_type": "code",
      "source": [
        "r2_val = r2_score(y_val, y_pred_val)\n",
        "r2_val"
      ],
      "metadata": {
        "id": "_OwJzGXAWxCz",
        "colab": {
          "base_uri": "https://localhost:8080/"
        },
        "outputId": "7b79114a-4d57-4032-b641-8441a72a8097"
      },
      "execution_count": 50,
      "outputs": [
        {
          "output_type": "execute_result",
          "data": {
            "text/plain": [
              "0.09032500734717919"
            ]
          },
          "metadata": {},
          "execution_count": 50
        }
      ]
    },
    {
      "cell_type": "markdown",
      "source": [
        "##**MAE**"
      ],
      "metadata": {
        "id": "KkIlzeuotu7P"
      }
    },
    {
      "cell_type": "code",
      "source": [
        "y_pred_train\n"
      ],
      "metadata": {
        "id": "_f7fHQScWz_K",
        "colab": {
          "base_uri": "https://localhost:8080/"
        },
        "outputId": "7f26dc5c-8314-45ee-92a3-bd85c9f62011"
      },
      "execution_count": 51,
      "outputs": [
        {
          "output_type": "execute_result",
          "data": {
            "text/plain": [
              "array([195.06431268, 189.883987  , 200.2724996 , 169.21096574,\n",
              "       148.50600189, 201.19882108, 199.46559941, 215.6570829 ,\n",
              "       196.30358551, 176.7865284 , 193.43671696, 135.9199569 ,\n",
              "       214.77803717, 188.71643879, 198.95580331, 202.79839619,\n",
              "       196.31363625, 197.42436758, 196.23808284, 191.41678318,\n",
              "       193.45596759, 198.63944859, 207.76269717, 200.68323295,\n",
              "       174.86957486, 214.20308413, 195.20230663,  35.90945504,\n",
              "       194.83859198, 199.12420203, 206.15597408, 202.0627907 ,\n",
              "       193.45366762, 195.48280129, 199.54575277, 185.12052343,\n",
              "       200.31866296, 168.73319641, 198.03178181, 201.08706637,\n",
              "        -5.43641912, 201.41500515, 201.74447724, 202.50325084,\n",
              "       202.58187089, 141.61357524, 199.95265283, 132.53528443,\n",
              "       201.35571993, 166.90661983, 202.50478416, 137.69874813,\n",
              "       198.21943116, 198.05835779, 200.29405021, 180.21029594,\n",
              "       199.51491808, 199.5866382 , 199.10299266, 190.11592965,\n",
              "       138.30198783, 201.55427086, 201.56415323, 205.5115964 ,\n",
              "       201.44583984, 201.67284131, 170.88685642, 198.13407957,\n",
              "       197.29890171, 196.16687233, 195.80230683, 200.31832622,\n",
              "       167.98370689, 195.60844003, 193.00707421, 197.9362111 ,\n",
              "       200.00546355, 197.24532433, 199.38621271, 191.1023872 ,\n",
              "       201.43272247, 201.27897444, 195.89719506, 215.94243457,\n",
              "       164.17875993, 160.32526547, 201.29439178, 200.53493571,\n",
              "       202.09711745, 202.87284171,  -3.05481811, 192.49685269,\n",
              "       205.92070775, 200.98876578, 180.09121589, 199.54575277,\n",
              "       201.13255175, 198.05375784, 176.25484045, 200.37812105,\n",
              "       202.60035486, 201.16491976, 208.30666065, 176.06224992,\n",
              "       201.95486929, 201.33681053, 197.5219857 ,  49.87965773,\n",
              "       200.34260222, 201.48127448, 195.33254531,  82.98190482,\n",
              "       191.17947392, 196.28816817, 191.44148461, 187.79548392,\n",
              "        34.94761474, 185.80825489, 197.40333108, 201.8003546 ,\n",
              "       200.18272093, 194.87981864, 199.30145941, 183.46021397,\n",
              "       203.97914596, 194.74455459, 180.83890604, 201.35606116,\n",
              "       192.22445003, 197.35937901, 153.85166416, 201.48859982,\n",
              "       199.21900607, 195.65469206, 197.27692568, 191.1023872 ,\n",
              "       189.22861455, 197.05442648, 169.51462851, 199.92531019,\n",
              "       119.7306712 , 200.54379437, 198.08859419,  -9.86743264,\n",
              "       184.83389101,  94.17186682, 198.6409819 , 201.68399994,\n",
              "       199.56389551, 198.4687499 , 200.2454982 , 191.44071795,\n",
              "       199.32071004, 187.16660777, 202.29899207,  18.57211982,\n",
              "       173.8961505 , 194.143442  , 198.54387788, 198.76006195,\n",
              "       201.94447731, 201.78263728, 202.30793491, 191.41678318,\n",
              "       199.38621271, 191.67274478, 192.27146872, 201.0847664 ,\n",
              "       201.03468107, 190.73058054,  -6.28650021,  58.3511326 ,\n",
              "       197.8487324 , 187.78015076, 203.22923102, 202.5931137 ,\n",
              "       188.94761479, 188.04054394, 199.11457671, 200.67130766,\n",
              "       202.73289352, 187.66260403, 201.28553312, 201.62616385,\n",
              "       209.72905357, 201.16534518, 185.76635025, 200.44975698,\n",
              "       193.79659832, 192.78798738, 202.66236548, 175.31233497,\n",
              "       195.46899695, 191.87512901, 201.58187055, 197.77939644,\n",
              "       201.51057585, 144.16255575, 203.64967387, 198.05069121,\n",
              "       213.67369616, 197.82113271, 183.01353637, 200.76892128,\n",
              "       200.67939966, 201.66662386, 202.90001148,  -3.05481811,\n",
              "       201.12675972, 195.68016015, 195.2786267 , 172.77161483,\n",
              "       201.54294386, 201.89669196, 200.29830892, 185.8670305 ,\n",
              "       203.88970402,  96.72722866, 200.60657164, 201.36108653,\n",
              "       199.56347009, 198.31346855, 201.39302912, 194.60809846,\n",
              "       187.88338804, 200.8978837 , 183.65706322, 190.35792304,\n",
              "       199.85478215, 203.07590841, 194.9281136 , 201.62386388,\n",
              "       199.12420203, 172.93788644, 185.27239691, 205.11841201,\n",
              "       193.93961314, 198.22445653, 172.99793832, 201.1803371 ,\n",
              "       198.32309387, 185.98525971, 201.72522661, 199.83604112,\n",
              "       232.44755188, 195.51985343, 191.23841791, 172.6049223 ,\n",
              "       199.19660012, 184.53789931, 200.96491969, 172.57212887,\n",
              "       190.07282843, 201.45393184, 201.27088244, 199.70452617,\n",
              "       193.59003957, 196.28816817, 202.47028455, 196.76210421,\n",
              "       186.5740171 , 200.36074496, 200.19967159, 181.15390931,\n",
              "       175.54427763, 201.38493712, 197.8925116 , 142.76187281,\n",
              "       188.58935092, 185.45885419, 198.16278715, 195.68901881,\n",
              "       192.32785568, 159.17228376, 185.65689551, 201.80367378,\n",
              "       200.20708112, 171.50756089, 187.2506786 , 201.60921319,\n",
              "       107.14973577,  98.05602761, 197.44915769, -35.86575764,\n",
              "       197.99208846, 107.58116888, 200.29328355, 201.49285853,\n",
              "       202.08476673, 198.50265122, 196.62164192, 205.238857  ,\n",
              "       203.18800435, 200.85086501, 202.50444292, 200.70137569,\n",
              "       175.06462474, 202.08672547, 201.33485179, 202.76764569,\n",
              "       200.97071172,  56.80215242, 162.62186062, 200.66559981,\n",
              "       199.35231139, 197.2422577 , 205.92872006, 198.89839264,\n",
              "       194.68135189, 199.06909133, 201.07130779, 200.00273815,\n",
              "       199.90486748, 201.93297744, 201.05324923, 195.01082399,\n",
              "       209.76977513, 201.20384645, 195.82113204, 200.60878293,\n",
              "       198.72922726, 201.37607846, 178.82886363, 145.766815  ,\n",
              "       197.14319494, 173.97485473, 177.93448474, 201.47974116,\n",
              "       181.39513605, 140.7858911 , 190.09906318, 199.126502  ,\n",
              "       198.44677387, 161.53634032, 181.87894996, 200.98689572,\n",
              "       201.90095067, 204.03246629, 209.58509473, 184.29905674,\n",
              "       197.79788042, 185.14062491, 181.71114953, 169.42280691,\n",
              "       203.05512446, 203.56236353, 200.33007864, 199.09260068,\n",
              "       138.75454163, 203.51134318, -12.82655272,  77.88053142,\n",
              "       199.29887989, 198.44600721, 200.00273815,  98.71829998,\n",
              "       197.03186566, 201.29285847, 201.7533359 , 143.32797169,\n",
              "       202.75563621, 201.21347177, 185.92665696, 199.93076098,\n",
              "       164.35116481, 196.30895212, 168.50968699, 154.63146977,\n",
              "       185.56635018, 200.0343395 , 201.32599313, 159.82441221,\n",
              "       201.63425585, -35.64258496, 210.51611384, 175.57775353,\n",
              "       204.15393049, 194.11874507, 201.75026927, 170.78694732,\n",
              "       201.48246656, 200.74456109, 199.53944664, 196.80333087,\n",
              "       168.29341874, 199.48314386, 165.35380635, 199.85478215,\n",
              "       138.17651746, 202.53059348, 173.58081499, 204.39515723,\n",
              "       201.20767974, 201.27939986, 183.24733109, 199.20358873,\n",
              "       183.45748857, 199.70682615, 201.16491976, 165.07825288,\n",
              "       201.36142777, 201.36338651, 200.78297368, 201.24532567,\n",
              "       184.04317932, 163.70959671, 167.12638013, 194.66686957,\n",
              "       199.66943277, 161.00192697, 201.15026907, 165.43089308,\n",
              "       112.43321904, 202.0104054 , 200.87130772, 203.06815764,\n",
              "       199.69106756, 200.46091561, 201.20461311, 197.34472833,\n",
              "       133.08247391, 195.05673478, 195.04199991, 200.33808196,\n",
              "       201.28050775, 215.64643837, 199.73996081, 178.55910218,\n",
              "       199.84013146, 199.75767813, 197.44915769, 198.72922726,\n",
              "       173.58081499,  20.37281189, 189.54333828, 199.79166364,\n",
              "       195.60844003, 201.41807178, 200.87863307, -74.44160571,\n",
              "       200.51602631,  26.51889985, 132.29244019, 124.65912562,\n",
              "       201.45853179, 191.43551971, 200.6597191 , 183.53755774,\n",
              "       201.18280545, 170.57433949, 203.2660261 , 198.32257976,\n",
              "       198.91363712, 199.69217546, 203.55146195, 183.26788048,\n",
              "       202.36994553, 200.91176773, 202.39728816, 196.03935904,\n",
              "       175.87724177, 212.89328776, 198.50265122, 200.57198785,\n",
              "       195.74565832, 201.3040171 , 195.70792821, 193.87828499,\n",
              "       202.34754408, 195.61320385, 199.7869795 , 190.36337384,\n",
              "       140.57225055, 191.13234855, 200.67939966, 202.7891963 ,\n",
              "       176.65177396,  25.30552052, 159.36955843, 100.20424133,\n",
              "       201.34371045, 197.23067365, 215.63196055, 162.19102579,\n",
              "       199.3360387 , 206.63194405, 201.40494991,   4.63300437,\n",
              "       199.74072747, 200.88323302, 192.10349542, 201.0685824 ,\n",
              "       179.51029346,  39.20588215, 201.67284131, 198.73808592,\n",
              "       200.662449  , 169.46905895, 166.12084033, 144.20719029,\n",
              "       182.25953109, 191.03611787, 175.48422575, 182.79002696,\n",
              "       196.79182651, 181.10041612, 176.49776887, 201.29132515,\n",
              "       191.40443247, 198.57317926, 199.22207271, 194.36150512,\n",
              "       106.3788685 , 201.74601056, 186.09616358, 201.00623054,\n",
              "       171.08371017, 194.96687192, 200.08868354, 199.8312728 ,\n",
              "       201.22965577, 182.82171249, 195.47973466, 201.83195594,\n",
              "       192.84719292, 199.86210749, 200.02973955, 205.27360917,\n",
              "       183.98457657, 202.02207364, 123.87376704, 140.87379522,\n",
              "       193.72879567,  87.28258648, 192.42802633, 197.19753898,\n",
              "       200.97957038, 169.35389637, 202.39771359, 201.18996242,\n",
              "       180.74777592, 200.34302764, 198.78587128, 197.27692568,\n",
              "       193.78611766, 195.57913865, 208.98927355, 195.64310801,\n",
              "       202.49320011, 205.3895384 , 197.51236039, 193.76124786,\n",
              "       153.2363308 , 174.42834806, 166.16683981, 105.23832169,\n",
              "       201.71287589, 198.14557944, 201.34371045, 172.08420212,\n",
              "       199.91917693, 203.41228042, 130.01304376, 154.10209079,\n",
              "       195.08211868, 132.13443345, 195.51712804, 204.55503852,\n",
              "       171.50756089, 192.7954676 , 198.68723394, 199.91116911,\n",
              "       190.52214724, 201.3753118 , 201.10980906, 193.51917029,\n",
              "       196.7929389 , 177.47630728, 190.53993974, 178.79036236,\n",
              "       185.06822232, 196.28816817, 201.3995878 , 185.54096628,\n",
              "       194.24685215, 200.57420364, 148.7538715 , 200.37573239,\n",
              "       202.45129097, 196.75597094, 172.63737449, 188.14129939,\n",
              "        81.72551746, 201.05163173, 199.14745432, 203.00418829,\n",
              "       202.90912719, 202.42037209, 174.27417461, 174.1586663 ,\n",
              "       107.57708303, 194.74472296, 182.21200279, 166.06939455,\n",
              "       184.03013714, 199.126502  , 129.99047394, 197.8595498 ,\n",
              "       201.46380971, 178.10245804, 194.60196519, 175.24878654,\n",
              "       201.18996242, 201.28033489, 201.57761184, 199.82454125,\n",
              "       179.90935856, 181.10041612, 196.57522151, 139.92575476,\n",
              "       194.24012509, 197.25648297, 168.58907369, 201.1090424 ,\n",
              "       189.42734286, 122.1582717 ,  63.26808715, 200.02479837,\n",
              "       153.99578687, 188.28100402, 194.84702522, 201.25546509,\n",
              "       198.54370502, 178.30484226, 199.70989278, 198.27786104,\n",
              "       199.69217546, 197.7639791 , 203.32019727, 188.96499087,\n",
              "       150.34603708, 186.78049166, 197.74046975, 200.39115423,\n",
              "       190.78799121, 197.92581913, 201.97607866, 199.46559941,\n",
              "       164.40976756, 201.44081447, 200.64779831, 203.92582113,\n",
              "       194.45877751, 194.35426396, 192.78629019, 200.72139298,\n",
              "       201.61423856, 201.79353886, 195.20230663, 193.04097553,\n",
              "       142.1608489 , 132.2443136 , 202.68127488, 202.04933209,\n",
              "       198.12156048, 161.21155236, 194.0802438 , 190.37794034,\n",
              "       -14.90064866])"
            ]
          },
          "metadata": {},
          "execution_count": 51
        }
      ]
    },
    {
      "cell_type": "code",
      "source": [
        "mea_train = mean_absolute_error(y_train, y_pred_train)\n",
        "mea_train"
      ],
      "metadata": {
        "id": "TPxEsXR52c5M",
        "colab": {
          "base_uri": "https://localhost:8080/"
        },
        "outputId": "cc428ed4-91f8-427d-c047-d4c0c3d76496"
      },
      "execution_count": 52,
      "outputs": [
        {
          "output_type": "execute_result",
          "data": {
            "text/plain": [
              "77.21656617958476"
            ]
          },
          "metadata": {},
          "execution_count": 52
        }
      ]
    },
    {
      "cell_type": "code",
      "source": [
        "mae_val = mean_absolute_error(y_val, y_pred_val)\n",
        "mae_val"
      ],
      "metadata": {
        "id": "bjtt5cyZ2fSX",
        "colab": {
          "base_uri": "https://localhost:8080/"
        },
        "outputId": "5318cd68-a3f0-4b0b-d806-3f4d8692e0fc"
      },
      "execution_count": 53,
      "outputs": [
        {
          "output_type": "execute_result",
          "data": {
            "text/plain": [
              "84.36395245365588"
            ]
          },
          "metadata": {},
          "execution_count": 53
        }
      ]
    },
    {
      "cell_type": "markdown",
      "source": [
        "## MAPE"
      ],
      "metadata": {
        "id": "PxZPLS-G2glw"
      }
    },
    {
      "cell_type": "code",
      "source": [
        "mse_train = mean_squared_error(y_train, y_pred_train)\n",
        "mse_train"
      ],
      "metadata": {
        "id": "q8ZkW8qy2jPN",
        "colab": {
          "base_uri": "https://localhost:8080/"
        },
        "outputId": "8fe32094-1111-4eca-e2fe-809214584692"
      },
      "execution_count": 54,
      "outputs": [
        {
          "output_type": "execute_result",
          "data": {
            "text/plain": [
              "11686.44530455225"
            ]
          },
          "metadata": {},
          "execution_count": 54
        }
      ]
    },
    {
      "cell_type": "code",
      "source": [
        "mse_val = mean_squared_error(y_val, y_pred_val)\n",
        "mse_val"
      ],
      "metadata": {
        "id": "xXjnDaZW2mB5",
        "colab": {
          "base_uri": "https://localhost:8080/"
        },
        "outputId": "e9bf0269-2751-4230-9f1e-4f5a0714d469"
      },
      "execution_count": 55,
      "outputs": [
        {
          "output_type": "execute_result",
          "data": {
            "text/plain": [
              "13881.407961522042"
            ]
          },
          "metadata": {},
          "execution_count": 55
        }
      ]
    },
    {
      "cell_type": "markdown",
      "source": [
        "##RMSE"
      ],
      "metadata": {
        "id": "K4MT_Unc2nsV"
      }
    },
    {
      "cell_type": "code",
      "source": [
        "rmse_train = mean_squared_error(y_train, y_pred_train, squared=False)\n",
        "rmse_train"
      ],
      "metadata": {
        "id": "-aIWGPhh2pJu",
        "colab": {
          "base_uri": "https://localhost:8080/"
        },
        "outputId": "4ff7cd88-e285-497c-c5ff-f900f9dd8e54"
      },
      "execution_count": 56,
      "outputs": [
        {
          "output_type": "execute_result",
          "data": {
            "text/plain": [
              "108.10386350428115"
            ]
          },
          "metadata": {},
          "execution_count": 56
        }
      ]
    },
    {
      "cell_type": "code",
      "source": [
        "rmse_val = mean_squared_error(y_val, y_pred_val, squared=False)\n",
        "rmse_val"
      ],
      "metadata": {
        "id": "hXoIPEtD2qtX",
        "colab": {
          "base_uri": "https://localhost:8080/"
        },
        "outputId": "3d108499-b505-4731-d08c-32936b685e49"
      },
      "execution_count": 57,
      "outputs": [
        {
          "output_type": "execute_result",
          "data": {
            "text/plain": [
              "117.81938703592903"
            ]
          },
          "metadata": {},
          "execution_count": 57
        }
      ]
    },
    {
      "cell_type": "markdown",
      "source": [
        "##Max error\n"
      ],
      "metadata": {
        "id": "Z1_rj_WU2vaf"
      }
    },
    {
      "cell_type": "code",
      "source": [
        "max_err_train = max_error(y_train, y_pred_train)\n",
        "max_err_train "
      ],
      "metadata": {
        "id": "uORsFDN92wQc",
        "colab": {
          "base_uri": "https://localhost:8080/"
        },
        "outputId": "1d768206-a74c-4ffa-e01d-791377796c2f"
      },
      "execution_count": 58,
      "outputs": [
        {
          "output_type": "execute_result",
          "data": {
            "text/plain": [
              "672.9286922090114"
            ]
          },
          "metadata": {},
          "execution_count": 58
        }
      ]
    },
    {
      "cell_type": "code",
      "source": [
        "max_err_val = max_error(y_val, y_pred_val)\n",
        "max_err_val"
      ],
      "metadata": {
        "id": "JidNSGBx2yCO",
        "colab": {
          "base_uri": "https://localhost:8080/"
        },
        "outputId": "ba708a6b-e6a7-4e02-af2c-59336ce33428"
      },
      "execution_count": 59,
      "outputs": [
        {
          "output_type": "execute_result",
          "data": {
            "text/plain": [
              "522.7275842473734"
            ]
          },
          "metadata": {},
          "execution_count": 59
        }
      ]
    },
    {
      "cell_type": "markdown",
      "source": [
        "# **12. pipeline**"
      ],
      "metadata": {
        "id": "n1Zaju85Q2Mn"
      }
    },
    {
      "cell_type": "code",
      "source": [
        "X_temp, X_test, y_temp, y_test = train_test_split(X, y, test_size =0.2, random_state = 333)"
      ],
      "metadata": {
        "id": "GIq7rMsYQ4Au"
      },
      "execution_count": 60,
      "outputs": []
    },
    {
      "cell_type": "code",
      "source": [
        "X_train, X_val, y_train, y_val = train_test_split(X_temp, y_temp, test_size=0.25, random_state=23)"
      ],
      "metadata": {
        "id": "ztorMJVnSdZ5"
      },
      "execution_count": 61,
      "outputs": []
    },
    {
      "cell_type": "code",
      "source": [
        "cols_numerical = ['production', 'colonies_number']"
      ],
      "metadata": {
        "id": "Q96IBCNCSgrr"
      },
      "execution_count": 62,
      "outputs": []
    },
    {
      "cell_type": "code",
      "source": [
        "class HoneyProductionTransformer (BaseEstimator, TransformerMixin):\n",
        "  def fit(self, X, y=None):\n",
        "    X_y = X.join(y) #if you want to use y, you should join y to X\n",
        "\n",
        "    self.production_corectp95 = X_y['production'].quantile(0.95)\n",
        "    self.production_corectp05 = X_y['production'].quantile(0.05)\n",
        "    self.production_corectmean = X_y['production'].mean()\n",
        "\n",
        "    self.colonies_numberp95 = X_y['colonies_number'].quantile(0.95)\n",
        "    self.colonies_numberp05 = X_y['colonies_number'].quantile(0.05)\n",
        "    self.colonies_numbermean = X_y['colonies_number'].mean()\n",
        "\n",
        "    self.average_pricep95 = X_y['average_price_corect'].quantile(0.95)\n",
        "    self.average_pricep05 = X_y['average_price_corect'].quantile(0.05)\n",
        "    self.average_pricemean = X_y['average_price_corect'].mean()\n",
        "\n",
        "    return self\n",
        "\n",
        "  def transform(self, X, y=None):\n",
        "    X[(X['production'] >self.production_corectp95) | (X['production'] < self.production_corectp05)] = self.production_corectmean\n",
        "    X[(X['colonies_number'] >self.colonies_numberp95) | (X['colonies_number'] < self.colonies_numberp05)] = self.colonies_numbermean\n",
        "    # y[(y['average_price'] >self.average_pricep95) | (y['average_price'] < self.average_pricep05)] = self.average_pricemean\n",
        "    #but, in transform you can't transform y, because we use transform when e.g new record is comming to us, and we don't have it :)\n",
        "    \n",
        "    return X"
      ],
      "metadata": {
        "id": "EBOU2WonIUXj"
      },
      "execution_count": 63,
      "outputs": []
    },
    {
      "cell_type": "code",
      "source": [
        "transformer_numerical = Pipeline(steps = [\n",
        "    ('outlier', HoneyProductionTransformer()),\n",
        "    ('imputer', SimpleImputer(strategy = 'mean')),\n",
        "    ('scaler', StandardScaler())\n",
        "])"
      ],
      "metadata": {
        "id": "9IGj8uERTFhP"
      },
      "execution_count": 64,
      "outputs": []
    },
    {
      "cell_type": "code",
      "source": [
        "preprocessor = ColumnTransformer(transformers =[\n",
        "    ('numerical', transformer_numerical, cols_numerical),\n",
        "])\n"
      ],
      "metadata": {
        "id": "AnIGDJu4TW5K"
      },
      "execution_count": 65,
      "outputs": []
    },
    {
      "cell_type": "code",
      "source": [
        "pipe = Pipeline(steps =[\n",
        "    ('preprocessor', preprocessor),\n",
        "    ('model', LinearRegression()) \n",
        "])"
      ],
      "metadata": {
        "id": "S4dWcBWYTYwN"
      },
      "execution_count": 66,
      "outputs": []
    },
    {
      "cell_type": "code",
      "source": [
        "preprocessor"
      ],
      "metadata": {
        "id": "fTU7qfrmTcCp",
        "colab": {
          "base_uri": "https://localhost:8080/"
        },
        "outputId": "32ce3ae4-8a27-4382-d46b-c141f14c4e6e"
      },
      "execution_count": 67,
      "outputs": [
        {
          "output_type": "execute_result",
          "data": {
            "text/plain": [
              "ColumnTransformer(transformers=[('numerical',\n",
              "                                 Pipeline(steps=[('outlier',\n",
              "                                                  HoneyProductionTransformer()),\n",
              "                                                 ('imputer', SimpleImputer()),\n",
              "                                                 ('scaler', StandardScaler())]),\n",
              "                                 ['production', 'colonies_number'])])"
            ]
          },
          "metadata": {},
          "execution_count": 67
        }
      ]
    },
    {
      "cell_type": "code",
      "source": [
        "pipe"
      ],
      "metadata": {
        "id": "6fz80Dp7TeN-",
        "colab": {
          "base_uri": "https://localhost:8080/"
        },
        "outputId": "b8a8459b-9047-45c3-e307-77852705700b"
      },
      "execution_count": 68,
      "outputs": [
        {
          "output_type": "execute_result",
          "data": {
            "text/plain": [
              "Pipeline(steps=[('preprocessor',\n",
              "                 ColumnTransformer(transformers=[('numerical',\n",
              "                                                  Pipeline(steps=[('outlier',\n",
              "                                                                   HoneyProductionTransformer()),\n",
              "                                                                  ('imputer',\n",
              "                                                                   SimpleImputer()),\n",
              "                                                                  ('scaler',\n",
              "                                                                   StandardScaler())]),\n",
              "                                                  ['production',\n",
              "                                                   'colonies_number'])])),\n",
              "                ('model', LinearRegression())])"
            ]
          },
          "metadata": {},
          "execution_count": 68
        }
      ]
    },
    {
      "cell_type": "code",
      "source": [
        "pipe.fit(X_train, y_train)"
      ],
      "metadata": {
        "id": "gNrCY-NMTgEc",
        "colab": {
          "base_uri": "https://localhost:8080/"
        },
        "outputId": "81588523-1854-4c7e-fc4c-00e191f14595"
      },
      "execution_count": 69,
      "outputs": [
        {
          "output_type": "execute_result",
          "data": {
            "text/plain": [
              "Pipeline(steps=[('preprocessor',\n",
              "                 ColumnTransformer(transformers=[('numerical',\n",
              "                                                  Pipeline(steps=[('outlier',\n",
              "                                                                   HoneyProductionTransformer()),\n",
              "                                                                  ('imputer',\n",
              "                                                                   SimpleImputer()),\n",
              "                                                                  ('scaler',\n",
              "                                                                   StandardScaler())]),\n",
              "                                                  ['production',\n",
              "                                                   'colonies_number'])])),\n",
              "                ('model', LinearRegression())])"
            ]
          },
          "metadata": {},
          "execution_count": 69
        }
      ]
    },
    {
      "cell_type": "code",
      "source": [
        "y_pred_train = pipe.predict(X_train)"
      ],
      "metadata": {
        "id": "3aRq4FkKUPDt"
      },
      "execution_count": 70,
      "outputs": []
    },
    {
      "cell_type": "code",
      "source": [
        "mea_train = mean_absolute_error(y_train, y_pred_train)\n",
        "mea_train"
      ],
      "metadata": {
        "id": "O8RLczQcUQy4",
        "colab": {
          "base_uri": "https://localhost:8080/"
        },
        "outputId": "d704c34e-ff1b-423a-e9ac-dcef2cde786f"
      },
      "execution_count": 71,
      "outputs": [
        {
          "output_type": "execute_result",
          "data": {
            "text/plain": [
              "75.74652817721143"
            ]
          },
          "metadata": {},
          "execution_count": 71
        }
      ]
    },
    {
      "cell_type": "code",
      "source": [
        "y_pred_val = pipe.predict(X_val)"
      ],
      "metadata": {
        "id": "fsSPFCOwUS1p"
      },
      "execution_count": 72,
      "outputs": []
    },
    {
      "cell_type": "code",
      "source": [
        "mae_val = mean_absolute_error(y_val, y_pred_val)\n",
        "mae_val"
      ],
      "metadata": {
        "id": "-N2hLCaXUU23",
        "colab": {
          "base_uri": "https://localhost:8080/"
        },
        "outputId": "dc4a66e0-27da-4353-e724-10c5f700db92"
      },
      "execution_count": 73,
      "outputs": [
        {
          "output_type": "execute_result",
          "data": {
            "text/plain": [
              "79.31511782270678"
            ]
          },
          "metadata": {},
          "execution_count": 73
        }
      ]
    },
    {
      "cell_type": "code",
      "source": [
        "predict_data = np.array([[3200,500]])\n",
        "model.predict(predict_data)"
      ],
      "metadata": {
        "id": "-B2Ibt2o-cOd",
        "colab": {
          "base_uri": "https://localhost:8080/"
        },
        "outputId": "b1fdb163-0a17-48c4-ec9a-75295227fded"
      },
      "execution_count": 74,
      "outputs": [
        {
          "output_type": "stream",
          "name": "stderr",
          "text": [
            "/usr/local/lib/python3.8/dist-packages/sklearn/base.py:450: UserWarning:\n",
            "\n",
            "X does not have valid feature names, but LinearRegression was fitted with feature names\n",
            "\n"
          ]
        },
        {
          "output_type": "execute_result",
          "data": {
            "text/plain": [
              "array([201.19256064])"
            ]
          },
          "metadata": {},
          "execution_count": 74
        }
      ]
    },
    {
      "cell_type": "markdown",
      "source": [
        "#**Model and scaler conversions**"
      ],
      "metadata": {
        "id": "LjDZKMTWuviW"
      }
    },
    {
      "cell_type": "code",
      "source": [
        "regressors = [\n",
        "    DummyRegressor(strategy=\"mean\"),\n",
        "    LinearRegression(),\n",
        "    DecisionTreeRegressor()\n",
        "]"
      ],
      "metadata": {
        "id": "IT4ya87Cut6D"
      },
      "execution_count": 75,
      "outputs": []
    },
    {
      "cell_type": "code",
      "source": [
        "scalers = [StandardScaler(),\n",
        "           MinMaxScaler()]"
      ],
      "metadata": {
        "id": "VYqQ8CGuuvHJ"
      },
      "execution_count": 76,
      "outputs": []
    },
    {
      "cell_type": "code",
      "source": [
        "models_df = pd.DataFrame()\n",
        "\n",
        "for model in regressors:\n",
        "  for scaler in scalers:\n",
        "\n",
        "    pipe_params = {\n",
        "        'preprocessor__numerical__scaler': scaler,\n",
        "        'model': model\n",
        "    }\n",
        "\n",
        "    pipe.set_params(**pipe_params) \n",
        "\n",
        "    start_time = time.time()\n",
        "\n",
        "    pipe.fit(X_train, y_train)\n",
        "\n",
        "    end_time = time.time()\n",
        " \n",
        "    y_pred_train = pipe.predict(X_train)\n",
        "    y_pred_val = pipe.predict(X_val)\n",
        "\n",
        "\n",
        "    r2_train = r2_score(y_train, y_pred_train)\n",
        "    r2_val = r2_score(y_val, y_pred_val)\n",
        "\n",
        "    mae_train = mean_absolute_error(y_train, y_pred_train)\n",
        "    mae_val = mean_absolute_error(y_val, y_pred_val)\n",
        "\n",
        "    mape_train = mean_absolute_percentage_error(y_train, y_pred_train)\n",
        "    mape_val = mean_absolute_percentage_error(y_val, y_pred_val)\n",
        "\n",
        "    mse_train = mean_squared_error(y_train, y_pred_train)\n",
        "    mse_val = mean_squared_error(y_val, y_pred_val)\n",
        "\n",
        "    rmse_train = mean_squared_error(y_train, y_pred_train, squared=False)\n",
        "    rmse_val = mean_squared_error(y_val, y_pred_val, squared=False)\n",
        "\n",
        "    max_error_train = max_error(y_train, y_pred_train)\n",
        "    max_error_val = max_error(y_val, y_pred_val)\n",
        "\n",
        "    param_dict ={\n",
        "        'model': model.__class__.__name__,\n",
        "        'scaler': scaler.__class__.__name__,\n",
        "        'r2_train': r2_train,\n",
        "        'r2_val': r2_val,\n",
        "        'mae_train': mae_train,\n",
        "        'mae_val': mae_val,\n",
        "        'mape_train': mape_train,\n",
        "        'mape_val': mape_val,\n",
        "        'mse_train': mse_train,\n",
        "        'mse_val': mse_val,\n",
        "        'rmse_train': rmse_train,\n",
        "        'rmse_val': rmse_val,\n",
        "        'max_error_train': max_error_train,\n",
        "        'max_error_val': max_error_val,\n",
        "        'time': end_time - start_time\n",
        "    }\n",
        "\n",
        "    models_df = models_df.append(pd.DataFrame(param_dict, index = [0]))\n"
      ],
      "metadata": {
        "id": "YwpQW5Miu3E1"
      },
      "execution_count": 77,
      "outputs": []
    },
    {
      "cell_type": "code",
      "source": [
        "models_df.reset_index(drop = True, inplace=True)\n",
        "models_df"
      ],
      "metadata": {
        "colab": {
          "base_uri": "https://localhost:8080/",
          "height": 282
        },
        "id": "jItRXxbPu-M2",
        "outputId": "32f99faf-d9fe-4e59-9cb2-2bc475c2f12d"
      },
      "execution_count": 78,
      "outputs": [
        {
          "output_type": "execute_result",
          "data": {
            "text/plain": [
              "                   model          scaler  r2_train    r2_val  mae_train  \\\n",
              "0         DummyRegressor  StandardScaler  0.000000 -0.010460  83.942332   \n",
              "1         DummyRegressor    MinMaxScaler  0.000000 -0.010460  83.942332   \n",
              "2       LinearRegression  StandardScaler  0.147463  0.157052  75.746528   \n",
              "3       LinearRegression    MinMaxScaler  0.147463  0.157052  75.746528   \n",
              "4  DecisionTreeRegressor  StandardScaler  0.763786  0.217894  18.795575   \n",
              "5  DecisionTreeRegressor    MinMaxScaler  0.763786  0.214085  18.795575   \n",
              "\n",
              "     mae_val  mape_train  mape_val     mse_train       mse_val  rmse_train  \\\n",
              "0  88.686963    0.620569  0.557262  13195.049627  15419.356937  114.869707   \n",
              "1  88.686963    0.620569  0.557262  13195.049627  15419.356937  114.869707   \n",
              "2  79.315118    0.549488  0.490913  11249.263112  12863.167613  106.062543   \n",
              "3  79.315118    0.549488  0.490913  11249.263112  12863.167613  106.062543   \n",
              "4  74.056682    0.126521  0.421637   3116.860628  11934.743932   55.828851   \n",
              "5  74.007354    0.126521  0.419835   3116.860628  11992.869492   55.828851   \n",
              "\n",
              "     rmse_val  max_error_train  max_error_val      time  \n",
              "0  124.174703       690.539611     540.539611  0.021656  \n",
              "1  124.174703       690.539611     540.539611  0.013181  \n",
              "2  113.415905       669.764517     505.682947  0.014141  \n",
              "3  113.415905       669.764517     505.682947  0.015629  \n",
              "4  109.246254       508.680000     513.680000  0.020921  \n",
              "5  109.511960       508.680000     513.680000  0.021484  "
            ],
            "text/html": [
              "\n",
              "  <div id=\"df-9e2730af-5b19-415a-9056-3390445ceac6\">\n",
              "    <div class=\"colab-df-container\">\n",
              "      <div>\n",
              "<style scoped>\n",
              "    .dataframe tbody tr th:only-of-type {\n",
              "        vertical-align: middle;\n",
              "    }\n",
              "\n",
              "    .dataframe tbody tr th {\n",
              "        vertical-align: top;\n",
              "    }\n",
              "\n",
              "    .dataframe thead th {\n",
              "        text-align: right;\n",
              "    }\n",
              "</style>\n",
              "<table border=\"1\" class=\"dataframe\">\n",
              "  <thead>\n",
              "    <tr style=\"text-align: right;\">\n",
              "      <th></th>\n",
              "      <th>model</th>\n",
              "      <th>scaler</th>\n",
              "      <th>r2_train</th>\n",
              "      <th>r2_val</th>\n",
              "      <th>mae_train</th>\n",
              "      <th>mae_val</th>\n",
              "      <th>mape_train</th>\n",
              "      <th>mape_val</th>\n",
              "      <th>mse_train</th>\n",
              "      <th>mse_val</th>\n",
              "      <th>rmse_train</th>\n",
              "      <th>rmse_val</th>\n",
              "      <th>max_error_train</th>\n",
              "      <th>max_error_val</th>\n",
              "      <th>time</th>\n",
              "    </tr>\n",
              "  </thead>\n",
              "  <tbody>\n",
              "    <tr>\n",
              "      <th>0</th>\n",
              "      <td>DummyRegressor</td>\n",
              "      <td>StandardScaler</td>\n",
              "      <td>0.000000</td>\n",
              "      <td>-0.010460</td>\n",
              "      <td>83.942332</td>\n",
              "      <td>88.686963</td>\n",
              "      <td>0.620569</td>\n",
              "      <td>0.557262</td>\n",
              "      <td>13195.049627</td>\n",
              "      <td>15419.356937</td>\n",
              "      <td>114.869707</td>\n",
              "      <td>124.174703</td>\n",
              "      <td>690.539611</td>\n",
              "      <td>540.539611</td>\n",
              "      <td>0.021656</td>\n",
              "    </tr>\n",
              "    <tr>\n",
              "      <th>1</th>\n",
              "      <td>DummyRegressor</td>\n",
              "      <td>MinMaxScaler</td>\n",
              "      <td>0.000000</td>\n",
              "      <td>-0.010460</td>\n",
              "      <td>83.942332</td>\n",
              "      <td>88.686963</td>\n",
              "      <td>0.620569</td>\n",
              "      <td>0.557262</td>\n",
              "      <td>13195.049627</td>\n",
              "      <td>15419.356937</td>\n",
              "      <td>114.869707</td>\n",
              "      <td>124.174703</td>\n",
              "      <td>690.539611</td>\n",
              "      <td>540.539611</td>\n",
              "      <td>0.013181</td>\n",
              "    </tr>\n",
              "    <tr>\n",
              "      <th>2</th>\n",
              "      <td>LinearRegression</td>\n",
              "      <td>StandardScaler</td>\n",
              "      <td>0.147463</td>\n",
              "      <td>0.157052</td>\n",
              "      <td>75.746528</td>\n",
              "      <td>79.315118</td>\n",
              "      <td>0.549488</td>\n",
              "      <td>0.490913</td>\n",
              "      <td>11249.263112</td>\n",
              "      <td>12863.167613</td>\n",
              "      <td>106.062543</td>\n",
              "      <td>113.415905</td>\n",
              "      <td>669.764517</td>\n",
              "      <td>505.682947</td>\n",
              "      <td>0.014141</td>\n",
              "    </tr>\n",
              "    <tr>\n",
              "      <th>3</th>\n",
              "      <td>LinearRegression</td>\n",
              "      <td>MinMaxScaler</td>\n",
              "      <td>0.147463</td>\n",
              "      <td>0.157052</td>\n",
              "      <td>75.746528</td>\n",
              "      <td>79.315118</td>\n",
              "      <td>0.549488</td>\n",
              "      <td>0.490913</td>\n",
              "      <td>11249.263112</td>\n",
              "      <td>12863.167613</td>\n",
              "      <td>106.062543</td>\n",
              "      <td>113.415905</td>\n",
              "      <td>669.764517</td>\n",
              "      <td>505.682947</td>\n",
              "      <td>0.015629</td>\n",
              "    </tr>\n",
              "    <tr>\n",
              "      <th>4</th>\n",
              "      <td>DecisionTreeRegressor</td>\n",
              "      <td>StandardScaler</td>\n",
              "      <td>0.763786</td>\n",
              "      <td>0.217894</td>\n",
              "      <td>18.795575</td>\n",
              "      <td>74.056682</td>\n",
              "      <td>0.126521</td>\n",
              "      <td>0.421637</td>\n",
              "      <td>3116.860628</td>\n",
              "      <td>11934.743932</td>\n",
              "      <td>55.828851</td>\n",
              "      <td>109.246254</td>\n",
              "      <td>508.680000</td>\n",
              "      <td>513.680000</td>\n",
              "      <td>0.020921</td>\n",
              "    </tr>\n",
              "    <tr>\n",
              "      <th>5</th>\n",
              "      <td>DecisionTreeRegressor</td>\n",
              "      <td>MinMaxScaler</td>\n",
              "      <td>0.763786</td>\n",
              "      <td>0.214085</td>\n",
              "      <td>18.795575</td>\n",
              "      <td>74.007354</td>\n",
              "      <td>0.126521</td>\n",
              "      <td>0.419835</td>\n",
              "      <td>3116.860628</td>\n",
              "      <td>11992.869492</td>\n",
              "      <td>55.828851</td>\n",
              "      <td>109.511960</td>\n",
              "      <td>508.680000</td>\n",
              "      <td>513.680000</td>\n",
              "      <td>0.021484</td>\n",
              "    </tr>\n",
              "  </tbody>\n",
              "</table>\n",
              "</div>\n",
              "      <button class=\"colab-df-convert\" onclick=\"convertToInteractive('df-9e2730af-5b19-415a-9056-3390445ceac6')\"\n",
              "              title=\"Convert this dataframe to an interactive table.\"\n",
              "              style=\"display:none;\">\n",
              "        \n",
              "  <svg xmlns=\"http://www.w3.org/2000/svg\" height=\"24px\"viewBox=\"0 0 24 24\"\n",
              "       width=\"24px\">\n",
              "    <path d=\"M0 0h24v24H0V0z\" fill=\"none\"/>\n",
              "    <path d=\"M18.56 5.44l.94 2.06.94-2.06 2.06-.94-2.06-.94-.94-2.06-.94 2.06-2.06.94zm-11 1L8.5 8.5l.94-2.06 2.06-.94-2.06-.94L8.5 2.5l-.94 2.06-2.06.94zm10 10l.94 2.06.94-2.06 2.06-.94-2.06-.94-.94-2.06-.94 2.06-2.06.94z\"/><path d=\"M17.41 7.96l-1.37-1.37c-.4-.4-.92-.59-1.43-.59-.52 0-1.04.2-1.43.59L10.3 9.45l-7.72 7.72c-.78.78-.78 2.05 0 2.83L4 21.41c.39.39.9.59 1.41.59.51 0 1.02-.2 1.41-.59l7.78-7.78 2.81-2.81c.8-.78.8-2.07 0-2.86zM5.41 20L4 18.59l7.72-7.72 1.47 1.35L5.41 20z\"/>\n",
              "  </svg>\n",
              "      </button>\n",
              "      \n",
              "  <style>\n",
              "    .colab-df-container {\n",
              "      display:flex;\n",
              "      flex-wrap:wrap;\n",
              "      gap: 12px;\n",
              "    }\n",
              "\n",
              "    .colab-df-convert {\n",
              "      background-color: #E8F0FE;\n",
              "      border: none;\n",
              "      border-radius: 50%;\n",
              "      cursor: pointer;\n",
              "      display: none;\n",
              "      fill: #1967D2;\n",
              "      height: 32px;\n",
              "      padding: 0 0 0 0;\n",
              "      width: 32px;\n",
              "    }\n",
              "\n",
              "    .colab-df-convert:hover {\n",
              "      background-color: #E2EBFA;\n",
              "      box-shadow: 0px 1px 2px rgba(60, 64, 67, 0.3), 0px 1px 3px 1px rgba(60, 64, 67, 0.15);\n",
              "      fill: #174EA6;\n",
              "    }\n",
              "\n",
              "    [theme=dark] .colab-df-convert {\n",
              "      background-color: #3B4455;\n",
              "      fill: #D2E3FC;\n",
              "    }\n",
              "\n",
              "    [theme=dark] .colab-df-convert:hover {\n",
              "      background-color: #434B5C;\n",
              "      box-shadow: 0px 1px 3px 1px rgba(0, 0, 0, 0.15);\n",
              "      filter: drop-shadow(0px 1px 2px rgba(0, 0, 0, 0.3));\n",
              "      fill: #FFFFFF;\n",
              "    }\n",
              "  </style>\n",
              "\n",
              "      <script>\n",
              "        const buttonEl =\n",
              "          document.querySelector('#df-9e2730af-5b19-415a-9056-3390445ceac6 button.colab-df-convert');\n",
              "        buttonEl.style.display =\n",
              "          google.colab.kernel.accessAllowed ? 'block' : 'none';\n",
              "\n",
              "        async function convertToInteractive(key) {\n",
              "          const element = document.querySelector('#df-9e2730af-5b19-415a-9056-3390445ceac6');\n",
              "          const dataTable =\n",
              "            await google.colab.kernel.invokeFunction('convertToInteractive',\n",
              "                                                     [key], {});\n",
              "          if (!dataTable) return;\n",
              "\n",
              "          const docLinkHtml = 'Like what you see? Visit the ' +\n",
              "            '<a target=\"_blank\" href=https://colab.research.google.com/notebooks/data_table.ipynb>data table notebook</a>'\n",
              "            + ' to learn more about interactive tables.';\n",
              "          element.innerHTML = '';\n",
              "          dataTable['output_type'] = 'display_data';\n",
              "          await google.colab.output.renderOutput(dataTable, element);\n",
              "          const docLink = document.createElement('div');\n",
              "          docLink.innerHTML = docLinkHtml;\n",
              "          element.appendChild(docLink);\n",
              "        }\n",
              "      </script>\n",
              "    </div>\n",
              "  </div>\n",
              "  "
            ]
          },
          "metadata": {},
          "execution_count": 78
        }
      ]
    },
    {
      "cell_type": "code",
      "source": [
        "pipe_params = {\n",
        "    'preprocessor__numerical__scaler': StandardScaler(),\n",
        "    'model': LinearRegression()\n",
        "}\n",
        "\n",
        "pipe.set_params(**pipe_params)"
      ],
      "metadata": {
        "colab": {
          "base_uri": "https://localhost:8080/"
        },
        "id": "A4sTnVcqu-v8",
        "outputId": "ab676094-d93a-42e7-d7f4-3a127ba02109"
      },
      "execution_count": 79,
      "outputs": [
        {
          "output_type": "execute_result",
          "data": {
            "text/plain": [
              "Pipeline(steps=[('preprocessor',\n",
              "                 ColumnTransformer(transformers=[('numerical',\n",
              "                                                  Pipeline(steps=[('outlier',\n",
              "                                                                   HoneyProductionTransformer()),\n",
              "                                                                  ('imputer',\n",
              "                                                                   SimpleImputer()),\n",
              "                                                                  ('scaler',\n",
              "                                                                   StandardScaler())]),\n",
              "                                                  ['production',\n",
              "                                                   'colonies_number'])])),\n",
              "                ('model', LinearRegression())])"
            ]
          },
          "metadata": {},
          "execution_count": 79
        }
      ]
    },
    {
      "cell_type": "code",
      "source": [
        "pipe.fit(X_train, y_train)"
      ],
      "metadata": {
        "colab": {
          "base_uri": "https://localhost:8080/"
        },
        "id": "aYVmA38HxaBu",
        "outputId": "33715d2e-ac7a-4972-86bb-fc07fbb02295"
      },
      "execution_count": 80,
      "outputs": [
        {
          "output_type": "execute_result",
          "data": {
            "text/plain": [
              "Pipeline(steps=[('preprocessor',\n",
              "                 ColumnTransformer(transformers=[('numerical',\n",
              "                                                  Pipeline(steps=[('outlier',\n",
              "                                                                   HoneyProductionTransformer()),\n",
              "                                                                  ('imputer',\n",
              "                                                                   SimpleImputer()),\n",
              "                                                                  ('scaler',\n",
              "                                                                   StandardScaler())]),\n",
              "                                                  ['production',\n",
              "                                                   'colonies_number'])])),\n",
              "                ('model', LinearRegression())])"
            ]
          },
          "metadata": {},
          "execution_count": 80
        }
      ]
    },
    {
      "cell_type": "code",
      "source": [
        "y_pred_test = pipe.predict(X_test)"
      ],
      "metadata": {
        "id": "OGsm6MLOxbkP"
      },
      "execution_count": 81,
      "outputs": []
    },
    {
      "cell_type": "code",
      "source": [
        "mae_test = mean_absolute_error(y_test, y_pred_test)\n",
        "\n",
        "mape_test= mean_absolute_percentage_error(y_test, y_pred_test)\n",
        "\n",
        "mse_test = mean_squared_error(y_test, y_pred_test)\n",
        "\n",
        "rmse_test = mean_squared_error(y_test, y_pred_test, squared=False)\n",
        "\n",
        "max_error_test = max_error(y_test, y_pred_test)"
      ],
      "metadata": {
        "id": "rD7U_TWZxcwK"
      },
      "execution_count": 82,
      "outputs": []
    },
    {
      "cell_type": "code",
      "source": [
        "mae_test, mape_test, mse_test, rmse_test, max_error_test"
      ],
      "metadata": {
        "colab": {
          "base_uri": "https://localhost:8080/"
        },
        "id": "oKpXR4NDxedu",
        "outputId": "86d98943-07f0-46da-b38f-0a1eccc1dbda"
      },
      "execution_count": 83,
      "outputs": [
        {
          "output_type": "execute_result",
          "data": {
            "text/plain": [
              "(77.48351826580547,\n",
              " 0.6055979229649722,\n",
              " 11334.953405566248,\n",
              " 106.46573817696587,\n",
              " 542.7229676658478)"
            ]
          },
          "metadata": {},
          "execution_count": 83
        }
      ]
    }
  ]
}